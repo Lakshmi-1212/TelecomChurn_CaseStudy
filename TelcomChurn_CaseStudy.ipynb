{
 "cells": [
  {
   "cell_type": "markdown",
   "metadata": {},
   "source": [
    "# Problem Statement\n"
   ]
  },
  {
   "cell_type": "markdown",
   "metadata": {},
   "source": [
    "## Business Problem Overview\n",
    "In the telecom industry, customers are able to choose from multiple service providers and actively switch from one operator to another. In this highly competitive market, the telecommunications industry experiences an average of 15-25% annual churn rate. Given the fact that it costs 5-10 times more to acquire a new customer than to retain an existing one, customer retention has now become even more important than customer acquisition.\n",
    "\n",
    " \n",
    "\n",
    "For many incumbent operators, retaining high profitable customers is the number one business goal.\n",
    "\n",
    " \n",
    "\n",
    "To reduce customer churn, telecom companies need to predict which customers are at high risk of churn.\n",
    "\n",
    " \n",
    "\n",
    "In this project, you will analyse customer-level data of a leading telecom firm, build predictive models to identify customers at high risk of churn and identify the main indicators of churn."
   ]
  },
  {
   "cell_type": "markdown",
   "metadata": {},
   "source": [
    "## Understanding the Business Objective and the Data\n",
    "The dataset contains customer-level information for a span of four consecutive months - June, July, August and September. The months are encoded as 6, 7, 8 and 9, respectively. \n",
    "\n",
    "\n",
    "The business objective is to predict the churn in the last (i.e. the ninth) month using the data (features) from the first three months. To do this task well, understanding the typical customer behaviour during churn will be helpful."
   ]
  },
  {
   "cell_type": "markdown",
   "metadata": {},
   "source": [
    "## Understanding Customer Behaviour During Churn\n",
    "Customers usually do not decide to switch to another competitor instantly, but rather over a period of time (this is especially applicable to high-value customers). In churn prediction, we assume that there are three phases of customer lifecycle :\n",
    "\n",
    "The ‘good’ phase: In this phase, the customer is happy with the service and behaves as usual.\n",
    "\n",
    "The ‘action’ phase: The customer experience starts to sore in this phase, for e.g. he/she gets a compelling offer from a  competitor, faces unjust charges, becomes unhappy with service quality etc. In this phase, the customer usually shows different behaviour than the ‘good’ months. Also, it is crucial to identify high-churn-risk customers in this phase, since some corrective actions can be taken at this point (such as matching the competitor’s offer/improving the service quality etc.)\n",
    "\n",
    "The ‘churn’ phase: In this phase, the customer is said to have churned. You define churn based on this phase. Also, it is important to note that at the time of prediction (i.e. the action months), this data is not available to you for prediction. Thus, after tagging churn as 1/0 based on this phase, you discard all data corresponding to this phase.\n",
    "\n",
    " \n",
    "\n",
    "In this case, since you are working over a four-month window, the first two months are the ‘good’ phase, the third month is the ‘action’ phase, while the fourth month is the ‘churn’ phase."
   ]
  },
  {
   "cell_type": "markdown",
   "metadata": {},
   "source": [
    "# Imports & Data Loading"
   ]
  },
  {
   "cell_type": "code",
   "execution_count": 1,
   "metadata": {
    "ExecuteTime": {
     "end_time": "2021-04-25T18:04:54.242648Z",
     "start_time": "2021-04-25T18:04:52.869881Z"
    }
   },
   "outputs": [],
   "source": [
    "# Import the required libraries\n",
    "import pandas as pd\n",
    "import numpy as np\n",
    "import matplotlib.pyplot as plt\n",
    "import seaborn as sns\n",
    "import re\n",
    "import datetime\n",
    "from sklearn.model_selection import train_test_split\n",
    "from sklearn.preprocessing import MinMaxScaler,StandardScaler\n",
    "from sklearn.decomposition import PCA, IncrementalPCA\n",
    "from sklearn.metrics import  roc_auc_score,accuracy_score\n",
    "from sklearn.linear_model import LogisticRegression\n",
    "from sklearn.tree import DecisionTreeClassifier\n",
    "from sklearn.ensemble import RandomForestClassifier\n",
    "from sklearn.naive_bayes import GaussianNB\n",
    "from sklearn.ensemble import GradientBoostingClassifier\n",
    "from xgboost import XGBClassifier\n",
    "from sklearn.svm import SVC\n",
    "from sklearn.neighbors import KNeighborsClassifier\n",
    "from sklearn.ensemble import AdaBoostClassifier\n",
    "from sklearn.neural_network import MLPClassifier \n",
    "from sklearn.model_selection import GridSearchCV,RandomizedSearchCV\n",
    "import time"
   ]
  },
  {
   "cell_type": "code",
   "execution_count": 2,
   "metadata": {
    "ExecuteTime": {
     "end_time": "2021-04-25T18:04:54.249652Z",
     "start_time": "2021-04-25T18:04:54.246730Z"
    }
   },
   "outputs": [],
   "source": [
    "import warnings\n",
    "warnings.filterwarnings(\"ignore\")"
   ]
  },
  {
   "cell_type": "code",
   "execution_count": 3,
   "metadata": {
    "ExecuteTime": {
     "end_time": "2021-04-25T18:04:56.334870Z",
     "start_time": "2021-04-25T18:04:54.251387Z"
    }
   },
   "outputs": [],
   "source": [
    "# Read the data\n",
    "cust = pd.read_csv(\"data/telecom_churn_data.csv\")"
   ]
  },
  {
   "cell_type": "code",
   "execution_count": 4,
   "metadata": {
    "ExecuteTime": {
     "end_time": "2021-04-25T18:04:56.344026Z",
     "start_time": "2021-04-25T18:04:56.338038Z"
    }
   },
   "outputs": [
    {
     "data": {
      "text/plain": [
       "(99999, 226)"
      ]
     },
     "execution_count": 4,
     "metadata": {},
     "output_type": "execute_result"
    }
   ],
   "source": [
    "cust.shape"
   ]
  },
  {
   "cell_type": "code",
   "execution_count": 5,
   "metadata": {
    "ExecuteTime": {
     "end_time": "2021-04-25T18:04:56.377056Z",
     "start_time": "2021-04-25T18:04:56.347586Z"
    }
   },
   "outputs": [
    {
     "data": {
      "text/html": [
       "<div>\n",
       "<style scoped>\n",
       "    .dataframe tbody tr th:only-of-type {\n",
       "        vertical-align: middle;\n",
       "    }\n",
       "\n",
       "    .dataframe tbody tr th {\n",
       "        vertical-align: top;\n",
       "    }\n",
       "\n",
       "    .dataframe thead th {\n",
       "        text-align: right;\n",
       "    }\n",
       "</style>\n",
       "<table border=\"1\" class=\"dataframe\">\n",
       "  <thead>\n",
       "    <tr style=\"text-align: right;\">\n",
       "      <th></th>\n",
       "      <th>mobile_number</th>\n",
       "      <th>circle_id</th>\n",
       "      <th>loc_og_t2o_mou</th>\n",
       "      <th>std_og_t2o_mou</th>\n",
       "      <th>loc_ic_t2o_mou</th>\n",
       "      <th>last_date_of_month_6</th>\n",
       "      <th>last_date_of_month_7</th>\n",
       "      <th>last_date_of_month_8</th>\n",
       "      <th>last_date_of_month_9</th>\n",
       "      <th>arpu_6</th>\n",
       "      <th>...</th>\n",
       "      <th>sachet_3g_9</th>\n",
       "      <th>fb_user_6</th>\n",
       "      <th>fb_user_7</th>\n",
       "      <th>fb_user_8</th>\n",
       "      <th>fb_user_9</th>\n",
       "      <th>aon</th>\n",
       "      <th>aug_vbc_3g</th>\n",
       "      <th>jul_vbc_3g</th>\n",
       "      <th>jun_vbc_3g</th>\n",
       "      <th>sep_vbc_3g</th>\n",
       "    </tr>\n",
       "  </thead>\n",
       "  <tbody>\n",
       "    <tr>\n",
       "      <th>0</th>\n",
       "      <td>7000842753</td>\n",
       "      <td>109</td>\n",
       "      <td>0.0</td>\n",
       "      <td>0.0</td>\n",
       "      <td>0.0</td>\n",
       "      <td>6/30/2014</td>\n",
       "      <td>7/31/2014</td>\n",
       "      <td>8/31/2014</td>\n",
       "      <td>9/30/2014</td>\n",
       "      <td>197.385</td>\n",
       "      <td>...</td>\n",
       "      <td>0</td>\n",
       "      <td>1.0</td>\n",
       "      <td>1.0</td>\n",
       "      <td>1.0</td>\n",
       "      <td>NaN</td>\n",
       "      <td>968</td>\n",
       "      <td>30.4</td>\n",
       "      <td>0.0</td>\n",
       "      <td>101.20</td>\n",
       "      <td>3.58</td>\n",
       "    </tr>\n",
       "    <tr>\n",
       "      <th>1</th>\n",
       "      <td>7001865778</td>\n",
       "      <td>109</td>\n",
       "      <td>0.0</td>\n",
       "      <td>0.0</td>\n",
       "      <td>0.0</td>\n",
       "      <td>6/30/2014</td>\n",
       "      <td>7/31/2014</td>\n",
       "      <td>8/31/2014</td>\n",
       "      <td>9/30/2014</td>\n",
       "      <td>34.047</td>\n",
       "      <td>...</td>\n",
       "      <td>0</td>\n",
       "      <td>NaN</td>\n",
       "      <td>1.0</td>\n",
       "      <td>1.0</td>\n",
       "      <td>NaN</td>\n",
       "      <td>1006</td>\n",
       "      <td>0.0</td>\n",
       "      <td>0.0</td>\n",
       "      <td>0.00</td>\n",
       "      <td>0.00</td>\n",
       "    </tr>\n",
       "    <tr>\n",
       "      <th>2</th>\n",
       "      <td>7001625959</td>\n",
       "      <td>109</td>\n",
       "      <td>0.0</td>\n",
       "      <td>0.0</td>\n",
       "      <td>0.0</td>\n",
       "      <td>6/30/2014</td>\n",
       "      <td>7/31/2014</td>\n",
       "      <td>8/31/2014</td>\n",
       "      <td>9/30/2014</td>\n",
       "      <td>167.690</td>\n",
       "      <td>...</td>\n",
       "      <td>0</td>\n",
       "      <td>NaN</td>\n",
       "      <td>NaN</td>\n",
       "      <td>NaN</td>\n",
       "      <td>1.0</td>\n",
       "      <td>1103</td>\n",
       "      <td>0.0</td>\n",
       "      <td>0.0</td>\n",
       "      <td>4.17</td>\n",
       "      <td>0.00</td>\n",
       "    </tr>\n",
       "    <tr>\n",
       "      <th>3</th>\n",
       "      <td>7001204172</td>\n",
       "      <td>109</td>\n",
       "      <td>0.0</td>\n",
       "      <td>0.0</td>\n",
       "      <td>0.0</td>\n",
       "      <td>6/30/2014</td>\n",
       "      <td>7/31/2014</td>\n",
       "      <td>8/31/2014</td>\n",
       "      <td>9/30/2014</td>\n",
       "      <td>221.338</td>\n",
       "      <td>...</td>\n",
       "      <td>0</td>\n",
       "      <td>NaN</td>\n",
       "      <td>NaN</td>\n",
       "      <td>NaN</td>\n",
       "      <td>NaN</td>\n",
       "      <td>2491</td>\n",
       "      <td>0.0</td>\n",
       "      <td>0.0</td>\n",
       "      <td>0.00</td>\n",
       "      <td>0.00</td>\n",
       "    </tr>\n",
       "    <tr>\n",
       "      <th>4</th>\n",
       "      <td>7000142493</td>\n",
       "      <td>109</td>\n",
       "      <td>0.0</td>\n",
       "      <td>0.0</td>\n",
       "      <td>0.0</td>\n",
       "      <td>6/30/2014</td>\n",
       "      <td>7/31/2014</td>\n",
       "      <td>8/31/2014</td>\n",
       "      <td>9/30/2014</td>\n",
       "      <td>261.636</td>\n",
       "      <td>...</td>\n",
       "      <td>0</td>\n",
       "      <td>0.0</td>\n",
       "      <td>NaN</td>\n",
       "      <td>NaN</td>\n",
       "      <td>NaN</td>\n",
       "      <td>1526</td>\n",
       "      <td>0.0</td>\n",
       "      <td>0.0</td>\n",
       "      <td>0.00</td>\n",
       "      <td>0.00</td>\n",
       "    </tr>\n",
       "  </tbody>\n",
       "</table>\n",
       "<p>5 rows × 226 columns</p>\n",
       "</div>"
      ],
      "text/plain": [
       "   mobile_number  circle_id  loc_og_t2o_mou  std_og_t2o_mou  loc_ic_t2o_mou  \\\n",
       "0     7000842753        109             0.0             0.0             0.0   \n",
       "1     7001865778        109             0.0             0.0             0.0   \n",
       "2     7001625959        109             0.0             0.0             0.0   \n",
       "3     7001204172        109             0.0             0.0             0.0   \n",
       "4     7000142493        109             0.0             0.0             0.0   \n",
       "\n",
       "  last_date_of_month_6 last_date_of_month_7 last_date_of_month_8  \\\n",
       "0            6/30/2014            7/31/2014            8/31/2014   \n",
       "1            6/30/2014            7/31/2014            8/31/2014   \n",
       "2            6/30/2014            7/31/2014            8/31/2014   \n",
       "3            6/30/2014            7/31/2014            8/31/2014   \n",
       "4            6/30/2014            7/31/2014            8/31/2014   \n",
       "\n",
       "  last_date_of_month_9   arpu_6  ...  sachet_3g_9  fb_user_6  fb_user_7  \\\n",
       "0            9/30/2014  197.385  ...            0        1.0        1.0   \n",
       "1            9/30/2014   34.047  ...            0        NaN        1.0   \n",
       "2            9/30/2014  167.690  ...            0        NaN        NaN   \n",
       "3            9/30/2014  221.338  ...            0        NaN        NaN   \n",
       "4            9/30/2014  261.636  ...            0        0.0        NaN   \n",
       "\n",
       "   fb_user_8  fb_user_9   aon  aug_vbc_3g  jul_vbc_3g  jun_vbc_3g  sep_vbc_3g  \n",
       "0        1.0        NaN   968        30.4         0.0      101.20        3.58  \n",
       "1        1.0        NaN  1006         0.0         0.0        0.00        0.00  \n",
       "2        NaN        1.0  1103         0.0         0.0        4.17        0.00  \n",
       "3        NaN        NaN  2491         0.0         0.0        0.00        0.00  \n",
       "4        NaN        NaN  1526         0.0         0.0        0.00        0.00  \n",
       "\n",
       "[5 rows x 226 columns]"
      ]
     },
     "execution_count": 5,
     "metadata": {},
     "output_type": "execute_result"
    }
   ],
   "source": [
    "cust.head()"
   ]
  },
  {
   "cell_type": "code",
   "execution_count": 6,
   "metadata": {
    "ExecuteTime": {
     "end_time": "2021-04-25T18:04:56.385677Z",
     "start_time": "2021-04-25T18:04:56.379167Z"
    }
   },
   "outputs": [],
   "source": [
    "# Smaller file to manually check on the first 10 records in the dataset\n",
    "cust.head(10).T.to_csv(\"sample_10_T.csv\")"
   ]
  },
  {
   "cell_type": "code",
   "execution_count": 7,
   "metadata": {
    "ExecuteTime": {
     "end_time": "2021-04-25T18:04:56.405754Z",
     "start_time": "2021-04-25T18:04:56.387369Z"
    }
   },
   "outputs": [
    {
     "name": "stdout",
     "output_type": "stream",
     "text": [
      "<class 'pandas.core.frame.DataFrame'>\n",
      "RangeIndex: 99999 entries, 0 to 99998\n",
      "Columns: 226 entries, mobile_number to sep_vbc_3g\n",
      "dtypes: float64(179), int64(35), object(12)\n",
      "memory usage: 172.4+ MB\n"
     ]
    }
   ],
   "source": [
    "cust.info()"
   ]
  },
  {
   "cell_type": "markdown",
   "metadata": {},
   "source": [
    "# Utility Methods"
   ]
  },
  {
   "cell_type": "markdown",
   "metadata": {},
   "source": [
    "## Check for missing values in a dataframe"
   ]
  },
  {
   "cell_type": "code",
   "execution_count": 8,
   "metadata": {
    "ExecuteTime": {
     "end_time": "2021-04-25T18:04:56.413890Z",
     "start_time": "2021-04-25T18:04:56.407789Z"
    }
   },
   "outputs": [],
   "source": [
    "# Check for missing values in the dataframe and print them\n",
    "def print_missing_columns(input_df):\n",
    "    # Print missing percentage of only columns with missing values\n",
    "    missing_columns = input_df.columns[input_df.isnull().any()]\n",
    "    if not missing_columns.empty:\n",
    "        missing_count = input_df[missing_columns].isnull().sum()\n",
    "        missing_col_type = pd.Series([type(col) for col in input_df[missing_columns]],index = missing_columns) \n",
    "        unique_count = input_df[missing_columns].nunique()\n",
    "\n",
    "        missing_df = pd.concat({\n",
    "                        \"Missing\": missing_count, \n",
    "                        \"Missing %\": missing_count/len(input_df.index)*100,\n",
    "                        #\"Type\": missing_col_type,\n",
    "                        \"Unique Count\": unique_count\n",
    "                       } , \n",
    "                       axis = 1).sort_values(by = 'Missing', ascending = False)\n",
    "\n",
    "        display(missing_df)\n",
    "    else:\n",
    "        display(\"NO MISSING VALUES IN THE DATAFRAME\")"
   ]
  },
  {
   "cell_type": "markdown",
   "metadata": {},
   "source": [
    "# Data Preprocessing"
   ]
  },
  {
   "cell_type": "markdown",
   "metadata": {},
   "source": [
    "## <TODO> Check data types"
   ]
  },
  {
   "cell_type": "code",
   "execution_count": 9,
   "metadata": {
    "ExecuteTime": {
     "end_time": "2021-04-25T18:04:56.425533Z",
     "start_time": "2021-04-25T18:04:56.415910Z"
    }
   },
   "outputs": [
    {
     "name": "stdout",
     "output_type": "stream",
     "text": [
      "<class 'pandas.core.frame.DataFrame'>\n",
      "RangeIndex: 99999 entries, 0 to 99998\n",
      "Columns: 226 entries, mobile_number to sep_vbc_3g\n",
      "dtypes: float64(179), int64(35), object(12)\n",
      "memory usage: 172.4+ MB\n"
     ]
    }
   ],
   "source": [
    "cust.info()"
   ]
  },
  {
   "cell_type": "markdown",
   "metadata": {},
   "source": [
    "Date columns are present as objects. Convert to datetime type."
   ]
  },
  {
   "cell_type": "code",
   "execution_count": 10,
   "metadata": {
    "ExecuteTime": {
     "end_time": "2021-04-25T18:06:14.570320Z",
     "start_time": "2021-04-25T18:04:56.427197Z"
    }
   },
   "outputs": [],
   "source": [
    "# Change data type of date columns to datetime\n",
    "date_cols = [col for col in cust.columns if re.match('^date|^last_date', col)]\n",
    "cust[date_cols] = cust[date_cols].apply(pd.to_datetime,errors='coerce') "
   ]
  },
  {
   "cell_type": "markdown",
   "metadata": {},
   "source": [
    "## Check for missing data"
   ]
  },
  {
   "cell_type": "code",
   "execution_count": 11,
   "metadata": {
    "ExecuteTime": {
     "end_time": "2021-04-25T18:06:19.545017Z",
     "start_time": "2021-04-25T18:06:14.572471Z"
    }
   },
   "outputs": [
    {
     "data": {
      "text/html": [
       "<div>\n",
       "<style scoped>\n",
       "    .dataframe tbody tr th:only-of-type {\n",
       "        vertical-align: middle;\n",
       "    }\n",
       "\n",
       "    .dataframe tbody tr th {\n",
       "        vertical-align: top;\n",
       "    }\n",
       "\n",
       "    .dataframe thead th {\n",
       "        text-align: right;\n",
       "    }\n",
       "</style>\n",
       "<table border=\"1\" class=\"dataframe\">\n",
       "  <thead>\n",
       "    <tr style=\"text-align: right;\">\n",
       "      <th></th>\n",
       "      <th>Missing</th>\n",
       "      <th>Missing %</th>\n",
       "      <th>Unique Count</th>\n",
       "    </tr>\n",
       "  </thead>\n",
       "  <tbody>\n",
       "    <tr>\n",
       "      <th>count_rech_2g_6</th>\n",
       "      <td>74846</td>\n",
       "      <td>74.846748</td>\n",
       "      <td>31</td>\n",
       "    </tr>\n",
       "    <tr>\n",
       "      <th>max_rech_data_6</th>\n",
       "      <td>74846</td>\n",
       "      <td>74.846748</td>\n",
       "      <td>48</td>\n",
       "    </tr>\n",
       "    <tr>\n",
       "      <th>arpu_3g_6</th>\n",
       "      <td>74846</td>\n",
       "      <td>74.846748</td>\n",
       "      <td>7418</td>\n",
       "    </tr>\n",
       "    <tr>\n",
       "      <th>av_rech_amt_data_6</th>\n",
       "      <td>74846</td>\n",
       "      <td>74.846748</td>\n",
       "      <td>887</td>\n",
       "    </tr>\n",
       "    <tr>\n",
       "      <th>count_rech_3g_6</th>\n",
       "      <td>74846</td>\n",
       "      <td>74.846748</td>\n",
       "      <td>25</td>\n",
       "    </tr>\n",
       "    <tr>\n",
       "      <th>night_pck_user_6</th>\n",
       "      <td>74846</td>\n",
       "      <td>74.846748</td>\n",
       "      <td>2</td>\n",
       "    </tr>\n",
       "    <tr>\n",
       "      <th>arpu_2g_6</th>\n",
       "      <td>74846</td>\n",
       "      <td>74.846748</td>\n",
       "      <td>6990</td>\n",
       "    </tr>\n",
       "    <tr>\n",
       "      <th>fb_user_6</th>\n",
       "      <td>74846</td>\n",
       "      <td>74.846748</td>\n",
       "      <td>2</td>\n",
       "    </tr>\n",
       "    <tr>\n",
       "      <th>total_rech_data_6</th>\n",
       "      <td>74846</td>\n",
       "      <td>74.846748</td>\n",
       "      <td>37</td>\n",
       "    </tr>\n",
       "    <tr>\n",
       "      <th>date_of_last_rech_data_6</th>\n",
       "      <td>74846</td>\n",
       "      <td>74.846748</td>\n",
       "      <td>30</td>\n",
       "    </tr>\n",
       "    <tr>\n",
       "      <th>count_rech_3g_7</th>\n",
       "      <td>74428</td>\n",
       "      <td>74.428744</td>\n",
       "      <td>28</td>\n",
       "    </tr>\n",
       "    <tr>\n",
       "      <th>arpu_3g_7</th>\n",
       "      <td>74428</td>\n",
       "      <td>74.428744</td>\n",
       "      <td>7246</td>\n",
       "    </tr>\n",
       "    <tr>\n",
       "      <th>av_rech_amt_data_7</th>\n",
       "      <td>74428</td>\n",
       "      <td>74.428744</td>\n",
       "      <td>961</td>\n",
       "    </tr>\n",
       "    <tr>\n",
       "      <th>fb_user_7</th>\n",
       "      <td>74428</td>\n",
       "      <td>74.428744</td>\n",
       "      <td>2</td>\n",
       "    </tr>\n",
       "    <tr>\n",
       "      <th>total_rech_data_7</th>\n",
       "      <td>74428</td>\n",
       "      <td>74.428744</td>\n",
       "      <td>42</td>\n",
       "    </tr>\n",
       "    <tr>\n",
       "      <th>count_rech_2g_7</th>\n",
       "      <td>74428</td>\n",
       "      <td>74.428744</td>\n",
       "      <td>36</td>\n",
       "    </tr>\n",
       "    <tr>\n",
       "      <th>arpu_2g_7</th>\n",
       "      <td>74428</td>\n",
       "      <td>74.428744</td>\n",
       "      <td>6586</td>\n",
       "    </tr>\n",
       "    <tr>\n",
       "      <th>night_pck_user_7</th>\n",
       "      <td>74428</td>\n",
       "      <td>74.428744</td>\n",
       "      <td>2</td>\n",
       "    </tr>\n",
       "    <tr>\n",
       "      <th>max_rech_data_7</th>\n",
       "      <td>74428</td>\n",
       "      <td>74.428744</td>\n",
       "      <td>48</td>\n",
       "    </tr>\n",
       "    <tr>\n",
       "      <th>date_of_last_rech_data_7</th>\n",
       "      <td>74428</td>\n",
       "      <td>74.428744</td>\n",
       "      <td>31</td>\n",
       "    </tr>\n",
       "    <tr>\n",
       "      <th>date_of_last_rech_data_9</th>\n",
       "      <td>74077</td>\n",
       "      <td>74.077741</td>\n",
       "      <td>30</td>\n",
       "    </tr>\n",
       "    <tr>\n",
       "      <th>count_rech_2g_9</th>\n",
       "      <td>74077</td>\n",
       "      <td>74.077741</td>\n",
       "      <td>32</td>\n",
       "    </tr>\n",
       "    <tr>\n",
       "      <th>total_rech_data_9</th>\n",
       "      <td>74077</td>\n",
       "      <td>74.077741</td>\n",
       "      <td>37</td>\n",
       "    </tr>\n",
       "    <tr>\n",
       "      <th>count_rech_3g_9</th>\n",
       "      <td>74077</td>\n",
       "      <td>74.077741</td>\n",
       "      <td>27</td>\n",
       "    </tr>\n",
       "    <tr>\n",
       "      <th>max_rech_data_9</th>\n",
       "      <td>74077</td>\n",
       "      <td>74.077741</td>\n",
       "      <td>50</td>\n",
       "    </tr>\n",
       "    <tr>\n",
       "      <th>av_rech_amt_data_9</th>\n",
       "      <td>74077</td>\n",
       "      <td>74.077741</td>\n",
       "      <td>945</td>\n",
       "    </tr>\n",
       "    <tr>\n",
       "      <th>arpu_3g_9</th>\n",
       "      <td>74077</td>\n",
       "      <td>74.077741</td>\n",
       "      <td>8063</td>\n",
       "    </tr>\n",
       "    <tr>\n",
       "      <th>fb_user_9</th>\n",
       "      <td>74077</td>\n",
       "      <td>74.077741</td>\n",
       "      <td>2</td>\n",
       "    </tr>\n",
       "    <tr>\n",
       "      <th>night_pck_user_9</th>\n",
       "      <td>74077</td>\n",
       "      <td>74.077741</td>\n",
       "      <td>2</td>\n",
       "    </tr>\n",
       "    <tr>\n",
       "      <th>arpu_2g_9</th>\n",
       "      <td>74077</td>\n",
       "      <td>74.077741</td>\n",
       "      <td>6795</td>\n",
       "    </tr>\n",
       "    <tr>\n",
       "      <th>...</th>\n",
       "      <td>...</td>\n",
       "      <td>...</td>\n",
       "      <td>...</td>\n",
       "    </tr>\n",
       "    <tr>\n",
       "      <th>std_og_t2m_mou_7</th>\n",
       "      <td>3859</td>\n",
       "      <td>3.859039</td>\n",
       "      <td>20018</td>\n",
       "    </tr>\n",
       "    <tr>\n",
       "      <th>std_og_t2f_mou_7</th>\n",
       "      <td>3859</td>\n",
       "      <td>3.859039</td>\n",
       "      <td>2391</td>\n",
       "    </tr>\n",
       "    <tr>\n",
       "      <th>std_og_t2c_mou_7</th>\n",
       "      <td>3859</td>\n",
       "      <td>3.859039</td>\n",
       "      <td>1</td>\n",
       "    </tr>\n",
       "    <tr>\n",
       "      <th>roam_ic_mou_7</th>\n",
       "      <td>3859</td>\n",
       "      <td>3.859039</td>\n",
       "      <td>5230</td>\n",
       "    </tr>\n",
       "    <tr>\n",
       "      <th>isd_og_mou_7</th>\n",
       "      <td>3859</td>\n",
       "      <td>3.859039</td>\n",
       "      <td>1380</td>\n",
       "    </tr>\n",
       "    <tr>\n",
       "      <th>spl_og_mou_7</th>\n",
       "      <td>3859</td>\n",
       "      <td>3.859039</td>\n",
       "      <td>4396</td>\n",
       "    </tr>\n",
       "    <tr>\n",
       "      <th>og_others_7</th>\n",
       "      <td>3859</td>\n",
       "      <td>3.859039</td>\n",
       "      <td>187</td>\n",
       "    </tr>\n",
       "    <tr>\n",
       "      <th>loc_ic_t2t_mou_7</th>\n",
       "      <td>3859</td>\n",
       "      <td>3.859039</td>\n",
       "      <td>13511</td>\n",
       "    </tr>\n",
       "    <tr>\n",
       "      <th>loc_ic_t2m_mou_7</th>\n",
       "      <td>3859</td>\n",
       "      <td>3.859039</td>\n",
       "      <td>21918</td>\n",
       "    </tr>\n",
       "    <tr>\n",
       "      <th>offnet_mou_7</th>\n",
       "      <td>3859</td>\n",
       "      <td>3.859039</td>\n",
       "      <td>31023</td>\n",
       "    </tr>\n",
       "    <tr>\n",
       "      <th>loc_ic_mou_7</th>\n",
       "      <td>3859</td>\n",
       "      <td>3.859039</td>\n",
       "      <td>28390</td>\n",
       "    </tr>\n",
       "    <tr>\n",
       "      <th>std_ic_t2t_mou_7</th>\n",
       "      <td>3859</td>\n",
       "      <td>3.859039</td>\n",
       "      <td>6481</td>\n",
       "    </tr>\n",
       "    <tr>\n",
       "      <th>std_ic_t2m_mou_7</th>\n",
       "      <td>3859</td>\n",
       "      <td>3.859039</td>\n",
       "      <td>9464</td>\n",
       "    </tr>\n",
       "    <tr>\n",
       "      <th>std_ic_t2f_mou_7</th>\n",
       "      <td>3859</td>\n",
       "      <td>3.859039</td>\n",
       "      <td>3209</td>\n",
       "    </tr>\n",
       "    <tr>\n",
       "      <th>std_ic_t2o_mou_7</th>\n",
       "      <td>3859</td>\n",
       "      <td>3.859039</td>\n",
       "      <td>1</td>\n",
       "    </tr>\n",
       "    <tr>\n",
       "      <th>std_ic_mou_7</th>\n",
       "      <td>3859</td>\n",
       "      <td>3.859039</td>\n",
       "      <td>11889</td>\n",
       "    </tr>\n",
       "    <tr>\n",
       "      <th>spl_ic_mou_7</th>\n",
       "      <td>3859</td>\n",
       "      <td>3.859039</td>\n",
       "      <td>107</td>\n",
       "    </tr>\n",
       "    <tr>\n",
       "      <th>isd_ic_mou_7</th>\n",
       "      <td>3859</td>\n",
       "      <td>3.859039</td>\n",
       "      <td>5789</td>\n",
       "    </tr>\n",
       "    <tr>\n",
       "      <th>ic_others_7</th>\n",
       "      <td>3859</td>\n",
       "      <td>3.859039</td>\n",
       "      <td>2002</td>\n",
       "    </tr>\n",
       "    <tr>\n",
       "      <th>onnet_mou_7</th>\n",
       "      <td>3859</td>\n",
       "      <td>3.859039</td>\n",
       "      <td>24336</td>\n",
       "    </tr>\n",
       "    <tr>\n",
       "      <th>loc_og_t2t_mou_7</th>\n",
       "      <td>3859</td>\n",
       "      <td>3.859039</td>\n",
       "      <td>13411</td>\n",
       "    </tr>\n",
       "    <tr>\n",
       "      <th>date_of_last_rech_8</th>\n",
       "      <td>3622</td>\n",
       "      <td>3.622036</td>\n",
       "      <td>31</td>\n",
       "    </tr>\n",
       "    <tr>\n",
       "      <th>date_of_last_rech_7</th>\n",
       "      <td>1767</td>\n",
       "      <td>1.767018</td>\n",
       "      <td>31</td>\n",
       "    </tr>\n",
       "    <tr>\n",
       "      <th>last_date_of_month_9</th>\n",
       "      <td>1659</td>\n",
       "      <td>1.659017</td>\n",
       "      <td>1</td>\n",
       "    </tr>\n",
       "    <tr>\n",
       "      <th>date_of_last_rech_6</th>\n",
       "      <td>1607</td>\n",
       "      <td>1.607016</td>\n",
       "      <td>30</td>\n",
       "    </tr>\n",
       "    <tr>\n",
       "      <th>last_date_of_month_8</th>\n",
       "      <td>1100</td>\n",
       "      <td>1.100011</td>\n",
       "      <td>1</td>\n",
       "    </tr>\n",
       "    <tr>\n",
       "      <th>std_og_t2o_mou</th>\n",
       "      <td>1018</td>\n",
       "      <td>1.018010</td>\n",
       "      <td>1</td>\n",
       "    </tr>\n",
       "    <tr>\n",
       "      <th>loc_ic_t2o_mou</th>\n",
       "      <td>1018</td>\n",
       "      <td>1.018010</td>\n",
       "      <td>1</td>\n",
       "    </tr>\n",
       "    <tr>\n",
       "      <th>loc_og_t2o_mou</th>\n",
       "      <td>1018</td>\n",
       "      <td>1.018010</td>\n",
       "      <td>1</td>\n",
       "    </tr>\n",
       "    <tr>\n",
       "      <th>last_date_of_month_7</th>\n",
       "      <td>601</td>\n",
       "      <td>0.601006</td>\n",
       "      <td>1</td>\n",
       "    </tr>\n",
       "  </tbody>\n",
       "</table>\n",
       "<p>166 rows × 3 columns</p>\n",
       "</div>"
      ],
      "text/plain": [
       "                          Missing  Missing %  Unique Count\n",
       "count_rech_2g_6             74846  74.846748            31\n",
       "max_rech_data_6             74846  74.846748            48\n",
       "arpu_3g_6                   74846  74.846748          7418\n",
       "av_rech_amt_data_6          74846  74.846748           887\n",
       "count_rech_3g_6             74846  74.846748            25\n",
       "night_pck_user_6            74846  74.846748             2\n",
       "arpu_2g_6                   74846  74.846748          6990\n",
       "fb_user_6                   74846  74.846748             2\n",
       "total_rech_data_6           74846  74.846748            37\n",
       "date_of_last_rech_data_6    74846  74.846748            30\n",
       "count_rech_3g_7             74428  74.428744            28\n",
       "arpu_3g_7                   74428  74.428744          7246\n",
       "av_rech_amt_data_7          74428  74.428744           961\n",
       "fb_user_7                   74428  74.428744             2\n",
       "total_rech_data_7           74428  74.428744            42\n",
       "count_rech_2g_7             74428  74.428744            36\n",
       "arpu_2g_7                   74428  74.428744          6586\n",
       "night_pck_user_7            74428  74.428744             2\n",
       "max_rech_data_7             74428  74.428744            48\n",
       "date_of_last_rech_data_7    74428  74.428744            31\n",
       "date_of_last_rech_data_9    74077  74.077741            30\n",
       "count_rech_2g_9             74077  74.077741            32\n",
       "total_rech_data_9           74077  74.077741            37\n",
       "count_rech_3g_9             74077  74.077741            27\n",
       "max_rech_data_9             74077  74.077741            50\n",
       "av_rech_amt_data_9          74077  74.077741           945\n",
       "arpu_3g_9                   74077  74.077741          8063\n",
       "fb_user_9                   74077  74.077741             2\n",
       "night_pck_user_9            74077  74.077741             2\n",
       "arpu_2g_9                   74077  74.077741          6795\n",
       "...                           ...        ...           ...\n",
       "std_og_t2m_mou_7             3859   3.859039         20018\n",
       "std_og_t2f_mou_7             3859   3.859039          2391\n",
       "std_og_t2c_mou_7             3859   3.859039             1\n",
       "roam_ic_mou_7                3859   3.859039          5230\n",
       "isd_og_mou_7                 3859   3.859039          1380\n",
       "spl_og_mou_7                 3859   3.859039          4396\n",
       "og_others_7                  3859   3.859039           187\n",
       "loc_ic_t2t_mou_7             3859   3.859039         13511\n",
       "loc_ic_t2m_mou_7             3859   3.859039         21918\n",
       "offnet_mou_7                 3859   3.859039         31023\n",
       "loc_ic_mou_7                 3859   3.859039         28390\n",
       "std_ic_t2t_mou_7             3859   3.859039          6481\n",
       "std_ic_t2m_mou_7             3859   3.859039          9464\n",
       "std_ic_t2f_mou_7             3859   3.859039          3209\n",
       "std_ic_t2o_mou_7             3859   3.859039             1\n",
       "std_ic_mou_7                 3859   3.859039         11889\n",
       "spl_ic_mou_7                 3859   3.859039           107\n",
       "isd_ic_mou_7                 3859   3.859039          5789\n",
       "ic_others_7                  3859   3.859039          2002\n",
       "onnet_mou_7                  3859   3.859039         24336\n",
       "loc_og_t2t_mou_7             3859   3.859039         13411\n",
       "date_of_last_rech_8          3622   3.622036            31\n",
       "date_of_last_rech_7          1767   1.767018            31\n",
       "last_date_of_month_9         1659   1.659017             1\n",
       "date_of_last_rech_6          1607   1.607016            30\n",
       "last_date_of_month_8         1100   1.100011             1\n",
       "std_og_t2o_mou               1018   1.018010             1\n",
       "loc_ic_t2o_mou               1018   1.018010             1\n",
       "loc_og_t2o_mou               1018   1.018010             1\n",
       "last_date_of_month_7          601   0.601006             1\n",
       "\n",
       "[166 rows x 3 columns]"
      ]
     },
     "metadata": {},
     "output_type": "display_data"
    }
   ],
   "source": [
    "print_missing_columns(cust)"
   ]
  },
  {
   "cell_type": "markdown",
   "metadata": {},
   "source": [
    "## Handle missing data"
   ]
  },
  {
   "cell_type": "markdown",
   "metadata": {},
   "source": [
    "### Replace missing with 0\n",
    "- Missing 'incoming' & 'outgoing' call related columns can be set to 0 assuming there were no calls received/made for that column type\n",
    "- Recharge related columns can be set to 0 assuming empty cells indicate no recharge was done in that month\n",
    "- Minutes of Usage (MoU) and average revenue per user (arpu) columns are also handled similarly "
   ]
  },
  {
   "cell_type": "code",
   "execution_count": 12,
   "metadata": {
    "ExecuteTime": {
     "end_time": "2021-04-25T18:06:19.550884Z",
     "start_time": "2021-04-25T18:06:19.546841Z"
    }
   },
   "outputs": [
    {
     "data": {
      "text/plain": [
       "Index(['mobile_number', 'circle_id', 'loc_og_t2o_mou', 'std_og_t2o_mou',\n",
       "       'loc_ic_t2o_mou', 'last_date_of_month_6', 'last_date_of_month_7',\n",
       "       'last_date_of_month_8', 'last_date_of_month_9', 'arpu_6',\n",
       "       ...\n",
       "       'sachet_3g_9', 'fb_user_6', 'fb_user_7', 'fb_user_8', 'fb_user_9',\n",
       "       'aon', 'aug_vbc_3g', 'jul_vbc_3g', 'jun_vbc_3g', 'sep_vbc_3g'],\n",
       "      dtype='object', length=226)"
      ]
     },
     "execution_count": 12,
     "metadata": {},
     "output_type": "execute_result"
    }
   ],
   "source": [
    "cust.columns"
   ]
  },
  {
   "cell_type": "code",
   "execution_count": 13,
   "metadata": {
    "ExecuteTime": {
     "end_time": "2021-04-25T18:06:19.763231Z",
     "start_time": "2021-04-25T18:06:19.552617Z"
    }
   },
   "outputs": [
    {
     "name": "stdout",
     "output_type": "stream",
     "text": [
      "Replaced missing values with 0 for 57 incoming columns:['loc_ic_t2o_mou', 'roam_ic_mou_6', 'roam_ic_mou_7', 'roam_ic_mou_8', 'roam_ic_mou_9', 'loc_ic_t2t_mou_6', 'loc_ic_t2t_mou_7', 'loc_ic_t2t_mou_8', 'loc_ic_t2t_mou_9', 'loc_ic_t2m_mou_6', 'loc_ic_t2m_mou_7', 'loc_ic_t2m_mou_8', 'loc_ic_t2m_mou_9', 'loc_ic_t2f_mou_6', 'loc_ic_t2f_mou_7', 'loc_ic_t2f_mou_8', 'loc_ic_t2f_mou_9', 'loc_ic_mou_6', 'loc_ic_mou_7', 'loc_ic_mou_8', 'loc_ic_mou_9', 'std_ic_t2t_mou_6', 'std_ic_t2t_mou_7', 'std_ic_t2t_mou_8', 'std_ic_t2t_mou_9', 'std_ic_t2m_mou_6', 'std_ic_t2m_mou_7', 'std_ic_t2m_mou_8', 'std_ic_t2m_mou_9', 'std_ic_t2f_mou_6', 'std_ic_t2f_mou_7', 'std_ic_t2f_mou_8', 'std_ic_t2f_mou_9', 'std_ic_t2o_mou_6', 'std_ic_t2o_mou_7', 'std_ic_t2o_mou_8', 'std_ic_t2o_mou_9', 'std_ic_mou_6', 'std_ic_mou_7', 'std_ic_mou_8', 'std_ic_mou_9', 'total_ic_mou_6', 'total_ic_mou_7', 'total_ic_mou_8', 'total_ic_mou_9', 'spl_ic_mou_6', 'spl_ic_mou_7', 'spl_ic_mou_8', 'spl_ic_mou_9', 'isd_ic_mou_6', 'isd_ic_mou_7', 'isd_ic_mou_8', 'isd_ic_mou_9', 'ic_others_6', 'ic_others_7', 'ic_others_8', 'ic_others_9']\n",
      "\n",
      "Replaced missing values with 0 for 62 outgoing columns:['loc_og_t2o_mou', 'std_og_t2o_mou', 'roam_og_mou_6', 'roam_og_mou_7', 'roam_og_mou_8', 'roam_og_mou_9', 'loc_og_t2t_mou_6', 'loc_og_t2t_mou_7', 'loc_og_t2t_mou_8', 'loc_og_t2t_mou_9', 'loc_og_t2m_mou_6', 'loc_og_t2m_mou_7', 'loc_og_t2m_mou_8', 'loc_og_t2m_mou_9', 'loc_og_t2f_mou_6', 'loc_og_t2f_mou_7', 'loc_og_t2f_mou_8', 'loc_og_t2f_mou_9', 'loc_og_t2c_mou_6', 'loc_og_t2c_mou_7', 'loc_og_t2c_mou_8', 'loc_og_t2c_mou_9', 'loc_og_mou_6', 'loc_og_mou_7', 'loc_og_mou_8', 'loc_og_mou_9', 'std_og_t2t_mou_6', 'std_og_t2t_mou_7', 'std_og_t2t_mou_8', 'std_og_t2t_mou_9', 'std_og_t2m_mou_6', 'std_og_t2m_mou_7', 'std_og_t2m_mou_8', 'std_og_t2m_mou_9', 'std_og_t2f_mou_6', 'std_og_t2f_mou_7', 'std_og_t2f_mou_8', 'std_og_t2f_mou_9', 'std_og_t2c_mou_6', 'std_og_t2c_mou_7', 'std_og_t2c_mou_8', 'std_og_t2c_mou_9', 'std_og_mou_6', 'std_og_mou_7', 'std_og_mou_8', 'std_og_mou_9', 'isd_og_mou_6', 'isd_og_mou_7', 'isd_og_mou_8', 'isd_og_mou_9', 'spl_og_mou_6', 'spl_og_mou_7', 'spl_og_mou_8', 'spl_og_mou_9', 'og_others_6', 'og_others_7', 'og_others_8', 'og_others_9', 'total_og_mou_6', 'total_og_mou_7', 'total_og_mou_8', 'total_og_mou_9']\n"
     ]
    }
   ],
   "source": [
    "# Incoming calls column:\n",
    "# All columns with incoming call information have the string \"ic_\" in the column name\n",
    "# Fill the missing values in these columns with 0\n",
    "incoming_cols = [col for col in cust.columns if 'ic_' in col]\n",
    "cust[incoming_cols] = cust[incoming_cols].fillna(0)\n",
    "print(f'Replaced missing values with 0 for {len(incoming_cols)} incoming columns:{incoming_cols}')\n",
    "\n",
    "# Outgoing calls column:\n",
    "# All columns with outgoing call information have the string \"og_\" in the column name\n",
    "# Fill the missing values in these columns with 0\n",
    "outcoming_cols = [col for col in cust.columns if 'og_' in col]\n",
    "cust[outcoming_cols] = cust[outcoming_cols].fillna(0)\n",
    "print(f'\\nReplaced missing values with 0 for {len(outcoming_cols)} outgoing columns:{outcoming_cols}')"
   ]
  },
  {
   "cell_type": "code",
   "execution_count": 14,
   "metadata": {
    "ExecuteTime": {
     "end_time": "2021-04-25T18:06:19.840438Z",
     "start_time": "2021-04-25T18:06:19.766899Z"
    }
   },
   "outputs": [
    {
     "name": "stdout",
     "output_type": "stream",
     "text": [
      "Replaced missing values with 0 for 32 recharge columns :['total_rech_num_6', 'total_rech_num_7', 'total_rech_num_8', 'total_rech_num_9', 'total_rech_amt_6', 'total_rech_amt_7', 'total_rech_amt_8', 'total_rech_amt_9', 'max_rech_amt_6', 'max_rech_amt_7', 'max_rech_amt_8', 'max_rech_amt_9', 'total_rech_data_6', 'total_rech_data_7', 'total_rech_data_8', 'total_rech_data_9', 'max_rech_data_6', 'max_rech_data_7', 'max_rech_data_8', 'max_rech_data_9', 'count_rech_2g_6', 'count_rech_2g_7', 'count_rech_2g_8', 'count_rech_2g_9', 'count_rech_3g_6', 'count_rech_3g_7', 'count_rech_3g_8', 'count_rech_3g_9', 'av_rech_amt_data_6', 'av_rech_amt_data_7', 'av_rech_amt_data_8', 'av_rech_amt_data_9']\n"
     ]
    }
   ],
   "source": [
    "# Recharge related columns\n",
    "rech_cols = [col for col in cust.columns if re.match('^count_rech_|^max_rech_|^total_rech_|^av_rech_', col)]\n",
    "cust[rech_cols] = cust[rech_cols].fillna(0)\n",
    "print(f'Replaced missing values with 0 for {len(rech_cols)} recharge columns :{rech_cols}')"
   ]
  },
  {
   "cell_type": "code",
   "execution_count": 15,
   "metadata": {
    "ExecuteTime": {
     "end_time": "2021-04-25T18:06:19.865372Z",
     "start_time": "2021-04-25T18:06:19.842839Z"
    }
   },
   "outputs": [
    {
     "name": "stdout",
     "output_type": "stream",
     "text": [
      "Replaced missing values with 0 for 12 arpu columns :['arpu_6', 'arpu_7', 'arpu_8', 'arpu_9', 'arpu_3g_6', 'arpu_3g_7', 'arpu_3g_8', 'arpu_3g_9', 'arpu_2g_6', 'arpu_2g_7', 'arpu_2g_8', 'arpu_2g_9']\n"
     ]
    }
   ],
   "source": [
    "# arpu related columns\n",
    "arpu_cols = [col for col in cust.columns if re.match('^arpu', col)]\n",
    "cust[arpu_cols] = cust[arpu_cols].fillna(0)\n",
    "print(f'Replaced missing values with 0 for {len(arpu_cols)} arpu columns :{arpu_cols}')"
   ]
  },
  {
   "cell_type": "markdown",
   "metadata": {},
   "source": [
    "### Handle date columns"
   ]
  },
  {
   "cell_type": "markdown",
   "metadata": {},
   "source": [
    "- Last recharges made for talktime and data for each month is provided in the input data<br>\n",
    "- With this information, we will create a new derived column which has the number of days since the last recharge <br>\n",
    "- Combine the columns for the good phase & action phase (months 6, 7 & 8) and get the latest date when a recharge was made <br>\n",
    "- At the beginning of 9th month, get the number of days since the last recharge <br>\n",
    "<br>\n",
    "Hypothesis - if the customer has done a recharge recently, they are less likely to churn.  <br>"
   ]
  },
  {
   "cell_type": "code",
   "execution_count": 16,
   "metadata": {
    "ExecuteTime": {
     "end_time": "2021-04-25T18:06:19.875732Z",
     "start_time": "2021-04-25T18:06:19.869203Z"
    }
   },
   "outputs": [
    {
     "name": "stdout",
     "output_type": "stream",
     "text": [
      "Shape before handling date columns:(99999, 226)\n"
     ]
    }
   ],
   "source": [
    "print(f'Shape before handling date columns:{cust.shape}')"
   ]
  },
  {
   "cell_type": "code",
   "execution_count": 17,
   "metadata": {
    "ExecuteTime": {
     "end_time": "2021-04-25T18:06:19.887080Z",
     "start_time": "2021-04-25T18:06:19.879075Z"
    }
   },
   "outputs": [
    {
     "data": {
      "text/plain": [
       "['last_date_of_month_6',\n",
       " 'last_date_of_month_7',\n",
       " 'last_date_of_month_8',\n",
       " 'last_date_of_month_9',\n",
       " 'date_of_last_rech_6',\n",
       " 'date_of_last_rech_7',\n",
       " 'date_of_last_rech_8',\n",
       " 'date_of_last_rech_9',\n",
       " 'date_of_last_rech_data_6',\n",
       " 'date_of_last_rech_data_7',\n",
       " 'date_of_last_rech_data_8',\n",
       " 'date_of_last_rech_data_9']"
      ]
     },
     "execution_count": 17,
     "metadata": {},
     "output_type": "execute_result"
    }
   ],
   "source": [
    "date_cols"
   ]
  },
  {
   "cell_type": "code",
   "execution_count": 18,
   "metadata": {
    "ExecuteTime": {
     "end_time": "2021-04-25T18:06:19.913309Z",
     "start_time": "2021-04-25T18:06:19.898338Z"
    }
   },
   "outputs": [
    {
     "data": {
      "text/html": [
       "<div>\n",
       "<style scoped>\n",
       "    .dataframe tbody tr th:only-of-type {\n",
       "        vertical-align: middle;\n",
       "    }\n",
       "\n",
       "    .dataframe tbody tr th {\n",
       "        vertical-align: top;\n",
       "    }\n",
       "\n",
       "    .dataframe thead th {\n",
       "        text-align: right;\n",
       "    }\n",
       "</style>\n",
       "<table border=\"1\" class=\"dataframe\">\n",
       "  <thead>\n",
       "    <tr style=\"text-align: right;\">\n",
       "      <th></th>\n",
       "      <th>date_of_last_rech_6</th>\n",
       "      <th>date_of_last_rech_7</th>\n",
       "      <th>date_of_last_rech_8</th>\n",
       "    </tr>\n",
       "  </thead>\n",
       "  <tbody>\n",
       "    <tr>\n",
       "      <th>99994</th>\n",
       "      <td>2014-06-03</td>\n",
       "      <td>2014-07-20</td>\n",
       "      <td>2014-08-26</td>\n",
       "    </tr>\n",
       "    <tr>\n",
       "      <th>99995</th>\n",
       "      <td>2014-06-17</td>\n",
       "      <td>2014-07-17</td>\n",
       "      <td>2014-08-24</td>\n",
       "    </tr>\n",
       "    <tr>\n",
       "      <th>99996</th>\n",
       "      <td>2014-06-13</td>\n",
       "      <td>2014-07-26</td>\n",
       "      <td>NaT</td>\n",
       "    </tr>\n",
       "    <tr>\n",
       "      <th>99997</th>\n",
       "      <td>2014-06-17</td>\n",
       "      <td>2014-07-19</td>\n",
       "      <td>2014-08-20</td>\n",
       "    </tr>\n",
       "    <tr>\n",
       "      <th>99998</th>\n",
       "      <td>2014-06-16</td>\n",
       "      <td>NaT</td>\n",
       "      <td>NaT</td>\n",
       "    </tr>\n",
       "  </tbody>\n",
       "</table>\n",
       "</div>"
      ],
      "text/plain": [
       "      date_of_last_rech_6 date_of_last_rech_7 date_of_last_rech_8\n",
       "99994          2014-06-03          2014-07-20          2014-08-26\n",
       "99995          2014-06-17          2014-07-17          2014-08-24\n",
       "99996          2014-06-13          2014-07-26                 NaT\n",
       "99997          2014-06-17          2014-07-19          2014-08-20\n",
       "99998          2014-06-16                 NaT                 NaT"
      ]
     },
     "execution_count": 18,
     "metadata": {},
     "output_type": "execute_result"
    }
   ],
   "source": [
    "cust[['date_of_last_rech_6','date_of_last_rech_7','date_of_last_rech_8']].tail()"
   ]
  },
  {
   "cell_type": "code",
   "execution_count": null,
   "metadata": {
    "ExecuteTime": {
     "start_time": "2021-04-25T18:04:52.974Z"
    }
   },
   "outputs": [],
   "source": [
    "# Find the last recharge date in the good phase & action phase (gaphase) together (Months 6,7,8)\n",
    "last_rech_date_cols = [col for col in cust.columns if re.match('^date_of_last_.*[_6|_7|_8]$', col)]\n",
    "cust['last_rech_date_gaphase'] = cust[last_rech_date_cols].apply(lambda x: x.max(),axis=1)"
   ]
  },
  {
   "cell_type": "code",
   "execution_count": null,
   "metadata": {
    "ExecuteTime": {
     "start_time": "2021-04-25T18:04:52.978Z"
    }
   },
   "outputs": [
    {
     "data": {
      "text/plain": [
       "99"
      ]
     },
     "execution_count": 20,
     "metadata": {},
     "output_type": "execute_result"
    }
   ],
   "source": [
    "# Check for missing values\n",
    "cust['last_rech_date_gaphase'].isnull().sum()"
   ]
  },
  {
   "cell_type": "code",
   "execution_count": null,
   "metadata": {
    "ExecuteTime": {
     "start_time": "2021-04-25T18:04:52.983Z"
    }
   },
   "outputs": [],
   "source": [
    "# Missing values in this new column implies no recharge has happend in the 3 months.\n",
    "# Fill missing value with last date of previous month before the start of good phase\n",
    "last_rech_date_missing = datetime.datetime(2014, 5, 31)\n",
    "cust['last_rech_date_gaphase']=cust['last_rech_date_gaphase'].fillna(last_rech_date_missing)"
   ]
  },
  {
   "cell_type": "code",
   "execution_count": null,
   "metadata": {
    "ExecuteTime": {
     "start_time": "2021-04-25T18:04:52.987Z"
    }
   },
   "outputs": [],
   "source": [
    "# Create column for number of  days since last recharge\n",
    "last_date_action_phase = datetime.datetime(2014, 8, 31)\n",
    "cust['last_rech_num_days'] = (last_date_action_phase - cust['last_rech_date_gaphase']).dt.days"
   ]
  },
  {
   "cell_type": "code",
   "execution_count": null,
   "metadata": {
    "ExecuteTime": {
     "start_time": "2021-04-25T18:04:52.991Z"
    }
   },
   "outputs": [
    {
     "data": {
      "text/html": [
       "<div>\n",
       "<style scoped>\n",
       "    .dataframe tbody tr th:only-of-type {\n",
       "        vertical-align: middle;\n",
       "    }\n",
       "\n",
       "    .dataframe tbody tr th {\n",
       "        vertical-align: top;\n",
       "    }\n",
       "\n",
       "    .dataframe thead th {\n",
       "        text-align: right;\n",
       "    }\n",
       "</style>\n",
       "<table border=\"1\" class=\"dataframe\">\n",
       "  <thead>\n",
       "    <tr style=\"text-align: right;\">\n",
       "      <th></th>\n",
       "      <th>last_rech_date_gaphase</th>\n",
       "      <th>last_rech_num_days</th>\n",
       "    </tr>\n",
       "  </thead>\n",
       "  <tbody>\n",
       "    <tr>\n",
       "      <th>0</th>\n",
       "      <td>2014-08-08</td>\n",
       "      <td>23</td>\n",
       "    </tr>\n",
       "    <tr>\n",
       "      <th>1</th>\n",
       "      <td>2014-08-28</td>\n",
       "      <td>3</td>\n",
       "    </tr>\n",
       "    <tr>\n",
       "      <th>2</th>\n",
       "      <td>2014-08-14</td>\n",
       "      <td>17</td>\n",
       "    </tr>\n",
       "    <tr>\n",
       "      <th>3</th>\n",
       "      <td>2014-08-31</td>\n",
       "      <td>0</td>\n",
       "    </tr>\n",
       "    <tr>\n",
       "      <th>4</th>\n",
       "      <td>2014-08-09</td>\n",
       "      <td>22</td>\n",
       "    </tr>\n",
       "  </tbody>\n",
       "</table>\n",
       "</div>"
      ],
      "text/plain": [
       "  last_rech_date_gaphase  last_rech_num_days\n",
       "0             2014-08-08                  23\n",
       "1             2014-08-28                   3\n",
       "2             2014-08-14                  17\n",
       "3             2014-08-31                   0\n",
       "4             2014-08-09                  22"
      ]
     },
     "execution_count": 23,
     "metadata": {},
     "output_type": "execute_result"
    }
   ],
   "source": [
    "cust[['last_rech_date_gaphase','last_rech_num_days']].head()"
   ]
  },
  {
   "cell_type": "code",
   "execution_count": null,
   "metadata": {
    "ExecuteTime": {
     "start_time": "2021-04-25T18:04:52.996Z"
    }
   },
   "outputs": [
    {
     "name": "stdout",
     "output_type": "stream",
     "text": [
      "Shape before dropping date columns:(99999, 228)\n",
      "Shape after dropping date columns:(99999, 215)\n"
     ]
    }
   ],
   "source": [
    "# drop date columns after creating the days columns\n",
    "print(f'Shape before dropping date columns:{cust.shape}')\n",
    "cust.drop(date_cols,inplace=True,axis=1)\n",
    "cust.drop('last_rech_date_gaphase',inplace=True,axis=1)\n",
    "print(f'Shape after dropping date columns:{cust.shape}')"
   ]
  },
  {
   "cell_type": "code",
   "execution_count": null,
   "metadata": {
    "ExecuteTime": {
     "start_time": "2021-04-25T18:04:53.001Z"
    }
   },
   "outputs": [
    {
     "data": {
      "text/html": [
       "<div>\n",
       "<style scoped>\n",
       "    .dataframe tbody tr th:only-of-type {\n",
       "        vertical-align: middle;\n",
       "    }\n",
       "\n",
       "    .dataframe tbody tr th {\n",
       "        vertical-align: top;\n",
       "    }\n",
       "\n",
       "    .dataframe thead th {\n",
       "        text-align: right;\n",
       "    }\n",
       "</style>\n",
       "<table border=\"1\" class=\"dataframe\">\n",
       "  <thead>\n",
       "    <tr style=\"text-align: right;\">\n",
       "      <th></th>\n",
       "      <th>Missing</th>\n",
       "      <th>Missing %</th>\n",
       "      <th>Unique Count</th>\n",
       "    </tr>\n",
       "  </thead>\n",
       "  <tbody>\n",
       "    <tr>\n",
       "      <th>night_pck_user_6</th>\n",
       "      <td>74846</td>\n",
       "      <td>74.846748</td>\n",
       "      <td>2</td>\n",
       "    </tr>\n",
       "    <tr>\n",
       "      <th>fb_user_6</th>\n",
       "      <td>74846</td>\n",
       "      <td>74.846748</td>\n",
       "      <td>2</td>\n",
       "    </tr>\n",
       "    <tr>\n",
       "      <th>night_pck_user_7</th>\n",
       "      <td>74428</td>\n",
       "      <td>74.428744</td>\n",
       "      <td>2</td>\n",
       "    </tr>\n",
       "    <tr>\n",
       "      <th>fb_user_7</th>\n",
       "      <td>74428</td>\n",
       "      <td>74.428744</td>\n",
       "      <td>2</td>\n",
       "    </tr>\n",
       "    <tr>\n",
       "      <th>night_pck_user_9</th>\n",
       "      <td>74077</td>\n",
       "      <td>74.077741</td>\n",
       "      <td>2</td>\n",
       "    </tr>\n",
       "    <tr>\n",
       "      <th>fb_user_9</th>\n",
       "      <td>74077</td>\n",
       "      <td>74.077741</td>\n",
       "      <td>2</td>\n",
       "    </tr>\n",
       "    <tr>\n",
       "      <th>night_pck_user_8</th>\n",
       "      <td>73660</td>\n",
       "      <td>73.660737</td>\n",
       "      <td>2</td>\n",
       "    </tr>\n",
       "    <tr>\n",
       "      <th>fb_user_8</th>\n",
       "      <td>73660</td>\n",
       "      <td>73.660737</td>\n",
       "      <td>2</td>\n",
       "    </tr>\n",
       "    <tr>\n",
       "      <th>onnet_mou_9</th>\n",
       "      <td>7745</td>\n",
       "      <td>7.745077</td>\n",
       "      <td>23565</td>\n",
       "    </tr>\n",
       "    <tr>\n",
       "      <th>offnet_mou_9</th>\n",
       "      <td>7745</td>\n",
       "      <td>7.745077</td>\n",
       "      <td>30077</td>\n",
       "    </tr>\n",
       "    <tr>\n",
       "      <th>onnet_mou_8</th>\n",
       "      <td>5378</td>\n",
       "      <td>5.378054</td>\n",
       "      <td>24089</td>\n",
       "    </tr>\n",
       "    <tr>\n",
       "      <th>offnet_mou_8</th>\n",
       "      <td>5378</td>\n",
       "      <td>5.378054</td>\n",
       "      <td>30908</td>\n",
       "    </tr>\n",
       "    <tr>\n",
       "      <th>onnet_mou_6</th>\n",
       "      <td>3937</td>\n",
       "      <td>3.937039</td>\n",
       "      <td>24313</td>\n",
       "    </tr>\n",
       "    <tr>\n",
       "      <th>offnet_mou_6</th>\n",
       "      <td>3937</td>\n",
       "      <td>3.937039</td>\n",
       "      <td>31140</td>\n",
       "    </tr>\n",
       "    <tr>\n",
       "      <th>onnet_mou_7</th>\n",
       "      <td>3859</td>\n",
       "      <td>3.859039</td>\n",
       "      <td>24336</td>\n",
       "    </tr>\n",
       "    <tr>\n",
       "      <th>offnet_mou_7</th>\n",
       "      <td>3859</td>\n",
       "      <td>3.859039</td>\n",
       "      <td>31023</td>\n",
       "    </tr>\n",
       "  </tbody>\n",
       "</table>\n",
       "</div>"
      ],
      "text/plain": [
       "                  Missing  Missing %  Unique Count\n",
       "night_pck_user_6    74846  74.846748             2\n",
       "fb_user_6           74846  74.846748             2\n",
       "night_pck_user_7    74428  74.428744             2\n",
       "fb_user_7           74428  74.428744             2\n",
       "night_pck_user_9    74077  74.077741             2\n",
       "fb_user_9           74077  74.077741             2\n",
       "night_pck_user_8    73660  73.660737             2\n",
       "fb_user_8           73660  73.660737             2\n",
       "onnet_mou_9          7745   7.745077         23565\n",
       "offnet_mou_9         7745   7.745077         30077\n",
       "onnet_mou_8          5378   5.378054         24089\n",
       "offnet_mou_8         5378   5.378054         30908\n",
       "onnet_mou_6          3937   3.937039         24313\n",
       "offnet_mou_6         3937   3.937039         31140\n",
       "onnet_mou_7          3859   3.859039         24336\n",
       "offnet_mou_7         3859   3.859039         31023"
      ]
     },
     "metadata": {},
     "output_type": "display_data"
    }
   ],
   "source": [
    "print_missing_columns(cust)"
   ]
  },
  {
   "cell_type": "markdown",
   "metadata": {},
   "source": [
    "The remaining missing values are filled using the IterativeImputer in sklearn"
   ]
  },
  {
   "cell_type": "markdown",
   "metadata": {},
   "source": [
    "### Replace binary category values with mode"
   ]
  },
  {
   "cell_type": "code",
   "execution_count": null,
   "metadata": {
    "ExecuteTime": {
     "start_time": "2021-04-25T18:04:53.008Z"
    }
   },
   "outputs": [],
   "source": [
    "# Fill the remaining categorical columns with mode\n",
    "fb_night_cols = [col for col in cust.columns if re.match('^fb_user_|^night_pck_user_', col)]\n",
    "for col in fb_night_cols:\n",
    "    cust[col].fillna(cust[col].mode()[0],inplace=True)"
   ]
  },
  {
   "cell_type": "markdown",
   "metadata": {},
   "source": [
    "### IterativeImputer"
   ]
  },
  {
   "cell_type": "code",
   "execution_count": null,
   "metadata": {
    "ExecuteTime": {
     "start_time": "2021-04-25T18:04:53.014Z"
    }
   },
   "outputs": [],
   "source": [
    "# Use iterative imputer to fill the rest of the missing colums (fOFFNET/ONNET MOU columns)\n",
    "from sklearn.experimental import enable_iterative_imputer\n",
    "from sklearn.impute import IterativeImputer\n",
    "iter_imputer = IterativeImputer()\n",
    "\n",
    "# OFFNET/ONNET MOU related columns\n",
    "mou_cols = [col for col in cust.columns if re.match('^onnet_mou|^offnet_mou', col)]\n",
    "cust[mou_cols] = iter_imputer.fit_transform(cust[mou_cols])"
   ]
  },
  {
   "cell_type": "code",
   "execution_count": null,
   "metadata": {
    "ExecuteTime": {
     "start_time": "2021-04-25T18:04:53.019Z"
    },
    "scrolled": true
   },
   "outputs": [
    {
     "data": {
      "text/plain": [
       "'NO MISSING VALUES IN THE DATAFRAME'"
      ]
     },
     "metadata": {},
     "output_type": "display_data"
    }
   ],
   "source": [
    "print_missing_columns(cust)"
   ]
  },
  {
   "cell_type": "markdown",
   "metadata": {},
   "source": []
  },
  {
   "cell_type": "markdown",
   "metadata": {},
   "source": [
    "## Check & Treat for outliers"
   ]
  },
  {
   "cell_type": "code",
   "execution_count": null,
   "metadata": {
    "ExecuteTime": {
     "start_time": "2021-04-25T18:04:53.028Z"
    },
    "scrolled": true
   },
   "outputs": [
    {
     "data": {
      "text/html": [
       "<div>\n",
       "<style scoped>\n",
       "    .dataframe tbody tr th:only-of-type {\n",
       "        vertical-align: middle;\n",
       "    }\n",
       "\n",
       "    .dataframe tbody tr th {\n",
       "        vertical-align: top;\n",
       "    }\n",
       "\n",
       "    .dataframe thead th {\n",
       "        text-align: right;\n",
       "    }\n",
       "</style>\n",
       "<table border=\"1\" class=\"dataframe\">\n",
       "  <thead>\n",
       "    <tr style=\"text-align: right;\">\n",
       "      <th></th>\n",
       "      <th>mobile_number</th>\n",
       "      <th>circle_id</th>\n",
       "      <th>loc_og_t2o_mou</th>\n",
       "      <th>std_og_t2o_mou</th>\n",
       "      <th>loc_ic_t2o_mou</th>\n",
       "      <th>arpu_6</th>\n",
       "      <th>arpu_7</th>\n",
       "      <th>arpu_8</th>\n",
       "      <th>arpu_9</th>\n",
       "      <th>onnet_mou_6</th>\n",
       "      <th>...</th>\n",
       "      <th>fb_user_6</th>\n",
       "      <th>fb_user_7</th>\n",
       "      <th>fb_user_8</th>\n",
       "      <th>fb_user_9</th>\n",
       "      <th>aon</th>\n",
       "      <th>aug_vbc_3g</th>\n",
       "      <th>jul_vbc_3g</th>\n",
       "      <th>jun_vbc_3g</th>\n",
       "      <th>sep_vbc_3g</th>\n",
       "      <th>last_rech_num_days</th>\n",
       "    </tr>\n",
       "  </thead>\n",
       "  <tbody>\n",
       "    <tr>\n",
       "      <th>count</th>\n",
       "      <td>9.999900e+04</td>\n",
       "      <td>99999.0</td>\n",
       "      <td>99999.0</td>\n",
       "      <td>99999.0</td>\n",
       "      <td>99999.0</td>\n",
       "      <td>99999.000000</td>\n",
       "      <td>99999.000000</td>\n",
       "      <td>99999.000000</td>\n",
       "      <td>99999.000000</td>\n",
       "      <td>99999.000000</td>\n",
       "      <td>...</td>\n",
       "      <td>99999.000000</td>\n",
       "      <td>99999.000000</td>\n",
       "      <td>99999.000000</td>\n",
       "      <td>99999.000000</td>\n",
       "      <td>99999.000000</td>\n",
       "      <td>99999.000000</td>\n",
       "      <td>99999.000000</td>\n",
       "      <td>99999.000000</td>\n",
       "      <td>99999.000000</td>\n",
       "      <td>99999.000000</td>\n",
       "    </tr>\n",
       "    <tr>\n",
       "      <th>mean</th>\n",
       "      <td>7.001207e+09</td>\n",
       "      <td>109.0</td>\n",
       "      <td>0.0</td>\n",
       "      <td>0.0</td>\n",
       "      <td>0.0</td>\n",
       "      <td>282.987358</td>\n",
       "      <td>278.536648</td>\n",
       "      <td>279.154731</td>\n",
       "      <td>261.645069</td>\n",
       "      <td>131.988197</td>\n",
       "      <td>...</td>\n",
       "      <td>0.978470</td>\n",
       "      <td>0.976670</td>\n",
       "      <td>0.971240</td>\n",
       "      <td>0.963960</td>\n",
       "      <td>1219.854749</td>\n",
       "      <td>68.170248</td>\n",
       "      <td>66.839062</td>\n",
       "      <td>60.021204</td>\n",
       "      <td>3.299373</td>\n",
       "      <td>7.148231</td>\n",
       "    </tr>\n",
       "    <tr>\n",
       "      <th>std</th>\n",
       "      <td>6.956694e+05</td>\n",
       "      <td>0.0</td>\n",
       "      <td>0.0</td>\n",
       "      <td>0.0</td>\n",
       "      <td>0.0</td>\n",
       "      <td>328.439770</td>\n",
       "      <td>338.156291</td>\n",
       "      <td>344.474791</td>\n",
       "      <td>341.998630</td>\n",
       "      <td>293.704269</td>\n",
       "      <td>...</td>\n",
       "      <td>0.145144</td>\n",
       "      <td>0.150951</td>\n",
       "      <td>0.167133</td>\n",
       "      <td>0.186392</td>\n",
       "      <td>954.733842</td>\n",
       "      <td>267.580450</td>\n",
       "      <td>271.201856</td>\n",
       "      <td>253.938223</td>\n",
       "      <td>32.408353</td>\n",
       "      <td>10.683080</td>\n",
       "    </tr>\n",
       "    <tr>\n",
       "      <th>min</th>\n",
       "      <td>7.000000e+09</td>\n",
       "      <td>109.0</td>\n",
       "      <td>0.0</td>\n",
       "      <td>0.0</td>\n",
       "      <td>0.0</td>\n",
       "      <td>-2258.709000</td>\n",
       "      <td>-2014.045000</td>\n",
       "      <td>-945.808000</td>\n",
       "      <td>-1899.505000</td>\n",
       "      <td>-44.674940</td>\n",
       "      <td>...</td>\n",
       "      <td>0.000000</td>\n",
       "      <td>0.000000</td>\n",
       "      <td>0.000000</td>\n",
       "      <td>0.000000</td>\n",
       "      <td>180.000000</td>\n",
       "      <td>0.000000</td>\n",
       "      <td>0.000000</td>\n",
       "      <td>0.000000</td>\n",
       "      <td>0.000000</td>\n",
       "      <td>0.000000</td>\n",
       "    </tr>\n",
       "    <tr>\n",
       "      <th>1%</th>\n",
       "      <td>7.000025e+09</td>\n",
       "      <td>109.0</td>\n",
       "      <td>0.0</td>\n",
       "      <td>0.0</td>\n",
       "      <td>0.0</td>\n",
       "      <td>0.000000</td>\n",
       "      <td>0.000000</td>\n",
       "      <td>0.000000</td>\n",
       "      <td>0.000000</td>\n",
       "      <td>0.000000</td>\n",
       "      <td>...</td>\n",
       "      <td>0.000000</td>\n",
       "      <td>0.000000</td>\n",
       "      <td>0.000000</td>\n",
       "      <td>0.000000</td>\n",
       "      <td>189.000000</td>\n",
       "      <td>0.000000</td>\n",
       "      <td>0.000000</td>\n",
       "      <td>0.000000</td>\n",
       "      <td>0.000000</td>\n",
       "      <td>0.000000</td>\n",
       "    </tr>\n",
       "    <tr>\n",
       "      <th>5%</th>\n",
       "      <td>7.000122e+09</td>\n",
       "      <td>109.0</td>\n",
       "      <td>0.0</td>\n",
       "      <td>0.0</td>\n",
       "      <td>0.0</td>\n",
       "      <td>1.500000</td>\n",
       "      <td>0.750000</td>\n",
       "      <td>0.000000</td>\n",
       "      <td>0.000000</td>\n",
       "      <td>0.000000</td>\n",
       "      <td>...</td>\n",
       "      <td>1.000000</td>\n",
       "      <td>1.000000</td>\n",
       "      <td>1.000000</td>\n",
       "      <td>1.000000</td>\n",
       "      <td>229.000000</td>\n",
       "      <td>0.000000</td>\n",
       "      <td>0.000000</td>\n",
       "      <td>0.000000</td>\n",
       "      <td>0.000000</td>\n",
       "      <td>0.000000</td>\n",
       "    </tr>\n",
       "    <tr>\n",
       "      <th>10%</th>\n",
       "      <td>7.000244e+09</td>\n",
       "      <td>109.0</td>\n",
       "      <td>0.0</td>\n",
       "      <td>0.0</td>\n",
       "      <td>0.0</td>\n",
       "      <td>31.647200</td>\n",
       "      <td>29.355800</td>\n",
       "      <td>18.054200</td>\n",
       "      <td>0.090000</td>\n",
       "      <td>0.350000</td>\n",
       "      <td>...</td>\n",
       "      <td>1.000000</td>\n",
       "      <td>1.000000</td>\n",
       "      <td>1.000000</td>\n",
       "      <td>1.000000</td>\n",
       "      <td>286.000000</td>\n",
       "      <td>0.000000</td>\n",
       "      <td>0.000000</td>\n",
       "      <td>0.000000</td>\n",
       "      <td>0.000000</td>\n",
       "      <td>0.000000</td>\n",
       "    </tr>\n",
       "    <tr>\n",
       "      <th>25%</th>\n",
       "      <td>7.000606e+09</td>\n",
       "      <td>109.0</td>\n",
       "      <td>0.0</td>\n",
       "      <td>0.0</td>\n",
       "      <td>0.0</td>\n",
       "      <td>93.411500</td>\n",
       "      <td>86.980500</td>\n",
       "      <td>84.126000</td>\n",
       "      <td>62.685000</td>\n",
       "      <td>8.030000</td>\n",
       "      <td>...</td>\n",
       "      <td>1.000000</td>\n",
       "      <td>1.000000</td>\n",
       "      <td>1.000000</td>\n",
       "      <td>1.000000</td>\n",
       "      <td>467.000000</td>\n",
       "      <td>0.000000</td>\n",
       "      <td>0.000000</td>\n",
       "      <td>0.000000</td>\n",
       "      <td>0.000000</td>\n",
       "      <td>1.000000</td>\n",
       "    </tr>\n",
       "    <tr>\n",
       "      <th>50%</th>\n",
       "      <td>7.001205e+09</td>\n",
       "      <td>109.0</td>\n",
       "      <td>0.0</td>\n",
       "      <td>0.0</td>\n",
       "      <td>0.0</td>\n",
       "      <td>197.704000</td>\n",
       "      <td>191.640000</td>\n",
       "      <td>192.080000</td>\n",
       "      <td>176.849000</td>\n",
       "      <td>36.640000</td>\n",
       "      <td>...</td>\n",
       "      <td>1.000000</td>\n",
       "      <td>1.000000</td>\n",
       "      <td>1.000000</td>\n",
       "      <td>1.000000</td>\n",
       "      <td>863.000000</td>\n",
       "      <td>0.000000</td>\n",
       "      <td>0.000000</td>\n",
       "      <td>0.000000</td>\n",
       "      <td>0.000000</td>\n",
       "      <td>4.000000</td>\n",
       "    </tr>\n",
       "    <tr>\n",
       "      <th>75%</th>\n",
       "      <td>7.001812e+09</td>\n",
       "      <td>109.0</td>\n",
       "      <td>0.0</td>\n",
       "      <td>0.0</td>\n",
       "      <td>0.0</td>\n",
       "      <td>371.060000</td>\n",
       "      <td>365.344500</td>\n",
       "      <td>369.370500</td>\n",
       "      <td>353.466500</td>\n",
       "      <td>123.340000</td>\n",
       "      <td>...</td>\n",
       "      <td>1.000000</td>\n",
       "      <td>1.000000</td>\n",
       "      <td>1.000000</td>\n",
       "      <td>1.000000</td>\n",
       "      <td>1807.500000</td>\n",
       "      <td>0.000000</td>\n",
       "      <td>0.000000</td>\n",
       "      <td>0.000000</td>\n",
       "      <td>0.000000</td>\n",
       "      <td>7.000000</td>\n",
       "    </tr>\n",
       "    <tr>\n",
       "      <th>90%</th>\n",
       "      <td>7.002174e+09</td>\n",
       "      <td>109.0</td>\n",
       "      <td>0.0</td>\n",
       "      <td>0.0</td>\n",
       "      <td>0.0</td>\n",
       "      <td>620.075400</td>\n",
       "      <td>617.252000</td>\n",
       "      <td>618.160400</td>\n",
       "      <td>601.537000</td>\n",
       "      <td>337.208000</td>\n",
       "      <td>...</td>\n",
       "      <td>1.000000</td>\n",
       "      <td>1.000000</td>\n",
       "      <td>1.000000</td>\n",
       "      <td>1.000000</td>\n",
       "      <td>2799.200000</td>\n",
       "      <td>160.372000</td>\n",
       "      <td>139.302000</td>\n",
       "      <td>112.646000</td>\n",
       "      <td>0.000000</td>\n",
       "      <td>18.000000</td>\n",
       "    </tr>\n",
       "    <tr>\n",
       "      <th>95%</th>\n",
       "      <td>7.002291e+09</td>\n",
       "      <td>109.0</td>\n",
       "      <td>0.0</td>\n",
       "      <td>0.0</td>\n",
       "      <td>0.0</td>\n",
       "      <td>829.488200</td>\n",
       "      <td>828.357200</td>\n",
       "      <td>833.303300</td>\n",
       "      <td>805.107200</td>\n",
       "      <td>601.015000</td>\n",
       "      <td>...</td>\n",
       "      <td>1.000000</td>\n",
       "      <td>1.000000</td>\n",
       "      <td>1.000000</td>\n",
       "      <td>1.000000</td>\n",
       "      <td>3110.000000</td>\n",
       "      <td>465.213000</td>\n",
       "      <td>450.705000</td>\n",
       "      <td>400.178000</td>\n",
       "      <td>0.500000</td>\n",
       "      <td>26.000000</td>\n",
       "    </tr>\n",
       "    <tr>\n",
       "      <th>99%</th>\n",
       "      <td>7.002387e+09</td>\n",
       "      <td>109.0</td>\n",
       "      <td>0.0</td>\n",
       "      <td>0.0</td>\n",
       "      <td>0.0</td>\n",
       "      <td>1410.792540</td>\n",
       "      <td>1428.685880</td>\n",
       "      <td>1455.539960</td>\n",
       "      <td>1402.445660</td>\n",
       "      <td>1416.608000</td>\n",
       "      <td>...</td>\n",
       "      <td>1.000000</td>\n",
       "      <td>1.000000</td>\n",
       "      <td>1.000000</td>\n",
       "      <td>1.000000</td>\n",
       "      <td>3651.000000</td>\n",
       "      <td>1240.063600</td>\n",
       "      <td>1278.158000</td>\n",
       "      <td>1187.785200</td>\n",
       "      <td>86.554000</td>\n",
       "      <td>55.000000</td>\n",
       "    </tr>\n",
       "    <tr>\n",
       "      <th>max</th>\n",
       "      <td>7.002411e+09</td>\n",
       "      <td>109.0</td>\n",
       "      <td>0.0</td>\n",
       "      <td>0.0</td>\n",
       "      <td>0.0</td>\n",
       "      <td>27731.088000</td>\n",
       "      <td>35145.834000</td>\n",
       "      <td>33543.624000</td>\n",
       "      <td>38805.617000</td>\n",
       "      <td>7376.710000</td>\n",
       "      <td>...</td>\n",
       "      <td>1.000000</td>\n",
       "      <td>1.000000</td>\n",
       "      <td>1.000000</td>\n",
       "      <td>1.000000</td>\n",
       "      <td>4337.000000</td>\n",
       "      <td>12916.220000</td>\n",
       "      <td>9165.600000</td>\n",
       "      <td>11166.210000</td>\n",
       "      <td>2618.570000</td>\n",
       "      <td>92.000000</td>\n",
       "    </tr>\n",
       "  </tbody>\n",
       "</table>\n",
       "<p>14 rows × 215 columns</p>\n",
       "</div>"
      ],
      "text/plain": [
       "       mobile_number  circle_id  loc_og_t2o_mou  std_og_t2o_mou  \\\n",
       "count   9.999900e+04    99999.0         99999.0         99999.0   \n",
       "mean    7.001207e+09      109.0             0.0             0.0   \n",
       "std     6.956694e+05        0.0             0.0             0.0   \n",
       "min     7.000000e+09      109.0             0.0             0.0   \n",
       "1%      7.000025e+09      109.0             0.0             0.0   \n",
       "5%      7.000122e+09      109.0             0.0             0.0   \n",
       "10%     7.000244e+09      109.0             0.0             0.0   \n",
       "25%     7.000606e+09      109.0             0.0             0.0   \n",
       "50%     7.001205e+09      109.0             0.0             0.0   \n",
       "75%     7.001812e+09      109.0             0.0             0.0   \n",
       "90%     7.002174e+09      109.0             0.0             0.0   \n",
       "95%     7.002291e+09      109.0             0.0             0.0   \n",
       "99%     7.002387e+09      109.0             0.0             0.0   \n",
       "max     7.002411e+09      109.0             0.0             0.0   \n",
       "\n",
       "       loc_ic_t2o_mou        arpu_6        arpu_7        arpu_8        arpu_9  \\\n",
       "count         99999.0  99999.000000  99999.000000  99999.000000  99999.000000   \n",
       "mean              0.0    282.987358    278.536648    279.154731    261.645069   \n",
       "std               0.0    328.439770    338.156291    344.474791    341.998630   \n",
       "min               0.0  -2258.709000  -2014.045000   -945.808000  -1899.505000   \n",
       "1%                0.0      0.000000      0.000000      0.000000      0.000000   \n",
       "5%                0.0      1.500000      0.750000      0.000000      0.000000   \n",
       "10%               0.0     31.647200     29.355800     18.054200      0.090000   \n",
       "25%               0.0     93.411500     86.980500     84.126000     62.685000   \n",
       "50%               0.0    197.704000    191.640000    192.080000    176.849000   \n",
       "75%               0.0    371.060000    365.344500    369.370500    353.466500   \n",
       "90%               0.0    620.075400    617.252000    618.160400    601.537000   \n",
       "95%               0.0    829.488200    828.357200    833.303300    805.107200   \n",
       "99%               0.0   1410.792540   1428.685880   1455.539960   1402.445660   \n",
       "max               0.0  27731.088000  35145.834000  33543.624000  38805.617000   \n",
       "\n",
       "        onnet_mou_6  ...     fb_user_6     fb_user_7     fb_user_8  \\\n",
       "count  99999.000000  ...  99999.000000  99999.000000  99999.000000   \n",
       "mean     131.988197  ...      0.978470      0.976670      0.971240   \n",
       "std      293.704269  ...      0.145144      0.150951      0.167133   \n",
       "min      -44.674940  ...      0.000000      0.000000      0.000000   \n",
       "1%         0.000000  ...      0.000000      0.000000      0.000000   \n",
       "5%         0.000000  ...      1.000000      1.000000      1.000000   \n",
       "10%        0.350000  ...      1.000000      1.000000      1.000000   \n",
       "25%        8.030000  ...      1.000000      1.000000      1.000000   \n",
       "50%       36.640000  ...      1.000000      1.000000      1.000000   \n",
       "75%      123.340000  ...      1.000000      1.000000      1.000000   \n",
       "90%      337.208000  ...      1.000000      1.000000      1.000000   \n",
       "95%      601.015000  ...      1.000000      1.000000      1.000000   \n",
       "99%     1416.608000  ...      1.000000      1.000000      1.000000   \n",
       "max     7376.710000  ...      1.000000      1.000000      1.000000   \n",
       "\n",
       "          fb_user_9           aon    aug_vbc_3g    jul_vbc_3g    jun_vbc_3g  \\\n",
       "count  99999.000000  99999.000000  99999.000000  99999.000000  99999.000000   \n",
       "mean       0.963960   1219.854749     68.170248     66.839062     60.021204   \n",
       "std        0.186392    954.733842    267.580450    271.201856    253.938223   \n",
       "min        0.000000    180.000000      0.000000      0.000000      0.000000   \n",
       "1%         0.000000    189.000000      0.000000      0.000000      0.000000   \n",
       "5%         1.000000    229.000000      0.000000      0.000000      0.000000   \n",
       "10%        1.000000    286.000000      0.000000      0.000000      0.000000   \n",
       "25%        1.000000    467.000000      0.000000      0.000000      0.000000   \n",
       "50%        1.000000    863.000000      0.000000      0.000000      0.000000   \n",
       "75%        1.000000   1807.500000      0.000000      0.000000      0.000000   \n",
       "90%        1.000000   2799.200000    160.372000    139.302000    112.646000   \n",
       "95%        1.000000   3110.000000    465.213000    450.705000    400.178000   \n",
       "99%        1.000000   3651.000000   1240.063600   1278.158000   1187.785200   \n",
       "max        1.000000   4337.000000  12916.220000   9165.600000  11166.210000   \n",
       "\n",
       "         sep_vbc_3g  last_rech_num_days  \n",
       "count  99999.000000        99999.000000  \n",
       "mean       3.299373            7.148231  \n",
       "std       32.408353           10.683080  \n",
       "min        0.000000            0.000000  \n",
       "1%         0.000000            0.000000  \n",
       "5%         0.000000            0.000000  \n",
       "10%        0.000000            0.000000  \n",
       "25%        0.000000            1.000000  \n",
       "50%        0.000000            4.000000  \n",
       "75%        0.000000            7.000000  \n",
       "90%        0.000000           18.000000  \n",
       "95%        0.500000           26.000000  \n",
       "99%       86.554000           55.000000  \n",
       "max     2618.570000           92.000000  \n",
       "\n",
       "[14 rows x 215 columns]"
      ]
     },
     "execution_count": 29,
     "metadata": {},
     "output_type": "execute_result"
    }
   ],
   "source": [
    "cust.describe(percentiles = [0.01,0.05,0.1,0.25,0.5,0.75,0.9,0.95,0.99])"
   ]
  },
  {
   "cell_type": "markdown",
   "metadata": {},
   "source": [
    "**NOTE on outliers:** \n",
    "- Almost all the columns have outliers in the last one percentile.  \n",
    "- It requires more domain knowledge to understand on how the outliers should be treated.  \n",
    "- Some options to treat the outliers:  \n",
    "    1. Remove rows above the upper cap (could be 99% in this case)\n",
    "    2. Cap the values in the last percentile to 99%\n",
    "    3. Don't modify the data if it is expected \n",
    "- In this case study, we will check on the arpu columns and remove the outliers in these variables  \n",
    " "
   ]
  },
  {
   "cell_type": "code",
   "execution_count": null,
   "metadata": {
    "ExecuteTime": {
     "start_time": "2021-04-25T18:04:53.034Z"
    }
   },
   "outputs": [
    {
     "data": {
      "text/plain": [
       "<matplotlib.axes._subplots.AxesSubplot at 0x145fcfe10>"
      ]
     },
     "execution_count": 30,
     "metadata": {},
     "output_type": "execute_result"
    },
    {
     "data": {
      "image/png": "[encoded data removed]",
      "text/plain": [
       "<Figure size 432x288 with 1 Axes>"
      ]
     },
     "metadata": {
      "needs_background": "light"
     },
     "output_type": "display_data"
    }
   ],
   "source": [
    "cust[['arpu_6','arpu_7','arpu_8']].plot.box()"
   ]
  },
  {
   "cell_type": "code",
   "execution_count": null,
   "metadata": {
    "ExecuteTime": {
     "start_time": "2021-04-25T18:04:53.039Z"
    }
   },
   "outputs": [],
   "source": [
    "# Drop outliers with a cap of 99% on the arpu columns\n",
    "columns_outliers = ['arpu_6','arpu_7','arpu_8']\n",
    "\n",
    "cap_arpu_6 = cust['arpu_6'].quantile(.99)\n",
    "cap_arpu_7 = cust['arpu_7'].quantile(.99)\n",
    "cap_arpu_8 = cust['arpu_8'].quantile(.99)\n",
    "cust =  cust[(cust['arpu_6'] <= cap_arpu_6) & (cust['arpu_7'] <= cap_arpu_7) & (cust['arpu_8'] <= cap_arpu_8)] \n"
   ]
  },
  {
   "cell_type": "code",
   "execution_count": null,
   "metadata": {
    "ExecuteTime": {
     "start_time": "2021-04-25T18:04:53.044Z"
    }
   },
   "outputs": [
    {
     "data": {
      "text/plain": [
       "<matplotlib.axes._subplots.AxesSubplot at 0x1297acda0>"
      ]
     },
     "execution_count": 32,
     "metadata": {},
     "output_type": "execute_result"
    },
    {
     "data": {
      "image/png": "[encoded data removed]",
      "text/plain": [
       "<Figure size 432x288 with 1 Axes>"
      ]
     },
     "metadata": {
      "needs_background": "light"
     },
     "output_type": "display_data"
    }
   ],
   "source": [
    "cust[['arpu_6','arpu_7','arpu_8']].plot.box()"
   ]
  },
  {
   "cell_type": "code",
   "execution_count": null,
   "metadata": {
    "ExecuteTime": {
     "start_time": "2021-04-25T18:04:53.050Z"
    }
   },
   "outputs": [
    {
     "data": {
      "text/plain": [
       "(98041, 215)"
      ]
     },
     "execution_count": 33,
     "metadata": {},
     "output_type": "execute_result"
    }
   ],
   "source": [
    "cust.shape"
   ]
  },
  {
   "cell_type": "code",
   "execution_count": null,
   "metadata": {
    "ExecuteTime": {
     "start_time": "2021-04-25T18:04:53.057Z"
    }
   },
   "outputs": [
    {
     "data": {
      "text/html": [
       "<div>\n",
       "<style scoped>\n",
       "    .dataframe tbody tr th:only-of-type {\n",
       "        vertical-align: middle;\n",
       "    }\n",
       "\n",
       "    .dataframe tbody tr th {\n",
       "        vertical-align: top;\n",
       "    }\n",
       "\n",
       "    .dataframe thead th {\n",
       "        text-align: right;\n",
       "    }\n",
       "</style>\n",
       "<table border=\"1\" class=\"dataframe\">\n",
       "  <thead>\n",
       "    <tr style=\"text-align: right;\">\n",
       "      <th></th>\n",
       "      <th>mobile_number</th>\n",
       "      <th>circle_id</th>\n",
       "      <th>loc_og_t2o_mou</th>\n",
       "      <th>std_og_t2o_mou</th>\n",
       "      <th>loc_ic_t2o_mou</th>\n",
       "      <th>arpu_6</th>\n",
       "      <th>arpu_7</th>\n",
       "      <th>arpu_8</th>\n",
       "      <th>arpu_9</th>\n",
       "      <th>onnet_mou_6</th>\n",
       "      <th>...</th>\n",
       "      <th>fb_user_6</th>\n",
       "      <th>fb_user_7</th>\n",
       "      <th>fb_user_8</th>\n",
       "      <th>fb_user_9</th>\n",
       "      <th>aon</th>\n",
       "      <th>aug_vbc_3g</th>\n",
       "      <th>jul_vbc_3g</th>\n",
       "      <th>jun_vbc_3g</th>\n",
       "      <th>sep_vbc_3g</th>\n",
       "      <th>last_rech_num_days</th>\n",
       "    </tr>\n",
       "  </thead>\n",
       "  <tbody>\n",
       "    <tr>\n",
       "      <th>count</th>\n",
       "      <td>9.804100e+04</td>\n",
       "      <td>98041.0</td>\n",
       "      <td>98041.0</td>\n",
       "      <td>98041.0</td>\n",
       "      <td>98041.0</td>\n",
       "      <td>98041.000000</td>\n",
       "      <td>98041.000000</td>\n",
       "      <td>98041.000000</td>\n",
       "      <td>98041.000000</td>\n",
       "      <td>98041.000000</td>\n",
       "      <td>...</td>\n",
       "      <td>98041.000000</td>\n",
       "      <td>98041.000000</td>\n",
       "      <td>98041.000000</td>\n",
       "      <td>98041.000000</td>\n",
       "      <td>98041.000000</td>\n",
       "      <td>98041.000000</td>\n",
       "      <td>98041.000000</td>\n",
       "      <td>98041.000000</td>\n",
       "      <td>98041.000000</td>\n",
       "      <td>98041.000000</td>\n",
       "    </tr>\n",
       "    <tr>\n",
       "      <th>mean</th>\n",
       "      <td>7.001207e+09</td>\n",
       "      <td>109.0</td>\n",
       "      <td>0.0</td>\n",
       "      <td>0.0</td>\n",
       "      <td>0.0</td>\n",
       "      <td>260.320312</td>\n",
       "      <td>254.611844</td>\n",
       "      <td>255.664261</td>\n",
       "      <td>242.988043</td>\n",
       "      <td>122.938500</td>\n",
       "      <td>...</td>\n",
       "      <td>0.978723</td>\n",
       "      <td>0.976877</td>\n",
       "      <td>0.971665</td>\n",
       "      <td>0.964270</td>\n",
       "      <td>1220.918728</td>\n",
       "      <td>62.048232</td>\n",
       "      <td>60.696221</td>\n",
       "      <td>54.210008</td>\n",
       "      <td>2.923780</td>\n",
       "      <td>7.202079</td>\n",
       "    </tr>\n",
       "    <tr>\n",
       "      <th>std</th>\n",
       "      <td>6.958365e+05</td>\n",
       "      <td>0.0</td>\n",
       "      <td>0.0</td>\n",
       "      <td>0.0</td>\n",
       "      <td>0.0</td>\n",
       "      <td>236.731151</td>\n",
       "      <td>236.088674</td>\n",
       "      <td>241.455939</td>\n",
       "      <td>253.622200</td>\n",
       "      <td>256.755997</td>\n",
       "      <td>...</td>\n",
       "      <td>0.144306</td>\n",
       "      <td>0.150295</td>\n",
       "      <td>0.165929</td>\n",
       "      <td>0.185617</td>\n",
       "      <td>955.345362</td>\n",
       "      <td>235.716288</td>\n",
       "      <td>240.844109</td>\n",
       "      <td>223.625920</td>\n",
       "      <td>29.167377</td>\n",
       "      <td>10.711587</td>\n",
       "    </tr>\n",
       "    <tr>\n",
       "      <th>min</th>\n",
       "      <td>7.000000e+09</td>\n",
       "      <td>109.0</td>\n",
       "      <td>0.0</td>\n",
       "      <td>0.0</td>\n",
       "      <td>0.0</td>\n",
       "      <td>-383.565000</td>\n",
       "      <td>-897.035000</td>\n",
       "      <td>-491.545000</td>\n",
       "      <td>-1474.195000</td>\n",
       "      <td>-44.674940</td>\n",
       "      <td>...</td>\n",
       "      <td>0.000000</td>\n",
       "      <td>0.000000</td>\n",
       "      <td>0.000000</td>\n",
       "      <td>0.000000</td>\n",
       "      <td>180.000000</td>\n",
       "      <td>0.000000</td>\n",
       "      <td>0.000000</td>\n",
       "      <td>0.000000</td>\n",
       "      <td>0.000000</td>\n",
       "      <td>0.000000</td>\n",
       "    </tr>\n",
       "    <tr>\n",
       "      <th>1%</th>\n",
       "      <td>7.000025e+09</td>\n",
       "      <td>109.0</td>\n",
       "      <td>0.0</td>\n",
       "      <td>0.0</td>\n",
       "      <td>0.0</td>\n",
       "      <td>0.000000</td>\n",
       "      <td>0.000000</td>\n",
       "      <td>0.000000</td>\n",
       "      <td>0.000000</td>\n",
       "      <td>0.000000</td>\n",
       "      <td>...</td>\n",
       "      <td>0.000000</td>\n",
       "      <td>0.000000</td>\n",
       "      <td>0.000000</td>\n",
       "      <td>0.000000</td>\n",
       "      <td>189.000000</td>\n",
       "      <td>0.000000</td>\n",
       "      <td>0.000000</td>\n",
       "      <td>0.000000</td>\n",
       "      <td>0.000000</td>\n",
       "      <td>0.000000</td>\n",
       "    </tr>\n",
       "    <tr>\n",
       "      <th>5%</th>\n",
       "      <td>7.000122e+09</td>\n",
       "      <td>109.0</td>\n",
       "      <td>0.0</td>\n",
       "      <td>0.0</td>\n",
       "      <td>0.0</td>\n",
       "      <td>1.350000</td>\n",
       "      <td>0.690000</td>\n",
       "      <td>0.000000</td>\n",
       "      <td>0.000000</td>\n",
       "      <td>0.000000</td>\n",
       "      <td>...</td>\n",
       "      <td>1.000000</td>\n",
       "      <td>1.000000</td>\n",
       "      <td>1.000000</td>\n",
       "      <td>1.000000</td>\n",
       "      <td>229.000000</td>\n",
       "      <td>0.000000</td>\n",
       "      <td>0.000000</td>\n",
       "      <td>0.000000</td>\n",
       "      <td>0.000000</td>\n",
       "      <td>0.000000</td>\n",
       "    </tr>\n",
       "    <tr>\n",
       "      <th>10%</th>\n",
       "      <td>7.000244e+09</td>\n",
       "      <td>109.0</td>\n",
       "      <td>0.0</td>\n",
       "      <td>0.0</td>\n",
       "      <td>0.0</td>\n",
       "      <td>31.000000</td>\n",
       "      <td>28.510000</td>\n",
       "      <td>17.749000</td>\n",
       "      <td>0.070000</td>\n",
       "      <td>0.310000</td>\n",
       "      <td>...</td>\n",
       "      <td>1.000000</td>\n",
       "      <td>1.000000</td>\n",
       "      <td>1.000000</td>\n",
       "      <td>1.000000</td>\n",
       "      <td>286.000000</td>\n",
       "      <td>0.000000</td>\n",
       "      <td>0.000000</td>\n",
       "      <td>0.000000</td>\n",
       "      <td>0.000000</td>\n",
       "      <td>0.000000</td>\n",
       "    </tr>\n",
       "    <tr>\n",
       "      <th>25%</th>\n",
       "      <td>7.000606e+09</td>\n",
       "      <td>109.0</td>\n",
       "      <td>0.0</td>\n",
       "      <td>0.0</td>\n",
       "      <td>0.0</td>\n",
       "      <td>91.855000</td>\n",
       "      <td>85.519000</td>\n",
       "      <td>82.788000</td>\n",
       "      <td>61.719000</td>\n",
       "      <td>7.830000</td>\n",
       "      <td>...</td>\n",
       "      <td>1.000000</td>\n",
       "      <td>1.000000</td>\n",
       "      <td>1.000000</td>\n",
       "      <td>1.000000</td>\n",
       "      <td>467.000000</td>\n",
       "      <td>0.000000</td>\n",
       "      <td>0.000000</td>\n",
       "      <td>0.000000</td>\n",
       "      <td>0.000000</td>\n",
       "      <td>1.000000</td>\n",
       "    </tr>\n",
       "    <tr>\n",
       "      <th>50%</th>\n",
       "      <td>7.001204e+09</td>\n",
       "      <td>109.0</td>\n",
       "      <td>0.0</td>\n",
       "      <td>0.0</td>\n",
       "      <td>0.0</td>\n",
       "      <td>193.467000</td>\n",
       "      <td>187.268000</td>\n",
       "      <td>187.879000</td>\n",
       "      <td>173.205000</td>\n",
       "      <td>35.490000</td>\n",
       "      <td>...</td>\n",
       "      <td>1.000000</td>\n",
       "      <td>1.000000</td>\n",
       "      <td>1.000000</td>\n",
       "      <td>1.000000</td>\n",
       "      <td>865.000000</td>\n",
       "      <td>0.000000</td>\n",
       "      <td>0.000000</td>\n",
       "      <td>0.000000</td>\n",
       "      <td>0.000000</td>\n",
       "      <td>4.000000</td>\n",
       "    </tr>\n",
       "    <tr>\n",
       "      <th>75%</th>\n",
       "      <td>7.001812e+09</td>\n",
       "      <td>109.0</td>\n",
       "      <td>0.0</td>\n",
       "      <td>0.0</td>\n",
       "      <td>0.0</td>\n",
       "      <td>357.983000</td>\n",
       "      <td>352.190000</td>\n",
       "      <td>356.587000</td>\n",
       "      <td>342.214000</td>\n",
       "      <td>118.580000</td>\n",
       "      <td>...</td>\n",
       "      <td>1.000000</td>\n",
       "      <td>1.000000</td>\n",
       "      <td>1.000000</td>\n",
       "      <td>1.000000</td>\n",
       "      <td>1811.000000</td>\n",
       "      <td>0.000000</td>\n",
       "      <td>0.000000</td>\n",
       "      <td>0.000000</td>\n",
       "      <td>0.000000</td>\n",
       "      <td>7.000000</td>\n",
       "    </tr>\n",
       "    <tr>\n",
       "      <th>90%</th>\n",
       "      <td>7.002174e+09</td>\n",
       "      <td>109.0</td>\n",
       "      <td>0.0</td>\n",
       "      <td>0.0</td>\n",
       "      <td>0.0</td>\n",
       "      <td>580.724000</td>\n",
       "      <td>575.528000</td>\n",
       "      <td>579.512000</td>\n",
       "      <td>567.624000</td>\n",
       "      <td>318.840000</td>\n",
       "      <td>...</td>\n",
       "      <td>1.000000</td>\n",
       "      <td>1.000000</td>\n",
       "      <td>1.000000</td>\n",
       "      <td>1.000000</td>\n",
       "      <td>2800.000000</td>\n",
       "      <td>142.870000</td>\n",
       "      <td>120.580000</td>\n",
       "      <td>97.800000</td>\n",
       "      <td>0.000000</td>\n",
       "      <td>18.000000</td>\n",
       "    </tr>\n",
       "    <tr>\n",
       "      <th>95%</th>\n",
       "      <td>7.002291e+09</td>\n",
       "      <td>109.0</td>\n",
       "      <td>0.0</td>\n",
       "      <td>0.0</td>\n",
       "      <td>0.0</td>\n",
       "      <td>751.653000</td>\n",
       "      <td>745.480000</td>\n",
       "      <td>751.552000</td>\n",
       "      <td>739.841000</td>\n",
       "      <td>564.660000</td>\n",
       "      <td>...</td>\n",
       "      <td>1.000000</td>\n",
       "      <td>1.000000</td>\n",
       "      <td>1.000000</td>\n",
       "      <td>1.000000</td>\n",
       "      <td>3110.000000</td>\n",
       "      <td>432.920000</td>\n",
       "      <td>419.050000</td>\n",
       "      <td>372.670000</td>\n",
       "      <td>0.170000</td>\n",
       "      <td>26.000000</td>\n",
       "    </tr>\n",
       "    <tr>\n",
       "      <th>99%</th>\n",
       "      <td>7.002387e+09</td>\n",
       "      <td>109.0</td>\n",
       "      <td>0.0</td>\n",
       "      <td>0.0</td>\n",
       "      <td>0.0</td>\n",
       "      <td>1094.463000</td>\n",
       "      <td>1085.711200</td>\n",
       "      <td>1121.614800</td>\n",
       "      <td>1149.258800</td>\n",
       "      <td>1285.470000</td>\n",
       "      <td>...</td>\n",
       "      <td>1.000000</td>\n",
       "      <td>1.000000</td>\n",
       "      <td>1.000000</td>\n",
       "      <td>1.000000</td>\n",
       "      <td>3651.000000</td>\n",
       "      <td>1152.950000</td>\n",
       "      <td>1172.238000</td>\n",
       "      <td>1074.940000</td>\n",
       "      <td>77.710000</td>\n",
       "      <td>55.000000</td>\n",
       "    </tr>\n",
       "    <tr>\n",
       "      <th>max</th>\n",
       "      <td>7.002411e+09</td>\n",
       "      <td>109.0</td>\n",
       "      <td>0.0</td>\n",
       "      <td>0.0</td>\n",
       "      <td>0.0</td>\n",
       "      <td>1410.789000</td>\n",
       "      <td>1427.887000</td>\n",
       "      <td>1455.232000</td>\n",
       "      <td>5288.685000</td>\n",
       "      <td>6109.080000</td>\n",
       "      <td>...</td>\n",
       "      <td>1.000000</td>\n",
       "      <td>1.000000</td>\n",
       "      <td>1.000000</td>\n",
       "      <td>1.000000</td>\n",
       "      <td>4337.000000</td>\n",
       "      <td>8214.950000</td>\n",
       "      <td>7097.570000</td>\n",
       "      <td>7581.250000</td>\n",
       "      <td>2618.570000</td>\n",
       "      <td>92.000000</td>\n",
       "    </tr>\n",
       "  </tbody>\n",
       "</table>\n",
       "<p>14 rows × 215 columns</p>\n",
       "</div>"
      ],
      "text/plain": [
       "       mobile_number  circle_id  loc_og_t2o_mou  std_og_t2o_mou  \\\n",
       "count   9.804100e+04    98041.0         98041.0         98041.0   \n",
       "mean    7.001207e+09      109.0             0.0             0.0   \n",
       "std     6.958365e+05        0.0             0.0             0.0   \n",
       "min     7.000000e+09      109.0             0.0             0.0   \n",
       "1%      7.000025e+09      109.0             0.0             0.0   \n",
       "5%      7.000122e+09      109.0             0.0             0.0   \n",
       "10%     7.000244e+09      109.0             0.0             0.0   \n",
       "25%     7.000606e+09      109.0             0.0             0.0   \n",
       "50%     7.001204e+09      109.0             0.0             0.0   \n",
       "75%     7.001812e+09      109.0             0.0             0.0   \n",
       "90%     7.002174e+09      109.0             0.0             0.0   \n",
       "95%     7.002291e+09      109.0             0.0             0.0   \n",
       "99%     7.002387e+09      109.0             0.0             0.0   \n",
       "max     7.002411e+09      109.0             0.0             0.0   \n",
       "\n",
       "       loc_ic_t2o_mou        arpu_6        arpu_7        arpu_8        arpu_9  \\\n",
       "count         98041.0  98041.000000  98041.000000  98041.000000  98041.000000   \n",
       "mean              0.0    260.320312    254.611844    255.664261    242.988043   \n",
       "std               0.0    236.731151    236.088674    241.455939    253.622200   \n",
       "min               0.0   -383.565000   -897.035000   -491.545000  -1474.195000   \n",
       "1%                0.0      0.000000      0.000000      0.000000      0.000000   \n",
       "5%                0.0      1.350000      0.690000      0.000000      0.000000   \n",
       "10%               0.0     31.000000     28.510000     17.749000      0.070000   \n",
       "25%               0.0     91.855000     85.519000     82.788000     61.719000   \n",
       "50%               0.0    193.467000    187.268000    187.879000    173.205000   \n",
       "75%               0.0    357.983000    352.190000    356.587000    342.214000   \n",
       "90%               0.0    580.724000    575.528000    579.512000    567.624000   \n",
       "95%               0.0    751.653000    745.480000    751.552000    739.841000   \n",
       "99%               0.0   1094.463000   1085.711200   1121.614800   1149.258800   \n",
       "max               0.0   1410.789000   1427.887000   1455.232000   5288.685000   \n",
       "\n",
       "        onnet_mou_6  ...     fb_user_6     fb_user_7     fb_user_8  \\\n",
       "count  98041.000000  ...  98041.000000  98041.000000  98041.000000   \n",
       "mean     122.938500  ...      0.978723      0.976877      0.971665   \n",
       "std      256.755997  ...      0.144306      0.150295      0.165929   \n",
       "min      -44.674940  ...      0.000000      0.000000      0.000000   \n",
       "1%         0.000000  ...      0.000000      0.000000      0.000000   \n",
       "5%         0.000000  ...      1.000000      1.000000      1.000000   \n",
       "10%        0.310000  ...      1.000000      1.000000      1.000000   \n",
       "25%        7.830000  ...      1.000000      1.000000      1.000000   \n",
       "50%       35.490000  ...      1.000000      1.000000      1.000000   \n",
       "75%      118.580000  ...      1.000000      1.000000      1.000000   \n",
       "90%      318.840000  ...      1.000000      1.000000      1.000000   \n",
       "95%      564.660000  ...      1.000000      1.000000      1.000000   \n",
       "99%     1285.470000  ...      1.000000      1.000000      1.000000   \n",
       "max     6109.080000  ...      1.000000      1.000000      1.000000   \n",
       "\n",
       "          fb_user_9           aon    aug_vbc_3g    jul_vbc_3g    jun_vbc_3g  \\\n",
       "count  98041.000000  98041.000000  98041.000000  98041.000000  98041.000000   \n",
       "mean       0.964270   1220.918728     62.048232     60.696221     54.210008   \n",
       "std        0.185617    955.345362    235.716288    240.844109    223.625920   \n",
       "min        0.000000    180.000000      0.000000      0.000000      0.000000   \n",
       "1%         0.000000    189.000000      0.000000      0.000000      0.000000   \n",
       "5%         1.000000    229.000000      0.000000      0.000000      0.000000   \n",
       "10%        1.000000    286.000000      0.000000      0.000000      0.000000   \n",
       "25%        1.000000    467.000000      0.000000      0.000000      0.000000   \n",
       "50%        1.000000    865.000000      0.000000      0.000000      0.000000   \n",
       "75%        1.000000   1811.000000      0.000000      0.000000      0.000000   \n",
       "90%        1.000000   2800.000000    142.870000    120.580000     97.800000   \n",
       "95%        1.000000   3110.000000    432.920000    419.050000    372.670000   \n",
       "99%        1.000000   3651.000000   1152.950000   1172.238000   1074.940000   \n",
       "max        1.000000   4337.000000   8214.950000   7097.570000   7581.250000   \n",
       "\n",
       "         sep_vbc_3g  last_rech_num_days  \n",
       "count  98041.000000        98041.000000  \n",
       "mean       2.923780            7.202079  \n",
       "std       29.167377           10.711587  \n",
       "min        0.000000            0.000000  \n",
       "1%         0.000000            0.000000  \n",
       "5%         0.000000            0.000000  \n",
       "10%        0.000000            0.000000  \n",
       "25%        0.000000            1.000000  \n",
       "50%        0.000000            4.000000  \n",
       "75%        0.000000            7.000000  \n",
       "90%        0.000000           18.000000  \n",
       "95%        0.170000           26.000000  \n",
       "99%       77.710000           55.000000  \n",
       "max     2618.570000           92.000000  \n",
       "\n",
       "[14 rows x 215 columns]"
      ]
     },
     "execution_count": 34,
     "metadata": {},
     "output_type": "execute_result"
    }
   ],
   "source": [
    "cust.describe(percentiles = [0.01,0.05,0.1,0.25,0.5,0.75,0.9,0.95,0.99])"
   ]
  },
  {
   "cell_type": "markdown",
   "metadata": {},
   "source": [
    "## Remove columns with only one unique value. \n",
    "Columns with only one unique value will not add much value to the analysis and can be removed"
   ]
  },
  {
   "cell_type": "code",
   "execution_count": null,
   "metadata": {
    "ExecuteTime": {
     "start_time": "2021-04-25T18:04:53.063Z"
    }
   },
   "outputs": [],
   "source": [
    "cust = cust[[col for col in cust.columns if cust[col].nunique() > 1]]\n"
   ]
  },
  {
   "cell_type": "markdown",
   "metadata": {},
   "source": [
    "## Drop ID column - mobile_number"
   ]
  },
  {
   "cell_type": "code",
   "execution_count": null,
   "metadata": {
    "ExecuteTime": {
     "start_time": "2021-04-25T18:04:53.071Z"
    }
   },
   "outputs": [],
   "source": [
    "cust.drop(['mobile_number'],axis=1,inplace=True)"
   ]
  },
  {
   "cell_type": "code",
   "execution_count": null,
   "metadata": {
    "ExecuteTime": {
     "start_time": "2021-04-25T18:04:53.076Z"
    }
   },
   "outputs": [
    {
     "data": {
      "text/plain": [
       "(98041, 202)"
      ]
     },
     "execution_count": 37,
     "metadata": {},
     "output_type": "execute_result"
    }
   ],
   "source": [
    "cust.shape"
   ]
  },
  {
   "cell_type": "code",
   "execution_count": null,
   "metadata": {
    "ExecuteTime": {
     "start_time": "2021-04-25T18:04:53.082Z"
    }
   },
   "outputs": [
    {
     "name": "stdout",
     "output_type": "stream",
     "text": [
      "<class 'pandas.core.frame.DataFrame'>\n",
      "Int64Index: 98041 entries, 0 to 99998\n",
      "Columns: 202 entries, arpu_6 to last_rech_num_days\n",
      "dtypes: float64(168), int64(34)\n",
      "memory usage: 151.8 MB\n"
     ]
    }
   ],
   "source": [
    "cust.info()"
   ]
  },
  {
   "cell_type": "code",
   "execution_count": null,
   "metadata": {
    "ExecuteTime": {
     "start_time": "2021-04-25T18:04:53.088Z"
    }
   },
   "outputs": [
    {
     "data": {
      "text/plain": [
       "'NO MISSING VALUES IN THE DATAFRAME'"
      ]
     },
     "metadata": {},
     "output_type": "display_data"
    }
   ],
   "source": [
    "print_missing_columns(cust)"
   ]
  },
  {
   "cell_type": "markdown",
   "metadata": {},
   "source": [
    "# Target Variable Creation"
   ]
  },
  {
   "cell_type": "markdown",
   "metadata": {},
   "source": [
    "## Create Target variable from 9th Month"
   ]
  },
  {
   "cell_type": "markdown",
   "metadata": {},
   "source": [
    "Create the target variable based on the below rule:\n",
    " \n",
    "Tag the churned customers (churn=1, else 0) based on the fourth month as follows: Those who have not made any calls (either incoming or outgoing) AND have not used mobile internet even once in the churn phase. The attributes you need to use to tag churners are:\n",
    "\n",
    "total_ic_mou_9,\n",
    "total_og_mou_9,\n",
    "vol_2g_mb_9,\n",
    "vol_3g_mb_9"
   ]
  },
  {
   "cell_type": "code",
   "execution_count": null,
   "metadata": {
    "ExecuteTime": {
     "start_time": "2021-04-25T18:04:53.097Z"
    }
   },
   "outputs": [],
   "source": [
    "# Create churn flag based on the 9th month variables. \n",
    "cust['churn'] = (cust['total_ic_mou_9']+cust['total_og_mou_9']+cust['vol_2g_mb_9']+cust['vol_3g_mb_9']) == 0\n",
    "cust['churn']=cust['churn'].map({True:1,False:0})"
   ]
  },
  {
   "cell_type": "code",
   "execution_count": null,
   "metadata": {
    "ExecuteTime": {
     "start_time": "2021-04-25T18:04:53.102Z"
    }
   },
   "outputs": [
    {
     "data": {
      "text/plain": [
       "0    88102\n",
       "1     9939\n",
       "Name: churn, dtype: int64"
      ]
     },
     "execution_count": 41,
     "metadata": {},
     "output_type": "execute_result"
    }
   ],
   "source": [
    "cust['churn'].value_counts()"
   ]
  },
  {
   "cell_type": "markdown",
   "metadata": {},
   "source": [
    "## Remove 9th month variables"
   ]
  },
  {
   "cell_type": "code",
   "execution_count": null,
   "metadata": {
    "ExecuteTime": {
     "start_time": "2021-04-25T18:04:53.109Z"
    }
   },
   "outputs": [
    {
     "name": "stdout",
     "output_type": "stream",
     "text": [
      "Shape before dropping 9th month columns:(98041, 203)\n",
      "Shape after dropping 9th month columns:(98041, 154)\n"
     ]
    }
   ],
   "source": [
    "# drop the columns with the suffix _9, they should not be used while training the model.\n",
    "\n",
    "print(f'Shape before dropping 9th month columns:{cust.shape}')\n",
    "month_9_cols = [col for col in cust.columns if re.search('_9$', col)]\n",
    "cust.drop(month_9_cols,inplace=True,axis=1)\n",
    "print(f'Shape after dropping 9th month columns:{cust.shape}')"
   ]
  },
  {
   "cell_type": "markdown",
   "metadata": {},
   "source": [
    "Remove the 9th month variables after creating the target variables. Would otherwise lead to data leakage."
   ]
  },
  {
   "cell_type": "markdown",
   "metadata": {},
   "source": [
    "# Identify High Value Customers"
   ]
  },
  {
   "cell_type": "markdown",
   "metadata": {},
   "source": [
    "We need to predict churn only for the high-value customers. <br>\n",
    "Define high-value customers as follows: Those who have recharged with an amount more than or equal to X, where X is the 70th percentile of the average recharge amount in the first two months (the good phase)."
   ]
  },
  {
   "cell_type": "markdown",
   "metadata": {},
   "source": [
    "## Find average of M6,M7"
   ]
  },
  {
   "cell_type": "code",
   "execution_count": null,
   "metadata": {
    "ExecuteTime": {
     "start_time": "2021-04-25T18:04:53.122Z"
    }
   },
   "outputs": [
    {
     "data": {
      "text/html": [
       "<div>\n",
       "<style scoped>\n",
       "    .dataframe tbody tr th:only-of-type {\n",
       "        vertical-align: middle;\n",
       "    }\n",
       "\n",
       "    .dataframe tbody tr th {\n",
       "        vertical-align: top;\n",
       "    }\n",
       "\n",
       "    .dataframe thead th {\n",
       "        text-align: right;\n",
       "    }\n",
       "</style>\n",
       "<table border=\"1\" class=\"dataframe\">\n",
       "  <thead>\n",
       "    <tr style=\"text-align: right;\">\n",
       "      <th></th>\n",
       "      <th>arpu_6</th>\n",
       "      <th>arpu_7</th>\n",
       "      <th>arpu_8</th>\n",
       "      <th>onnet_mou_6</th>\n",
       "      <th>onnet_mou_7</th>\n",
       "      <th>onnet_mou_8</th>\n",
       "      <th>offnet_mou_6</th>\n",
       "      <th>offnet_mou_7</th>\n",
       "      <th>offnet_mou_8</th>\n",
       "      <th>roam_ic_mou_6</th>\n",
       "      <th>...</th>\n",
       "      <th>fb_user_6</th>\n",
       "      <th>fb_user_7</th>\n",
       "      <th>fb_user_8</th>\n",
       "      <th>aon</th>\n",
       "      <th>aug_vbc_3g</th>\n",
       "      <th>jul_vbc_3g</th>\n",
       "      <th>jun_vbc_3g</th>\n",
       "      <th>sep_vbc_3g</th>\n",
       "      <th>last_rech_num_days</th>\n",
       "      <th>churn</th>\n",
       "    </tr>\n",
       "  </thead>\n",
       "  <tbody>\n",
       "    <tr>\n",
       "      <th>0</th>\n",
       "      <td>197.385</td>\n",
       "      <td>214.816</td>\n",
       "      <td>213.803</td>\n",
       "      <td>53.070302</td>\n",
       "      <td>27.480769</td>\n",
       "      <td>0.00</td>\n",
       "      <td>81.437483</td>\n",
       "      <td>44.940882</td>\n",
       "      <td>0.00</td>\n",
       "      <td>0.0</td>\n",
       "      <td>...</td>\n",
       "      <td>1.0</td>\n",
       "      <td>1.0</td>\n",
       "      <td>1.0</td>\n",
       "      <td>968</td>\n",
       "      <td>30.4</td>\n",
       "      <td>0.0</td>\n",
       "      <td>101.20</td>\n",
       "      <td>3.58</td>\n",
       "      <td>23</td>\n",
       "      <td>1</td>\n",
       "    </tr>\n",
       "    <tr>\n",
       "      <th>1</th>\n",
       "      <td>34.047</td>\n",
       "      <td>355.074</td>\n",
       "      <td>268.321</td>\n",
       "      <td>24.110000</td>\n",
       "      <td>78.680000</td>\n",
       "      <td>7.68</td>\n",
       "      <td>15.740000</td>\n",
       "      <td>99.840000</td>\n",
       "      <td>304.76</td>\n",
       "      <td>0.0</td>\n",
       "      <td>...</td>\n",
       "      <td>1.0</td>\n",
       "      <td>1.0</td>\n",
       "      <td>1.0</td>\n",
       "      <td>1006</td>\n",
       "      <td>0.0</td>\n",
       "      <td>0.0</td>\n",
       "      <td>0.00</td>\n",
       "      <td>0.00</td>\n",
       "      <td>3</td>\n",
       "      <td>0</td>\n",
       "    </tr>\n",
       "    <tr>\n",
       "      <th>2</th>\n",
       "      <td>167.690</td>\n",
       "      <td>189.058</td>\n",
       "      <td>210.226</td>\n",
       "      <td>11.540000</td>\n",
       "      <td>55.240000</td>\n",
       "      <td>37.26</td>\n",
       "      <td>143.330000</td>\n",
       "      <td>220.590000</td>\n",
       "      <td>208.36</td>\n",
       "      <td>0.0</td>\n",
       "      <td>...</td>\n",
       "      <td>1.0</td>\n",
       "      <td>1.0</td>\n",
       "      <td>1.0</td>\n",
       "      <td>1103</td>\n",
       "      <td>0.0</td>\n",
       "      <td>0.0</td>\n",
       "      <td>4.17</td>\n",
       "      <td>0.00</td>\n",
       "      <td>17</td>\n",
       "      <td>0</td>\n",
       "    </tr>\n",
       "    <tr>\n",
       "      <th>3</th>\n",
       "      <td>221.338</td>\n",
       "      <td>251.102</td>\n",
       "      <td>508.054</td>\n",
       "      <td>99.910000</td>\n",
       "      <td>54.390000</td>\n",
       "      <td>310.98</td>\n",
       "      <td>123.310000</td>\n",
       "      <td>109.010000</td>\n",
       "      <td>71.68</td>\n",
       "      <td>0.0</td>\n",
       "      <td>...</td>\n",
       "      <td>1.0</td>\n",
       "      <td>1.0</td>\n",
       "      <td>1.0</td>\n",
       "      <td>2491</td>\n",
       "      <td>0.0</td>\n",
       "      <td>0.0</td>\n",
       "      <td>0.00</td>\n",
       "      <td>0.00</td>\n",
       "      <td>0</td>\n",
       "      <td>0</td>\n",
       "    </tr>\n",
       "    <tr>\n",
       "      <th>4</th>\n",
       "      <td>261.636</td>\n",
       "      <td>309.876</td>\n",
       "      <td>238.174</td>\n",
       "      <td>50.310000</td>\n",
       "      <td>149.440000</td>\n",
       "      <td>83.89</td>\n",
       "      <td>76.960000</td>\n",
       "      <td>91.880000</td>\n",
       "      <td>124.26</td>\n",
       "      <td>0.0</td>\n",
       "      <td>...</td>\n",
       "      <td>0.0</td>\n",
       "      <td>1.0</td>\n",
       "      <td>1.0</td>\n",
       "      <td>1526</td>\n",
       "      <td>0.0</td>\n",
       "      <td>0.0</td>\n",
       "      <td>0.00</td>\n",
       "      <td>0.00</td>\n",
       "      <td>22</td>\n",
       "      <td>0</td>\n",
       "    </tr>\n",
       "  </tbody>\n",
       "</table>\n",
       "<p>5 rows × 154 columns</p>\n",
       "</div>"
      ],
      "text/plain": [
       "    arpu_6   arpu_7   arpu_8  onnet_mou_6  onnet_mou_7  onnet_mou_8  \\\n",
       "0  197.385  214.816  213.803    53.070302    27.480769         0.00   \n",
       "1   34.047  355.074  268.321    24.110000    78.680000         7.68   \n",
       "2  167.690  189.058  210.226    11.540000    55.240000        37.26   \n",
       "3  221.338  251.102  508.054    99.910000    54.390000       310.98   \n",
       "4  261.636  309.876  238.174    50.310000   149.440000        83.89   \n",
       "\n",
       "   offnet_mou_6  offnet_mou_7  offnet_mou_8  roam_ic_mou_6  ...  fb_user_6  \\\n",
       "0     81.437483     44.940882          0.00            0.0  ...        1.0   \n",
       "1     15.740000     99.840000        304.76            0.0  ...        1.0   \n",
       "2    143.330000    220.590000        208.36            0.0  ...        1.0   \n",
       "3    123.310000    109.010000         71.68            0.0  ...        1.0   \n",
       "4     76.960000     91.880000        124.26            0.0  ...        0.0   \n",
       "\n",
       "   fb_user_7  fb_user_8   aon  aug_vbc_3g  jul_vbc_3g  jun_vbc_3g  sep_vbc_3g  \\\n",
       "0        1.0        1.0   968        30.4         0.0      101.20        3.58   \n",
       "1        1.0        1.0  1006         0.0         0.0        0.00        0.00   \n",
       "2        1.0        1.0  1103         0.0         0.0        4.17        0.00   \n",
       "3        1.0        1.0  2491         0.0         0.0        0.00        0.00   \n",
       "4        1.0        1.0  1526         0.0         0.0        0.00        0.00   \n",
       "\n",
       "   last_rech_num_days  churn  \n",
       "0                  23      1  \n",
       "1                   3      0  \n",
       "2                  17      0  \n",
       "3                   0      0  \n",
       "4                  22      0  \n",
       "\n",
       "[5 rows x 154 columns]"
      ]
     },
     "execution_count": 43,
     "metadata": {},
     "output_type": "execute_result"
    }
   ],
   "source": [
    "cust.head()"
   ]
  },
  {
   "cell_type": "code",
   "execution_count": null,
   "metadata": {
    "ExecuteTime": {
     "start_time": "2021-04-25T18:04:53.128Z"
    }
   },
   "outputs": [
    {
     "data": {
      "text/html": [
       "<div>\n",
       "<style scoped>\n",
       "    .dataframe tbody tr th:only-of-type {\n",
       "        vertical-align: middle;\n",
       "    }\n",
       "\n",
       "    .dataframe tbody tr th {\n",
       "        vertical-align: top;\n",
       "    }\n",
       "\n",
       "    .dataframe thead th {\n",
       "        text-align: right;\n",
       "    }\n",
       "</style>\n",
       "<table border=\"1\" class=\"dataframe\">\n",
       "  <thead>\n",
       "    <tr style=\"text-align: right;\">\n",
       "      <th></th>\n",
       "      <th>total_rech_num_6</th>\n",
       "      <th>total_rech_amt_6</th>\n",
       "      <th>max_rech_amt_6</th>\n",
       "      <th>total_rech_data_6</th>\n",
       "      <th>max_rech_data_6</th>\n",
       "      <th>count_rech_2g_6</th>\n",
       "      <th>count_rech_3g_6</th>\n",
       "      <th>av_rech_amt_data_6</th>\n",
       "    </tr>\n",
       "  </thead>\n",
       "  <tbody>\n",
       "    <tr>\n",
       "      <th>0</th>\n",
       "      <td>4</td>\n",
       "      <td>362</td>\n",
       "      <td>252</td>\n",
       "      <td>1.0</td>\n",
       "      <td>252.0</td>\n",
       "      <td>0.0</td>\n",
       "      <td>1.0</td>\n",
       "      <td>252.0</td>\n",
       "    </tr>\n",
       "    <tr>\n",
       "      <th>1</th>\n",
       "      <td>4</td>\n",
       "      <td>74</td>\n",
       "      <td>44</td>\n",
       "      <td>0.0</td>\n",
       "      <td>0.0</td>\n",
       "      <td>0.0</td>\n",
       "      <td>0.0</td>\n",
       "      <td>0.0</td>\n",
       "    </tr>\n",
       "    <tr>\n",
       "      <th>2</th>\n",
       "      <td>5</td>\n",
       "      <td>168</td>\n",
       "      <td>86</td>\n",
       "      <td>0.0</td>\n",
       "      <td>0.0</td>\n",
       "      <td>0.0</td>\n",
       "      <td>0.0</td>\n",
       "      <td>0.0</td>\n",
       "    </tr>\n",
       "    <tr>\n",
       "      <th>3</th>\n",
       "      <td>10</td>\n",
       "      <td>230</td>\n",
       "      <td>60</td>\n",
       "      <td>0.0</td>\n",
       "      <td>0.0</td>\n",
       "      <td>0.0</td>\n",
       "      <td>0.0</td>\n",
       "      <td>0.0</td>\n",
       "    </tr>\n",
       "    <tr>\n",
       "      <th>4</th>\n",
       "      <td>5</td>\n",
       "      <td>196</td>\n",
       "      <td>56</td>\n",
       "      <td>1.0</td>\n",
       "      <td>56.0</td>\n",
       "      <td>1.0</td>\n",
       "      <td>0.0</td>\n",
       "      <td>56.0</td>\n",
       "    </tr>\n",
       "  </tbody>\n",
       "</table>\n",
       "</div>"
      ],
      "text/plain": [
       "   total_rech_num_6  total_rech_amt_6  max_rech_amt_6  total_rech_data_6  \\\n",
       "0                 4               362             252                1.0   \n",
       "1                 4                74              44                0.0   \n",
       "2                 5               168              86                0.0   \n",
       "3                10               230              60                0.0   \n",
       "4                 5               196              56                1.0   \n",
       "\n",
       "   max_rech_data_6  count_rech_2g_6  count_rech_3g_6  av_rech_amt_data_6  \n",
       "0            252.0              0.0              1.0               252.0  \n",
       "1              0.0              0.0              0.0                 0.0  \n",
       "2              0.0              0.0              0.0                 0.0  \n",
       "3              0.0              0.0              0.0                 0.0  \n",
       "4             56.0              1.0              0.0                56.0  "
      ]
     },
     "execution_count": 44,
     "metadata": {},
     "output_type": "execute_result"
    }
   ],
   "source": [
    "m6_cols = [col for col in cust.columns if re.search('.*rech.*_6$' , col)]\n",
    "cust[m6_cols].head()\n"
   ]
  },
  {
   "cell_type": "code",
   "execution_count": null,
   "metadata": {
    "ExecuteTime": {
     "start_time": "2021-04-25T18:04:53.133Z"
    }
   },
   "outputs": [
    {
     "name": "stdout",
     "output_type": "stream",
     "text": [
      "True\n",
      "True\n"
     ]
    }
   ],
   "source": [
    "# Check if total recharge data column is same as sum of no. of recharges in 2G & 3G\n",
    "print(cust[cust['total_rech_data_6'] != (cust['count_rech_2g_6']+cust['count_rech_3g_6'])].empty)\n",
    "print(cust[cust['total_rech_data_7'] != (cust['count_rech_2g_7']+cust['count_rech_3g_7'])].empty)"
   ]
  },
  {
   "cell_type": "markdown",
   "metadata": {
    "ExecuteTime": {
     "end_time": "2021-04-19T03:58:38.573128Z",
     "start_time": "2021-04-19T03:58:38.556861Z"
    }
   },
   "source": [
    "<b>Assumption:</b> total_rech_amt_* column is only for the talktime recharge and not for data recharge <br>\n",
    "This information is not clear in the data dictionary and requires domain knowledge. <br>\n",
    "We can compute the total rech amount for a month as sum of (talktime recharge + data recharge)"
   ]
  },
  {
   "cell_type": "code",
   "execution_count": null,
   "metadata": {
    "ExecuteTime": {
     "start_time": "2021-04-25T18:04:53.139Z"
    }
   },
   "outputs": [],
   "source": [
    "cust['avg_rech_amt_6_7'] = ((cust['total_rech_amt_6'] + cust['total_rech_data_6']*cust['av_rech_amt_data_6']) +\n",
    "                            (cust['total_rech_amt_7'] + cust['total_rech_data_7']*cust['av_rech_amt_data_7']))/2"
   ]
  },
  {
   "cell_type": "code",
   "execution_count": null,
   "metadata": {
    "ExecuteTime": {
     "start_time": "2021-04-25T18:04:53.144Z"
    }
   },
   "outputs": [
    {
     "data": {
      "text/html": [
       "<div>\n",
       "<style scoped>\n",
       "    .dataframe tbody tr th:only-of-type {\n",
       "        vertical-align: middle;\n",
       "    }\n",
       "\n",
       "    .dataframe tbody tr th {\n",
       "        vertical-align: top;\n",
       "    }\n",
       "\n",
       "    .dataframe thead th {\n",
       "        text-align: right;\n",
       "    }\n",
       "</style>\n",
       "<table border=\"1\" class=\"dataframe\">\n",
       "  <thead>\n",
       "    <tr style=\"text-align: right;\">\n",
       "      <th></th>\n",
       "      <th>total_rech_amt_6</th>\n",
       "      <th>total_rech_data_6</th>\n",
       "      <th>av_rech_amt_data_6</th>\n",
       "      <th>total_rech_data_7</th>\n",
       "      <th>av_rech_amt_data_7</th>\n",
       "      <th>total_rech_amt_7</th>\n",
       "      <th>avg_rech_amt_6_7</th>\n",
       "    </tr>\n",
       "  </thead>\n",
       "  <tbody>\n",
       "    <tr>\n",
       "      <th>99994</th>\n",
       "      <td>60</td>\n",
       "      <td>0.0</td>\n",
       "      <td>0.0</td>\n",
       "      <td>0.0</td>\n",
       "      <td>0.0</td>\n",
       "      <td>110</td>\n",
       "      <td>85.0</td>\n",
       "    </tr>\n",
       "    <tr>\n",
       "      <th>99995</th>\n",
       "      <td>110</td>\n",
       "      <td>0.0</td>\n",
       "      <td>0.0</td>\n",
       "      <td>0.0</td>\n",
       "      <td>0.0</td>\n",
       "      <td>110</td>\n",
       "      <td>110.0</td>\n",
       "    </tr>\n",
       "    <tr>\n",
       "      <th>99996</th>\n",
       "      <td>119</td>\n",
       "      <td>2.0</td>\n",
       "      <td>39.0</td>\n",
       "      <td>0.0</td>\n",
       "      <td>0.0</td>\n",
       "      <td>0</td>\n",
       "      <td>98.5</td>\n",
       "    </tr>\n",
       "    <tr>\n",
       "      <th>99997</th>\n",
       "      <td>381</td>\n",
       "      <td>3.0</td>\n",
       "      <td>583.0</td>\n",
       "      <td>2.0</td>\n",
       "      <td>358.0</td>\n",
       "      <td>358</td>\n",
       "      <td>1602.0</td>\n",
       "    </tr>\n",
       "    <tr>\n",
       "      <th>99998</th>\n",
       "      <td>710</td>\n",
       "      <td>1.0</td>\n",
       "      <td>154.0</td>\n",
       "      <td>0.0</td>\n",
       "      <td>0.0</td>\n",
       "      <td>0</td>\n",
       "      <td>432.0</td>\n",
       "    </tr>\n",
       "  </tbody>\n",
       "</table>\n",
       "</div>"
      ],
      "text/plain": [
       "       total_rech_amt_6  total_rech_data_6  av_rech_amt_data_6  \\\n",
       "99994                60                0.0                 0.0   \n",
       "99995               110                0.0                 0.0   \n",
       "99996               119                2.0                39.0   \n",
       "99997               381                3.0               583.0   \n",
       "99998               710                1.0               154.0   \n",
       "\n",
       "       total_rech_data_7  av_rech_amt_data_7  total_rech_amt_7  \\\n",
       "99994                0.0                 0.0               110   \n",
       "99995                0.0                 0.0               110   \n",
       "99996                0.0                 0.0                 0   \n",
       "99997                2.0               358.0               358   \n",
       "99998                0.0                 0.0                 0   \n",
       "\n",
       "       avg_rech_amt_6_7  \n",
       "99994              85.0  \n",
       "99995             110.0  \n",
       "99996              98.5  \n",
       "99997            1602.0  \n",
       "99998             432.0  "
      ]
     },
     "execution_count": 47,
     "metadata": {},
     "output_type": "execute_result"
    }
   ],
   "source": [
    "cust[['total_rech_amt_6','total_rech_data_6','av_rech_amt_data_6','total_rech_data_7','av_rech_amt_data_7','total_rech_amt_7','avg_rech_amt_6_7']].tail()"
   ]
  },
  {
   "cell_type": "markdown",
   "metadata": {},
   "source": [
    "Manually computing the average recharge amount looks to be correct. <br>\n",
    "We can now identify the value at the 70th percentile to identify the High Value Customers"
   ]
  },
  {
   "cell_type": "markdown",
   "metadata": {},
   "source": [
    "## Identify value at 70th percentile"
   ]
  },
  {
   "cell_type": "code",
   "execution_count": null,
   "metadata": {
    "ExecuteTime": {
     "start_time": "2021-04-25T18:04:53.151Z"
    }
   },
   "outputs": [
    {
     "data": {
      "text/html": [
       "<div>\n",
       "<style scoped>\n",
       "    .dataframe tbody tr th:only-of-type {\n",
       "        vertical-align: middle;\n",
       "    }\n",
       "\n",
       "    .dataframe tbody tr th {\n",
       "        vertical-align: top;\n",
       "    }\n",
       "\n",
       "    .dataframe thead th {\n",
       "        text-align: right;\n",
       "    }\n",
       "</style>\n",
       "<table border=\"1\" class=\"dataframe\">\n",
       "  <thead>\n",
       "    <tr style=\"text-align: right;\">\n",
       "      <th></th>\n",
       "      <th>avg_rech_amt_6_7</th>\n",
       "    </tr>\n",
       "  </thead>\n",
       "  <tbody>\n",
       "    <tr>\n",
       "      <th>count</th>\n",
       "      <td>98041.000000</td>\n",
       "    </tr>\n",
       "    <tr>\n",
       "      <th>mean</th>\n",
       "      <td>441.626129</td>\n",
       "    </tr>\n",
       "    <tr>\n",
       "      <th>std</th>\n",
       "      <td>675.546034</td>\n",
       "    </tr>\n",
       "    <tr>\n",
       "      <th>min</th>\n",
       "      <td>0.000000</td>\n",
       "    </tr>\n",
       "    <tr>\n",
       "      <th>10%</th>\n",
       "      <td>60.000000</td>\n",
       "    </tr>\n",
       "    <tr>\n",
       "      <th>30%</th>\n",
       "      <td>151.500000</td>\n",
       "    </tr>\n",
       "    <tr>\n",
       "      <th>50%</th>\n",
       "      <td>270.000000</td>\n",
       "    </tr>\n",
       "    <tr>\n",
       "      <th>70%</th>\n",
       "      <td>458.500000</td>\n",
       "    </tr>\n",
       "    <tr>\n",
       "      <th>90%</th>\n",
       "      <td>944.000000</td>\n",
       "    </tr>\n",
       "    <tr>\n",
       "      <th>max</th>\n",
       "      <td>29185.500000</td>\n",
       "    </tr>\n",
       "  </tbody>\n",
       "</table>\n",
       "</div>"
      ],
      "text/plain": [
       "       avg_rech_amt_6_7\n",
       "count      98041.000000\n",
       "mean         441.626129\n",
       "std          675.546034\n",
       "min            0.000000\n",
       "10%           60.000000\n",
       "30%          151.500000\n",
       "50%          270.000000\n",
       "70%          458.500000\n",
       "90%          944.000000\n",
       "max        29185.500000"
      ]
     },
     "execution_count": 48,
     "metadata": {},
     "output_type": "execute_result"
    }
   ],
   "source": [
    "cust[['avg_rech_amt_6_7']].describe(percentiles=[0.1,0.3,0.5,0.7,0.9])"
   ]
  },
  {
   "cell_type": "code",
   "execution_count": null,
   "metadata": {
    "ExecuteTime": {
     "start_time": "2021-04-25T18:04:53.156Z"
    }
   },
   "outputs": [
    {
     "name": "stdout",
     "output_type": "stream",
     "text": [
      "Value at 70th percentile:458.5\n"
     ]
    }
   ],
   "source": [
    "avg_70 = cust[['avg_rech_amt_6_7']].quantile(0.7)[0]\n",
    "print(f'Value at 70th percentile:{avg_70}')"
   ]
  },
  {
   "cell_type": "markdown",
   "metadata": {},
   "source": [
    "## Flag high value customers"
   ]
  },
  {
   "cell_type": "code",
   "execution_count": null,
   "metadata": {
    "ExecuteTime": {
     "start_time": "2021-04-25T18:04:53.161Z"
    }
   },
   "outputs": [],
   "source": [
    "cust['is_hvc'] = cust['avg_rech_amt_6_7'].apply(lambda x: int(x>= avg_70))"
   ]
  },
  {
   "cell_type": "code",
   "execution_count": null,
   "metadata": {
    "ExecuteTime": {
     "start_time": "2021-04-25T18:04:53.166Z"
    }
   },
   "outputs": [
    {
     "data": {
      "text/plain": [
       "0    68627\n",
       "1    29414\n",
       "Name: is_hvc, dtype: int64"
      ]
     },
     "execution_count": 51,
     "metadata": {},
     "output_type": "execute_result"
    }
   ],
   "source": [
    "cust['is_hvc'].value_counts()"
   ]
  },
  {
   "cell_type": "markdown",
   "metadata": {
    "ExecuteTime": {
     "end_time": "2021-04-23T05:13:31.014818Z",
     "start_time": "2021-04-23T05:13:31.011570Z"
    }
   },
   "source": [
    "## Filter data for high value customers"
   ]
  },
  {
   "cell_type": "code",
   "execution_count": null,
   "metadata": {
    "ExecuteTime": {
     "start_time": "2021-04-25T18:04:53.171Z"
    }
   },
   "outputs": [],
   "source": [
    "# create a backup before filtering for high value customers\n",
    "cust_orig = cust.copy()"
   ]
  },
  {
   "cell_type": "code",
   "execution_count": null,
   "metadata": {
    "ExecuteTime": {
     "start_time": "2021-04-25T18:04:53.176Z"
    }
   },
   "outputs": [],
   "source": [
    "# Consider only high value customers for the model creation\n",
    "cust = cust[cust['is_hvc'] == 1]"
   ]
  },
  {
   "cell_type": "code",
   "execution_count": null,
   "metadata": {
    "ExecuteTime": {
     "start_time": "2021-04-25T18:04:53.180Z"
    }
   },
   "outputs": [
    {
     "data": {
      "text/plain": [
       "(29414, 156)"
      ]
     },
     "execution_count": 54,
     "metadata": {},
     "output_type": "execute_result"
    }
   ],
   "source": [
    "cust.shape"
   ]
  },
  {
   "cell_type": "code",
   "execution_count": null,
   "metadata": {
    "ExecuteTime": {
     "start_time": "2021-04-25T18:04:53.185Z"
    }
   },
   "outputs": [],
   "source": [
    "# drop the is_hvc flag column as we have considered only HVCs\n",
    "cust.drop(['is_hvc'],axis=1,inplace=True)"
   ]
  },
  {
   "cell_type": "markdown",
   "metadata": {},
   "source": [
    "# Define Variables"
   ]
  },
  {
   "cell_type": "code",
   "execution_count": null,
   "metadata": {
    "ExecuteTime": {
     "start_time": "2021-04-25T18:04:53.191Z"
    }
   },
   "outputs": [],
   "source": [
    "DEPENDENT_VARIABLE = 'churn'\n",
    "\n",
    "# Select numeric columns for EDA\n",
    "m8_toc_cols = ['loc_og_t2c_mou_8'] # Outgoing calls to call center\n",
    "aon_cols = ['aon'] # Age on number\n",
    "mou_cols = [col for col in cust.columns if re.search('^total_.*mou.*' , col)] # Total minutes of usage\n",
    "arpu_cols = [col for col in cust.columns if re.search('^arpu_.*' , col)] # Average revenue per user\n",
    "\n",
    "CONTINUOUS_VAR_TO_ANALYSE = m8_toc_cols+aon_cols+mou_cols+arpu_cols\n",
    "\n",
    "# Select categorical columns for EDA\n",
    "BINARY_CATEGORICAL_VARIABLES = [col for col in cust.columns if re.match('^fb_user_|^night_pck_user_', col)]"
   ]
  },
  {
   "cell_type": "code",
   "execution_count": null,
   "metadata": {
    "ExecuteTime": {
     "start_time": "2021-04-25T18:04:53.196Z"
    }
   },
   "outputs": [
    {
     "data": {
      "text/html": [
       "<div>\n",
       "<style scoped>\n",
       "    .dataframe tbody tr th:only-of-type {\n",
       "        vertical-align: middle;\n",
       "    }\n",
       "\n",
       "    .dataframe tbody tr th {\n",
       "        vertical-align: top;\n",
       "    }\n",
       "\n",
       "    .dataframe thead th {\n",
       "        text-align: right;\n",
       "    }\n",
       "</style>\n",
       "<table border=\"1\" class=\"dataframe\">\n",
       "  <thead>\n",
       "    <tr style=\"text-align: right;\">\n",
       "      <th></th>\n",
       "      <th>loc_og_t2c_mou_8</th>\n",
       "      <th>aon</th>\n",
       "      <th>total_og_mou_6</th>\n",
       "      <th>total_og_mou_7</th>\n",
       "      <th>total_og_mou_8</th>\n",
       "      <th>total_ic_mou_6</th>\n",
       "      <th>total_ic_mou_7</th>\n",
       "      <th>total_ic_mou_8</th>\n",
       "      <th>arpu_6</th>\n",
       "      <th>arpu_7</th>\n",
       "      <th>arpu_8</th>\n",
       "      <th>arpu_3g_6</th>\n",
       "      <th>arpu_3g_7</th>\n",
       "      <th>arpu_3g_8</th>\n",
       "      <th>arpu_2g_6</th>\n",
       "      <th>arpu_2g_7</th>\n",
       "      <th>arpu_2g_8</th>\n",
       "    </tr>\n",
       "  </thead>\n",
       "  <tbody>\n",
       "    <tr>\n",
       "      <th>0</th>\n",
       "      <td>0.00</td>\n",
       "      <td>968</td>\n",
       "      <td>0.00</td>\n",
       "      <td>0.00</td>\n",
       "      <td>0.00</td>\n",
       "      <td>0.00</td>\n",
       "      <td>0.00</td>\n",
       "      <td>5.44</td>\n",
       "      <td>197.385</td>\n",
       "      <td>214.816</td>\n",
       "      <td>213.803</td>\n",
       "      <td>212.17</td>\n",
       "      <td>212.17</td>\n",
       "      <td>212.17</td>\n",
       "      <td>212.17</td>\n",
       "      <td>212.17</td>\n",
       "      <td>212.17</td>\n",
       "    </tr>\n",
       "    <tr>\n",
       "      <th>8</th>\n",
       "      <td>7.15</td>\n",
       "      <td>315</td>\n",
       "      <td>508.36</td>\n",
       "      <td>431.66</td>\n",
       "      <td>171.56</td>\n",
       "      <td>103.86</td>\n",
       "      <td>28.49</td>\n",
       "      <td>16.54</td>\n",
       "      <td>378.721</td>\n",
       "      <td>492.223</td>\n",
       "      <td>137.362</td>\n",
       "      <td>0.00</td>\n",
       "      <td>0.00</td>\n",
       "      <td>19.83</td>\n",
       "      <td>0.00</td>\n",
       "      <td>0.00</td>\n",
       "      <td>0.00</td>\n",
       "    </tr>\n",
       "    <tr>\n",
       "      <th>16</th>\n",
       "      <td>0.00</td>\n",
       "      <td>511</td>\n",
       "      <td>346.81</td>\n",
       "      <td>286.01</td>\n",
       "      <td>233.38</td>\n",
       "      <td>364.86</td>\n",
       "      <td>381.56</td>\n",
       "      <td>294.46</td>\n",
       "      <td>430.975</td>\n",
       "      <td>299.869</td>\n",
       "      <td>187.894</td>\n",
       "      <td>0.00</td>\n",
       "      <td>0.00</td>\n",
       "      <td>0.00</td>\n",
       "      <td>0.00</td>\n",
       "      <td>0.00</td>\n",
       "      <td>0.00</td>\n",
       "    </tr>\n",
       "    <tr>\n",
       "      <th>21</th>\n",
       "      <td>0.00</td>\n",
       "      <td>720</td>\n",
       "      <td>860.34</td>\n",
       "      <td>1028.79</td>\n",
       "      <td>1068.54</td>\n",
       "      <td>207.09</td>\n",
       "      <td>131.89</td>\n",
       "      <td>261.04</td>\n",
       "      <td>514.453</td>\n",
       "      <td>597.753</td>\n",
       "      <td>637.760</td>\n",
       "      <td>0.00</td>\n",
       "      <td>0.00</td>\n",
       "      <td>0.00</td>\n",
       "      <td>0.00</td>\n",
       "      <td>0.00</td>\n",
       "      <td>0.00</td>\n",
       "    </tr>\n",
       "    <tr>\n",
       "      <th>23</th>\n",
       "      <td>17.71</td>\n",
       "      <td>604</td>\n",
       "      <td>134.38</td>\n",
       "      <td>140.04</td>\n",
       "      <td>239.48</td>\n",
       "      <td>119.58</td>\n",
       "      <td>222.89</td>\n",
       "      <td>298.33</td>\n",
       "      <td>74.350</td>\n",
       "      <td>193.897</td>\n",
       "      <td>366.966</td>\n",
       "      <td>0.00</td>\n",
       "      <td>306.57</td>\n",
       "      <td>197.27</td>\n",
       "      <td>0.00</td>\n",
       "      <td>301.78</td>\n",
       "      <td>150.67</td>\n",
       "    </tr>\n",
       "  </tbody>\n",
       "</table>\n",
       "</div>"
      ],
      "text/plain": [
       "    loc_og_t2c_mou_8  aon  total_og_mou_6  total_og_mou_7  total_og_mou_8  \\\n",
       "0               0.00  968            0.00            0.00            0.00   \n",
       "8               7.15  315          508.36          431.66          171.56   \n",
       "16              0.00  511          346.81          286.01          233.38   \n",
       "21              0.00  720          860.34         1028.79         1068.54   \n",
       "23             17.71  604          134.38          140.04          239.48   \n",
       "\n",
       "    total_ic_mou_6  total_ic_mou_7  total_ic_mou_8   arpu_6   arpu_7   arpu_8  \\\n",
       "0             0.00            0.00            5.44  197.385  214.816  213.803   \n",
       "8           103.86           28.49           16.54  378.721  492.223  137.362   \n",
       "16          364.86          381.56          294.46  430.975  299.869  187.894   \n",
       "21          207.09          131.89          261.04  514.453  597.753  637.760   \n",
       "23          119.58          222.89          298.33   74.350  193.897  366.966   \n",
       "\n",
       "    arpu_3g_6  arpu_3g_7  arpu_3g_8  arpu_2g_6  arpu_2g_7  arpu_2g_8  \n",
       "0      212.17     212.17     212.17     212.17     212.17     212.17  \n",
       "8        0.00       0.00      19.83       0.00       0.00       0.00  \n",
       "16       0.00       0.00       0.00       0.00       0.00       0.00  \n",
       "21       0.00       0.00       0.00       0.00       0.00       0.00  \n",
       "23       0.00     306.57     197.27       0.00     301.78     150.67  "
      ]
     },
     "execution_count": 57,
     "metadata": {},
     "output_type": "execute_result"
    }
   ],
   "source": [
    "cust[CONTINUOUS_VAR_TO_ANALYSE].head()"
   ]
  },
  {
   "cell_type": "markdown",
   "metadata": {},
   "source": [
    "# EDA"
   ]
  },
  {
   "cell_type": "markdown",
   "metadata": {},
   "source": [
    "## Target variable analysis"
   ]
  },
  {
   "cell_type": "code",
   "execution_count": null,
   "metadata": {
    "ExecuteTime": {
     "start_time": "2021-04-25T18:04:53.202Z"
    }
   },
   "outputs": [
    {
     "data": {
      "text/plain": [
       "0"
      ]
     },
     "execution_count": 58,
     "metadata": {},
     "output_type": "execute_result"
    }
   ],
   "source": [
    "cust['churn'].isnull().sum()"
   ]
  },
  {
   "cell_type": "code",
   "execution_count": null,
   "metadata": {
    "ExecuteTime": {
     "start_time": "2021-04-25T18:04:53.206Z"
    }
   },
   "outputs": [
    {
     "data": {
      "image/png": "[encoded data removed]",
      "text/plain": [
       "<Figure size 288x576 with 1 Axes>"
      ]
     },
     "metadata": {
      "needs_background": "light"
     },
     "output_type": "display_data"
    }
   ],
   "source": [
    "fig = plt.figure(figsize=(4,8))\n",
    "fig.suptitle('Defaulters Distribution', fontsize=24)\n",
    "ax = cust[DEPENDENT_VARIABLE].value_counts().plot.bar()\n",
    "for p in ax.patches: \n",
    "    ax.annotate(\"%0.0f\" % p.get_height(), (p.get_x() + p.get_width() / 2., p.get_height()),\n",
    "                 ha='center', va='center', fontsize=11,  xytext=(0, 10), textcoords='offset points')\n"
   ]
  },
  {
   "cell_type": "markdown",
   "metadata": {},
   "source": [
    "## Univariate analysis"
   ]
  },
  {
   "cell_type": "markdown",
   "metadata": {},
   "source": [
    "### Categorical Features\n"
   ]
  },
  {
   "cell_type": "code",
   "execution_count": null,
   "metadata": {
    "ExecuteTime": {
     "start_time": "2021-04-25T18:04:53.213Z"
    }
   },
   "outputs": [
    {
     "data": {
      "image/png": "[encoded data removed]",
      "text/plain": [
       "<Figure size 1440x432 with 4 Axes>"
      ]
     },
     "metadata": {
      "needs_background": "light"
     },
     "output_type": "display_data"
    },
    {
     "data": {
      "image/png": "[encoded data removed]",
      "text/plain": [
       "<Figure size 1440x432 with 4 Axes>"
      ]
     },
     "metadata": {
      "needs_background": "light"
     },
     "output_type": "display_data"
    },
    {
     "data": {
      "image/png": "[encoded data removed]",
      "text/plain": [
       "<Figure size 1440x432 with 4 Axes>"
      ]
     },
     "metadata": {
      "needs_background": "light"
     },
     "output_type": "display_data"
    },
    {
     "data": {
      "image/png": "[encoded data removed]",
      "text/plain": [
       "<Figure size 1440x432 with 4 Axes>"
      ]
     },
     "metadata": {
      "needs_background": "light"
     },
     "output_type": "display_data"
    },
    {
     "data": {
      "image/png": "[encoded data removed]",
      "text/plain": [
       "<Figure size 1440x432 with 4 Axes>"
      ]
     },
     "metadata": {
      "needs_background": "light"
     },
     "output_type": "display_data"
    },
    {
     "data": {
      "image/png": "[encoded data removed]",
      "text/plain": [
       "<Figure size 1440x432 with 4 Axes>"
      ]
     },
     "metadata": {
      "needs_background": "light"
     },
     "output_type": "display_data"
    }
   ],
   "source": [
    "\n",
    "    \n",
    "# For each categorical variable, plot\n",
    "# 1. Percentage distribution of each category - Univariate Analysis\n",
    "# 2. Heatmap of each category against the target variable - Segmented Univariate Analysis\n",
    "# 3. Grouped bar chart of each category against the target variable - Segmented Univariate Analysis\n",
    "for col in BINARY_CATEGORICAL_VARIABLES:\n",
    "    fig, ax = plt.subplots(1, 3, figsize=(20, 6))\n",
    "    fig.suptitle(col, fontsize=18)\n",
    "    # Chart 1\n",
    "    cust[col].value_counts().plot.pie(ax=ax[0], autopct=\"%1.1f%%\")\n",
    "    ax[0].legend()\n",
    "    # Chart 2\n",
    "    sns.heatmap(pd.crosstab(index=cust[DEPENDENT_VARIABLE], columns=cust[col]), ax=ax[1], cmap='coolwarm', annot=True, fmt='d') #, annot_kws=akws\n",
    "    ax[1].set_ylim([0,2])\n",
    "    # Chart 3 - grouped bar chart\n",
    "    group_df = pd.DataFrame((cust.groupby([DEPENDENT_VARIABLE,col]).size()/cust.groupby([col]).size()*100).to_frame('count'))\n",
    "    group_df.reset_index(inplace=True) \n",
    "    sns.barplot(x=group_df[col], y=group_df['count'], hue=group_df[DEPENDENT_VARIABLE], ax=ax[2])\n",
    "    ax[2].set(xlabel=col, ylabel='Churn',title = '% of churns in each category') \n",
    "\n",
    "    #annotate axis = seaborn axis\n",
    "    for p in ax[2].patches:\n",
    "                 ax[2].annotate(\"%.2f %%\" % p.get_height(), (p.get_x() + p.get_width() / 2., p.get_height()),\n",
    "                     ha='center', va='center', fontsize=11,  xytext=(0, 10),\n",
    "                     textcoords='offset points')\n",
    "        \n",
    "    \n",
    "    plt.yticks(rotation = 0)\n",
    "    plt.show()"
   ]
  },
  {
   "cell_type": "markdown",
   "metadata": {},
   "source": [
    "### Continuous Features - Univariate & Segmented Univariate Analysis"
   ]
  },
  {
   "cell_type": "code",
   "execution_count": null,
   "metadata": {
    "ExecuteTime": {
     "start_time": "2021-04-25T18:04:53.218Z"
    }
   },
   "outputs": [],
   "source": [
    "\n",
    "# For each continuous variable, plot\n",
    "# a. Distribution plot for each continuous variable - Univariate Analysis\n",
    "# b. Distribution plot against the target variable - Segmented Univariate Analysis\n",
    "for col in CONTINUOUS_VAR_TO_ANALYSE:\n",
    "    fig, ax = plt.subplots(2, 1, figsize=(20, 8))\n",
    "    fig.suptitle(col, fontsize=18)\n",
    "    sns.distplot(cust[col], kde=False, ax=ax[0])\n",
    "    for i in sorted(cust[DEPENDENT_VARIABLE].unique()):\n",
    "        sns.distplot(cust[cust[DEPENDENT_VARIABLE] == i][col], kde=False, ax=ax[1], label=f'{DEPENDENT_VARIABLE} = {i}')\n",
    "    ax[1].legend()"
   ]
  },
  {
   "cell_type": "markdown",
   "metadata": {},
   "source": [
    "## Bivariate analysis"
   ]
  },
  {
   "cell_type": "markdown",
   "metadata": {},
   "source": [
    "### Heat map/correlation matrix"
   ]
  },
  {
   "cell_type": "code",
   "execution_count": null,
   "metadata": {
    "ExecuteTime": {
     "start_time": "2021-04-25T18:04:53.224Z"
    }
   },
   "outputs": [],
   "source": [
    "df = cust[CONTINUOUS_VAR_TO_ANALYSE + ['churn']]\n",
    "corr = df.corr() "
   ]
  },
  {
   "cell_type": "code",
   "execution_count": null,
   "metadata": {
    "ExecuteTime": {
     "start_time": "2021-04-25T18:04:53.229Z"
    }
   },
   "outputs": [],
   "source": [
    "f = plt.figure(figsize=(20, 15))\n",
    "\n",
    "ax = plt.matshow(corr, fignum=f.number,cmap='RdYlGn')\n",
    "plt.xticks(range(df.shape[1]), df.columns, fontsize=14, rotation=45)\n",
    "plt.yticks(range(df.shape[1]), df.columns, fontsize=14)\n",
    "cb = plt.colorbar()\n",
    "cb.ax.tick_params(labelsize=14)\n",
    "#ax.set_ylim([0,2])\n",
    "plt.title('Correlation Matrix', fontsize=16);"
   ]
  },
  {
   "cell_type": "code",
   "execution_count": null,
   "metadata": {
    "ExecuteTime": {
     "start_time": "2021-04-25T18:04:53.236Z"
    }
   },
   "outputs": [],
   "source": [
    "\n",
    "corr.style.background_gradient(cmap='coolwarm').set_precision(1)"
   ]
  },
  {
   "cell_type": "code",
   "execution_count": null,
   "metadata": {
    "ExecuteTime": {
     "start_time": "2021-04-25T18:04:53.241Z"
    }
   },
   "outputs": [],
   "source": [
    "sns.pairplot(df)"
   ]
  },
  {
   "cell_type": "markdown",
   "metadata": {},
   "source": [
    "<TODO> Insights:\n",
    "    High correlation between 2 consecutive months (M6 & M7, M7 & M8).<br>\n",
    "    Good correlation between alternate months (M6 & M8)<br>\n",
    "--     Churn is negatively correlated to the calls made to the customer care (t2c). More calls to customer care implies more chances of churning."
   ]
  },
  {
   "cell_type": "markdown",
   "metadata": {},
   "source": [
    "# Derive new features"
   ]
  },
  {
   "cell_type": "markdown",
   "metadata": {},
   "source": [
    "- Derive new features on average usage in good & action phase \n",
    "- Derive new feature on usage during action phase vs good phase"
   ]
  },
  {
   "cell_type": "code",
   "execution_count": null,
   "metadata": {
    "ExecuteTime": {
     "start_time": "2021-04-25T18:04:53.248Z"
    }
   },
   "outputs": [],
   "source": [
    "# Method to create the derived features for the given column pattern\n",
    "# 1. Get the average of good phase and action phase\n",
    "# 2. Get the increase or decrease in the action phase as compared to the average in good phase\n",
    "# 2. Drops the features from which the new columns were created to remove multicollinearity\n",
    "def create_derived_avg_variables(pattern,col_prefix):\n",
    "   # Create columns for the good phase & action phase\n",
    "    gphase_cols = [col for col in cust.columns if re.match(f'{pattern}[_6|_7]$', col)]\n",
    "    aphase_cols = [col for col in cust.columns if re.match(f'{pattern}[_8]$', col)]\n",
    "\n",
    "    # Get average for good phase - Months 6 & 7\n",
    "    good_phase_average = round((cust[gphase_cols].sum(axis=1))/2,2)\n",
    "    cust[f'{col_prefix}_gphase_avg'] = good_phase_average\n",
    "\n",
    "    # Get average for action phase - Month 8\n",
    "    action_phase_average = round(cust[aphase_cols].sum(axis=1),2)\n",
    "    cust[f'{col_prefix}_aphase_avg'] = action_phase_average \n",
    "    \n",
    "    # Get the increase or decrease in the action phase as compared to the average in good phase\n",
    "    # Difference value = (action phase average - good phase average)\n",
    "    # Hypothesis: If the values are in negative, it implies that the variable has reduced in the action phase as compared to an average in the good phase - more likely to churn\n",
    "      \n",
    "    cust[f'{col_prefix}_gaphase_diff'] = round((action_phase_average - good_phase_average),2) \n",
    "    \n",
    "    # Verify Values\n",
    "    print('Sample data for cross-verification:')\n",
    "    display(cust[gphase_cols + aphase_cols +[f'{col_prefix}_gphase_avg',f'{col_prefix}_aphase_avg',f'{col_prefix}_gaphase_diff']].tail())\n",
    "    \n",
    "    # Drop monthly arpu related columns after creating the derived variables\n",
    "#    cust.drop(gphase_cols, axis=1, inplace=True)\n",
    "#    cust.drop(aphase_cols, axis=1, inplace=True)"
   ]
  },
  {
   "cell_type": "code",
   "execution_count": null,
   "metadata": {},
   "outputs": [],
   "source": []
  },
  {
   "cell_type": "markdown",
   "metadata": {},
   "source": [
    "## Derive based on ARPU (Average Revenue Per User)"
   ]
  },
  {
   "cell_type": "code",
   "execution_count": null,
   "metadata": {
    "ExecuteTime": {
     "start_time": "2021-04-25T18:04:53.256Z"
    }
   },
   "outputs": [],
   "source": [
    "create_derived_avg_variables('^arpu_.*','arpu')"
   ]
  },
  {
   "cell_type": "markdown",
   "metadata": {},
   "source": [
    "## Derive based on total MOU (Minutes of Usage)"
   ]
  },
  {
   "cell_type": "code",
   "execution_count": null,
   "metadata": {
    "ExecuteTime": {
     "start_time": "2021-04-25T18:04:53.262Z"
    }
   },
   "outputs": [],
   "source": [
    "create_derived_avg_variables('^total_og.*mou_','total_og_mou')\n",
    "create_derived_avg_variables('^total_ic.*mou_','total_ic_mou')"
   ]
  },
  {
   "cell_type": "markdown",
   "metadata": {},
   "source": [
    "## Derive based on volume of data usage"
   ]
  },
  {
   "cell_type": "code",
   "execution_count": null,
   "metadata": {
    "ExecuteTime": {
     "start_time": "2021-04-25T18:04:53.270Z"
    }
   },
   "outputs": [],
   "source": [
    "create_derived_avg_variables('^vol_.*','vol')"
   ]
  },
  {
   "cell_type": "markdown",
   "metadata": {
    "ExecuteTime": {
     "end_time": "2021-04-23T05:14:47.790957Z",
     "start_time": "2021-04-23T05:14:47.788267Z"
    }
   },
   "source": [
    "## Derive based on outgoing calls"
   ]
  },
  {
   "cell_type": "code",
   "execution_count": null,
   "metadata": {
    "ExecuteTime": {
     "start_time": "2021-04-25T18:04:53.275Z"
    }
   },
   "outputs": [],
   "source": [
    "# # Handle the outgoing calls to customer care separately\n",
    "# create_derived_avg_variables('^loc_og_t2c_mou_','loc_t2c_og')\n",
    "# create_derived_avg_variables('^loc_og_.*','loc_og')"
   ]
  },
  {
   "cell_type": "markdown",
   "metadata": {},
   "source": [
    "## Derive based on incoming calls"
   ]
  },
  {
   "cell_type": "code",
   "execution_count": null,
   "metadata": {
    "ExecuteTime": {
     "start_time": "2021-04-25T18:04:53.280Z"
    }
   },
   "outputs": [],
   "source": [
    "# create_derived_avg_variables('^loc_ic_.*','loc_ic')"
   ]
  },
  {
   "cell_type": "code",
   "execution_count": null,
   "metadata": {
    "ExecuteTime": {
     "start_time": "2021-04-25T18:04:53.285Z"
    }
   },
   "outputs": [],
   "source": [
    "cust.shape"
   ]
  },
  {
   "cell_type": "markdown",
   "metadata": {},
   "source": [
    "## Derive for the roaming calls"
   ]
  },
  {
   "cell_type": "code",
   "execution_count": null,
   "metadata": {
    "ExecuteTime": {
     "start_time": "2021-04-25T18:04:53.291Z"
    }
   },
   "outputs": [],
   "source": [
    "create_derived_avg_variables('^roam_.*_mou_','roam_mou')"
   ]
  },
  {
   "cell_type": "markdown",
   "metadata": {},
   "source": [
    "## Derive for recharge amount and drop the other rech columns"
   ]
  },
  {
   "cell_type": "code",
   "execution_count": null,
   "metadata": {
    "ExecuteTime": {
     "start_time": "2021-04-25T18:04:53.297Z"
    }
   },
   "outputs": [],
   "source": [
    "cust['total_rech_data_amt_6'] = cust['total_rech_data_6']*cust['av_rech_amt_data_6']\n",
    "cust['total_rech_data_amt_7'] = cust['total_rech_data_7']*cust['av_rech_amt_data_7']\n",
    "cust['total_rech_data_amt_8'] = cust['total_rech_data_8']*cust['av_rech_amt_data_8']\n",
    "cust.drop(['total_rech_data_6','av_rech_amt_data_6','total_rech_data_7','av_rech_amt_data_7','total_rech_data_8','av_rech_amt_data_8'],axis=1,inplace=True)"
   ]
  },
  {
   "cell_type": "code",
   "execution_count": null,
   "metadata": {
    "ExecuteTime": {
     "start_time": "2021-04-25T18:04:53.304Z"
    }
   },
   "outputs": [],
   "source": [
    "create_derived_avg_variables('^total_rech_.*amt_','total_rech_amt')\n",
    "create_derived_avg_variables('^count_rech_.*g_','count_rech')\n",
    "create_derived_avg_variables('^total_rech_num_','total_rech_num')\n",
    "create_derived_avg_variables('^max_rech_amt_','max_rech_amt')\n",
    "create_derived_avg_variables('^max_rech_data_','max_rech_data')\n",
    "create_derived_avg_variables('^last_day_rch_amt_','last_day_rch_amt')\n"
   ]
  },
  {
   "cell_type": "markdown",
   "metadata": {
    "ExecuteTime": {
     "end_time": "2021-04-24T12:56:35.780054Z",
     "start_time": "2021-04-24T12:56:35.718011Z"
    }
   },
   "source": [
    "## Derive for std incoming & outgoing"
   ]
  },
  {
   "cell_type": "code",
   "execution_count": null,
   "metadata": {
    "ExecuteTime": {
     "start_time": "2021-04-25T18:04:53.310Z"
    }
   },
   "outputs": [],
   "source": [
    "# create_derived_avg_variables('^std_og_.*','std_og')\n",
    "# create_derived_avg_variables('^std_ic_.*','std_ic')"
   ]
  },
  {
   "cell_type": "code",
   "execution_count": null,
   "metadata": {
    "ExecuteTime": {
     "start_time": "2021-04-25T18:04:53.315Z"
    }
   },
   "outputs": [],
   "source": [
    "[col for col in cust.columns if re.search(f'rech', col)]"
   ]
  },
  {
   "cell_type": "code",
   "execution_count": null,
   "metadata": {
    "ExecuteTime": {
     "start_time": "2021-04-25T18:04:53.319Z"
    }
   },
   "outputs": [],
   "source": [
    "cust.shape"
   ]
  },
  {
   "cell_type": "code",
   "execution_count": null,
   "metadata": {
    "ExecuteTime": {
     "start_time": "2021-04-25T18:04:53.325Z"
    }
   },
   "outputs": [],
   "source": [
    "cust.describe(percentiles = [0.01,0.05,0.1,0.25,0.5,0.75,0.9,0.95,0.99])"
   ]
  },
  {
   "cell_type": "markdown",
   "metadata": {},
   "source": [
    "# Split data to independent & dependent variables"
   ]
  },
  {
   "cell_type": "code",
   "execution_count": null,
   "metadata": {
    "ExecuteTime": {
     "start_time": "2021-04-25T18:04:53.330Z"
    }
   },
   "outputs": [],
   "source": [
    "X = cust.drop([DEPENDENT_VARIABLE],axis=1)\n",
    "y = cust[DEPENDENT_VARIABLE]"
   ]
  },
  {
   "cell_type": "markdown",
   "metadata": {},
   "source": [
    "# Handle class imbalance"
   ]
  },
  {
   "cell_type": "code",
   "execution_count": null,
   "metadata": {
    "ExecuteTime": {
     "start_time": "2021-04-25T18:04:53.336Z"
    }
   },
   "outputs": [],
   "source": [
    "cust['churn'].value_counts()"
   ]
  },
  {
   "cell_type": "markdown",
   "metadata": {
    "ExecuteTime": {
     "end_time": "2021-04-21T03:22:44.881322Z",
     "start_time": "2021-04-21T03:22:10.485Z"
    }
   },
   "source": [
    "<font color='green'>\n",
    "    <b>Observations on class imbalance:</b><br>\n",
    "- In the given dataset, churn vs non-churn is at 10%-90%. <br>\n",
    "- This is a case of class imbalance where one class outnumbers the other. <br>\n",
    "- We can apply some of the class imbalance techniques to address this issue and observe how the models behave <br>\n",
    "- In this case study we shall use the oversampling & SMOTE techniques to address the class imbalance issue\n",
    "</font>"
   ]
  },
  {
   "cell_type": "markdown",
   "metadata": {},
   "source": [
    "## Oversampling"
   ]
  },
  {
   "cell_type": "code",
   "execution_count": null,
   "metadata": {
    "ExecuteTime": {
     "start_time": "2021-04-25T18:04:53.342Z"
    }
   },
   "outputs": [],
   "source": [
    "# import library\n",
    "from imblearn.over_sampling import RandomOverSampler\n",
    "\n",
    "over_sampler = RandomOverSampler(random_state=42)\n",
    "\n",
    "# fit predictor and target variablex_ros, \n",
    "X_oversampled, y_oversampled = over_sampler.fit_resample(X,y)\n",
    "\n",
    "\n",
    "print(f'''Shape of X before oversampling: {X.shape}\n",
    "Shape of X after oversampling: {X_oversampled.shape}''')\n",
    "\n",
    "print('\\nBalance of positive and negative classes (%):')\n",
    "y_oversampled.value_counts(normalize=True) * 100\n",
    "\n"
   ]
  },
  {
   "cell_type": "markdown",
   "metadata": {},
   "source": [
    "## SMOTE"
   ]
  },
  {
   "cell_type": "code",
   "execution_count": null,
   "metadata": {
    "ExecuteTime": {
     "start_time": "2021-04-25T18:04:53.347Z"
    }
   },
   "outputs": [],
   "source": [
    "from imblearn.over_sampling import SMOTE \n",
    "\n",
    "smote = SMOTE(random_state=42)\n",
    "\n",
    "X_smote, y_smote = smote.fit_resample(X, y)\n",
    "\n",
    "print(f'''Shape of X before SMOTE: {X.shape}\n",
    "Shape of X after SMOTE: {X_smote.shape}''')\n",
    "\n",
    "print('\\nBalance of positive and negative classes (%):')\n",
    "y_smote.value_counts(normalize=True) * 100"
   ]
  },
  {
   "cell_type": "code",
   "execution_count": null,
   "metadata": {},
   "outputs": [],
   "source": []
  },
  {
   "cell_type": "code",
   "execution_count": null,
   "metadata": {},
   "outputs": [],
   "source": []
  },
  {
   "cell_type": "code",
   "execution_count": null,
   "metadata": {},
   "outputs": [],
   "source": []
  },
  {
   "cell_type": "markdown",
   "metadata": {},
   "source": [
    "# Train-test split"
   ]
  },
  {
   "cell_type": "markdown",
   "metadata": {},
   "source": [
    "## Train-test split on original data (without oversampling or SMOTE)"
   ]
  },
  {
   "cell_type": "code",
   "execution_count": null,
   "metadata": {
    "ExecuteTime": {
     "start_time": "2021-04-25T18:04:53.361Z"
    }
   },
   "outputs": [],
   "source": [
    "# 70% of data used as train data and the remaining 30% as test data\n",
    "X_train, X_test, y_train, y_test = train_test_split(X,y,test_size = 0.3, random_state=100)"
   ]
  },
  {
   "cell_type": "markdown",
   "metadata": {},
   "source": [
    "## Train-test split on oversampled data \n"
   ]
  },
  {
   "cell_type": "code",
   "execution_count": null,
   "metadata": {
    "ExecuteTime": {
     "start_time": "2021-04-25T18:04:53.367Z"
    }
   },
   "outputs": [],
   "source": [
    "# 70% of data used as train data and the remaining 30% as test data\n",
    "X_oversampled_train, X_oversampled_test, y_oversampled_train, y_oversampled_test = train_test_split(X_oversampled,y_oversampled,test_size = 0.3, random_state=100)"
   ]
  },
  {
   "cell_type": "markdown",
   "metadata": {},
   "source": [
    "## Train-test split on SMOTE data \n"
   ]
  },
  {
   "cell_type": "code",
   "execution_count": null,
   "metadata": {
    "ExecuteTime": {
     "start_time": "2021-04-25T18:04:53.371Z"
    }
   },
   "outputs": [],
   "source": [
    "# 70% of data used as train data and the remaining 30% as test data\n",
    "X_smote_train, X_smote_test, y_smote_train, y_smote_test = train_test_split(X_smote,y_smote,test_size = 0.3, random_state=100)"
   ]
  },
  {
   "cell_type": "markdown",
   "metadata": {},
   "source": [
    "# Feature Scaling"
   ]
  },
  {
   "cell_type": "markdown",
   "metadata": {
    "ExecuteTime": {
     "start_time": "2021-04-24T17:58:34.808Z"
    }
   },
   "source": [
    "- After the train-test split, the features needs to be scaled as they are of different ranges.  \n",
    "- Here we will use the MinMaxScaler to scale the data  \n",
    "- All the 3 sets of data that has been created should be scaled.  \n",
    "- Scaler should be fit on the training data. Only the transform method needs to be applied on the test data. (To ensure that the min & max values from the train data is used on the test data)"
   ]
  },
  {
   "cell_type": "code",
   "execution_count": null,
   "metadata": {
    "ExecuteTime": {
     "start_time": "2021-04-25T18:04:53.378Z"
    }
   },
   "outputs": [],
   "source": [
    "cols_to_scale = X_train.columns"
   ]
  },
  {
   "cell_type": "code",
   "execution_count": null,
   "metadata": {
    "ExecuteTime": {
     "start_time": "2021-04-25T18:04:53.382Z"
    }
   },
   "outputs": [],
   "source": [
    "# Scale the original dataset\n",
    "scaler = MinMaxScaler()\n",
    "X_train[cols_to_scale] = scaler.fit_transform(X_train[cols_to_scale])\n",
    "X_test[cols_to_scale]  = scaler.transform(X_test[cols_to_scale] )"
   ]
  },
  {
   "cell_type": "code",
   "execution_count": null,
   "metadata": {
    "ExecuteTime": {
     "start_time": "2021-04-25T18:04:53.387Z"
    }
   },
   "outputs": [],
   "source": [
    "# Scale the oversampled dataset\n",
    "scaler_os = MinMaxScaler()\n",
    "X_oversamfpled_train[cols_to_scale] = scaler_os.fit_transform(X_oversampled_train[cols_to_scale])\n",
    "X_oversampled_test[cols_to_scale] = scaler_os.transform(X_oversampled_test[cols_to_scale])"
   ]
  },
  {
   "cell_type": "code",
   "execution_count": null,
   "metadata": {
    "ExecuteTime": {
     "start_time": "2021-04-25T18:04:53.391Z"
    }
   },
   "outputs": [],
   "source": [
    "# Scale the SMOTE dataset\n",
    "scaler_smote = MinMaxScaler()\n",
    "X_smote_train[cols_to_scale] = scaler_smote.fit_transform(X_smote_train[cols_to_scale])\n",
    "X_smote_test[cols_to_scale] = scaler_smote.transform(X_smote_test[cols_to_scale])"
   ]
  },
  {
   "cell_type": "code",
   "execution_count": null,
   "metadata": {
    "ExecuteTime": {
     "start_time": "2021-04-25T18:04:53.397Z"
    }
   },
   "outputs": [],
   "source": [
    "X_train.describe()"
   ]
  },
  {
   "cell_type": "markdown",
   "metadata": {},
   "source": [
    "# SET CONFIGURATIONS"
   ]
  },
  {
   "cell_type": "markdown",
   "metadata": {},
   "source": [
    "## Set models to be run and compared"
   ]
  },
  {
   "cell_type": "code",
   "execution_count": null,
   "metadata": {
    "ExecuteTime": {
     "start_time": "2021-04-25T18:04:53.403Z"
    }
   },
   "outputs": [],
   "source": [
    "# All supported models that can be run\n",
    "ALL_SUPPORTED_MODELS = ['LOGISTRIC_REGRESSION','DECISION_TREE','RANDOM_FOREST','GAUSSIAN_NAIVE_BAYES','GRADIENT_BOOST','XGB_CLASSIFIER','SVM_CLASSIFIER','KNN_CLASSIFIER','ADABOOST_CLASSIFIER','MLP_CLASSIFIER']\n",
    "\n",
    "# Select models that needs to be run (Set to ALL_SUPPORTED_MODELS if all the models has to be run - RunTime could be high)\n",
    "MODELS_TO_RUN =     ['LOGISTRIC_REGRESSION','DECISION_TREE','RANDOM_FOREST','GAUSSIAN_NAIVE_BAYES','GRADIENT_BOOST','XGB_CLASSIFIER','ADABOOST_CLASSIFIER']"
   ]
  },
  {
   "cell_type": "markdown",
   "metadata": {},
   "source": [
    "## Set the evaluation metric"
   ]
  },
  {
   "cell_type": "code",
   "execution_count": null,
   "metadata": {
    "ExecuteTime": {
     "start_time": "2021-04-25T18:04:53.409Z"
    }
   },
   "outputs": [],
   "source": [
    "GRID_SEARCH_SCORING  = 'f1'# Metric used to identify the best model during hyperparameter tuning\n",
    "EVALUATION_METRIC = 'F1 Score' #'Accuracy','AUROC','Sensitivity','Specificity','Precision'\n",
    "SORT_ASCENDING = False"
   ]
  },
  {
   "cell_type": "markdown",
   "metadata": {},
   "source": [
    "## Labels in the dataset"
   ]
  },
  {
   "cell_type": "code",
   "execution_count": null,
   "metadata": {
    "ExecuteTime": {
     "start_time": "2021-04-25T18:04:53.414Z"
    }
   },
   "outputs": [],
   "source": [
    "labels = list(set(y_test))"
   ]
  },
  {
   "cell_type": "markdown",
   "metadata": {},
   "source": [
    "## Grid/Random Search for Random Forest - Hyperparameter Tuning"
   ]
  },
  {
   "cell_type": "code",
   "execution_count": null,
   "metadata": {
    "ExecuteTime": {
     "start_time": "2021-04-25T18:04:53.419Z"
    }
   },
   "outputs": [],
   "source": [
    "classifier_rf = RandomForestClassifier(random_state=42, n_jobs=-1)\n",
    "# Create the parameter grid based on the results of random search \n",
    "params = {\n",
    "    'max_depth': [1, 2, 5, 10, 15],\n",
    "    'min_samples_leaf': [5, 10, 20, 50, 100],\n",
    "    'max_features': [2,3,4],\n",
    "    'n_estimators': [50, 100, 250, 500]\n",
    "}\n",
    "\n",
    "param_comb = 100\n",
    "\n",
    "# Instantiate the grid search model - takes around 1hr 22m for PCA RF HPT\n",
    "grid_search_rf = GridSearchCV(estimator=classifier_rf, param_grid=params, \n",
    "                          cv=4, n_jobs=-1, verbose=1, scoring = GRID_SEARCH_SCORING)\n",
    "\n",
    "# Instantiate a random search model - to reduce the run-time\n",
    "random_search_rf = RandomizedSearchCV(estimator=classifier_rf, param_distributions=params, n_iter=param_comb, scoring=GRID_SEARCH_SCORING, n_jobs=-1, cv=4, verbose=1, random_state=42)\n"
   ]
  },
  {
   "cell_type": "markdown",
   "metadata": {},
   "source": [
    "## Random Search for XGBoost - Hyperparameter Tuning\n"
   ]
  },
  {
   "cell_type": "code",
   "execution_count": null,
   "metadata": {
    "ExecuteTime": {
     "start_time": "2021-04-25T18:04:53.424Z"
    }
   },
   "outputs": [],
   "source": [
    "classifier_xgb = XGBClassifier(n_jobs = -1,objective = 'binary:logistic')\n",
    "\n",
    "# A parameter grid for XGBoost\n",
    "params = {\n",
    "        'n_estimators' : [50, 100, 250, 500], # no of trees \n",
    "        'learning_rate' : [0.01, 0.02, 0.05, 0.1, 0.25],  # eta\n",
    "        'min_child_weight': [1, 5, 7, 10],\n",
    "        'gamma': [0.1, 0.5, 1, 1.5, 5],\n",
    "        'subsample': [0.6, 0.8, 1.0],\n",
    "        'colsample_bytree': [0.6, 0.8, 1.0],\n",
    "        'max_depth': [1, 2, 5, 10, 15]\n",
    "        }\n",
    "\n",
    "param_comb = 100 # to reduce run-time  \n",
    "\n",
    "random_search_xgb = RandomizedSearchCV(classifier_xgb, param_distributions=params, n_iter=param_comb, scoring=GRID_SEARCH_SCORING, n_jobs=-1, cv=4, verbose=3, random_state=42)\n"
   ]
  },
  {
   "cell_type": "markdown",
   "metadata": {},
   "source": [
    "# Helper Functions - Model Building"
   ]
  },
  {
   "cell_type": "markdown",
   "metadata": {},
   "source": [
    "## Fit & Predict"
   ]
  },
  {
   "cell_type": "code",
   "execution_count": null,
   "metadata": {
    "ExecuteTime": {
     "start_time": "2021-04-25T18:04:53.431Z"
    }
   },
   "outputs": [],
   "source": [
    "def model_fit_predict(model,X_train, X_test, y_train, y_test):\n",
    "    model.fit(X_train, y_train)\n",
    "    y_pred = model.predict(X_test)\n",
    "    return get_performance_measures(Y_test = y_test, Y_predict = y_pred, labels = labels)"
   ]
  },
  {
   "cell_type": "markdown",
   "metadata": {},
   "source": [
    "## Print elapsed time in min & sec"
   ]
  },
  {
   "cell_type": "code",
   "execution_count": null,
   "metadata": {
    "ExecuteTime": {
     "start_time": "2021-04-25T18:04:53.437Z"
    }
   },
   "outputs": [],
   "source": [
    "def print_elapsed_time(end_time,start_time):\n",
    "    total_time = end_time - start_time\n",
    "    print(f'Elapsed time: {total_time//60} min {round(total_time - total_time//60,3)} sec')\n",
    "    \n",
    "    "
   ]
  },
  {
   "cell_type": "markdown",
   "metadata": {},
   "source": [
    "## Run models based on MODELS_TO_RUN list"
   ]
  },
  {
   "cell_type": "code",
   "execution_count": null,
   "metadata": {
    "ExecuteTime": {
     "start_time": "2021-04-25T18:04:53.443Z"
    }
   },
   "outputs": [],
   "source": [
    "def run_all_models(X_train, X_test, y_train, y_test,model_type, model_result):\n",
    "    \n",
    "    start_time = time.time()\n",
    "    \n",
    "    # Logistic Regression\n",
    "    if 'LOGISTRIC_REGRESSION' in MODELS_TO_RUN:\n",
    "        print(f'\\nRunning Model: Logistic Regression')\n",
    "        model_start_time = time.time()\n",
    "        model_result[f'{model_type}-LR'] = model_fit_predict(LogisticRegression(random_state=42),X_train, X_test, y_train, y_test)\n",
    "        print_elapsed_time(time.time(),model_start_time)\n",
    "    \n",
    "    # Decision Tree Classifier\n",
    "    if 'DECISION_TREE' in MODELS_TO_RUN:\n",
    "        print(f'\\nRunning Model: Decision Tree Classifier')\n",
    "        model_start_time = time.time()\n",
    "        model_result[f'{model_type}-DCART'] = model_fit_predict(DecisionTreeClassifier(random_state=42),X_train, X_test, y_train, y_test)\n",
    "        print_elapsed_time(time.time(),model_start_time)\n",
    "    \n",
    "    # Random Forest Classifier \n",
    "    if 'RANDOM_FOREST' in MODELS_TO_RUN:\n",
    "        print(f'\\nRunning Model: Random Forest Classifier')\n",
    "        model_start_time = time.time()\n",
    "        model_result[f'{model_type}-RF'] = model_fit_predict(RandomForestClassifier(random_state=42),X_train, X_test, y_train, y_test)\n",
    "        print_elapsed_time(time.time(),model_start_time)\n",
    "    \n",
    "    # Naive Bayes Classifier\n",
    "    if 'GAUSSIAN_NAIVE_BAYES' in MODELS_TO_RUN:\n",
    "        print(f'\\nRunning Model: Naive Bayes Classifier')\n",
    "        model_start_time = time.time()\n",
    "        model_result[f'{model_type}-NB'] = model_fit_predict(GaussianNB(),X_train, X_test, y_train, y_test)\n",
    "        print_elapsed_time(time.time(),model_start_time)\n",
    "    \n",
    "    # Gradient Boost Classifier\n",
    "    if 'GRADIENT_BOOST' in MODELS_TO_RUN:\n",
    "        print(f'\\nRunning Model: Gradient Boost Classifier')\n",
    "        model_start_time = time.time()\n",
    "        model_result[f'{model_type}-GB'] = model_fit_predict(GradientBoostingClassifier(random_state=42),X_train, X_test, y_train, y_test)\n",
    "        print_elapsed_time(time.time(),model_start_time)\n",
    "    \n",
    "    # XGBoost Classifier\n",
    "    if 'XGB_CLASSIFIER' in MODELS_TO_RUN:\n",
    "        print(f'\\nRunning Model: XGBoost Classifier')\n",
    "        model_start_time = time.time()\n",
    "        model_result[f'{model_type}-XGB'] = model_fit_predict(XGBClassifier(random_state=42),X_train, X_test, y_train, y_test)\n",
    "        print_elapsed_time(time.time(),model_start_time)\n",
    "    \n",
    "    \n",
    "    # SVM Classifier\n",
    "    if 'SVM_CLASSIFIER' in MODELS_TO_RUN:\n",
    "        print(f'\\nRunning Model: SVM Classifier')\n",
    "        model_start_time = time.time()\n",
    "        model_result[f'{model_type}-SVC'] = model_fit_predict(SVC(probability=True,random_state=42),X_train, X_test, y_train, y_test)\n",
    "        print_elapsed_time(time.time(),model_start_time)\n",
    "    \n",
    "    # K-Nearest Neighbors Classifier\n",
    "    if 'KNN_CLASSIFIER' in MODELS_TO_RUN:\n",
    "        print(f'\\nRunning Model: K-Nearest Neighbors Classifier')\n",
    "        model_start_time = time.time()\n",
    "        model_result[f'{model_type}-KNN'] = model_fit_predict(KNeighborsClassifier(),X_train, X_test, y_train, y_test)\n",
    "        print_elapsed_time(time.time(),model_start_time)\n",
    "\n",
    "    # AdaBoost Classifier\n",
    "    if 'ADABOOST_CLASSIFIER' in MODELS_TO_RUN:\n",
    "        print(f'\\nRunning Model: AdaBoost Classifier')\n",
    "        model_start_time = time.time()\n",
    "        model_result[f'{model_type}-ABC'] = model_fit_predict(AdaBoostClassifier(random_state=42),X_train, X_test, y_train, y_test)\n",
    "        print_elapsed_time(time.time(),model_start_time)\n",
    "    \n",
    "    # MLP Classifier\n",
    "    if 'MLP_CLASSIFIER' in MODELS_TO_RUN:\n",
    "        print(f'\\nRunning Model: MLP Classifier')\n",
    "        model_start_time = time.time()\n",
    "        model_result[f'{model_type}-MLP'] = model_fit_predict(MLPClassifier(random_state=42),X_train, X_test, y_train, y_test)\n",
    "        print_elapsed_time(time.time(),model_start_time)\n",
    "    \n",
    "    print('\\nCOMPLETED RUNNING ALL THE MODELS SUCCESSFULLY!!')\n",
    "    print_elapsed_time(time.time(),start_time)\n",
    "    \n",
    "    return model_result.T"
   ]
  },
  {
   "cell_type": "markdown",
   "metadata": {},
   "source": [
    "## Compute the evaluation metrics"
   ]
  },
  {
   "cell_type": "code",
   "execution_count": null,
   "metadata": {
    "ExecuteTime": {
     "start_time": "2021-04-25T18:04:53.448Z"
    }
   },
   "outputs": [],
   "source": [
    "# Compute classification accuracy: percentage of correct predictions\n",
    "def get_accuracy(Y_test, Y_predict):\n",
    "    accuracy_score_value = accuracy_score(Y_test, Y_predict)\n",
    "    return accuracy_score_value\n",
    "        \n",
    "# Compute the confusion metrics\n",
    "def get_confusion_matrix(Y_test, Y_predict, labels):\n",
    "    from sklearn.metrics import confusion_matrix\n",
    "\n",
    "    conf_matrix = pd.DataFrame(confusion_matrix(Y_test, Y_predict, labels=labels), columns=labels, index=labels)\n",
    "    conf_matrix_df = conf_matrix.add_prefix('Predicted ')\n",
    "    conf_matrix_df.index = ['Actual ' + str(row_name) for row_name in conf_matrix_df.index]\n",
    "    return conf_matrix_df, conf_matrix\n",
    "\n",
    "# Compute null accuracy\n",
    "def get_null_accuracy(Y_test, multiclass):\n",
    "    # Null accuracy: accuracy that could be achieved by always predicting the most frequent class\n",
    "    # Used as a reference as minimum accuracy to be achieved with the model\n",
    "    null_accuracy = Y_test.value_counts().head(1) / len(Y_test)\n",
    "    return null_accuracy.values[0]\n",
    "\n",
    "\n",
    "def get_individual_values_from_confusion_matrix(conf_matrix):\n",
    "    # https://stackoverflow.com/questions/31324218/scikit-learn-how-to-obtain-true-positive-true-negative-false-positive-and-fal\n",
    "    import numpy as np\n",
    "    FP = conf_matrix.sum(axis=0) - np.diag(conf_matrix)\n",
    "    FN = conf_matrix.sum(axis=1) - np.diag(conf_matrix)\n",
    "    TP = np.diag(conf_matrix)\n",
    "    TN = conf_matrix.values.sum() - (FP + FN + TP)\n",
    "\n",
    "    return FP, FN, TP, TN\n",
    "\n",
    "\n",
    "# Sensitivity, hit rate, recall, or true positive rate\n",
    "def get_sensitivity(TP, FN):\n",
    "    return TP / (TP + FN)\n",
    "\n",
    "\n",
    "# Specificity or true negative rate\n",
    "def get_specificity(TN, FP):\n",
    "    return TN / (TN + FP)\n",
    "\n",
    "\n",
    "# Precision or positive predictive value\n",
    "def get_precision(TP, FP):\n",
    "    return TP / (TP + FP)\n",
    "\n",
    "\n",
    "# F1-SCORE\n",
    "def get_f1_score(precision, sensitivity):\n",
    "    return 2 * ((precision * sensitivity) / (precision + sensitivity))\n",
    "\n",
    "\n",
    "# Negative predictive value\n",
    "def get_negative_predictive_value(TN, FN):\n",
    "    return TN / (TN + FN)\n",
    "\n",
    "\n",
    "# Fall out or false positive rate\n",
    "def get_false_positive_rate(FP, TN):\n",
    "    return FP / (FP + TN)\n",
    "\n",
    "\n",
    "# False negative rate\n",
    "def get_false_negative_rate(FN, TP):\n",
    "    return FN / (TP + FN)\n",
    "\n",
    "\n",
    "# False discovery rate\n",
    "def get_false_discovery_rate(FP, TP):\n",
    "    return FP / (TP + FP)\n",
    "\n",
    "\n",
    "# Log loss\n",
    "def get_log_loss(y_true, y_pred_proba):\n",
    "    from sklearn.metrics import log_loss\n",
    "    return log_loss(y_true, y_pred_proba, eps=1e-15)\n",
    "\n",
    "# AUROC score\n",
    "def get_roc_auc_score(Y_test,Y_predict):\n",
    "    return roc_auc_score(Y_test,Y_predict)\n",
    "\n",
    "def get_performance_measures(Y_test, Y_predict, labels):\n",
    "    conf_matrix_df, conf_matrix = get_confusion_matrix(Y_test, Y_predict, labels)\n",
    "    FP, FN, TP, TN = get_individual_values_from_confusion_matrix(conf_matrix)\n",
    "    df = pd.DataFrame({\n",
    "        'Accuracy': get_accuracy(Y_test,Y_predict),\n",
    "        'Null Accuracy': get_null_accuracy(Y_test,Y_predict),\n",
    "        'AUROC':get_roc_auc_score(Y_test,Y_predict),\n",
    "        'Sensitivity': get_sensitivity(TP, FN),\n",
    "        'Specificity': get_specificity(TN, FP),\n",
    "        'Precision': get_precision(TP, FP),\n",
    "        'F1 Score': get_f1_score(get_precision(TP, FP), get_sensitivity(TP, FN)),\n",
    "        'Negative Predictive Value': get_negative_predictive_value(TN, FN),\n",
    "        'False Positive Rate': get_false_positive_rate(FP, TN),\n",
    "        'False Negative Rate': get_false_negative_rate(FN, TP),\n",
    "        'False Discovery Rate': get_false_discovery_rate(FP, TP),\n",
    "    })#.T.add_prefix('Class ')\n",
    "    # Creates metrics for each label. Return details of only class 1 (customer churn)\n",
    "    return (df.loc[1]*100).round(3)\n",
    "\n"
   ]
  },
  {
   "cell_type": "markdown",
   "metadata": {},
   "source": [
    "# Model building 1 - PCA"
   ]
  },
  {
   "cell_type": "markdown",
   "metadata": {},
   "source": [
    "## PCA for dimensionality reduction"
   ]
  },
  {
   "cell_type": "code",
   "execution_count": null,
   "metadata": {
    "ExecuteTime": {
     "start_time": "2021-04-25T18:04:53.454Z"
    }
   },
   "outputs": [],
   "source": [
    "pca = PCA(random_state=42)\n",
    "pca.fit(X_train)\n",
    "pca.components_"
   ]
  },
  {
   "cell_type": "code",
   "execution_count": null,
   "metadata": {
    "ExecuteTime": {
     "start_time": "2021-04-25T18:04:53.458Z"
    }
   },
   "outputs": [],
   "source": [
    "pca.explained_variance_ratio_"
   ]
  },
  {
   "cell_type": "code",
   "execution_count": null,
   "metadata": {
    "ExecuteTime": {
     "start_time": "2021-04-25T18:04:53.462Z"
    }
   },
   "outputs": [],
   "source": [
    "# plt.bar(range(1,len(pca.explained_variance_ratio_)+1), pca.explained_variance_ratio_)\n",
    "plt.bar(range(1,31), pca.explained_variance_ratio_[1:31])"
   ]
  },
  {
   "cell_type": "code",
   "execution_count": null,
   "metadata": {
    "ExecuteTime": {
     "start_time": "2021-04-25T18:04:53.467Z"
    }
   },
   "outputs": [],
   "source": [
    "var_cumu = np.cumsum(pca.explained_variance_ratio_)\n",
    "\n",
    "# Making the scree plot\n",
    "plt.plot(range(1,len(var_cumu)+1), var_cumu)"
   ]
  },
  {
   "cell_type": "code",
   "execution_count": null,
   "metadata": {
    "ExecuteTime": {
     "start_time": "2021-04-25T18:04:53.472Z"
    },
    "scrolled": true
   },
   "outputs": [],
   "source": [
    "pd.DataFrame(var_cumu).head(30)"
   ]
  },
  {
   "cell_type": "markdown",
   "metadata": {},
   "source": [
    "<font color='green'>\n",
    "<b>PCA Inference:</b> <br>\n",
    "- 94% of the variance is explained by the first 20 Principal Components <br>\n",
    "- We can try running models with 20 components and check how they perform\n",
    "</font>"
   ]
  },
  {
   "cell_type": "markdown",
   "metadata": {},
   "source": [
    "## Create PCA datasets"
   ]
  },
  {
   "cell_type": "code",
   "execution_count": null,
   "metadata": {
    "ExecuteTime": {
     "start_time": "2021-04-25T18:04:53.479Z"
    }
   },
   "outputs": [],
   "source": [
    "num_pcs = 20"
   ]
  },
  {
   "cell_type": "code",
   "execution_count": null,
   "metadata": {
    "ExecuteTime": {
     "start_time": "2021-04-25T18:04:53.483Z"
    }
   },
   "outputs": [],
   "source": [
    "# Get the top 20 principal components \n",
    "pcs = IncrementalPCA(n_components=num_pcs)"
   ]
  },
  {
   "cell_type": "code",
   "execution_count": null,
   "metadata": {
    "ExecuteTime": {
     "start_time": "2021-04-25T18:04:53.487Z"
    }
   },
   "outputs": [],
   "source": [
    "# Utility method to create the new principal component datasets on the train & test data\n",
    "def create_pca_data(train,test):\n",
    "    train_pca = pd.DataFrame(pcs.fit_transform(train)).add_prefix('PC')\n",
    "    # Index is lost after PCA as it works on Numpy arrays. \n",
    "    # Ref: https://github.com/scikit-learn/scikit-learn/issues/8238\n",
    "    train_pca.index = train.index\n",
    "    print(f'Train PCA data shape:{train_pca.shape}')\n",
    "    display(train_pca.head(3))\n",
    "\n",
    "    test_pca = pd.DataFrame(pcs.transform(test)).add_prefix('PC')\n",
    "    test_pca.index = test.index\n",
    "    print(f'Test PCA data shape:{test_pca.shape}')\n",
    "    display(test_pca.head(3))\n",
    "    \n",
    "    \n",
    "    \n",
    "    return train_pca, test_pca\n",
    "    "
   ]
  },
  {
   "cell_type": "code",
   "execution_count": null,
   "metadata": {
    "ExecuteTime": {
     "start_time": "2021-04-25T18:04:53.493Z"
    }
   },
   "outputs": [],
   "source": [
    "# Create PCA dataset for the original dataset\n",
    "X_train_pca, X_test_pca = create_pca_data(X_train,X_test)"
   ]
  },
  {
   "cell_type": "code",
   "execution_count": null,
   "metadata": {
    "ExecuteTime": {
     "start_time": "2021-04-25T18:04:53.499Z"
    }
   },
   "outputs": [],
   "source": [
    "# Create PCA dataset for the oversampled dataset\n",
    "X_oversampled_train_pca, X_oversampled_test_pca = create_pca_data(X_oversampled_train,X_oversampled_test)"
   ]
  },
  {
   "cell_type": "code",
   "execution_count": null,
   "metadata": {
    "ExecuteTime": {
     "start_time": "2021-04-25T18:04:53.505Z"
    }
   },
   "outputs": [],
   "source": [
    "# Create PCA dataset for the SMOTE dataset\n",
    "X_smote_train_pca, X_smote_test_pca = create_pca_data(X_smote_train,X_smote_test)"
   ]
  },
  {
   "cell_type": "markdown",
   "metadata": {},
   "source": [
    "## Check for multicollinearity - PCA"
   ]
  },
  {
   "cell_type": "markdown",
   "metadata": {},
   "source": [
    "Verify that the features (Principal Components) created from PCA are not correlated to each other"
   ]
  },
  {
   "cell_type": "code",
   "execution_count": null,
   "metadata": {
    "ExecuteTime": {
     "start_time": "2021-04-25T18:04:53.511Z"
    }
   },
   "outputs": [],
   "source": [
    "corrmat = np.corrcoef(X_train_pca.transpose())\n",
    "corrmat.shape"
   ]
  },
  {
   "cell_type": "code",
   "execution_count": null,
   "metadata": {
    "ExecuteTime": {
     "start_time": "2021-04-25T18:04:53.516Z"
    }
   },
   "outputs": [],
   "source": [
    "plt.figure(figsize=[15,15])\n",
    "sns.heatmap(corrmat, annot=True)"
   ]
  },
  {
   "cell_type": "code",
   "execution_count": null,
   "metadata": {
    "ExecuteTime": {
     "start_time": "2021-04-25T18:04:53.520Z"
    }
   },
   "outputs": [],
   "source": [
    "# Plotting the data of PC0 vs PC1\n",
    "df_final = pd.concat([X_train_pca, y_train], axis=1)\n",
    "sns.scatterplot(data=df_final, x=\"PC0\", y=\"PC1\",hue=\"churn\")\n"
   ]
  },
  {
   "cell_type": "markdown",
   "metadata": {},
   "source": [
    "## Model building - PCA"
   ]
  },
  {
   "cell_type": "code",
   "execution_count": null,
   "metadata": {
    "ExecuteTime": {
     "start_time": "2021-04-25T18:04:53.526Z"
    }
   },
   "outputs": [],
   "source": [
    "model_result_pca = pd.DataFrame()"
   ]
  },
  {
   "cell_type": "markdown",
   "metadata": {},
   "source": [
    "### Default Model Building"
   ]
  },
  {
   "cell_type": "code",
   "execution_count": null,
   "metadata": {
    "ExecuteTime": {
     "start_time": "2021-04-25T18:04:53.531Z"
    }
   },
   "outputs": [],
   "source": [
    "# Default model run\n",
    "run_all_models(X_train_pca, X_test_pca, y_train, y_test,'PCA',model_result_pca)\n",
    "model_result_pca\n",
    "#model_result_pca.T.sort_values(by=EVALUATION_METRIC,ascending=SORT_ASCENDING)"
   ]
  },
  {
   "cell_type": "code",
   "execution_count": null,
   "metadata": {
    "ExecuteTime": {
     "start_time": "2021-04-25T18:04:53.536Z"
    }
   },
   "outputs": [],
   "source": [
    "model_result_pca.T.sort_values(by=EVALUATION_METRIC,ascending=SORT_ASCENDING)"
   ]
  },
  {
   "cell_type": "markdown",
   "metadata": {},
   "source": [
    "### Model building with HPT"
   ]
  },
  {
   "cell_type": "code",
   "execution_count": null,
   "metadata": {
    "ExecuteTime": {
     "start_time": "2021-04-25T18:04:53.541Z"
    }
   },
   "outputs": [],
   "source": [
    "model_type_pca_hpt = 'PCA-HPT'"
   ]
  },
  {
   "cell_type": "markdown",
   "metadata": {},
   "source": [
    "#### HPT for Random Forest"
   ]
  },
  {
   "cell_type": "code",
   "execution_count": null,
   "metadata": {
    "ExecuteTime": {
     "start_time": "2021-04-25T18:04:53.550Z"
    }
   },
   "outputs": [],
   "source": [
    "# %%time\n",
    "grid_search_rf.fit(X_train_pca,y_train)\n",
    "rf_grid_best_est = grid_search_rf.best_estimator_"
   ]
  },
  {
   "cell_type": "code",
   "execution_count": null,
   "metadata": {
    "ExecuteTime": {
     "start_time": "2021-04-25T18:04:53.556Z"
    }
   },
   "outputs": [],
   "source": [
    "# %%time\n",
    "# random_search_rf.fit(X_train_pca,y_train)\n",
    "# rf_best_est = random_search_rf.best_estimator_"
   ]
  },
  {
   "cell_type": "code",
   "execution_count": null,
   "metadata": {
    "ExecuteTime": {
     "start_time": "2021-04-25T18:04:53.561Z"
    }
   },
   "outputs": [],
   "source": [
    "model_result_pca[f'{model_type_pca_hpt}-RF'] = model_fit_predict(rf_grid_best_est,X_train_pca, X_test_pca, y_train, y_test)"
   ]
  },
  {
   "cell_type": "markdown",
   "metadata": {},
   "source": [
    "#### HPT for XGBoost"
   ]
  },
  {
   "cell_type": "code",
   "execution_count": null,
   "metadata": {
    "ExecuteTime": {
     "start_time": "2021-04-25T18:04:53.569Z"
    }
   },
   "outputs": [],
   "source": [
    "%%time\n",
    "random_search_xgb.fit(X_train_pca,y_train)\n",
    "xgb_best_est = random_search_xgb.best_estimator_"
   ]
  },
  {
   "cell_type": "code",
   "execution_count": null,
   "metadata": {
    "ExecuteTime": {
     "start_time": "2021-04-25T18:04:53.575Z"
    }
   },
   "outputs": [],
   "source": [
    "model_result_pca[f'{model_type_pca_hpt}-XGB'] = model_fit_predict(xgb_best_est,X_train_pca, X_test_pca, y_train, y_test)"
   ]
  },
  {
   "cell_type": "markdown",
   "metadata": {},
   "source": [
    "### Model on oversampled data"
   ]
  },
  {
   "cell_type": "code",
   "execution_count": null,
   "metadata": {
    "ExecuteTime": {
     "start_time": "2021-04-25T18:04:53.583Z"
    }
   },
   "outputs": [],
   "source": [
    "run_all_models(X_oversampled_train_pca, X_oversampled_test_pca, y_oversampled_train, y_oversampled_test,'PCA - Oversampled',model_result_pca)\n",
    "model_result_pca.T"
   ]
  },
  {
   "cell_type": "markdown",
   "metadata": {},
   "source": [
    "### Model on SMOTE data"
   ]
  },
  {
   "cell_type": "code",
   "execution_count": null,
   "metadata": {
    "ExecuteTime": {
     "start_time": "2021-04-25T18:04:53.590Z"
    }
   },
   "outputs": [],
   "source": [
    "run_all_models(X_smote_train_pca, X_smote_test_pca, y_smote_train, y_smote_test,'PCA - SMOTE',model_result_pca)\n",
    "model_result_pca.T"
   ]
  },
  {
   "cell_type": "markdown",
   "metadata": {},
   "source": [
    "### Model on (SMOTE + HPT)"
   ]
  },
  {
   "cell_type": "code",
   "execution_count": null,
   "metadata": {
    "ExecuteTime": {
     "start_time": "2021-04-25T18:04:53.596Z"
    }
   },
   "outputs": [],
   "source": [
    "model_type_pca_smotehpt = 'PCA-SMOTE+HPT'"
   ]
  },
  {
   "cell_type": "markdown",
   "metadata": {},
   "source": [
    "#### SMOTE+HPT for Random Forest"
   ]
  },
  {
   "cell_type": "code",
   "execution_count": null,
   "metadata": {
    "ExecuteTime": {
     "start_time": "2021-04-25T18:04:53.603Z"
    }
   },
   "outputs": [],
   "source": [
    "%%time\n",
    "grid_search_rf.fit(X_smote_train_pca,y_smote_train)\n",
    "rf_grid_smote_best_est = grid_search_rf.best_estimator_"
   ]
  },
  {
   "cell_type": "code",
   "execution_count": null,
   "metadata": {
    "ExecuteTime": {
     "start_time": "2021-04-25T18:04:53.609Z"
    }
   },
   "outputs": [],
   "source": [
    "# %%time\n",
    "\n",
    "# random_search_rf.fit(X_smote_train_pca,y_smote_train)\n",
    "# rf_smote_best_est = random_search_rf.best_estimator_\n"
   ]
  },
  {
   "cell_type": "code",
   "execution_count": null,
   "metadata": {
    "ExecuteTime": {
     "start_time": "2021-04-25T18:04:53.615Z"
    }
   },
   "outputs": [],
   "source": [
    "model_result_pca[f'{model_type_pca_smotehpt}-RF'] = model_fit_predict(rf_grid_smote_best_est,X_smote_train_pca, X_smote_test_pca, y_smote_train, y_smote_test)"
   ]
  },
  {
   "cell_type": "markdown",
   "metadata": {},
   "source": [
    "####  SMOTE+HPT for XGBoost"
   ]
  },
  {
   "cell_type": "code",
   "execution_count": null,
   "metadata": {
    "ExecuteTime": {
     "start_time": "2021-04-25T18:04:53.622Z"
    }
   },
   "outputs": [],
   "source": [
    "model_result_pca.T"
   ]
  },
  {
   "cell_type": "code",
   "execution_count": null,
   "metadata": {
    "ExecuteTime": {
     "start_time": "2021-04-25T18:04:53.627Z"
    }
   },
   "outputs": [],
   "source": [
    "%%time\n",
    "random_search_xgb.fit(X_smote_train_pca,y_smote_train)\n",
    "xgb_smote_best_est = random_search_xgb.best_estimator_"
   ]
  },
  {
   "cell_type": "code",
   "execution_count": null,
   "metadata": {
    "ExecuteTime": {
     "start_time": "2021-04-25T18:04:53.634Z"
    }
   },
   "outputs": [],
   "source": [
    "model_result_pca[f'{model_type_pca_smotehpt}-XGB'] = model_fit_predict(xgb_smote_best_est,X_smote_train_pca, X_smote_test_pca, y_smote_train, y_smote_test)"
   ]
  },
  {
   "cell_type": "markdown",
   "metadata": {},
   "source": [
    "## Summary from all models"
   ]
  },
  {
   "cell_type": "code",
   "execution_count": null,
   "metadata": {
    "ExecuteTime": {
     "start_time": "2021-04-25T18:04:53.641Z"
    }
   },
   "outputs": [],
   "source": [
    "model_result_pca.T.sort_values(by=EVALUATION_METRIC,ascending=SORT_ASCENDING)"
   ]
  },
  {
   "cell_type": "markdown",
   "metadata": {},
   "source": [
    "<font color = 'green'>\n",
    "    <b>Insights from the summary table - PCA</b><br>\n",
    "- Models with oversampled data & smote data perform better than the models without any class imbalance treatement <br> \n",
    "- Models run on oversampled data perform better than models run on SMOTE data<br>\n",
    "- Random Forest performs well with this data<br>\n",
    "- While running with the original dataset (without addressing the class imbalance), the hyperparameter tuned model with XGB outperforms the other models.<br>\n",
    "</font>"
   ]
  },
  {
   "cell_type": "markdown",
   "metadata": {},
   "source": [
    "# Model building 2 - without PCA"
   ]
  },
  {
   "cell_type": "markdown",
   "metadata": {},
   "source": [
    "## Build  Models"
   ]
  },
  {
   "cell_type": "code",
   "execution_count": null,
   "metadata": {
    "ExecuteTime": {
     "start_time": "2021-04-25T18:04:53.650Z"
    }
   },
   "outputs": [],
   "source": [
    "model_result_featimp = pd.DataFrame()"
   ]
  },
  {
   "cell_type": "markdown",
   "metadata": {},
   "source": [
    "### Default model building"
   ]
  },
  {
   "cell_type": "code",
   "execution_count": null,
   "metadata": {
    "ExecuteTime": {
     "start_time": "2021-04-25T18:04:53.657Z"
    }
   },
   "outputs": [],
   "source": [
    "# Default model run - Feature Importance (FI)\n",
    "run_all_models(X_train, X_test, y_train, y_test,'FI', model_result_featimp)\n",
    "\n",
    "model_result_featimp.T.sort_values(by=EVALUATION_METRIC,ascending=SORT_ASCENDING)"
   ]
  },
  {
   "cell_type": "markdown",
   "metadata": {},
   "source": [
    "### Model with HPT"
   ]
  },
  {
   "cell_type": "code",
   "execution_count": null,
   "metadata": {
    "ExecuteTime": {
     "start_time": "2021-04-25T18:04:53.663Z"
    }
   },
   "outputs": [],
   "source": [
    "model_type_FI_hpt = 'FI-HPT'"
   ]
  },
  {
   "cell_type": "markdown",
   "metadata": {},
   "source": [
    "#### HPT for Random Forest"
   ]
  },
  {
   "cell_type": "code",
   "execution_count": null,
   "metadata": {
    "ExecuteTime": {
     "start_time": "2021-04-25T18:04:53.669Z"
    }
   },
   "outputs": [],
   "source": [
    "%%time\n",
    "grid_search_rf.fit(X_train,y_train)\n",
    "rf_fi_grid_best_est = grid_search_rf.best_estimator_"
   ]
  },
  {
   "cell_type": "code",
   "execution_count": null,
   "metadata": {
    "ExecuteTime": {
     "start_time": "2021-04-25T18:04:53.674Z"
    }
   },
   "outputs": [],
   "source": [
    "# %%time\n",
    "# random_search_rf.fit(X_train,y_train)\n",
    "# rf_fi_best_est = random_search_rf.best_estimator_"
   ]
  },
  {
   "cell_type": "code",
   "execution_count": null,
   "metadata": {
    "ExecuteTime": {
     "start_time": "2021-04-25T18:04:53.679Z"
    }
   },
   "outputs": [],
   "source": [
    "model_result_featimp[f'{model_type_FI_hpt}-RF'] = model_fit_predict(rf_fi_grid_best_est,X_train, X_test, y_train, y_test)"
   ]
  },
  {
   "cell_type": "markdown",
   "metadata": {},
   "source": [
    "#### HPT for XGBoost"
   ]
  },
  {
   "cell_type": "code",
   "execution_count": null,
   "metadata": {
    "ExecuteTime": {
     "start_time": "2021-04-25T18:04:53.687Z"
    }
   },
   "outputs": [],
   "source": [
    "%%time\n",
    "random_search_xgb.fit(X_train,y_train)\n",
    "xgb_fi_best_est = random_search_xgb.best_estimator_"
   ]
  },
  {
   "cell_type": "code",
   "execution_count": null,
   "metadata": {
    "ExecuteTime": {
     "start_time": "2021-04-25T18:04:53.691Z"
    }
   },
   "outputs": [],
   "source": [
    "model_result_featimp[f'{model_type_FI_hpt}-XGB'] = model_fit_predict(xgb_fi_best_est,X_train, X_test, y_train, y_test)"
   ]
  },
  {
   "cell_type": "code",
   "execution_count": null,
   "metadata": {},
   "outputs": [],
   "source": []
  },
  {
   "cell_type": "code",
   "execution_count": null,
   "metadata": {},
   "outputs": [],
   "source": []
  },
  {
   "cell_type": "markdown",
   "metadata": {},
   "source": [
    "### Model with Oversampled Data"
   ]
  },
  {
   "cell_type": "code",
   "execution_count": null,
   "metadata": {
    "ExecuteTime": {
     "start_time": "2021-04-25T18:04:53.703Z"
    }
   },
   "outputs": [],
   "source": [
    "run_all_models(X_oversampled_train, X_oversampled_test, y_oversampled_train, y_oversampled_test,'FI - Oversampled', model_result_featimp)\n",
    "\n",
    "model_result_featimp.T.sort_values(by=EVALUATION_METRIC,ascending=SORT_ASCENDING)"
   ]
  },
  {
   "cell_type": "markdown",
   "metadata": {},
   "source": [
    "### Model with SMOTE Data"
   ]
  },
  {
   "cell_type": "code",
   "execution_count": null,
   "metadata": {
    "ExecuteTime": {
     "start_time": "2021-04-25T18:04:53.714Z"
    }
   },
   "outputs": [],
   "source": [
    "run_all_models(X_smote_train, X_smote_test, y_smote_train, y_smote_test,'FI - SMOTE', model_result_featimp)\n",
    "\n",
    "model_result_featimp.T.sort_values(by=EVALUATION_METRIC,ascending=SORT_ASCENDING)"
   ]
  },
  {
   "cell_type": "markdown",
   "metadata": {},
   "source": [
    "### Model with SMOTE+HPT"
   ]
  },
  {
   "cell_type": "code",
   "execution_count": null,
   "metadata": {
    "ExecuteTime": {
     "start_time": "2021-04-25T18:04:53.720Z"
    }
   },
   "outputs": [],
   "source": [
    "model_type_FI_smotehpt = 'FI-SMOTE+HPT'"
   ]
  },
  {
   "cell_type": "markdown",
   "metadata": {},
   "source": [
    "#### HPT for Random Forest"
   ]
  },
  {
   "cell_type": "code",
   "execution_count": null,
   "metadata": {
    "ExecuteTime": {
     "start_time": "2021-04-25T18:04:53.725Z"
    }
   },
   "outputs": [],
   "source": [
    "%%time\n",
    "grid_search_rf.fit(X_smote_train_pca,y_smote_train)\n",
    "rf_grid_fi_smote_best_est = grid_search_rf.best_estimator_"
   ]
  },
  {
   "cell_type": "code",
   "execution_count": null,
   "metadata": {
    "ExecuteTime": {
     "start_time": "2021-04-25T18:04:53.729Z"
    }
   },
   "outputs": [],
   "source": [
    "# %%time\n",
    "\n",
    "# random_search_rf.fit(X_smote_train,y_smote_train)\n",
    "# rf_fi_smote_best_est = random_search_rf.best_estimator_\n"
   ]
  },
  {
   "cell_type": "code",
   "execution_count": null,
   "metadata": {
    "ExecuteTime": {
     "start_time": "2021-04-25T18:04:53.734Z"
    }
   },
   "outputs": [],
   "source": [
    "model_result_featimp[f'{model_type_FI_smotehpt}-RF'] = model_fit_predict(rf_grid_fi_smote_best_est,X_smote_train, X_smote_test, y_smote_train, y_smote_test)"
   ]
  },
  {
   "cell_type": "markdown",
   "metadata": {},
   "source": [
    "#### HPT for XGBoost"
   ]
  },
  {
   "cell_type": "code",
   "execution_count": null,
   "metadata": {
    "ExecuteTime": {
     "start_time": "2021-04-25T18:04:53.739Z"
    }
   },
   "outputs": [],
   "source": [
    "%%time\n",
    "random_search_xgb.fit(X_smote_train,y_smote_train)\n",
    "xgb_fi_smote_best_est = random_search_xgb.best_estimator_"
   ]
  },
  {
   "cell_type": "code",
   "execution_count": null,
   "metadata": {
    "ExecuteTime": {
     "start_time": "2021-04-25T18:04:53.743Z"
    }
   },
   "outputs": [],
   "source": [
    "model_result_featimp[f'{model_type_FI_smotehpt}-XGB'] = model_fit_predict(xgb_fi_smote_best_est,X_smote_train, X_smote_test, y_smote_train, y_smote_test)"
   ]
  },
  {
   "cell_type": "markdown",
   "metadata": {},
   "source": [
    "### Summary from all the Models"
   ]
  },
  {
   "cell_type": "markdown",
   "metadata": {},
   "source": [
    "Goal: Evaluate the models using appropriate evaluation metrics. Note that is is more important to identify churners than the non-churners accurately - choose an appropriate evaluation metric which reflects this business goal."
   ]
  },
  {
   "cell_type": "code",
   "execution_count": null,
   "metadata": {
    "ExecuteTime": {
     "start_time": "2021-04-25T18:04:53.749Z"
    },
    "scrolled": true
   },
   "outputs": [],
   "source": [
    "\n",
    "model_result_featimp.T.sort_values(by=EVALUATION_METRIC,ascending=SORT_ASCENDING)"
   ]
  },
  {
   "cell_type": "markdown",
   "metadata": {
    "ExecuteTime": {
     "end_time": "2021-04-24T17:11:00.867056Z",
     "start_time": "2021-04-24T17:11:00.862321Z"
    }
   },
   "source": [
    "<font color = 'green'>\n",
    "<b>Insights from the summary table</b><br>\n",
    "- Since it is important to identify churners than non-churners, \n",
    "- Comparing the model performances in the above summary table, it is clear that the model performs better when the class imbalance issue is addressed.<br>\n",
    "- Models run on oversampled data perform better than models run on SMOTE data<br>\n",
    "- Random Forest performs well with this data<br>\n",
    "- While running with the original dataset (without addressing the class imbalance), the hyperparameter tuned model with XGB outperforms the other models.<br>\n",
    "</font>"
   ]
  },
  {
   "cell_type": "markdown",
   "metadata": {},
   "source": [
    "## Best Model for Feature Importance"
   ]
  },
  {
   "cell_type": "markdown",
   "metadata": {},
   "source": [
    "### Feature Importance with Random Forest & XGB models"
   ]
  },
  {
   "cell_type": "code",
   "execution_count": null,
   "metadata": {
    "ExecuteTime": {
     "start_time": "2021-04-25T18:04:53.756Z"
    },
    "scrolled": false
   },
   "outputs": [],
   "source": [
    "print(f'Important features from Random Forest HPT model')\n",
    "\n",
    "imp_rf_df = pd.DataFrame({\n",
    "    \"Varname\": X_train.columns,\n",
    "    \"Imp\": rf_grid_fi_best_est.feature_importances_\n",
    "})\n",
    "imp_rf_df.sort_values(by=\"Imp\", ascending=False)"
   ]
  },
  {
   "cell_type": "code",
   "execution_count": null,
   "metadata": {
    "ExecuteTime": {
     "start_time": "2021-04-25T18:04:53.760Z"
    }
   },
   "outputs": [],
   "source": [
    "print(f'Important features from XGB HPT model')\n",
    "\n",
    "imp_xgb_df = pd.DataFrame({\n",
    "    \"Varname\": X_train.columns,\n",
    "    \"Imp\": xgb_fi_best_est.feature_importances_\n",
    "})\n",
    "imp_xgb_df.sort_values(by=\"Imp\", ascending=False)"
   ]
  },
  {
   "cell_type": "code",
   "execution_count": null,
   "metadata": {
    "ExecuteTime": {
     "start_time": "2021-04-25T18:04:53.765Z"
    },
    "scrolled": false
   },
   "outputs": [],
   "source": [
    "print(f'Important features from RF - oversampled model')\n",
    "model_rf_oversampled = RandomForestClassifier(random_state=42).fit(X_oversampled_train, y_oversampled_train)\n",
    "\n",
    "imp_rf_oversampled_df = pd.DataFrame({\n",
    "    \"Varname\": X_oversampled_train.columns,\n",
    "    \"Imp\": model_rf_oversampled.feature_importances_\n",
    "})\n",
    "imp_rf_oversampled_df.sort_values(by=\"Imp\", ascending=False)"
   ]
  },
  {
   "cell_type": "markdown",
   "metadata": {
    "ExecuteTime": {
     "end_time": "2021-04-24T22:56:59.736407Z",
     "start_time": "2021-04-24T22:56:59.734101Z"
    }
   },
   "source": [
    "## Correlation matrix with the target for the important features"
   ]
  },
  {
   "cell_type": "code",
   "execution_count": null,
   "metadata": {
    "ExecuteTime": {
     "start_time": "2021-04-25T18:04:53.770Z"
    }
   },
   "outputs": [],
   "source": [
    "imp_features = ['total_rech_amt_gaphase_avg','fb_user_8','total_mou_gaphase_avg','arpu_gaphase_avg','loc_ic_gaphase_avg','last_rech_num_days']"
   ]
  },
  {
   "cell_type": "code",
   "execution_count": null,
   "metadata": {
    "ExecuteTime": {
     "start_time": "2021-04-25T18:04:53.774Z"
    }
   },
   "outputs": [],
   "source": [
    "df = cust[imp_features + ['churn']]\n",
    "corr = df.corr() "
   ]
  },
  {
   "cell_type": "code",
   "execution_count": null,
   "metadata": {
    "ExecuteTime": {
     "start_time": "2021-04-25T18:04:53.779Z"
    }
   },
   "outputs": [],
   "source": [
    "f = plt.figure(figsize=(20, 15))\n",
    "\n",
    "ax = plt.matshow(corr, fignum=f.number,cmap='RdYlGn')\n",
    "plt.xticks(range(df.shape[1]), df.columns, fontsize=14, rotation=45)\n",
    "plt.yticks(range(df.shape[1]), df.columns, fontsize=14)\n",
    "cb = plt.colorbar()\n",
    "cb.ax.tick_params(labelsize=14)\n",
    "#ax.set_ylim([0,2])\n",
    "plt.title('Correlation Matrix', fontsize=16);"
   ]
  },
  {
   "cell_type": "code",
   "execution_count": null,
   "metadata": {
    "ExecuteTime": {
     "start_time": "2021-04-25T18:04:53.783Z"
    }
   },
   "outputs": [],
   "source": [
    "\n",
    "corr.style.background_gradient(cmap='coolwarm').set_precision(1)"
   ]
  },
  {
   "cell_type": "markdown",
   "metadata": {},
   "source": [
    "# Insights"
   ]
  },
  {
   "cell_type": "markdown",
   "metadata": {},
   "source": [
    "## Best Model - with PCA"
   ]
  },
  {
   "cell_type": "markdown",
   "metadata": {},
   "source": [
    "Finally, choose a model based on some evaluation metric."
   ]
  },
  {
   "cell_type": "markdown",
   "metadata": {
    "ExecuteTime": {
     "end_time": "2021-04-24T09:52:21.781996Z",
     "start_time": "2021-04-24T09:52:21.777299Z"
    }
   },
   "source": [
    "<font color='green'>\n",
    "<b>Approach:</b> <br>\n",
    "- Models were created with 3 different types of data: <br>\n",
    "-- Input Data<br>\n",
    "-- Oversampled Data<br>\n",
    "-- SMOTE Data<br>\n",
    "- Based on the F1-Score and AUROC, we can notice that the models created with the oversampled data before the best.<br>\n",
    "- <br>\n",
    "- The models with oversampled data perform better than the <br>\n",
    "</font>"
   ]
  },
  {
   "cell_type": "markdown",
   "metadata": {},
   "source": [
    "## Important features"
   ]
  },
  {
   "cell_type": "markdown",
   "metadata": {},
   "source": [
    "After identifying important predictors, display them visually - you can use plots, summary tables etc. - whatever you think best conveys the importance of features."
   ]
  },
  {
   "cell_type": "markdown",
   "metadata": {},
   "source": [
    "## Conclusion - recommendation to manage customer churn"
   ]
  },
  {
   "cell_type": "markdown",
   "metadata": {},
   "source": [
    "Finally, recommend strategies to manage customer churn based on your observations."
   ]
  },
  {
   "cell_type": "code",
   "execution_count": null,
   "metadata": {},
   "outputs": [],
   "source": []
  },
  {
   "cell_type": "code",
   "execution_count": null,
   "metadata": {},
   "outputs": [],
   "source": []
  },
  {
   "cell_type": "code",
   "execution_count": null,
   "metadata": {},
   "outputs": [],
   "source": []
  },
  {
   "cell_type": "code",
   "execution_count": null,
   "metadata": {},
   "outputs": [],
   "source": []
  },
  {
   "cell_type": "code",
   "execution_count": null,
   "metadata": {},
   "outputs": [],
   "source": []
  },
  {
   "cell_type": "code",
   "execution_count": null,
   "metadata": {
    "ExecuteTime": {
     "end_time": "2021-04-22T07:11:55.680525Z",
     "start_time": "2021-04-22T07:11:55.667328Z"
    }
   },
   "outputs": [],
   "source": []
  },
  {
   "cell_type": "code",
   "execution_count": null,
   "metadata": {},
   "outputs": [],
   "source": []
  }
 ],
 "metadata": {
  "kernelspec": {
   "display_name": "Python 3",
   "language": "python",
   "name": "python3"
  },
  "language_info": {
   "codemirror_mode": {
    "name": "ipython",
    "version": 3
   },
   "file_extension": ".py",
   "mimetype": "text/x-python",
   "name": "python",
   "nbconvert_exporter": "python",
   "pygments_lexer": "ipython3",
   "version": "3.6.6"
  },
  "toc": {
   "base_numbering": 1,
   "nav_menu": {},
   "number_sections": true,
   "sideBar": true,
   "skip_h1_title": false,
   "title_cell": "Table of Contents",
   "title_sidebar": "My Steps",
   "toc_cell": false,
   "toc_position": {},
   "toc_section_display": true,
   "toc_window_display": true
  },
  "varInspector": {
   "cols": {
    "lenName": 16,
    "lenType": 16,
    "lenVar": 40
   },
   "kernels_config": {
    "python": {
     "delete_cmd_postfix": "",
     "delete_cmd_prefix": "del ",
     "library": "var_list.py",
     "varRefreshCmd": "print(var_dic_list())"
    },
    "r": {
     "delete_cmd_postfix": ") ",
     "delete_cmd_prefix": "rm(",
     "library": "var_list.r",
     "varRefreshCmd": "cat(var_dic_list()) "
    }
   },
   "types_to_exclude": [
    "module",
    "function",
    "builtin_function_or_method",
    "instance",
    "_Feature"
   ],
   "window_display": false
  }
 },
 "nbformat": 4,
 "nbformat_minor": 2
}
