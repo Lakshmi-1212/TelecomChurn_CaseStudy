{
 "cells": [
  {
   "cell_type": "markdown",
   "metadata": {},
   "source": [
    "# Problem Statement\n"
   ]
  },
  {
   "cell_type": "markdown",
   "metadata": {},
   "source": [
    "## Business Problem Overview\n",
    "In the telecom industry, customers are able to choose from multiple service providers and actively switch from one operator to another. In this highly competitive market, the telecommunications industry experiences an average of 15-25% annual churn rate. Given the fact that it costs 5-10 times more to acquire a new customer than to retain an existing one, customer retention has now become even more important than customer acquisition.\n",
    "\n",
    " \n",
    "\n",
    "For many incumbent operators, retaining high profitable customers is the number one business goal.\n",
    "\n",
    " \n",
    "\n",
    "To reduce customer churn, telecom companies need to predict which customers are at high risk of churn.\n",
    "\n",
    " \n",
    "\n",
    "In this project, you will analyse customer-level data of a leading telecom firm, build predictive models to identify customers at high risk of churn and identify the main indicators of churn."
   ]
  },
  {
   "cell_type": "markdown",
   "metadata": {},
   "source": [
    "## Understanding the Business Objective and the Data\n",
    "The dataset contains customer-level information for a span of four consecutive months - June, July, August and September. The months are encoded as 6, 7, 8 and 9, respectively. \n",
    "\n",
    "\n",
    "The business objective is to predict the churn in the last (i.e. the ninth) month using the data (features) from the first three months. To do this task well, understanding the typical customer behaviour during churn will be helpful."
   ]
  },
  {
   "cell_type": "markdown",
   "metadata": {},
   "source": [
    "## Understanding Customer Behaviour During Churn\n",
    "Customers usually do not decide to switch to another competitor instantly, but rather over a period of time (this is especially applicable to high-value customers). In churn prediction, we assume that there are three phases of customer lifecycle :\n",
    "\n",
    "The ‘good’ phase: In this phase, the customer is happy with the service and behaves as usual.\n",
    "\n",
    "The ‘action’ phase: The customer experience starts to sore in this phase, for e.g. he/she gets a compelling offer from a  competitor, faces unjust charges, becomes unhappy with service quality etc. In this phase, the customer usually shows different behaviour than the ‘good’ months. Also, it is crucial to identify high-churn-risk customers in this phase, since some corrective actions can be taken at this point (such as matching the competitor’s offer/improving the service quality etc.)\n",
    "\n",
    "The ‘churn’ phase: In this phase, the customer is said to have churned. You define churn based on this phase. Also, it is important to note that at the time of prediction (i.e. the action months), this data is not available to you for prediction. Thus, after tagging churn as 1/0 based on this phase, you discard all data corresponding to this phase.\n",
    "\n",
    " \n",
    "\n",
    "In this case, since you are working over a four-month window, the first two months are the ‘good’ phase, the third month is the ‘action’ phase, while the fourth month is the ‘churn’ phase."
   ]
  },
  {
   "cell_type": "markdown",
   "metadata": {},
   "source": [
    "# Imports & Data Loading"
   ]
  },
  {
   "cell_type": "code",
   "execution_count": 86,
   "metadata": {
    "ExecuteTime": {
     "end_time": "2021-04-18T14:28:32.594043Z",
     "start_time": "2021-04-18T14:28:32.590545Z"
    }
   },
   "outputs": [],
   "source": [
    "# Import the required libraries\n",
    "import pandas as pd\n",
    "import numpy as np\n",
    "import matplotlib.pyplot as plt\n",
    "import seaborn as sns\n",
    "import re\n"
   ]
  },
  {
   "cell_type": "code",
   "execution_count": 87,
   "metadata": {
    "ExecuteTime": {
     "end_time": "2021-04-18T14:28:34.808224Z",
     "start_time": "2021-04-18T14:28:32.596898Z"
    }
   },
   "outputs": [],
   "source": [
    "# Read the data\n",
    "cust = pd.read_csv(\"data/telecom_churn_data.csv\")"
   ]
  },
  {
   "cell_type": "code",
   "execution_count": 88,
   "metadata": {
    "ExecuteTime": {
     "end_time": "2021-04-18T14:28:34.815812Z",
     "start_time": "2021-04-18T14:28:34.811499Z"
    }
   },
   "outputs": [
    {
     "data": {
      "text/plain": [
       "(99999, 226)"
      ]
     },
     "execution_count": 88,
     "metadata": {},
     "output_type": "execute_result"
    }
   ],
   "source": [
    "cust.shape"
   ]
  },
  {
   "cell_type": "code",
   "execution_count": 89,
   "metadata": {
    "ExecuteTime": {
     "end_time": "2021-04-18T14:28:34.845496Z",
     "start_time": "2021-04-18T14:28:34.818831Z"
    }
   },
   "outputs": [
    {
     "data": {
      "text/html": [
       "<div>\n",
       "<style scoped>\n",
       "    .dataframe tbody tr th:only-of-type {\n",
       "        vertical-align: middle;\n",
       "    }\n",
       "\n",
       "    .dataframe tbody tr th {\n",
       "        vertical-align: top;\n",
       "    }\n",
       "\n",
       "    .dataframe thead th {\n",
       "        text-align: right;\n",
       "    }\n",
       "</style>\n",
       "<table border=\"1\" class=\"dataframe\">\n",
       "  <thead>\n",
       "    <tr style=\"text-align: right;\">\n",
       "      <th></th>\n",
       "      <th>mobile_number</th>\n",
       "      <th>circle_id</th>\n",
       "      <th>loc_og_t2o_mou</th>\n",
       "      <th>std_og_t2o_mou</th>\n",
       "      <th>loc_ic_t2o_mou</th>\n",
       "      <th>last_date_of_month_6</th>\n",
       "      <th>last_date_of_month_7</th>\n",
       "      <th>last_date_of_month_8</th>\n",
       "      <th>last_date_of_month_9</th>\n",
       "      <th>arpu_6</th>\n",
       "      <th>...</th>\n",
       "      <th>sachet_3g_9</th>\n",
       "      <th>fb_user_6</th>\n",
       "      <th>fb_user_7</th>\n",
       "      <th>fb_user_8</th>\n",
       "      <th>fb_user_9</th>\n",
       "      <th>aon</th>\n",
       "      <th>aug_vbc_3g</th>\n",
       "      <th>jul_vbc_3g</th>\n",
       "      <th>jun_vbc_3g</th>\n",
       "      <th>sep_vbc_3g</th>\n",
       "    </tr>\n",
       "  </thead>\n",
       "  <tbody>\n",
       "    <tr>\n",
       "      <th>0</th>\n",
       "      <td>7000842753</td>\n",
       "      <td>109</td>\n",
       "      <td>0.0</td>\n",
       "      <td>0.0</td>\n",
       "      <td>0.0</td>\n",
       "      <td>6/30/2014</td>\n",
       "      <td>7/31/2014</td>\n",
       "      <td>8/31/2014</td>\n",
       "      <td>9/30/2014</td>\n",
       "      <td>197.385</td>\n",
       "      <td>...</td>\n",
       "      <td>0</td>\n",
       "      <td>1.0</td>\n",
       "      <td>1.0</td>\n",
       "      <td>1.0</td>\n",
       "      <td>NaN</td>\n",
       "      <td>968</td>\n",
       "      <td>30.4</td>\n",
       "      <td>0.0</td>\n",
       "      <td>101.20</td>\n",
       "      <td>3.58</td>\n",
       "    </tr>\n",
       "    <tr>\n",
       "      <th>1</th>\n",
       "      <td>7001865778</td>\n",
       "      <td>109</td>\n",
       "      <td>0.0</td>\n",
       "      <td>0.0</td>\n",
       "      <td>0.0</td>\n",
       "      <td>6/30/2014</td>\n",
       "      <td>7/31/2014</td>\n",
       "      <td>8/31/2014</td>\n",
       "      <td>9/30/2014</td>\n",
       "      <td>34.047</td>\n",
       "      <td>...</td>\n",
       "      <td>0</td>\n",
       "      <td>NaN</td>\n",
       "      <td>1.0</td>\n",
       "      <td>1.0</td>\n",
       "      <td>NaN</td>\n",
       "      <td>1006</td>\n",
       "      <td>0.0</td>\n",
       "      <td>0.0</td>\n",
       "      <td>0.00</td>\n",
       "      <td>0.00</td>\n",
       "    </tr>\n",
       "    <tr>\n",
       "      <th>2</th>\n",
       "      <td>7001625959</td>\n",
       "      <td>109</td>\n",
       "      <td>0.0</td>\n",
       "      <td>0.0</td>\n",
       "      <td>0.0</td>\n",
       "      <td>6/30/2014</td>\n",
       "      <td>7/31/2014</td>\n",
       "      <td>8/31/2014</td>\n",
       "      <td>9/30/2014</td>\n",
       "      <td>167.690</td>\n",
       "      <td>...</td>\n",
       "      <td>0</td>\n",
       "      <td>NaN</td>\n",
       "      <td>NaN</td>\n",
       "      <td>NaN</td>\n",
       "      <td>1.0</td>\n",
       "      <td>1103</td>\n",
       "      <td>0.0</td>\n",
       "      <td>0.0</td>\n",
       "      <td>4.17</td>\n",
       "      <td>0.00</td>\n",
       "    </tr>\n",
       "    <tr>\n",
       "      <th>3</th>\n",
       "      <td>7001204172</td>\n",
       "      <td>109</td>\n",
       "      <td>0.0</td>\n",
       "      <td>0.0</td>\n",
       "      <td>0.0</td>\n",
       "      <td>6/30/2014</td>\n",
       "      <td>7/31/2014</td>\n",
       "      <td>8/31/2014</td>\n",
       "      <td>9/30/2014</td>\n",
       "      <td>221.338</td>\n",
       "      <td>...</td>\n",
       "      <td>0</td>\n",
       "      <td>NaN</td>\n",
       "      <td>NaN</td>\n",
       "      <td>NaN</td>\n",
       "      <td>NaN</td>\n",
       "      <td>2491</td>\n",
       "      <td>0.0</td>\n",
       "      <td>0.0</td>\n",
       "      <td>0.00</td>\n",
       "      <td>0.00</td>\n",
       "    </tr>\n",
       "    <tr>\n",
       "      <th>4</th>\n",
       "      <td>7000142493</td>\n",
       "      <td>109</td>\n",
       "      <td>0.0</td>\n",
       "      <td>0.0</td>\n",
       "      <td>0.0</td>\n",
       "      <td>6/30/2014</td>\n",
       "      <td>7/31/2014</td>\n",
       "      <td>8/31/2014</td>\n",
       "      <td>9/30/2014</td>\n",
       "      <td>261.636</td>\n",
       "      <td>...</td>\n",
       "      <td>0</td>\n",
       "      <td>0.0</td>\n",
       "      <td>NaN</td>\n",
       "      <td>NaN</td>\n",
       "      <td>NaN</td>\n",
       "      <td>1526</td>\n",
       "      <td>0.0</td>\n",
       "      <td>0.0</td>\n",
       "      <td>0.00</td>\n",
       "      <td>0.00</td>\n",
       "    </tr>\n",
       "  </tbody>\n",
       "</table>\n",
       "<p>5 rows × 226 columns</p>\n",
       "</div>"
      ],
      "text/plain": [
       "   mobile_number  circle_id  loc_og_t2o_mou  std_og_t2o_mou  loc_ic_t2o_mou  \\\n",
       "0     7000842753        109             0.0             0.0             0.0   \n",
       "1     7001865778        109             0.0             0.0             0.0   \n",
       "2     7001625959        109             0.0             0.0             0.0   \n",
       "3     7001204172        109             0.0             0.0             0.0   \n",
       "4     7000142493        109             0.0             0.0             0.0   \n",
       "\n",
       "  last_date_of_month_6 last_date_of_month_7 last_date_of_month_8  \\\n",
       "0            6/30/2014            7/31/2014            8/31/2014   \n",
       "1            6/30/2014            7/31/2014            8/31/2014   \n",
       "2            6/30/2014            7/31/2014            8/31/2014   \n",
       "3            6/30/2014            7/31/2014            8/31/2014   \n",
       "4            6/30/2014            7/31/2014            8/31/2014   \n",
       "\n",
       "  last_date_of_month_9   arpu_6  ...  sachet_3g_9  fb_user_6  fb_user_7  \\\n",
       "0            9/30/2014  197.385  ...            0        1.0        1.0   \n",
       "1            9/30/2014   34.047  ...            0        NaN        1.0   \n",
       "2            9/30/2014  167.690  ...            0        NaN        NaN   \n",
       "3            9/30/2014  221.338  ...            0        NaN        NaN   \n",
       "4            9/30/2014  261.636  ...            0        0.0        NaN   \n",
       "\n",
       "   fb_user_8  fb_user_9   aon  aug_vbc_3g  jul_vbc_3g  jun_vbc_3g  sep_vbc_3g  \n",
       "0        1.0        NaN   968        30.4         0.0      101.20        3.58  \n",
       "1        1.0        NaN  1006         0.0         0.0        0.00        0.00  \n",
       "2        NaN        1.0  1103         0.0         0.0        4.17        0.00  \n",
       "3        NaN        NaN  2491         0.0         0.0        0.00        0.00  \n",
       "4        NaN        NaN  1526         0.0         0.0        0.00        0.00  \n",
       "\n",
       "[5 rows x 226 columns]"
      ]
     },
     "execution_count": 89,
     "metadata": {},
     "output_type": "execute_result"
    }
   ],
   "source": [
    "cust.head()"
   ]
  },
  {
   "cell_type": "code",
   "execution_count": 90,
   "metadata": {
    "ExecuteTime": {
     "end_time": "2021-04-18T14:28:34.862154Z",
     "start_time": "2021-04-18T14:28:34.848736Z"
    }
   },
   "outputs": [],
   "source": [
    "cust.head().to_csv(\"sample_10.csv\")\n",
    "cust.head().T.to_csv(\"sample_10_T.csv\")"
   ]
  },
  {
   "cell_type": "code",
   "execution_count": 91,
   "metadata": {
    "ExecuteTime": {
     "end_time": "2021-04-18T14:28:34.885476Z",
     "start_time": "2021-04-18T14:28:34.865211Z"
    }
   },
   "outputs": [
    {
     "name": "stdout",
     "output_type": "stream",
     "text": [
      "<class 'pandas.core.frame.DataFrame'>\n",
      "RangeIndex: 99999 entries, 0 to 99998\n",
      "Columns: 226 entries, mobile_number to sep_vbc_3g\n",
      "dtypes: float64(179), int64(35), object(12)\n",
      "memory usage: 172.4+ MB\n"
     ]
    }
   ],
   "source": [
    "cust.info()"
   ]
  },
  {
   "cell_type": "markdown",
   "metadata": {},
   "source": [
    "# Utility Methods"
   ]
  },
  {
   "cell_type": "markdown",
   "metadata": {},
   "source": [
    "## Check for missing values in a dataframe"
   ]
  },
  {
   "cell_type": "code",
   "execution_count": 92,
   "metadata": {
    "ExecuteTime": {
     "end_time": "2021-04-18T14:28:34.893179Z",
     "start_time": "2021-04-18T14:28:34.887592Z"
    }
   },
   "outputs": [],
   "source": [
    "# Check for missing values in the dataframe and print them\n",
    "def print_missing_columns(input_df):\n",
    "    # Print missing percentage of only columns with missing values\n",
    "    missing_columns = input_df.columns[input_df.isnull().any()]\n",
    "    if not missing_columns.empty:\n",
    "        missing_count = input_df[missing_columns].isnull().sum()\n",
    "        missing_col_type = pd.Series([type(col) for col in input_df[missing_columns]],index = missing_columns) \n",
    "        unique_count = input_df[missing_columns].nunique()\n",
    "\n",
    "        missing_df = pd.concat({\n",
    "                        \"Missing\": missing_count, \n",
    "                        \"Missing %\": missing_count/len(input_df.index)*100,\n",
    "                        \"Type\": missing_col_type,\n",
    "                        \"Unique Count\": unique_count\n",
    "                       } , \n",
    "                       axis = 1).sort_values(by = 'Missing', ascending = False)\n",
    "\n",
    "        display(missing_df)\n",
    "    else:\n",
    "        display(\"NO MISSING VALUES IN THE DATAFRAME\")"
   ]
  },
  {
   "cell_type": "code",
   "execution_count": null,
   "metadata": {},
   "outputs": [],
   "source": []
  },
  {
   "cell_type": "code",
   "execution_count": null,
   "metadata": {},
   "outputs": [],
   "source": []
  },
  {
   "cell_type": "code",
   "execution_count": null,
   "metadata": {},
   "outputs": [],
   "source": []
  },
  {
   "cell_type": "markdown",
   "metadata": {},
   "source": [
    "# Data Preprocessing"
   ]
  },
  {
   "cell_type": "markdown",
   "metadata": {},
   "source": []
  },
  {
   "cell_type": "code",
   "execution_count": null,
   "metadata": {},
   "outputs": [],
   "source": []
  },
  {
   "cell_type": "code",
   "execution_count": null,
   "metadata": {},
   "outputs": [],
   "source": []
  },
  {
   "cell_type": "code",
   "execution_count": null,
   "metadata": {},
   "outputs": [],
   "source": []
  },
  {
   "cell_type": "code",
   "execution_count": 93,
   "metadata": {
    "ExecuteTime": {
     "end_time": "2021-04-18T14:28:34.900501Z",
     "start_time": "2021-04-18T14:28:34.895634Z"
    }
   },
   "outputs": [
    {
     "data": {
      "text/plain": [
       "['total_rech_num_6',\n",
       " 'total_rech_num_7',\n",
       " 'total_rech_num_8',\n",
       " 'total_rech_num_9',\n",
       " 'total_rech_amt_6',\n",
       " 'total_rech_amt_7',\n",
       " 'total_rech_amt_8',\n",
       " 'total_rech_amt_9',\n",
       " 'max_rech_amt_6',\n",
       " 'max_rech_amt_7',\n",
       " 'max_rech_amt_8',\n",
       " 'max_rech_amt_9',\n",
       " 'date_of_last_rech_6',\n",
       " 'date_of_last_rech_7',\n",
       " 'date_of_last_rech_8',\n",
       " 'date_of_last_rech_9',\n",
       " 'date_of_last_rech_data_6',\n",
       " 'date_of_last_rech_data_7',\n",
       " 'date_of_last_rech_data_8',\n",
       " 'date_of_last_rech_data_9',\n",
       " 'total_rech_data_6',\n",
       " 'total_rech_data_7',\n",
       " 'total_rech_data_8',\n",
       " 'total_rech_data_9',\n",
       " 'max_rech_data_6',\n",
       " 'max_rech_data_7',\n",
       " 'max_rech_data_8',\n",
       " 'max_rech_data_9',\n",
       " 'count_rech_2g_6',\n",
       " 'count_rech_2g_7',\n",
       " 'count_rech_2g_8',\n",
       " 'count_rech_2g_9',\n",
       " 'count_rech_3g_6',\n",
       " 'count_rech_3g_7',\n",
       " 'count_rech_3g_8',\n",
       " 'count_rech_3g_9',\n",
       " 'av_rech_amt_data_6',\n",
       " 'av_rech_amt_data_7',\n",
       " 'av_rech_amt_data_8',\n",
       " 'av_rech_amt_data_9']"
      ]
     },
     "execution_count": 93,
     "metadata": {},
     "output_type": "execute_result"
    }
   ],
   "source": [
    "rech_cols = [col for col in cust.columns if 'rech_'in col]\n",
    "rech_cols"
   ]
  },
  {
   "cell_type": "code",
   "execution_count": 94,
   "metadata": {
    "ExecuteTime": {
     "end_time": "2021-04-18T14:28:34.936544Z",
     "start_time": "2021-04-18T14:28:34.906038Z"
    }
   },
   "outputs": [
    {
     "data": {
      "text/html": [
       "<div>\n",
       "<style scoped>\n",
       "    .dataframe tbody tr th:only-of-type {\n",
       "        vertical-align: middle;\n",
       "    }\n",
       "\n",
       "    .dataframe tbody tr th {\n",
       "        vertical-align: top;\n",
       "    }\n",
       "\n",
       "    .dataframe thead th {\n",
       "        text-align: right;\n",
       "    }\n",
       "</style>\n",
       "<table border=\"1\" class=\"dataframe\">\n",
       "  <thead>\n",
       "    <tr style=\"text-align: right;\">\n",
       "      <th></th>\n",
       "      <th>total_rech_amt_6</th>\n",
       "      <th>total_rech_num_6</th>\n",
       "      <th>max_rech_amt_6</th>\n",
       "      <th>count_rech_2g_6</th>\n",
       "      <th>count_rech_3g_6</th>\n",
       "      <th>av_rech_amt_data_6</th>\n",
       "    </tr>\n",
       "  </thead>\n",
       "  <tbody>\n",
       "    <tr>\n",
       "      <th>0</th>\n",
       "      <td>362</td>\n",
       "      <td>4</td>\n",
       "      <td>252</td>\n",
       "      <td>0.0</td>\n",
       "      <td>1.0</td>\n",
       "      <td>252.0</td>\n",
       "    </tr>\n",
       "    <tr>\n",
       "      <th>1</th>\n",
       "      <td>74</td>\n",
       "      <td>4</td>\n",
       "      <td>44</td>\n",
       "      <td>NaN</td>\n",
       "      <td>NaN</td>\n",
       "      <td>NaN</td>\n",
       "    </tr>\n",
       "    <tr>\n",
       "      <th>2</th>\n",
       "      <td>168</td>\n",
       "      <td>5</td>\n",
       "      <td>86</td>\n",
       "      <td>NaN</td>\n",
       "      <td>NaN</td>\n",
       "      <td>NaN</td>\n",
       "    </tr>\n",
       "    <tr>\n",
       "      <th>3</th>\n",
       "      <td>230</td>\n",
       "      <td>10</td>\n",
       "      <td>60</td>\n",
       "      <td>NaN</td>\n",
       "      <td>NaN</td>\n",
       "      <td>NaN</td>\n",
       "    </tr>\n",
       "    <tr>\n",
       "      <th>4</th>\n",
       "      <td>196</td>\n",
       "      <td>5</td>\n",
       "      <td>56</td>\n",
       "      <td>1.0</td>\n",
       "      <td>0.0</td>\n",
       "      <td>56.0</td>\n",
       "    </tr>\n",
       "    <tr>\n",
       "      <th>5</th>\n",
       "      <td>120</td>\n",
       "      <td>2</td>\n",
       "      <td>120</td>\n",
       "      <td>NaN</td>\n",
       "      <td>NaN</td>\n",
       "      <td>NaN</td>\n",
       "    </tr>\n",
       "    <tr>\n",
       "      <th>6</th>\n",
       "      <td>499</td>\n",
       "      <td>15</td>\n",
       "      <td>90</td>\n",
       "      <td>NaN</td>\n",
       "      <td>NaN</td>\n",
       "      <td>NaN</td>\n",
       "    </tr>\n",
       "    <tr>\n",
       "      <th>7</th>\n",
       "      <td>1580</td>\n",
       "      <td>5</td>\n",
       "      <td>1580</td>\n",
       "      <td>NaN</td>\n",
       "      <td>NaN</td>\n",
       "      <td>NaN</td>\n",
       "    </tr>\n",
       "    <tr>\n",
       "      <th>8</th>\n",
       "      <td>437</td>\n",
       "      <td>19</td>\n",
       "      <td>90</td>\n",
       "      <td>NaN</td>\n",
       "      <td>NaN</td>\n",
       "      <td>NaN</td>\n",
       "    </tr>\n",
       "    <tr>\n",
       "      <th>9</th>\n",
       "      <td>220</td>\n",
       "      <td>4</td>\n",
       "      <td>110</td>\n",
       "      <td>NaN</td>\n",
       "      <td>NaN</td>\n",
       "      <td>NaN</td>\n",
       "    </tr>\n",
       "    <tr>\n",
       "      <th>10</th>\n",
       "      <td>0</td>\n",
       "      <td>1</td>\n",
       "      <td>0</td>\n",
       "      <td>NaN</td>\n",
       "      <td>NaN</td>\n",
       "      <td>NaN</td>\n",
       "    </tr>\n",
       "    <tr>\n",
       "      <th>11</th>\n",
       "      <td>366</td>\n",
       "      <td>6</td>\n",
       "      <td>110</td>\n",
       "      <td>NaN</td>\n",
       "      <td>NaN</td>\n",
       "      <td>NaN</td>\n",
       "    </tr>\n",
       "    <tr>\n",
       "      <th>12</th>\n",
       "      <td>110</td>\n",
       "      <td>2</td>\n",
       "      <td>110</td>\n",
       "      <td>NaN</td>\n",
       "      <td>NaN</td>\n",
       "      <td>NaN</td>\n",
       "    </tr>\n",
       "    <tr>\n",
       "      <th>13</th>\n",
       "      <td>507</td>\n",
       "      <td>6</td>\n",
       "      <td>110</td>\n",
       "      <td>NaN</td>\n",
       "      <td>NaN</td>\n",
       "      <td>NaN</td>\n",
       "    </tr>\n",
       "    <tr>\n",
       "      <th>14</th>\n",
       "      <td>60</td>\n",
       "      <td>7</td>\n",
       "      <td>10</td>\n",
       "      <td>NaN</td>\n",
       "      <td>NaN</td>\n",
       "      <td>NaN</td>\n",
       "    </tr>\n",
       "    <tr>\n",
       "      <th>15</th>\n",
       "      <td>0</td>\n",
       "      <td>1</td>\n",
       "      <td>0</td>\n",
       "      <td>NaN</td>\n",
       "      <td>NaN</td>\n",
       "      <td>NaN</td>\n",
       "    </tr>\n",
       "    <tr>\n",
       "      <th>16</th>\n",
       "      <td>570</td>\n",
       "      <td>10</td>\n",
       "      <td>110</td>\n",
       "      <td>NaN</td>\n",
       "      <td>NaN</td>\n",
       "      <td>NaN</td>\n",
       "    </tr>\n",
       "    <tr>\n",
       "      <th>17</th>\n",
       "      <td>816</td>\n",
       "      <td>19</td>\n",
       "      <td>110</td>\n",
       "      <td>NaN</td>\n",
       "      <td>NaN</td>\n",
       "      <td>NaN</td>\n",
       "    </tr>\n",
       "    <tr>\n",
       "      <th>18</th>\n",
       "      <td>0</td>\n",
       "      <td>1</td>\n",
       "      <td>0</td>\n",
       "      <td>NaN</td>\n",
       "      <td>NaN</td>\n",
       "      <td>NaN</td>\n",
       "    </tr>\n",
       "    <tr>\n",
       "      <th>19</th>\n",
       "      <td>154</td>\n",
       "      <td>2</td>\n",
       "      <td>154</td>\n",
       "      <td>1.0</td>\n",
       "      <td>0.0</td>\n",
       "      <td>154.0</td>\n",
       "    </tr>\n",
       "    <tr>\n",
       "      <th>20</th>\n",
       "      <td>437</td>\n",
       "      <td>6</td>\n",
       "      <td>250</td>\n",
       "      <td>NaN</td>\n",
       "      <td>NaN</td>\n",
       "      <td>NaN</td>\n",
       "    </tr>\n",
       "    <tr>\n",
       "      <th>21</th>\n",
       "      <td>600</td>\n",
       "      <td>22</td>\n",
       "      <td>50</td>\n",
       "      <td>NaN</td>\n",
       "      <td>NaN</td>\n",
       "      <td>NaN</td>\n",
       "    </tr>\n",
       "    <tr>\n",
       "      <th>22</th>\n",
       "      <td>255</td>\n",
       "      <td>4</td>\n",
       "      <td>110</td>\n",
       "      <td>NaN</td>\n",
       "      <td>NaN</td>\n",
       "      <td>NaN</td>\n",
       "    </tr>\n",
       "    <tr>\n",
       "      <th>23</th>\n",
       "      <td>0</td>\n",
       "      <td>3</td>\n",
       "      <td>0</td>\n",
       "      <td>NaN</td>\n",
       "      <td>NaN</td>\n",
       "      <td>NaN</td>\n",
       "    </tr>\n",
       "    <tr>\n",
       "      <th>24</th>\n",
       "      <td>440</td>\n",
       "      <td>5</td>\n",
       "      <td>110</td>\n",
       "      <td>NaN</td>\n",
       "      <td>NaN</td>\n",
       "      <td>NaN</td>\n",
       "    </tr>\n",
       "    <tr>\n",
       "      <th>25</th>\n",
       "      <td>256</td>\n",
       "      <td>5</td>\n",
       "      <td>110</td>\n",
       "      <td>NaN</td>\n",
       "      <td>NaN</td>\n",
       "      <td>NaN</td>\n",
       "    </tr>\n",
       "    <tr>\n",
       "      <th>26</th>\n",
       "      <td>0</td>\n",
       "      <td>0</td>\n",
       "      <td>0</td>\n",
       "      <td>NaN</td>\n",
       "      <td>NaN</td>\n",
       "      <td>NaN</td>\n",
       "    </tr>\n",
       "    <tr>\n",
       "      <th>27</th>\n",
       "      <td>60</td>\n",
       "      <td>4</td>\n",
       "      <td>60</td>\n",
       "      <td>NaN</td>\n",
       "      <td>NaN</td>\n",
       "      <td>NaN</td>\n",
       "    </tr>\n",
       "    <tr>\n",
       "      <th>28</th>\n",
       "      <td>90</td>\n",
       "      <td>3</td>\n",
       "      <td>50</td>\n",
       "      <td>NaN</td>\n",
       "      <td>NaN</td>\n",
       "      <td>NaN</td>\n",
       "    </tr>\n",
       "    <tr>\n",
       "      <th>29</th>\n",
       "      <td>196</td>\n",
       "      <td>8</td>\n",
       "      <td>50</td>\n",
       "      <td>NaN</td>\n",
       "      <td>NaN</td>\n",
       "      <td>NaN</td>\n",
       "    </tr>\n",
       "    <tr>\n",
       "      <th>...</th>\n",
       "      <td>...</td>\n",
       "      <td>...</td>\n",
       "      <td>...</td>\n",
       "      <td>...</td>\n",
       "      <td>...</td>\n",
       "      <td>...</td>\n",
       "    </tr>\n",
       "    <tr>\n",
       "      <th>99969</th>\n",
       "      <td>148</td>\n",
       "      <td>5</td>\n",
       "      <td>46</td>\n",
       "      <td>3.0</td>\n",
       "      <td>0.0</td>\n",
       "      <td>138.0</td>\n",
       "    </tr>\n",
       "    <tr>\n",
       "      <th>99970</th>\n",
       "      <td>337</td>\n",
       "      <td>11</td>\n",
       "      <td>90</td>\n",
       "      <td>1.0</td>\n",
       "      <td>0.0</td>\n",
       "      <td>23.0</td>\n",
       "    </tr>\n",
       "    <tr>\n",
       "      <th>99971</th>\n",
       "      <td>110</td>\n",
       "      <td>1</td>\n",
       "      <td>110</td>\n",
       "      <td>NaN</td>\n",
       "      <td>NaN</td>\n",
       "      <td>NaN</td>\n",
       "    </tr>\n",
       "    <tr>\n",
       "      <th>99972</th>\n",
       "      <td>0</td>\n",
       "      <td>1</td>\n",
       "      <td>0</td>\n",
       "      <td>NaN</td>\n",
       "      <td>NaN</td>\n",
       "      <td>NaN</td>\n",
       "    </tr>\n",
       "    <tr>\n",
       "      <th>99973</th>\n",
       "      <td>27</td>\n",
       "      <td>1</td>\n",
       "      <td>27</td>\n",
       "      <td>NaN</td>\n",
       "      <td>NaN</td>\n",
       "      <td>NaN</td>\n",
       "    </tr>\n",
       "    <tr>\n",
       "      <th>99974</th>\n",
       "      <td>520</td>\n",
       "      <td>8</td>\n",
       "      <td>120</td>\n",
       "      <td>NaN</td>\n",
       "      <td>NaN</td>\n",
       "      <td>NaN</td>\n",
       "    </tr>\n",
       "    <tr>\n",
       "      <th>99975</th>\n",
       "      <td>120</td>\n",
       "      <td>4</td>\n",
       "      <td>50</td>\n",
       "      <td>NaN</td>\n",
       "      <td>NaN</td>\n",
       "      <td>NaN</td>\n",
       "    </tr>\n",
       "    <tr>\n",
       "      <th>99976</th>\n",
       "      <td>214</td>\n",
       "      <td>4</td>\n",
       "      <td>99</td>\n",
       "      <td>NaN</td>\n",
       "      <td>NaN</td>\n",
       "      <td>NaN</td>\n",
       "    </tr>\n",
       "    <tr>\n",
       "      <th>99977</th>\n",
       "      <td>40</td>\n",
       "      <td>4</td>\n",
       "      <td>20</td>\n",
       "      <td>NaN</td>\n",
       "      <td>NaN</td>\n",
       "      <td>NaN</td>\n",
       "    </tr>\n",
       "    <tr>\n",
       "      <th>99978</th>\n",
       "      <td>0</td>\n",
       "      <td>1</td>\n",
       "      <td>0</td>\n",
       "      <td>NaN</td>\n",
       "      <td>NaN</td>\n",
       "      <td>NaN</td>\n",
       "    </tr>\n",
       "    <tr>\n",
       "      <th>99979</th>\n",
       "      <td>0</td>\n",
       "      <td>2</td>\n",
       "      <td>0</td>\n",
       "      <td>NaN</td>\n",
       "      <td>NaN</td>\n",
       "      <td>NaN</td>\n",
       "    </tr>\n",
       "    <tr>\n",
       "      <th>99980</th>\n",
       "      <td>636</td>\n",
       "      <td>19</td>\n",
       "      <td>110</td>\n",
       "      <td>1.0</td>\n",
       "      <td>0.0</td>\n",
       "      <td>23.0</td>\n",
       "    </tr>\n",
       "    <tr>\n",
       "      <th>99981</th>\n",
       "      <td>252</td>\n",
       "      <td>2</td>\n",
       "      <td>252</td>\n",
       "      <td>0.0</td>\n",
       "      <td>1.0</td>\n",
       "      <td>252.0</td>\n",
       "    </tr>\n",
       "    <tr>\n",
       "      <th>99982</th>\n",
       "      <td>154</td>\n",
       "      <td>4</td>\n",
       "      <td>154</td>\n",
       "      <td>1.0</td>\n",
       "      <td>0.0</td>\n",
       "      <td>154.0</td>\n",
       "    </tr>\n",
       "    <tr>\n",
       "      <th>99983</th>\n",
       "      <td>220</td>\n",
       "      <td>23</td>\n",
       "      <td>10</td>\n",
       "      <td>NaN</td>\n",
       "      <td>NaN</td>\n",
       "      <td>NaN</td>\n",
       "    </tr>\n",
       "    <tr>\n",
       "      <th>99984</th>\n",
       "      <td>360</td>\n",
       "      <td>8</td>\n",
       "      <td>154</td>\n",
       "      <td>1.0</td>\n",
       "      <td>0.0</td>\n",
       "      <td>154.0</td>\n",
       "    </tr>\n",
       "    <tr>\n",
       "      <th>99985</th>\n",
       "      <td>97</td>\n",
       "      <td>1</td>\n",
       "      <td>97</td>\n",
       "      <td>NaN</td>\n",
       "      <td>NaN</td>\n",
       "      <td>NaN</td>\n",
       "    </tr>\n",
       "    <tr>\n",
       "      <th>99986</th>\n",
       "      <td>567</td>\n",
       "      <td>6</td>\n",
       "      <td>550</td>\n",
       "      <td>1.0</td>\n",
       "      <td>0.0</td>\n",
       "      <td>17.0</td>\n",
       "    </tr>\n",
       "    <tr>\n",
       "      <th>99987</th>\n",
       "      <td>193</td>\n",
       "      <td>15</td>\n",
       "      <td>30</td>\n",
       "      <td>1.0</td>\n",
       "      <td>0.0</td>\n",
       "      <td>14.0</td>\n",
       "    </tr>\n",
       "    <tr>\n",
       "      <th>99988</th>\n",
       "      <td>380</td>\n",
       "      <td>12</td>\n",
       "      <td>50</td>\n",
       "      <td>NaN</td>\n",
       "      <td>NaN</td>\n",
       "      <td>NaN</td>\n",
       "    </tr>\n",
       "    <tr>\n",
       "      <th>99989</th>\n",
       "      <td>236</td>\n",
       "      <td>4</td>\n",
       "      <td>71</td>\n",
       "      <td>NaN</td>\n",
       "      <td>NaN</td>\n",
       "      <td>NaN</td>\n",
       "    </tr>\n",
       "    <tr>\n",
       "      <th>99990</th>\n",
       "      <td>40</td>\n",
       "      <td>4</td>\n",
       "      <td>20</td>\n",
       "      <td>NaN</td>\n",
       "      <td>NaN</td>\n",
       "      <td>NaN</td>\n",
       "    </tr>\n",
       "    <tr>\n",
       "      <th>99991</th>\n",
       "      <td>120</td>\n",
       "      <td>3</td>\n",
       "      <td>60</td>\n",
       "      <td>NaN</td>\n",
       "      <td>NaN</td>\n",
       "      <td>NaN</td>\n",
       "    </tr>\n",
       "    <tr>\n",
       "      <th>99992</th>\n",
       "      <td>60</td>\n",
       "      <td>3</td>\n",
       "      <td>30</td>\n",
       "      <td>NaN</td>\n",
       "      <td>NaN</td>\n",
       "      <td>NaN</td>\n",
       "    </tr>\n",
       "    <tr>\n",
       "      <th>99993</th>\n",
       "      <td>0</td>\n",
       "      <td>0</td>\n",
       "      <td>0</td>\n",
       "      <td>NaN</td>\n",
       "      <td>NaN</td>\n",
       "      <td>NaN</td>\n",
       "    </tr>\n",
       "    <tr>\n",
       "      <th>99994</th>\n",
       "      <td>60</td>\n",
       "      <td>2</td>\n",
       "      <td>60</td>\n",
       "      <td>NaN</td>\n",
       "      <td>NaN</td>\n",
       "      <td>NaN</td>\n",
       "    </tr>\n",
       "    <tr>\n",
       "      <th>99995</th>\n",
       "      <td>110</td>\n",
       "      <td>5</td>\n",
       "      <td>110</td>\n",
       "      <td>NaN</td>\n",
       "      <td>NaN</td>\n",
       "      <td>NaN</td>\n",
       "    </tr>\n",
       "    <tr>\n",
       "      <th>99996</th>\n",
       "      <td>119</td>\n",
       "      <td>5</td>\n",
       "      <td>50</td>\n",
       "      <td>2.0</td>\n",
       "      <td>0.0</td>\n",
       "      <td>39.0</td>\n",
       "    </tr>\n",
       "    <tr>\n",
       "      <th>99997</th>\n",
       "      <td>381</td>\n",
       "      <td>3</td>\n",
       "      <td>202</td>\n",
       "      <td>1.0</td>\n",
       "      <td>2.0</td>\n",
       "      <td>583.0</td>\n",
       "    </tr>\n",
       "    <tr>\n",
       "      <th>99998</th>\n",
       "      <td>710</td>\n",
       "      <td>5</td>\n",
       "      <td>175</td>\n",
       "      <td>1.0</td>\n",
       "      <td>0.0</td>\n",
       "      <td>154.0</td>\n",
       "    </tr>\n",
       "  </tbody>\n",
       "</table>\n",
       "<p>99999 rows × 6 columns</p>\n",
       "</div>"
      ],
      "text/plain": [
       "       total_rech_amt_6  total_rech_num_6  max_rech_amt_6  count_rech_2g_6  \\\n",
       "0                   362                 4             252              0.0   \n",
       "1                    74                 4              44              NaN   \n",
       "2                   168                 5              86              NaN   \n",
       "3                   230                10              60              NaN   \n",
       "4                   196                 5              56              1.0   \n",
       "5                   120                 2             120              NaN   \n",
       "6                   499                15              90              NaN   \n",
       "7                  1580                 5            1580              NaN   \n",
       "8                   437                19              90              NaN   \n",
       "9                   220                 4             110              NaN   \n",
       "10                    0                 1               0              NaN   \n",
       "11                  366                 6             110              NaN   \n",
       "12                  110                 2             110              NaN   \n",
       "13                  507                 6             110              NaN   \n",
       "14                   60                 7              10              NaN   \n",
       "15                    0                 1               0              NaN   \n",
       "16                  570                10             110              NaN   \n",
       "17                  816                19             110              NaN   \n",
       "18                    0                 1               0              NaN   \n",
       "19                  154                 2             154              1.0   \n",
       "20                  437                 6             250              NaN   \n",
       "21                  600                22              50              NaN   \n",
       "22                  255                 4             110              NaN   \n",
       "23                    0                 3               0              NaN   \n",
       "24                  440                 5             110              NaN   \n",
       "25                  256                 5             110              NaN   \n",
       "26                    0                 0               0              NaN   \n",
       "27                   60                 4              60              NaN   \n",
       "28                   90                 3              50              NaN   \n",
       "29                  196                 8              50              NaN   \n",
       "...                 ...               ...             ...              ...   \n",
       "99969               148                 5              46              3.0   \n",
       "99970               337                11              90              1.0   \n",
       "99971               110                 1             110              NaN   \n",
       "99972                 0                 1               0              NaN   \n",
       "99973                27                 1              27              NaN   \n",
       "99974               520                 8             120              NaN   \n",
       "99975               120                 4              50              NaN   \n",
       "99976               214                 4              99              NaN   \n",
       "99977                40                 4              20              NaN   \n",
       "99978                 0                 1               0              NaN   \n",
       "99979                 0                 2               0              NaN   \n",
       "99980               636                19             110              1.0   \n",
       "99981               252                 2             252              0.0   \n",
       "99982               154                 4             154              1.0   \n",
       "99983               220                23              10              NaN   \n",
       "99984               360                 8             154              1.0   \n",
       "99985                97                 1              97              NaN   \n",
       "99986               567                 6             550              1.0   \n",
       "99987               193                15              30              1.0   \n",
       "99988               380                12              50              NaN   \n",
       "99989               236                 4              71              NaN   \n",
       "99990                40                 4              20              NaN   \n",
       "99991               120                 3              60              NaN   \n",
       "99992                60                 3              30              NaN   \n",
       "99993                 0                 0               0              NaN   \n",
       "99994                60                 2              60              NaN   \n",
       "99995               110                 5             110              NaN   \n",
       "99996               119                 5              50              2.0   \n",
       "99997               381                 3             202              1.0   \n",
       "99998               710                 5             175              1.0   \n",
       "\n",
       "       count_rech_3g_6  av_rech_amt_data_6  \n",
       "0                  1.0               252.0  \n",
       "1                  NaN                 NaN  \n",
       "2                  NaN                 NaN  \n",
       "3                  NaN                 NaN  \n",
       "4                  0.0                56.0  \n",
       "5                  NaN                 NaN  \n",
       "6                  NaN                 NaN  \n",
       "7                  NaN                 NaN  \n",
       "8                  NaN                 NaN  \n",
       "9                  NaN                 NaN  \n",
       "10                 NaN                 NaN  \n",
       "11                 NaN                 NaN  \n",
       "12                 NaN                 NaN  \n",
       "13                 NaN                 NaN  \n",
       "14                 NaN                 NaN  \n",
       "15                 NaN                 NaN  \n",
       "16                 NaN                 NaN  \n",
       "17                 NaN                 NaN  \n",
       "18                 NaN                 NaN  \n",
       "19                 0.0               154.0  \n",
       "20                 NaN                 NaN  \n",
       "21                 NaN                 NaN  \n",
       "22                 NaN                 NaN  \n",
       "23                 NaN                 NaN  \n",
       "24                 NaN                 NaN  \n",
       "25                 NaN                 NaN  \n",
       "26                 NaN                 NaN  \n",
       "27                 NaN                 NaN  \n",
       "28                 NaN                 NaN  \n",
       "29                 NaN                 NaN  \n",
       "...                ...                 ...  \n",
       "99969              0.0               138.0  \n",
       "99970              0.0                23.0  \n",
       "99971              NaN                 NaN  \n",
       "99972              NaN                 NaN  \n",
       "99973              NaN                 NaN  \n",
       "99974              NaN                 NaN  \n",
       "99975              NaN                 NaN  \n",
       "99976              NaN                 NaN  \n",
       "99977              NaN                 NaN  \n",
       "99978              NaN                 NaN  \n",
       "99979              NaN                 NaN  \n",
       "99980              0.0                23.0  \n",
       "99981              1.0               252.0  \n",
       "99982              0.0               154.0  \n",
       "99983              NaN                 NaN  \n",
       "99984              0.0               154.0  \n",
       "99985              NaN                 NaN  \n",
       "99986              0.0                17.0  \n",
       "99987              0.0                14.0  \n",
       "99988              NaN                 NaN  \n",
       "99989              NaN                 NaN  \n",
       "99990              NaN                 NaN  \n",
       "99991              NaN                 NaN  \n",
       "99992              NaN                 NaN  \n",
       "99993              NaN                 NaN  \n",
       "99994              NaN                 NaN  \n",
       "99995              NaN                 NaN  \n",
       "99996              0.0                39.0  \n",
       "99997              2.0               583.0  \n",
       "99998              0.0               154.0  \n",
       "\n",
       "[99999 rows x 6 columns]"
      ]
     },
     "execution_count": 94,
     "metadata": {},
     "output_type": "execute_result"
    }
   ],
   "source": [
    "cust[['total_rech_amt_6','total_rech_num_6','max_rech_amt_6','count_rech_2g_6','count_rech_3g_6','av_rech_amt_data_6']]"
   ]
  },
  {
   "cell_type": "markdown",
   "metadata": {},
   "source": [
    "## Check for missing data"
   ]
  },
  {
   "cell_type": "code",
   "execution_count": 95,
   "metadata": {
    "ExecuteTime": {
     "end_time": "2021-04-18T14:28:37.763838Z",
     "start_time": "2021-04-18T14:28:34.941599Z"
    }
   },
   "outputs": [
    {
     "data": {
      "text/html": [
       "<div>\n",
       "<style scoped>\n",
       "    .dataframe tbody tr th:only-of-type {\n",
       "        vertical-align: middle;\n",
       "    }\n",
       "\n",
       "    .dataframe tbody tr th {\n",
       "        vertical-align: top;\n",
       "    }\n",
       "\n",
       "    .dataframe thead th {\n",
       "        text-align: right;\n",
       "    }\n",
       "</style>\n",
       "<table border=\"1\" class=\"dataframe\">\n",
       "  <thead>\n",
       "    <tr style=\"text-align: right;\">\n",
       "      <th></th>\n",
       "      <th>Missing</th>\n",
       "      <th>Missing %</th>\n",
       "      <th>Type</th>\n",
       "      <th>Unique Count</th>\n",
       "    </tr>\n",
       "  </thead>\n",
       "  <tbody>\n",
       "    <tr>\n",
       "      <th>count_rech_2g_6</th>\n",
       "      <td>74846</td>\n",
       "      <td>74.846748</td>\n",
       "      <td>&lt;class 'str'&gt;</td>\n",
       "      <td>31</td>\n",
       "    </tr>\n",
       "    <tr>\n",
       "      <th>max_rech_data_6</th>\n",
       "      <td>74846</td>\n",
       "      <td>74.846748</td>\n",
       "      <td>&lt;class 'str'&gt;</td>\n",
       "      <td>48</td>\n",
       "    </tr>\n",
       "    <tr>\n",
       "      <th>arpu_3g_6</th>\n",
       "      <td>74846</td>\n",
       "      <td>74.846748</td>\n",
       "      <td>&lt;class 'str'&gt;</td>\n",
       "      <td>7418</td>\n",
       "    </tr>\n",
       "    <tr>\n",
       "      <th>av_rech_amt_data_6</th>\n",
       "      <td>74846</td>\n",
       "      <td>74.846748</td>\n",
       "      <td>&lt;class 'str'&gt;</td>\n",
       "      <td>887</td>\n",
       "    </tr>\n",
       "    <tr>\n",
       "      <th>count_rech_3g_6</th>\n",
       "      <td>74846</td>\n",
       "      <td>74.846748</td>\n",
       "      <td>&lt;class 'str'&gt;</td>\n",
       "      <td>25</td>\n",
       "    </tr>\n",
       "    <tr>\n",
       "      <th>night_pck_user_6</th>\n",
       "      <td>74846</td>\n",
       "      <td>74.846748</td>\n",
       "      <td>&lt;class 'str'&gt;</td>\n",
       "      <td>2</td>\n",
       "    </tr>\n",
       "    <tr>\n",
       "      <th>arpu_2g_6</th>\n",
       "      <td>74846</td>\n",
       "      <td>74.846748</td>\n",
       "      <td>&lt;class 'str'&gt;</td>\n",
       "      <td>6990</td>\n",
       "    </tr>\n",
       "    <tr>\n",
       "      <th>fb_user_6</th>\n",
       "      <td>74846</td>\n",
       "      <td>74.846748</td>\n",
       "      <td>&lt;class 'str'&gt;</td>\n",
       "      <td>2</td>\n",
       "    </tr>\n",
       "    <tr>\n",
       "      <th>total_rech_data_6</th>\n",
       "      <td>74846</td>\n",
       "      <td>74.846748</td>\n",
       "      <td>&lt;class 'str'&gt;</td>\n",
       "      <td>37</td>\n",
       "    </tr>\n",
       "    <tr>\n",
       "      <th>date_of_last_rech_data_6</th>\n",
       "      <td>74846</td>\n",
       "      <td>74.846748</td>\n",
       "      <td>&lt;class 'str'&gt;</td>\n",
       "      <td>30</td>\n",
       "    </tr>\n",
       "    <tr>\n",
       "      <th>count_rech_3g_7</th>\n",
       "      <td>74428</td>\n",
       "      <td>74.428744</td>\n",
       "      <td>&lt;class 'str'&gt;</td>\n",
       "      <td>28</td>\n",
       "    </tr>\n",
       "    <tr>\n",
       "      <th>arpu_3g_7</th>\n",
       "      <td>74428</td>\n",
       "      <td>74.428744</td>\n",
       "      <td>&lt;class 'str'&gt;</td>\n",
       "      <td>7246</td>\n",
       "    </tr>\n",
       "    <tr>\n",
       "      <th>av_rech_amt_data_7</th>\n",
       "      <td>74428</td>\n",
       "      <td>74.428744</td>\n",
       "      <td>&lt;class 'str'&gt;</td>\n",
       "      <td>961</td>\n",
       "    </tr>\n",
       "    <tr>\n",
       "      <th>fb_user_7</th>\n",
       "      <td>74428</td>\n",
       "      <td>74.428744</td>\n",
       "      <td>&lt;class 'str'&gt;</td>\n",
       "      <td>2</td>\n",
       "    </tr>\n",
       "    <tr>\n",
       "      <th>total_rech_data_7</th>\n",
       "      <td>74428</td>\n",
       "      <td>74.428744</td>\n",
       "      <td>&lt;class 'str'&gt;</td>\n",
       "      <td>42</td>\n",
       "    </tr>\n",
       "    <tr>\n",
       "      <th>count_rech_2g_7</th>\n",
       "      <td>74428</td>\n",
       "      <td>74.428744</td>\n",
       "      <td>&lt;class 'str'&gt;</td>\n",
       "      <td>36</td>\n",
       "    </tr>\n",
       "    <tr>\n",
       "      <th>arpu_2g_7</th>\n",
       "      <td>74428</td>\n",
       "      <td>74.428744</td>\n",
       "      <td>&lt;class 'str'&gt;</td>\n",
       "      <td>6586</td>\n",
       "    </tr>\n",
       "    <tr>\n",
       "      <th>night_pck_user_7</th>\n",
       "      <td>74428</td>\n",
       "      <td>74.428744</td>\n",
       "      <td>&lt;class 'str'&gt;</td>\n",
       "      <td>2</td>\n",
       "    </tr>\n",
       "    <tr>\n",
       "      <th>max_rech_data_7</th>\n",
       "      <td>74428</td>\n",
       "      <td>74.428744</td>\n",
       "      <td>&lt;class 'str'&gt;</td>\n",
       "      <td>48</td>\n",
       "    </tr>\n",
       "    <tr>\n",
       "      <th>date_of_last_rech_data_7</th>\n",
       "      <td>74428</td>\n",
       "      <td>74.428744</td>\n",
       "      <td>&lt;class 'str'&gt;</td>\n",
       "      <td>31</td>\n",
       "    </tr>\n",
       "    <tr>\n",
       "      <th>date_of_last_rech_data_9</th>\n",
       "      <td>74077</td>\n",
       "      <td>74.077741</td>\n",
       "      <td>&lt;class 'str'&gt;</td>\n",
       "      <td>30</td>\n",
       "    </tr>\n",
       "    <tr>\n",
       "      <th>count_rech_2g_9</th>\n",
       "      <td>74077</td>\n",
       "      <td>74.077741</td>\n",
       "      <td>&lt;class 'str'&gt;</td>\n",
       "      <td>32</td>\n",
       "    </tr>\n",
       "    <tr>\n",
       "      <th>total_rech_data_9</th>\n",
       "      <td>74077</td>\n",
       "      <td>74.077741</td>\n",
       "      <td>&lt;class 'str'&gt;</td>\n",
       "      <td>37</td>\n",
       "    </tr>\n",
       "    <tr>\n",
       "      <th>count_rech_3g_9</th>\n",
       "      <td>74077</td>\n",
       "      <td>74.077741</td>\n",
       "      <td>&lt;class 'str'&gt;</td>\n",
       "      <td>27</td>\n",
       "    </tr>\n",
       "    <tr>\n",
       "      <th>max_rech_data_9</th>\n",
       "      <td>74077</td>\n",
       "      <td>74.077741</td>\n",
       "      <td>&lt;class 'str'&gt;</td>\n",
       "      <td>50</td>\n",
       "    </tr>\n",
       "    <tr>\n",
       "      <th>av_rech_amt_data_9</th>\n",
       "      <td>74077</td>\n",
       "      <td>74.077741</td>\n",
       "      <td>&lt;class 'str'&gt;</td>\n",
       "      <td>945</td>\n",
       "    </tr>\n",
       "    <tr>\n",
       "      <th>arpu_3g_9</th>\n",
       "      <td>74077</td>\n",
       "      <td>74.077741</td>\n",
       "      <td>&lt;class 'str'&gt;</td>\n",
       "      <td>8063</td>\n",
       "    </tr>\n",
       "    <tr>\n",
       "      <th>fb_user_9</th>\n",
       "      <td>74077</td>\n",
       "      <td>74.077741</td>\n",
       "      <td>&lt;class 'str'&gt;</td>\n",
       "      <td>2</td>\n",
       "    </tr>\n",
       "    <tr>\n",
       "      <th>night_pck_user_9</th>\n",
       "      <td>74077</td>\n",
       "      <td>74.077741</td>\n",
       "      <td>&lt;class 'str'&gt;</td>\n",
       "      <td>2</td>\n",
       "    </tr>\n",
       "    <tr>\n",
       "      <th>arpu_2g_9</th>\n",
       "      <td>74077</td>\n",
       "      <td>74.077741</td>\n",
       "      <td>&lt;class 'str'&gt;</td>\n",
       "      <td>6795</td>\n",
       "    </tr>\n",
       "    <tr>\n",
       "      <th>...</th>\n",
       "      <td>...</td>\n",
       "      <td>...</td>\n",
       "      <td>...</td>\n",
       "      <td>...</td>\n",
       "    </tr>\n",
       "    <tr>\n",
       "      <th>std_og_t2m_mou_7</th>\n",
       "      <td>3859</td>\n",
       "      <td>3.859039</td>\n",
       "      <td>&lt;class 'str'&gt;</td>\n",
       "      <td>20018</td>\n",
       "    </tr>\n",
       "    <tr>\n",
       "      <th>std_og_t2f_mou_7</th>\n",
       "      <td>3859</td>\n",
       "      <td>3.859039</td>\n",
       "      <td>&lt;class 'str'&gt;</td>\n",
       "      <td>2391</td>\n",
       "    </tr>\n",
       "    <tr>\n",
       "      <th>std_og_t2c_mou_7</th>\n",
       "      <td>3859</td>\n",
       "      <td>3.859039</td>\n",
       "      <td>&lt;class 'str'&gt;</td>\n",
       "      <td>1</td>\n",
       "    </tr>\n",
       "    <tr>\n",
       "      <th>roam_ic_mou_7</th>\n",
       "      <td>3859</td>\n",
       "      <td>3.859039</td>\n",
       "      <td>&lt;class 'str'&gt;</td>\n",
       "      <td>5230</td>\n",
       "    </tr>\n",
       "    <tr>\n",
       "      <th>isd_og_mou_7</th>\n",
       "      <td>3859</td>\n",
       "      <td>3.859039</td>\n",
       "      <td>&lt;class 'str'&gt;</td>\n",
       "      <td>1380</td>\n",
       "    </tr>\n",
       "    <tr>\n",
       "      <th>spl_og_mou_7</th>\n",
       "      <td>3859</td>\n",
       "      <td>3.859039</td>\n",
       "      <td>&lt;class 'str'&gt;</td>\n",
       "      <td>4396</td>\n",
       "    </tr>\n",
       "    <tr>\n",
       "      <th>og_others_7</th>\n",
       "      <td>3859</td>\n",
       "      <td>3.859039</td>\n",
       "      <td>&lt;class 'str'&gt;</td>\n",
       "      <td>187</td>\n",
       "    </tr>\n",
       "    <tr>\n",
       "      <th>loc_ic_t2t_mou_7</th>\n",
       "      <td>3859</td>\n",
       "      <td>3.859039</td>\n",
       "      <td>&lt;class 'str'&gt;</td>\n",
       "      <td>13511</td>\n",
       "    </tr>\n",
       "    <tr>\n",
       "      <th>loc_ic_t2m_mou_7</th>\n",
       "      <td>3859</td>\n",
       "      <td>3.859039</td>\n",
       "      <td>&lt;class 'str'&gt;</td>\n",
       "      <td>21918</td>\n",
       "    </tr>\n",
       "    <tr>\n",
       "      <th>offnet_mou_7</th>\n",
       "      <td>3859</td>\n",
       "      <td>3.859039</td>\n",
       "      <td>&lt;class 'str'&gt;</td>\n",
       "      <td>31023</td>\n",
       "    </tr>\n",
       "    <tr>\n",
       "      <th>loc_ic_mou_7</th>\n",
       "      <td>3859</td>\n",
       "      <td>3.859039</td>\n",
       "      <td>&lt;class 'str'&gt;</td>\n",
       "      <td>28390</td>\n",
       "    </tr>\n",
       "    <tr>\n",
       "      <th>std_ic_t2t_mou_7</th>\n",
       "      <td>3859</td>\n",
       "      <td>3.859039</td>\n",
       "      <td>&lt;class 'str'&gt;</td>\n",
       "      <td>6481</td>\n",
       "    </tr>\n",
       "    <tr>\n",
       "      <th>std_ic_t2m_mou_7</th>\n",
       "      <td>3859</td>\n",
       "      <td>3.859039</td>\n",
       "      <td>&lt;class 'str'&gt;</td>\n",
       "      <td>9464</td>\n",
       "    </tr>\n",
       "    <tr>\n",
       "      <th>std_ic_t2f_mou_7</th>\n",
       "      <td>3859</td>\n",
       "      <td>3.859039</td>\n",
       "      <td>&lt;class 'str'&gt;</td>\n",
       "      <td>3209</td>\n",
       "    </tr>\n",
       "    <tr>\n",
       "      <th>std_ic_t2o_mou_7</th>\n",
       "      <td>3859</td>\n",
       "      <td>3.859039</td>\n",
       "      <td>&lt;class 'str'&gt;</td>\n",
       "      <td>1</td>\n",
       "    </tr>\n",
       "    <tr>\n",
       "      <th>std_ic_mou_7</th>\n",
       "      <td>3859</td>\n",
       "      <td>3.859039</td>\n",
       "      <td>&lt;class 'str'&gt;</td>\n",
       "      <td>11889</td>\n",
       "    </tr>\n",
       "    <tr>\n",
       "      <th>spl_ic_mou_7</th>\n",
       "      <td>3859</td>\n",
       "      <td>3.859039</td>\n",
       "      <td>&lt;class 'str'&gt;</td>\n",
       "      <td>107</td>\n",
       "    </tr>\n",
       "    <tr>\n",
       "      <th>isd_ic_mou_7</th>\n",
       "      <td>3859</td>\n",
       "      <td>3.859039</td>\n",
       "      <td>&lt;class 'str'&gt;</td>\n",
       "      <td>5789</td>\n",
       "    </tr>\n",
       "    <tr>\n",
       "      <th>ic_others_7</th>\n",
       "      <td>3859</td>\n",
       "      <td>3.859039</td>\n",
       "      <td>&lt;class 'str'&gt;</td>\n",
       "      <td>2002</td>\n",
       "    </tr>\n",
       "    <tr>\n",
       "      <th>onnet_mou_7</th>\n",
       "      <td>3859</td>\n",
       "      <td>3.859039</td>\n",
       "      <td>&lt;class 'str'&gt;</td>\n",
       "      <td>24336</td>\n",
       "    </tr>\n",
       "    <tr>\n",
       "      <th>loc_og_t2t_mou_7</th>\n",
       "      <td>3859</td>\n",
       "      <td>3.859039</td>\n",
       "      <td>&lt;class 'str'&gt;</td>\n",
       "      <td>13411</td>\n",
       "    </tr>\n",
       "    <tr>\n",
       "      <th>date_of_last_rech_8</th>\n",
       "      <td>3622</td>\n",
       "      <td>3.622036</td>\n",
       "      <td>&lt;class 'str'&gt;</td>\n",
       "      <td>31</td>\n",
       "    </tr>\n",
       "    <tr>\n",
       "      <th>date_of_last_rech_7</th>\n",
       "      <td>1767</td>\n",
       "      <td>1.767018</td>\n",
       "      <td>&lt;class 'str'&gt;</td>\n",
       "      <td>31</td>\n",
       "    </tr>\n",
       "    <tr>\n",
       "      <th>last_date_of_month_9</th>\n",
       "      <td>1659</td>\n",
       "      <td>1.659017</td>\n",
       "      <td>&lt;class 'str'&gt;</td>\n",
       "      <td>1</td>\n",
       "    </tr>\n",
       "    <tr>\n",
       "      <th>date_of_last_rech_6</th>\n",
       "      <td>1607</td>\n",
       "      <td>1.607016</td>\n",
       "      <td>&lt;class 'str'&gt;</td>\n",
       "      <td>30</td>\n",
       "    </tr>\n",
       "    <tr>\n",
       "      <th>last_date_of_month_8</th>\n",
       "      <td>1100</td>\n",
       "      <td>1.100011</td>\n",
       "      <td>&lt;class 'str'&gt;</td>\n",
       "      <td>1</td>\n",
       "    </tr>\n",
       "    <tr>\n",
       "      <th>std_og_t2o_mou</th>\n",
       "      <td>1018</td>\n",
       "      <td>1.018010</td>\n",
       "      <td>&lt;class 'str'&gt;</td>\n",
       "      <td>1</td>\n",
       "    </tr>\n",
       "    <tr>\n",
       "      <th>loc_ic_t2o_mou</th>\n",
       "      <td>1018</td>\n",
       "      <td>1.018010</td>\n",
       "      <td>&lt;class 'str'&gt;</td>\n",
       "      <td>1</td>\n",
       "    </tr>\n",
       "    <tr>\n",
       "      <th>loc_og_t2o_mou</th>\n",
       "      <td>1018</td>\n",
       "      <td>1.018010</td>\n",
       "      <td>&lt;class 'str'&gt;</td>\n",
       "      <td>1</td>\n",
       "    </tr>\n",
       "    <tr>\n",
       "      <th>last_date_of_month_7</th>\n",
       "      <td>601</td>\n",
       "      <td>0.601006</td>\n",
       "      <td>&lt;class 'str'&gt;</td>\n",
       "      <td>1</td>\n",
       "    </tr>\n",
       "  </tbody>\n",
       "</table>\n",
       "<p>166 rows × 4 columns</p>\n",
       "</div>"
      ],
      "text/plain": [
       "                          Missing  Missing %           Type  Unique Count\n",
       "count_rech_2g_6             74846  74.846748  <class 'str'>            31\n",
       "max_rech_data_6             74846  74.846748  <class 'str'>            48\n",
       "arpu_3g_6                   74846  74.846748  <class 'str'>          7418\n",
       "av_rech_amt_data_6          74846  74.846748  <class 'str'>           887\n",
       "count_rech_3g_6             74846  74.846748  <class 'str'>            25\n",
       "night_pck_user_6            74846  74.846748  <class 'str'>             2\n",
       "arpu_2g_6                   74846  74.846748  <class 'str'>          6990\n",
       "fb_user_6                   74846  74.846748  <class 'str'>             2\n",
       "total_rech_data_6           74846  74.846748  <class 'str'>            37\n",
       "date_of_last_rech_data_6    74846  74.846748  <class 'str'>            30\n",
       "count_rech_3g_7             74428  74.428744  <class 'str'>            28\n",
       "arpu_3g_7                   74428  74.428744  <class 'str'>          7246\n",
       "av_rech_amt_data_7          74428  74.428744  <class 'str'>           961\n",
       "fb_user_7                   74428  74.428744  <class 'str'>             2\n",
       "total_rech_data_7           74428  74.428744  <class 'str'>            42\n",
       "count_rech_2g_7             74428  74.428744  <class 'str'>            36\n",
       "arpu_2g_7                   74428  74.428744  <class 'str'>          6586\n",
       "night_pck_user_7            74428  74.428744  <class 'str'>             2\n",
       "max_rech_data_7             74428  74.428744  <class 'str'>            48\n",
       "date_of_last_rech_data_7    74428  74.428744  <class 'str'>            31\n",
       "date_of_last_rech_data_9    74077  74.077741  <class 'str'>            30\n",
       "count_rech_2g_9             74077  74.077741  <class 'str'>            32\n",
       "total_rech_data_9           74077  74.077741  <class 'str'>            37\n",
       "count_rech_3g_9             74077  74.077741  <class 'str'>            27\n",
       "max_rech_data_9             74077  74.077741  <class 'str'>            50\n",
       "av_rech_amt_data_9          74077  74.077741  <class 'str'>           945\n",
       "arpu_3g_9                   74077  74.077741  <class 'str'>          8063\n",
       "fb_user_9                   74077  74.077741  <class 'str'>             2\n",
       "night_pck_user_9            74077  74.077741  <class 'str'>             2\n",
       "arpu_2g_9                   74077  74.077741  <class 'str'>          6795\n",
       "...                           ...        ...            ...           ...\n",
       "std_og_t2m_mou_7             3859   3.859039  <class 'str'>         20018\n",
       "std_og_t2f_mou_7             3859   3.859039  <class 'str'>          2391\n",
       "std_og_t2c_mou_7             3859   3.859039  <class 'str'>             1\n",
       "roam_ic_mou_7                3859   3.859039  <class 'str'>          5230\n",
       "isd_og_mou_7                 3859   3.859039  <class 'str'>          1380\n",
       "spl_og_mou_7                 3859   3.859039  <class 'str'>          4396\n",
       "og_others_7                  3859   3.859039  <class 'str'>           187\n",
       "loc_ic_t2t_mou_7             3859   3.859039  <class 'str'>         13511\n",
       "loc_ic_t2m_mou_7             3859   3.859039  <class 'str'>         21918\n",
       "offnet_mou_7                 3859   3.859039  <class 'str'>         31023\n",
       "loc_ic_mou_7                 3859   3.859039  <class 'str'>         28390\n",
       "std_ic_t2t_mou_7             3859   3.859039  <class 'str'>          6481\n",
       "std_ic_t2m_mou_7             3859   3.859039  <class 'str'>          9464\n",
       "std_ic_t2f_mou_7             3859   3.859039  <class 'str'>          3209\n",
       "std_ic_t2o_mou_7             3859   3.859039  <class 'str'>             1\n",
       "std_ic_mou_7                 3859   3.859039  <class 'str'>         11889\n",
       "spl_ic_mou_7                 3859   3.859039  <class 'str'>           107\n",
       "isd_ic_mou_7                 3859   3.859039  <class 'str'>          5789\n",
       "ic_others_7                  3859   3.859039  <class 'str'>          2002\n",
       "onnet_mou_7                  3859   3.859039  <class 'str'>         24336\n",
       "loc_og_t2t_mou_7             3859   3.859039  <class 'str'>         13411\n",
       "date_of_last_rech_8          3622   3.622036  <class 'str'>            31\n",
       "date_of_last_rech_7          1767   1.767018  <class 'str'>            31\n",
       "last_date_of_month_9         1659   1.659017  <class 'str'>             1\n",
       "date_of_last_rech_6          1607   1.607016  <class 'str'>            30\n",
       "last_date_of_month_8         1100   1.100011  <class 'str'>             1\n",
       "std_og_t2o_mou               1018   1.018010  <class 'str'>             1\n",
       "loc_ic_t2o_mou               1018   1.018010  <class 'str'>             1\n",
       "loc_og_t2o_mou               1018   1.018010  <class 'str'>             1\n",
       "last_date_of_month_7          601   0.601006  <class 'str'>             1\n",
       "\n",
       "[166 rows x 4 columns]"
      ]
     },
     "metadata": {},
     "output_type": "display_data"
    }
   ],
   "source": [
    "print_missing_columns(cust)"
   ]
  },
  {
   "cell_type": "markdown",
   "metadata": {},
   "source": [
    "## Handle missing data"
   ]
  },
  {
   "cell_type": "markdown",
   "metadata": {},
   "source": [
    "### Replace missing with 0\n",
    "Missing 'incoming' & 'outgoing' call related columns can be set to 0 assuming there were no calls received/made for that column type"
   ]
  },
  {
   "cell_type": "code",
   "execution_count": 96,
   "metadata": {
    "ExecuteTime": {
     "end_time": "2021-04-18T14:28:37.769470Z",
     "start_time": "2021-04-18T14:28:37.765529Z"
    }
   },
   "outputs": [
    {
     "data": {
      "text/plain": [
       "Index(['mobile_number', 'circle_id', 'loc_og_t2o_mou', 'std_og_t2o_mou',\n",
       "       'loc_ic_t2o_mou', 'last_date_of_month_6', 'last_date_of_month_7',\n",
       "       'last_date_of_month_8', 'last_date_of_month_9', 'arpu_6',\n",
       "       ...\n",
       "       'sachet_3g_9', 'fb_user_6', 'fb_user_7', 'fb_user_8', 'fb_user_9',\n",
       "       'aon', 'aug_vbc_3g', 'jul_vbc_3g', 'jun_vbc_3g', 'sep_vbc_3g'],\n",
       "      dtype='object', length=226)"
      ]
     },
     "execution_count": 96,
     "metadata": {},
     "output_type": "execute_result"
    }
   ],
   "source": [
    "cust.columns"
   ]
  },
  {
   "cell_type": "code",
   "execution_count": 97,
   "metadata": {
    "ExecuteTime": {
     "end_time": "2021-04-18T14:28:37.987936Z",
     "start_time": "2021-04-18T14:28:37.771183Z"
    }
   },
   "outputs": [
    {
     "name": "stdout",
     "output_type": "stream",
     "text": [
      "Replaced missing values with 0 for 57 incoming columns:['loc_ic_t2o_mou', 'roam_ic_mou_6', 'roam_ic_mou_7', 'roam_ic_mou_8', 'roam_ic_mou_9', 'loc_ic_t2t_mou_6', 'loc_ic_t2t_mou_7', 'loc_ic_t2t_mou_8', 'loc_ic_t2t_mou_9', 'loc_ic_t2m_mou_6', 'loc_ic_t2m_mou_7', 'loc_ic_t2m_mou_8', 'loc_ic_t2m_mou_9', 'loc_ic_t2f_mou_6', 'loc_ic_t2f_mou_7', 'loc_ic_t2f_mou_8', 'loc_ic_t2f_mou_9', 'loc_ic_mou_6', 'loc_ic_mou_7', 'loc_ic_mou_8', 'loc_ic_mou_9', 'std_ic_t2t_mou_6', 'std_ic_t2t_mou_7', 'std_ic_t2t_mou_8', 'std_ic_t2t_mou_9', 'std_ic_t2m_mou_6', 'std_ic_t2m_mou_7', 'std_ic_t2m_mou_8', 'std_ic_t2m_mou_9', 'std_ic_t2f_mou_6', 'std_ic_t2f_mou_7', 'std_ic_t2f_mou_8', 'std_ic_t2f_mou_9', 'std_ic_t2o_mou_6', 'std_ic_t2o_mou_7', 'std_ic_t2o_mou_8', 'std_ic_t2o_mou_9', 'std_ic_mou_6', 'std_ic_mou_7', 'std_ic_mou_8', 'std_ic_mou_9', 'total_ic_mou_6', 'total_ic_mou_7', 'total_ic_mou_8', 'total_ic_mou_9', 'spl_ic_mou_6', 'spl_ic_mou_7', 'spl_ic_mou_8', 'spl_ic_mou_9', 'isd_ic_mou_6', 'isd_ic_mou_7', 'isd_ic_mou_8', 'isd_ic_mou_9', 'ic_others_6', 'ic_others_7', 'ic_others_8', 'ic_others_9']\n",
      "\n",
      "Replaced missing values with 0 for 62 outgoing columns:['loc_og_t2o_mou', 'std_og_t2o_mou', 'roam_og_mou_6', 'roam_og_mou_7', 'roam_og_mou_8', 'roam_og_mou_9', 'loc_og_t2t_mou_6', 'loc_og_t2t_mou_7', 'loc_og_t2t_mou_8', 'loc_og_t2t_mou_9', 'loc_og_t2m_mou_6', 'loc_og_t2m_mou_7', 'loc_og_t2m_mou_8', 'loc_og_t2m_mou_9', 'loc_og_t2f_mou_6', 'loc_og_t2f_mou_7', 'loc_og_t2f_mou_8', 'loc_og_t2f_mou_9', 'loc_og_t2c_mou_6', 'loc_og_t2c_mou_7', 'loc_og_t2c_mou_8', 'loc_og_t2c_mou_9', 'loc_og_mou_6', 'loc_og_mou_7', 'loc_og_mou_8', 'loc_og_mou_9', 'std_og_t2t_mou_6', 'std_og_t2t_mou_7', 'std_og_t2t_mou_8', 'std_og_t2t_mou_9', 'std_og_t2m_mou_6', 'std_og_t2m_mou_7', 'std_og_t2m_mou_8', 'std_og_t2m_mou_9', 'std_og_t2f_mou_6', 'std_og_t2f_mou_7', 'std_og_t2f_mou_8', 'std_og_t2f_mou_9', 'std_og_t2c_mou_6', 'std_og_t2c_mou_7', 'std_og_t2c_mou_8', 'std_og_t2c_mou_9', 'std_og_mou_6', 'std_og_mou_7', 'std_og_mou_8', 'std_og_mou_9', 'isd_og_mou_6', 'isd_og_mou_7', 'isd_og_mou_8', 'isd_og_mou_9', 'spl_og_mou_6', 'spl_og_mou_7', 'spl_og_mou_8', 'spl_og_mou_9', 'og_others_6', 'og_others_7', 'og_others_8', 'og_others_9', 'total_og_mou_6', 'total_og_mou_7', 'total_og_mou_8', 'total_og_mou_9']\n"
     ]
    }
   ],
   "source": [
    "# Incoming calls column:\n",
    "# All columns with incoming call information have the string \"ic_\" in the column name\n",
    "# Fill the missing values in these columns with 0\n",
    "incoming_cols = [col for col in cust.columns if 'ic_' in col]\n",
    "cust[incoming_cols] = cust[incoming_cols].fillna(0)\n",
    "print(f'Replaced missing values with 0 for {len(incoming_cols)} incoming columns:{incoming_cols}')\n",
    "\n",
    "# Outgoing calls column:\n",
    "# All columns with outgoing call information have the string \"og_\" in the column name\n",
    "# Fill the missing values in these columns with 0\n",
    "outcoming_cols = [col for col in cust.columns if 'og_' in col]\n",
    "cust[outcoming_cols] = cust[outcoming_cols].fillna(0)\n",
    "print(f'\\nReplaced missing values with 0 for {len(outcoming_cols)} outgoing columns:{outcoming_cols}')"
   ]
  },
  {
   "cell_type": "code",
   "execution_count": 98,
   "metadata": {
    "ExecuteTime": {
     "end_time": "2021-04-18T14:28:38.052310Z",
     "start_time": "2021-04-18T14:28:37.989697Z"
    }
   },
   "outputs": [
    {
     "name": "stdout",
     "output_type": "stream",
     "text": [
      "Replaced missing values with 0 for 32 recharge columns :['total_rech_num_6', 'total_rech_num_7', 'total_rech_num_8', 'total_rech_num_9', 'total_rech_amt_6', 'total_rech_amt_7', 'total_rech_amt_8', 'total_rech_amt_9', 'max_rech_amt_6', 'max_rech_amt_7', 'max_rech_amt_8', 'max_rech_amt_9', 'total_rech_data_6', 'total_rech_data_7', 'total_rech_data_8', 'total_rech_data_9', 'max_rech_data_6', 'max_rech_data_7', 'max_rech_data_8', 'max_rech_data_9', 'count_rech_2g_6', 'count_rech_2g_7', 'count_rech_2g_8', 'count_rech_2g_9', 'count_rech_3g_6', 'count_rech_3g_7', 'count_rech_3g_8', 'count_rech_3g_9', 'av_rech_amt_data_6', 'av_rech_amt_data_7', 'av_rech_amt_data_8', 'av_rech_amt_data_9']\n"
     ]
    }
   ],
   "source": [
    "# Recharge related columns\n",
    "rech_cols = [col for col in cust.columns if re.match('^count_rech_|^max_rech_|^total_rech_|^av_rech_', col)]\n",
    "cust[rech_cols] = cust[rech_cols].fillna(0)\n",
    "print(f'Replaced missing values with 0 for {len(rech_cols)} recharge columns :{rech_cols}')"
   ]
  },
  {
   "cell_type": "code",
   "execution_count": 99,
   "metadata": {
    "ExecuteTime": {
     "end_time": "2021-04-18T14:28:38.069647Z",
     "start_time": "2021-04-18T14:28:38.054475Z"
    }
   },
   "outputs": [
    {
     "name": "stdout",
     "output_type": "stream",
     "text": [
      "Replaced missing values with 0 for 8 OFFNET/ONNET MOU columns :['onnet_mou_6', 'onnet_mou_7', 'onnet_mou_8', 'onnet_mou_9', 'offnet_mou_6', 'offnet_mou_7', 'offnet_mou_8', 'offnet_mou_9']\n"
     ]
    }
   ],
   "source": [
    "\n",
    "# OFFNET/ONNET MOU related columns\n",
    "mou_cols = [col for col in cust.columns if re.match('^onnet_mou|^offnet_mou', col)]\n",
    "cust[mou_cols] = cust[mou_cols].fillna(0)\n",
    "print(f'Replaced missing values with 0 for {len(mou_cols)} OFFNET/ONNET MOU columns :{mou_cols}')"
   ]
  },
  {
   "cell_type": "code",
   "execution_count": 100,
   "metadata": {
    "ExecuteTime": {
     "end_time": "2021-04-18T14:28:38.096538Z",
     "start_time": "2021-04-18T14:28:38.072038Z"
    }
   },
   "outputs": [
    {
     "name": "stdout",
     "output_type": "stream",
     "text": [
      "Replaced missing values with 0 for 12 arpu columns :['arpu_6', 'arpu_7', 'arpu_8', 'arpu_9', 'arpu_3g_6', 'arpu_3g_7', 'arpu_3g_8', 'arpu_3g_9', 'arpu_2g_6', 'arpu_2g_7', 'arpu_2g_8', 'arpu_2g_9']\n"
     ]
    }
   ],
   "source": [
    "\n",
    "# arpu related columns\n",
    "arpu_cols = [col for col in cust.columns if re.match('^arpu', col)]\n",
    "cust[arpu_cols] = cust[arpu_cols].fillna(0)\n",
    "print(f'Replaced missing values with 0 for {len(arpu_cols)} arpu columns :{arpu_cols}')"
   ]
  },
  {
   "cell_type": "code",
   "execution_count": null,
   "metadata": {},
   "outputs": [],
   "source": []
  },
  {
   "cell_type": "code",
   "execution_count": 101,
   "metadata": {
    "ExecuteTime": {
     "end_time": "2021-04-18T14:28:38.107020Z",
     "start_time": "2021-04-18T14:28:38.099374Z"
    }
   },
   "outputs": [
    {
     "data": {
      "text/plain": [
       "['last_date_of_month_6',\n",
       " 'last_date_of_month_7',\n",
       " 'last_date_of_month_8',\n",
       " 'last_date_of_month_9',\n",
       " 'date_of_last_rech_6',\n",
       " 'date_of_last_rech_7',\n",
       " 'date_of_last_rech_8',\n",
       " 'date_of_last_rech_9',\n",
       " 'date_of_last_rech_data_6',\n",
       " 'date_of_last_rech_data_7',\n",
       " 'date_of_last_rech_data_8',\n",
       " 'date_of_last_rech_data_9']"
      ]
     },
     "execution_count": 101,
     "metadata": {},
     "output_type": "execute_result"
    }
   ],
   "source": [
    "# date related columns\n",
    "date_cols = [col for col in cust.columns if re.match('^date|^last_date', col)]\n",
    "date_cols"
   ]
  },
  {
   "cell_type": "code",
   "execution_count": null,
   "metadata": {
    "ExecuteTime": {
     "end_time": "2021-04-18T13:01:55.115542Z",
     "start_time": "2021-04-18T13:01:55.113247Z"
    },
    "scrolled": true
   },
   "outputs": [],
   "source": [
    "\n"
   ]
  },
  {
   "cell_type": "markdown",
   "metadata": {},
   "source": [
    "### Handle date columns"
   ]
  },
  {
   "cell_type": "code",
   "execution_count": 148,
   "metadata": {
    "ExecuteTime": {
     "end_time": "2021-04-18T14:42:50.918357Z",
     "start_time": "2021-04-18T14:42:50.913831Z"
    }
   },
   "outputs": [
    {
     "data": {
      "text/plain": [
       "(99999, 219)"
      ]
     },
     "execution_count": 148,
     "metadata": {},
     "output_type": "execute_result"
    }
   ],
   "source": [
    "cust.shape"
   ]
  },
  {
   "cell_type": "code",
   "execution_count": 102,
   "metadata": {
    "ExecuteTime": {
     "end_time": "2021-04-18T14:29:52.699878Z",
     "start_time": "2021-04-18T14:28:38.109715Z"
    }
   },
   "outputs": [],
   "source": [
    "# Change data type of date columns to datetime\n",
    "date_cols = [col for col in cust.columns if re.match('^date|^last_date', col)]\n",
    "cust[date_cols] = cust[date_cols].apply(pd.to_datetime) "
   ]
  },
  {
   "cell_type": "code",
   "execution_count": 103,
   "metadata": {
    "ExecuteTime": {
     "end_time": "2021-04-18T14:29:53.286423Z",
     "start_time": "2021-04-18T14:29:52.702336Z"
    }
   },
   "outputs": [],
   "source": [
    "# For each month, convert the recharge date to number of days before the last date.\n",
    "# Fill missing values with no. of days in the month\n",
    "month_suffixes = [6,7,8,9]\n",
    "for month in month_suffixes:\n",
    "    last_date_month = f'last_date_of_month_{month}'\n",
    "    date_last_rech = f'date_of_last_rech_{month}'\n",
    "    date_last_rech_data = f'date_of_last_rech_data_{month}'\n",
    "    last_rech_days = f'last_rech_days_{month}'\n",
    "    max_days_month = 30 if month in [6,9] else 31\n",
    "    \n",
    "    # Create the columns for days since any recharge has been done from the last date of the month\n",
    "    # Eg: if last_rech_days = 2, user has recharged 2 days before the last day of the month\n",
    "    cust[last_rech_days] = (cust[last_date_month] - cust[[date_last_rech,date_last_rech_data]].max(axis=1)).dt.days\n",
    "\n",
    "    # Fill missing values with maximum days possible for the month\n",
    "    cust[last_rech_days]=cust[last_rech_days].fillna(max_days_month)\n"
   ]
  },
  {
   "cell_type": "code",
   "execution_count": 104,
   "metadata": {
    "ExecuteTime": {
     "end_time": "2021-04-18T14:29:53.630142Z",
     "start_time": "2021-04-18T14:29:53.288803Z"
    }
   },
   "outputs": [],
   "source": [
    "# drop date columns after creating the days columns\n",
    "cust.drop(date_cols,inplace=True,axis=1)"
   ]
  },
  {
   "cell_type": "code",
   "execution_count": 149,
   "metadata": {
    "ExecuteTime": {
     "end_time": "2021-04-18T14:42:58.305949Z",
     "start_time": "2021-04-18T14:42:58.301430Z"
    }
   },
   "outputs": [
    {
     "data": {
      "text/plain": [
       "(99999, 219)"
      ]
     },
     "execution_count": 149,
     "metadata": {},
     "output_type": "execute_result"
    }
   ],
   "source": [
    "cust.shape"
   ]
  },
  {
   "cell_type": "code",
   "execution_count": 105,
   "metadata": {
    "ExecuteTime": {
     "end_time": "2021-04-18T14:29:53.974627Z",
     "start_time": "2021-04-18T14:29:53.632557Z"
    }
   },
   "outputs": [
    {
     "data": {
      "text/html": [
       "<div>\n",
       "<style scoped>\n",
       "    .dataframe tbody tr th:only-of-type {\n",
       "        vertical-align: middle;\n",
       "    }\n",
       "\n",
       "    .dataframe tbody tr th {\n",
       "        vertical-align: top;\n",
       "    }\n",
       "\n",
       "    .dataframe thead th {\n",
       "        text-align: right;\n",
       "    }\n",
       "</style>\n",
       "<table border=\"1\" class=\"dataframe\">\n",
       "  <thead>\n",
       "    <tr style=\"text-align: right;\">\n",
       "      <th></th>\n",
       "      <th>Missing</th>\n",
       "      <th>Missing %</th>\n",
       "      <th>Type</th>\n",
       "      <th>Unique Count</th>\n",
       "    </tr>\n",
       "  </thead>\n",
       "  <tbody>\n",
       "    <tr>\n",
       "      <th>night_pck_user_6</th>\n",
       "      <td>74846</td>\n",
       "      <td>74.846748</td>\n",
       "      <td>&lt;class 'str'&gt;</td>\n",
       "      <td>2</td>\n",
       "    </tr>\n",
       "    <tr>\n",
       "      <th>fb_user_6</th>\n",
       "      <td>74846</td>\n",
       "      <td>74.846748</td>\n",
       "      <td>&lt;class 'str'&gt;</td>\n",
       "      <td>2</td>\n",
       "    </tr>\n",
       "    <tr>\n",
       "      <th>night_pck_user_7</th>\n",
       "      <td>74428</td>\n",
       "      <td>74.428744</td>\n",
       "      <td>&lt;class 'str'&gt;</td>\n",
       "      <td>2</td>\n",
       "    </tr>\n",
       "    <tr>\n",
       "      <th>fb_user_7</th>\n",
       "      <td>74428</td>\n",
       "      <td>74.428744</td>\n",
       "      <td>&lt;class 'str'&gt;</td>\n",
       "      <td>2</td>\n",
       "    </tr>\n",
       "    <tr>\n",
       "      <th>night_pck_user_9</th>\n",
       "      <td>74077</td>\n",
       "      <td>74.077741</td>\n",
       "      <td>&lt;class 'str'&gt;</td>\n",
       "      <td>2</td>\n",
       "    </tr>\n",
       "    <tr>\n",
       "      <th>fb_user_9</th>\n",
       "      <td>74077</td>\n",
       "      <td>74.077741</td>\n",
       "      <td>&lt;class 'str'&gt;</td>\n",
       "      <td>2</td>\n",
       "    </tr>\n",
       "    <tr>\n",
       "      <th>night_pck_user_8</th>\n",
       "      <td>73660</td>\n",
       "      <td>73.660737</td>\n",
       "      <td>&lt;class 'str'&gt;</td>\n",
       "      <td>2</td>\n",
       "    </tr>\n",
       "    <tr>\n",
       "      <th>fb_user_8</th>\n",
       "      <td>73660</td>\n",
       "      <td>73.660737</td>\n",
       "      <td>&lt;class 'str'&gt;</td>\n",
       "      <td>2</td>\n",
       "    </tr>\n",
       "  </tbody>\n",
       "</table>\n",
       "</div>"
      ],
      "text/plain": [
       "                  Missing  Missing %           Type  Unique Count\n",
       "night_pck_user_6    74846  74.846748  <class 'str'>             2\n",
       "fb_user_6           74846  74.846748  <class 'str'>             2\n",
       "night_pck_user_7    74428  74.428744  <class 'str'>             2\n",
       "fb_user_7           74428  74.428744  <class 'str'>             2\n",
       "night_pck_user_9    74077  74.077741  <class 'str'>             2\n",
       "fb_user_9           74077  74.077741  <class 'str'>             2\n",
       "night_pck_user_8    73660  73.660737  <class 'str'>             2\n",
       "fb_user_8           73660  73.660737  <class 'str'>             2"
      ]
     },
     "metadata": {},
     "output_type": "display_data"
    }
   ],
   "source": [
    "print_missing_columns(cust)"
   ]
  },
  {
   "cell_type": "markdown",
   "metadata": {},
   "source": [
    "### IterativeImputer"
   ]
  },
  {
   "cell_type": "code",
   "execution_count": 107,
   "metadata": {
    "ExecuteTime": {
     "end_time": "2021-04-18T14:30:14.274314Z",
     "start_time": "2021-04-18T14:30:14.271882Z"
    }
   },
   "outputs": [],
   "source": [
    "# # Use fancy imputer to fill the rest of the missing colums (fb_user_* and night_pck_user_* columns)\n",
    "# from fancyimpute import KNN\n",
    "# knn_imputer = KNN()\n",
    "# # imputing the missing value with knn imputer\n",
    "# cust = knn_imputer.fit_transform(cust)"
   ]
  },
  {
   "cell_type": "code",
   "execution_count": 109,
   "metadata": {
    "ExecuteTime": {
     "end_time": "2021-04-18T14:31:51.506989Z",
     "start_time": "2021-04-18T14:31:50.207728Z"
    }
   },
   "outputs": [
    {
     "name": "stderr",
     "output_type": "stream",
     "text": [
      "/Users/le0080/.pyenv/versions/3.6.6/lib/python3.6/site-packages/sklearn/impute/_iterative.py:686: ConvergenceWarning: [IterativeImputer] Early stopping criterion not reached.\n",
      "  \" reached.\", ConvergenceWarning)\n"
     ]
    }
   ],
   "source": [
    "# Use iterative imputer to fill the rest of the missing colums (fb_user_* and night_pck_user_* columns)\n",
    "from sklearn.experimental import enable_iterative_imputer\n",
    "from sklearn.impute import IterativeImputer\n",
    "iter_imputer = IterativeImputer()\n",
    "\n",
    "fb_night_cols = [col for col in cust.columns if re.match('^fb_user_|^night_pck_user_', col)]\n",
    "\n",
    "cust[fb_night_cols] = iter_imputer.fit_transform(cust[fb_night_cols])"
   ]
  },
  {
   "cell_type": "code",
   "execution_count": 110,
   "metadata": {
    "ExecuteTime": {
     "end_time": "2021-04-18T14:31:53.841757Z",
     "start_time": "2021-04-18T14:31:53.553633Z"
    }
   },
   "outputs": [
    {
     "data": {
      "text/plain": [
       "'NO MISSING VALUES IN THE DATAFRAME'"
      ]
     },
     "metadata": {},
     "output_type": "display_data"
    }
   ],
   "source": [
    "print_missing_columns(cust)"
   ]
  },
  {
   "cell_type": "markdown",
   "metadata": {},
   "source": [
    "## Check data types"
   ]
  },
  {
   "cell_type": "code",
   "execution_count": null,
   "metadata": {
    "ExecuteTime": {
     "end_time": "2021-04-18T14:29:54.082301Z",
     "start_time": "2021-04-18T14:28:32.685Z"
    }
   },
   "outputs": [],
   "source": [
    "cust.info()"
   ]
  },
  {
   "cell_type": "markdown",
   "metadata": {},
   "source": []
  },
  {
   "cell_type": "markdown",
   "metadata": {},
   "source": [
    "## Check for outliers"
   ]
  },
  {
   "cell_type": "markdown",
   "metadata": {},
   "source": [
    "# Target Variable Creation"
   ]
  },
  {
   "cell_type": "markdown",
   "metadata": {},
   "source": [
    "## Create Target variable from 9th Month"
   ]
  },
  {
   "cell_type": "markdown",
   "metadata": {},
   "source": [
    "Create the target variable based on the below rule:\n",
    " \n",
    "Tag the churned customers (churn=1, else 0) based on the fourth month as follows: Those who have not made any calls (either incoming or outgoing) AND have not used mobile internet even once in the churn phase. The attributes you need to use to tag churners are:\n",
    "\n",
    "total_ic_mou_9,\n",
    "total_og_mou_9,\n",
    "vol_2g_mb_9,\n",
    "vol_3g_mb_9"
   ]
  },
  {
   "cell_type": "code",
   "execution_count": 114,
   "metadata": {
    "ExecuteTime": {
     "end_time": "2021-04-18T14:33:17.154679Z",
     "start_time": "2021-04-18T14:33:17.127671Z"
    }
   },
   "outputs": [
    {
     "data": {
      "text/html": [
       "<div>\n",
       "<style scoped>\n",
       "    .dataframe tbody tr th:only-of-type {\n",
       "        vertical-align: middle;\n",
       "    }\n",
       "\n",
       "    .dataframe tbody tr th {\n",
       "        vertical-align: top;\n",
       "    }\n",
       "\n",
       "    .dataframe thead th {\n",
       "        text-align: right;\n",
       "    }\n",
       "</style>\n",
       "<table border=\"1\" class=\"dataframe\">\n",
       "  <thead>\n",
       "    <tr style=\"text-align: right;\">\n",
       "      <th></th>\n",
       "      <th>mobile_number</th>\n",
       "      <th>circle_id</th>\n",
       "      <th>loc_og_t2o_mou</th>\n",
       "      <th>std_og_t2o_mou</th>\n",
       "      <th>loc_ic_t2o_mou</th>\n",
       "      <th>arpu_6</th>\n",
       "      <th>arpu_7</th>\n",
       "      <th>arpu_8</th>\n",
       "      <th>arpu_9</th>\n",
       "      <th>onnet_mou_6</th>\n",
       "      <th>...</th>\n",
       "      <th>fb_user_9</th>\n",
       "      <th>aon</th>\n",
       "      <th>aug_vbc_3g</th>\n",
       "      <th>jul_vbc_3g</th>\n",
       "      <th>jun_vbc_3g</th>\n",
       "      <th>sep_vbc_3g</th>\n",
       "      <th>last_rech_days_6</th>\n",
       "      <th>last_rech_days_7</th>\n",
       "      <th>last_rech_days_8</th>\n",
       "      <th>last_rech_days_9</th>\n",
       "    </tr>\n",
       "  </thead>\n",
       "  <tbody>\n",
       "    <tr>\n",
       "      <th>0</th>\n",
       "      <td>7000842753</td>\n",
       "      <td>109</td>\n",
       "      <td>0.0</td>\n",
       "      <td>0.0</td>\n",
       "      <td>0.0</td>\n",
       "      <td>197.385</td>\n",
       "      <td>214.816</td>\n",
       "      <td>213.803</td>\n",
       "      <td>21.100</td>\n",
       "      <td>0.00</td>\n",
       "      <td>...</td>\n",
       "      <td>0.993269</td>\n",
       "      <td>968</td>\n",
       "      <td>30.4</td>\n",
       "      <td>0.0</td>\n",
       "      <td>101.20</td>\n",
       "      <td>3.58</td>\n",
       "      <td>9.0</td>\n",
       "      <td>15.0</td>\n",
       "      <td>23.0</td>\n",
       "      <td>2.0</td>\n",
       "    </tr>\n",
       "    <tr>\n",
       "      <th>1</th>\n",
       "      <td>7001865778</td>\n",
       "      <td>109</td>\n",
       "      <td>0.0</td>\n",
       "      <td>0.0</td>\n",
       "      <td>0.0</td>\n",
       "      <td>34.047</td>\n",
       "      <td>355.074</td>\n",
       "      <td>268.321</td>\n",
       "      <td>86.285</td>\n",
       "      <td>24.11</td>\n",
       "      <td>...</td>\n",
       "      <td>0.988699</td>\n",
       "      <td>1006</td>\n",
       "      <td>0.0</td>\n",
       "      <td>0.0</td>\n",
       "      <td>0.00</td>\n",
       "      <td>0.00</td>\n",
       "      <td>1.0</td>\n",
       "      <td>0.0</td>\n",
       "      <td>3.0</td>\n",
       "      <td>0.0</td>\n",
       "    </tr>\n",
       "    <tr>\n",
       "      <th>2</th>\n",
       "      <td>7001625959</td>\n",
       "      <td>109</td>\n",
       "      <td>0.0</td>\n",
       "      <td>0.0</td>\n",
       "      <td>0.0</td>\n",
       "      <td>167.690</td>\n",
       "      <td>189.058</td>\n",
       "      <td>210.226</td>\n",
       "      <td>290.714</td>\n",
       "      <td>11.54</td>\n",
       "      <td>...</td>\n",
       "      <td>1.000000</td>\n",
       "      <td>1103</td>\n",
       "      <td>0.0</td>\n",
       "      <td>0.0</td>\n",
       "      <td>4.17</td>\n",
       "      <td>0.00</td>\n",
       "      <td>13.0</td>\n",
       "      <td>7.0</td>\n",
       "      <td>17.0</td>\n",
       "      <td>1.0</td>\n",
       "    </tr>\n",
       "    <tr>\n",
       "      <th>3</th>\n",
       "      <td>7001204172</td>\n",
       "      <td>109</td>\n",
       "      <td>0.0</td>\n",
       "      <td>0.0</td>\n",
       "      <td>0.0</td>\n",
       "      <td>221.338</td>\n",
       "      <td>251.102</td>\n",
       "      <td>508.054</td>\n",
       "      <td>389.500</td>\n",
       "      <td>99.91</td>\n",
       "      <td>...</td>\n",
       "      <td>0.836040</td>\n",
       "      <td>2491</td>\n",
       "      <td>0.0</td>\n",
       "      <td>0.0</td>\n",
       "      <td>0.00</td>\n",
       "      <td>0.00</td>\n",
       "      <td>2.0</td>\n",
       "      <td>0.0</td>\n",
       "      <td>0.0</td>\n",
       "      <td>0.0</td>\n",
       "    </tr>\n",
       "    <tr>\n",
       "      <th>4</th>\n",
       "      <td>7000142493</td>\n",
       "      <td>109</td>\n",
       "      <td>0.0</td>\n",
       "      <td>0.0</td>\n",
       "      <td>0.0</td>\n",
       "      <td>261.636</td>\n",
       "      <td>309.876</td>\n",
       "      <td>238.174</td>\n",
       "      <td>163.426</td>\n",
       "      <td>50.31</td>\n",
       "      <td>...</td>\n",
       "      <td>-0.014127</td>\n",
       "      <td>1526</td>\n",
       "      <td>0.0</td>\n",
       "      <td>0.0</td>\n",
       "      <td>0.00</td>\n",
       "      <td>0.00</td>\n",
       "      <td>4.0</td>\n",
       "      <td>3.0</td>\n",
       "      <td>22.0</td>\n",
       "      <td>2.0</td>\n",
       "    </tr>\n",
       "  </tbody>\n",
       "</table>\n",
       "<p>5 rows × 218 columns</p>\n",
       "</div>"
      ],
      "text/plain": [
       "   mobile_number  circle_id  loc_og_t2o_mou  std_og_t2o_mou  loc_ic_t2o_mou  \\\n",
       "0     7000842753        109             0.0             0.0             0.0   \n",
       "1     7001865778        109             0.0             0.0             0.0   \n",
       "2     7001625959        109             0.0             0.0             0.0   \n",
       "3     7001204172        109             0.0             0.0             0.0   \n",
       "4     7000142493        109             0.0             0.0             0.0   \n",
       "\n",
       "    arpu_6   arpu_7   arpu_8   arpu_9  onnet_mou_6  ...  fb_user_9   aon  \\\n",
       "0  197.385  214.816  213.803   21.100         0.00  ...   0.993269   968   \n",
       "1   34.047  355.074  268.321   86.285        24.11  ...   0.988699  1006   \n",
       "2  167.690  189.058  210.226  290.714        11.54  ...   1.000000  1103   \n",
       "3  221.338  251.102  508.054  389.500        99.91  ...   0.836040  2491   \n",
       "4  261.636  309.876  238.174  163.426        50.31  ...  -0.014127  1526   \n",
       "\n",
       "   aug_vbc_3g  jul_vbc_3g  jun_vbc_3g  sep_vbc_3g  last_rech_days_6  \\\n",
       "0        30.4         0.0      101.20        3.58               9.0   \n",
       "1         0.0         0.0        0.00        0.00               1.0   \n",
       "2         0.0         0.0        4.17        0.00              13.0   \n",
       "3         0.0         0.0        0.00        0.00               2.0   \n",
       "4         0.0         0.0        0.00        0.00               4.0   \n",
       "\n",
       "   last_rech_days_7  last_rech_days_8  last_rech_days_9  \n",
       "0              15.0              23.0               2.0  \n",
       "1               0.0               3.0               0.0  \n",
       "2               7.0              17.0               1.0  \n",
       "3               0.0               0.0               0.0  \n",
       "4               3.0              22.0               2.0  \n",
       "\n",
       "[5 rows x 218 columns]"
      ]
     },
     "execution_count": 114,
     "metadata": {},
     "output_type": "execute_result"
    }
   ],
   "source": [
    "cust.head()"
   ]
  },
  {
   "cell_type": "code",
   "execution_count": 127,
   "metadata": {
    "ExecuteTime": {
     "end_time": "2021-04-18T14:38:01.278341Z",
     "start_time": "2021-04-18T14:38:01.264509Z"
    }
   },
   "outputs": [],
   "source": [
    "\n",
    "cust['churn'] = (cust['total_ic_mou_9']+cust['total_og_mou_9']+cust['vol_2g_mb_9']+cust['vol_3g_mb_9']) == 0\n",
    "cust['churn']=cust['churn'].map({True:1,False:0})"
   ]
  },
  {
   "cell_type": "code",
   "execution_count": 128,
   "metadata": {
    "ExecuteTime": {
     "end_time": "2021-04-18T14:38:02.101466Z",
     "start_time": "2021-04-18T14:38:02.093631Z"
    }
   },
   "outputs": [
    {
     "data": {
      "text/plain": [
       "0    89808\n",
       "1    10191\n",
       "Name: churn, dtype: int64"
      ]
     },
     "execution_count": 128,
     "metadata": {},
     "output_type": "execute_result"
    }
   ],
   "source": [
    "cust['churn'].value_counts()"
   ]
  },
  {
   "cell_type": "markdown",
   "metadata": {},
   "source": [
    "## Remove 9th month variables"
   ]
  },
  {
   "cell_type": "code",
   "execution_count": 146,
   "metadata": {
    "ExecuteTime": {
     "end_time": "2021-04-18T14:42:26.406509Z",
     "start_time": "2021-04-18T14:42:26.402469Z"
    }
   },
   "outputs": [
    {
     "data": {
      "text/plain": [
       "(99999, 219)"
      ]
     },
     "execution_count": 146,
     "metadata": {},
     "output_type": "execute_result"
    }
   ],
   "source": [
    "cust.shape"
   ]
  },
  {
   "cell_type": "code",
   "execution_count": 150,
   "metadata": {
    "ExecuteTime": {
     "end_time": "2021-04-18T14:43:52.233282Z",
     "start_time": "2021-04-18T14:43:52.138548Z"
    }
   },
   "outputs": [],
   "source": [
    "# drop the columns with _9, they should not be used while training the model.\n",
    "\n",
    "month_9_cols = [col for col in cust.columns if re.search('_9$', col)]\n",
    "cust.drop(month_9_cols,inplace=True,axis=1)"
   ]
  },
  {
   "cell_type": "code",
   "execution_count": 151,
   "metadata": {
    "ExecuteTime": {
     "end_time": "2021-04-18T14:43:53.286588Z",
     "start_time": "2021-04-18T14:43:53.282131Z"
    }
   },
   "outputs": [
    {
     "data": {
      "text/plain": [
       "(99999, 167)"
      ]
     },
     "execution_count": 151,
     "metadata": {},
     "output_type": "execute_result"
    }
   ],
   "source": [
    "cust.shape"
   ]
  },
  {
   "cell_type": "markdown",
   "metadata": {},
   "source": [
    "Remove the 9th month variables after creating the target variables. Would otherwise lead to data leakage."
   ]
  },
  {
   "cell_type": "markdown",
   "metadata": {},
   "source": [
    "# Identify High Value Customers"
   ]
  },
  {
   "cell_type": "markdown",
   "metadata": {},
   "source": [
    "## Find average of M6,M7"
   ]
  },
  {
   "cell_type": "markdown",
   "metadata": {},
   "source": [
    "## Identify value at 70th percentile"
   ]
  },
  {
   "cell_type": "markdown",
   "metadata": {},
   "source": [
    "## Flag high value customers"
   ]
  },
  {
   "cell_type": "markdown",
   "metadata": {},
   "source": [
    "Should be ~29.9k"
   ]
  },
  {
   "cell_type": "markdown",
   "metadata": {},
   "source": [
    "# EDA"
   ]
  },
  {
   "cell_type": "markdown",
   "metadata": {},
   "source": [
    "## Target variable analysis"
   ]
  },
  {
   "cell_type": "markdown",
   "metadata": {},
   "source": [
    "## Univariate analysis"
   ]
  },
  {
   "cell_type": "markdown",
   "metadata": {},
   "source": [
    "## Bivariate analysis"
   ]
  },
  {
   "cell_type": "markdown",
   "metadata": {},
   "source": [
    "## Heat map/correlation matrix"
   ]
  },
  {
   "cell_type": "markdown",
   "metadata": {},
   "source": [
    "# Derive new features"
   ]
  },
  {
   "cell_type": "markdown",
   "metadata": {},
   "source": [
    "## average usage - 3 months"
   ]
  },
  {
   "cell_type": "markdown",
   "metadata": {},
   "source": [
    "## Good phase vs Action phase"
   ]
  },
  {
   "cell_type": "markdown",
   "metadata": {},
   "source": [
    "# Handle class imbalance"
   ]
  },
  {
   "cell_type": "markdown",
   "metadata": {},
   "source": [
    "## Oversampling"
   ]
  },
  {
   "cell_type": "markdown",
   "metadata": {},
   "source": [
    "## SMOTE"
   ]
  },
  {
   "cell_type": "markdown",
   "metadata": {},
   "source": [
    "# Train-test split"
   ]
  },
  {
   "cell_type": "markdown",
   "metadata": {},
   "source": [
    "# Model building 1 - PCA"
   ]
  },
  {
   "cell_type": "markdown",
   "metadata": {},
   "source": [
    "## PCA for dimensionality reduction"
   ]
  },
  {
   "cell_type": "markdown",
   "metadata": {},
   "source": [
    "## Model building - PCA"
   ]
  },
  {
   "cell_type": "markdown",
   "metadata": {},
   "source": [
    "### Default Model Building"
   ]
  },
  {
   "cell_type": "markdown",
   "metadata": {},
   "source": [
    "1. 8 models? <br>\n",
    "2. Evaluate on train & test data <br>\n",
    "3. Fill metrics - Accuracy, Precision, Recall, F1-score, AUROC?"
   ]
  },
  {
   "cell_type": "markdown",
   "metadata": {},
   "source": [
    "### Model building with HPT"
   ]
  },
  {
   "cell_type": "markdown",
   "metadata": {},
   "source": [
    "### Model on oversampled data"
   ]
  },
  {
   "cell_type": "markdown",
   "metadata": {},
   "source": [
    "### Model on SMOTE data"
   ]
  },
  {
   "cell_type": "markdown",
   "metadata": {},
   "source": [
    "### Model on (SMOTE + HPT)"
   ]
  },
  {
   "cell_type": "code",
   "execution_count": null,
   "metadata": {},
   "outputs": [],
   "source": []
  },
  {
   "cell_type": "markdown",
   "metadata": {},
   "source": [
    "# Model building 2 - without PCA"
   ]
  },
  {
   "cell_type": "code",
   "execution_count": null,
   "metadata": {},
   "outputs": [],
   "source": []
  },
  {
   "cell_type": "markdown",
   "metadata": {},
   "source": [
    "# Insights"
   ]
  },
  {
   "cell_type": "markdown",
   "metadata": {},
   "source": [
    "## Best Model - with PCA"
   ]
  },
  {
   "cell_type": "markdown",
   "metadata": {},
   "source": [
    "Finally, choose a model based on some evaluation metric."
   ]
  },
  {
   "cell_type": "markdown",
   "metadata": {},
   "source": [
    "## Important features"
   ]
  },
  {
   "cell_type": "markdown",
   "metadata": {},
   "source": [
    "After identifying important predictors, display them visually - you can use plots, summary tables etc. - whatever you think best conveys the importance of features."
   ]
  },
  {
   "cell_type": "markdown",
   "metadata": {},
   "source": [
    "## Conclusion - recommendation to manage customer churn"
   ]
  },
  {
   "cell_type": "markdown",
   "metadata": {},
   "source": [
    "Finally, recommend strategies to manage customer churn based on your observations."
   ]
  },
  {
   "cell_type": "code",
   "execution_count": null,
   "metadata": {},
   "outputs": [],
   "source": []
  },
  {
   "cell_type": "code",
   "execution_count": null,
   "metadata": {},
   "outputs": [],
   "source": []
  }
 ],
 "metadata": {
  "kernelspec": {
   "display_name": "Python 3",
   "language": "python",
   "name": "python3"
  },
  "language_info": {
   "codemirror_mode": {
    "name": "ipython",
    "version": 3
   },
   "file_extension": ".py",
   "mimetype": "text/x-python",
   "name": "python",
   "nbconvert_exporter": "python",
   "pygments_lexer": "ipython3",
   "version": "3.6.6"
  },
  "toc": {
   "base_numbering": 1,
   "nav_menu": {},
   "number_sections": true,
   "sideBar": true,
   "skip_h1_title": false,
   "title_cell": "Table of Contents",
   "title_sidebar": "My Steps",
   "toc_cell": false,
   "toc_position": {},
   "toc_section_display": true,
   "toc_window_display": true
  },
  "varInspector": {
   "cols": {
    "lenName": 16,
    "lenType": 16,
    "lenVar": 40
   },
   "kernels_config": {
    "python": {
     "delete_cmd_postfix": "",
     "delete_cmd_prefix": "del ",
     "library": "var_list.py",
     "varRefreshCmd": "print(var_dic_list())"
    },
    "r": {
     "delete_cmd_postfix": ") ",
     "delete_cmd_prefix": "rm(",
     "library": "var_list.r",
     "varRefreshCmd": "cat(var_dic_list()) "
    }
   },
   "types_to_exclude": [
    "module",
    "function",
    "builtin_function_or_method",
    "instance",
    "_Feature"
   ],
   "window_display": false
  }
 },
 "nbformat": 4,
 "nbformat_minor": 2
}
