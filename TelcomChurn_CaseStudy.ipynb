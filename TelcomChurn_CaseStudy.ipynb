{
 "cells": [
  {
   "cell_type": "markdown",
   "metadata": {},
   "source": [
    "# Problem Statement\n"
   ]
  },
  {
   "cell_type": "markdown",
   "metadata": {},
   "source": [
    "## Business Problem Overview\n",
    "In the telecom industry, customers are able to choose from multiple service providers and actively switch from one operator to another. In this highly competitive market, the telecommunications industry experiences an average of 15-25% annual churn rate. Given the fact that it costs 5-10 times more to acquire a new customer than to retain an existing one, customer retention has now become even more important than customer acquisition.\n",
    "\n",
    " \n",
    "\n",
    "For many incumbent operators, retaining high profitable customers is the number one business goal.\n",
    "\n",
    " \n",
    "\n",
    "To reduce customer churn, telecom companies need to predict which customers are at high risk of churn.\n",
    "\n",
    " \n",
    "\n",
    "In this project, you will analyse customer-level data of a leading telecom firm, build predictive models to identify customers at high risk of churn and identify the main indicators of churn."
   ]
  },
  {
   "cell_type": "markdown",
   "metadata": {},
   "source": [
    "## Understanding the Business Objective and the Data\n",
    "The dataset contains customer-level information for a span of four consecutive months - June, July, August and September. The months are encoded as 6, 7, 8 and 9, respectively. \n",
    "\n",
    "\n",
    "The business objective is to predict the churn in the last (i.e. the ninth) month using the data (features) from the first three months. To do this task well, understanding the typical customer behaviour during churn will be helpful."
   ]
  },
  {
   "cell_type": "markdown",
   "metadata": {},
   "source": [
    "## Understanding Customer Behaviour During Churn\n",
    "Customers usually do not decide to switch to another competitor instantly, but rather over a period of time (this is especially applicable to high-value customers). In churn prediction, we assume that there are three phases of customer lifecycle :\n",
    "\n",
    "The ‘good’ phase: In this phase, the customer is happy with the service and behaves as usual.\n",
    "\n",
    "The ‘action’ phase: The customer experience starts to sore in this phase, for e.g. he/she gets a compelling offer from a  competitor, faces unjust charges, becomes unhappy with service quality etc. In this phase, the customer usually shows different behaviour than the ‘good’ months. Also, it is crucial to identify high-churn-risk customers in this phase, since some corrective actions can be taken at this point (such as matching the competitor’s offer/improving the service quality etc.)\n",
    "\n",
    "The ‘churn’ phase: In this phase, the customer is said to have churned. You define churn based on this phase. Also, it is important to note that at the time of prediction (i.e. the action months), this data is not available to you for prediction. Thus, after tagging churn as 1/0 based on this phase, you discard all data corresponding to this phase.\n",
    "\n",
    " \n",
    "\n",
    "In this case, since you are working over a four-month window, the first two months are the ‘good’ phase, the third month is the ‘action’ phase, while the fourth month is the ‘churn’ phase."
   ]
  },
  {
   "cell_type": "markdown",
   "metadata": {},
   "source": [
    "# Imports & Data Loading"
   ]
  },
  {
   "cell_type": "code",
   "execution_count": 10,
   "metadata": {
    "ExecuteTime": {
     "end_time": "2021-04-19T03:39:53.352404Z",
     "start_time": "2021-04-19T03:39:53.349489Z"
    }
   },
   "outputs": [],
   "source": [
    "# Import the required libraries\n",
    "import pandas as pd\n",
    "import numpy as np\n",
    "import matplotlib.pyplot as plt\n",
    "import seaborn as sns\n",
    "import re\n"
   ]
  },
  {
   "cell_type": "code",
   "execution_count": 11,
   "metadata": {
    "ExecuteTime": {
     "end_time": "2021-04-19T03:39:55.618824Z",
     "start_time": "2021-04-19T03:39:53.357651Z"
    }
   },
   "outputs": [],
   "source": [
    "# Read the data\n",
    "cust = pd.read_csv(\"data/telecom_churn_data.csv\")"
   ]
  },
  {
   "cell_type": "code",
   "execution_count": 12,
   "metadata": {
    "ExecuteTime": {
     "end_time": "2021-04-19T03:39:55.625551Z",
     "start_time": "2021-04-19T03:39:55.621236Z"
    }
   },
   "outputs": [
    {
     "data": {
      "text/plain": [
       "(99999, 226)"
      ]
     },
     "execution_count": 12,
     "metadata": {},
     "output_type": "execute_result"
    }
   ],
   "source": [
    "cust.shape"
   ]
  },
  {
   "cell_type": "code",
   "execution_count": 13,
   "metadata": {
    "ExecuteTime": {
     "end_time": "2021-04-19T03:39:55.657139Z",
     "start_time": "2021-04-19T03:39:55.627954Z"
    }
   },
   "outputs": [
    {
     "data": {
      "text/html": [
       "<div>\n",
       "<style scoped>\n",
       "    .dataframe tbody tr th:only-of-type {\n",
       "        vertical-align: middle;\n",
       "    }\n",
       "\n",
       "    .dataframe tbody tr th {\n",
       "        vertical-align: top;\n",
       "    }\n",
       "\n",
       "    .dataframe thead th {\n",
       "        text-align: right;\n",
       "    }\n",
       "</style>\n",
       "<table border=\"1\" class=\"dataframe\">\n",
       "  <thead>\n",
       "    <tr style=\"text-align: right;\">\n",
       "      <th></th>\n",
       "      <th>mobile_number</th>\n",
       "      <th>circle_id</th>\n",
       "      <th>loc_og_t2o_mou</th>\n",
       "      <th>std_og_t2o_mou</th>\n",
       "      <th>loc_ic_t2o_mou</th>\n",
       "      <th>last_date_of_month_6</th>\n",
       "      <th>last_date_of_month_7</th>\n",
       "      <th>last_date_of_month_8</th>\n",
       "      <th>last_date_of_month_9</th>\n",
       "      <th>arpu_6</th>\n",
       "      <th>...</th>\n",
       "      <th>sachet_3g_9</th>\n",
       "      <th>fb_user_6</th>\n",
       "      <th>fb_user_7</th>\n",
       "      <th>fb_user_8</th>\n",
       "      <th>fb_user_9</th>\n",
       "      <th>aon</th>\n",
       "      <th>aug_vbc_3g</th>\n",
       "      <th>jul_vbc_3g</th>\n",
       "      <th>jun_vbc_3g</th>\n",
       "      <th>sep_vbc_3g</th>\n",
       "    </tr>\n",
       "  </thead>\n",
       "  <tbody>\n",
       "    <tr>\n",
       "      <th>0</th>\n",
       "      <td>7000842753</td>\n",
       "      <td>109</td>\n",
       "      <td>0.0</td>\n",
       "      <td>0.0</td>\n",
       "      <td>0.0</td>\n",
       "      <td>6/30/2014</td>\n",
       "      <td>7/31/2014</td>\n",
       "      <td>8/31/2014</td>\n",
       "      <td>9/30/2014</td>\n",
       "      <td>197.385</td>\n",
       "      <td>...</td>\n",
       "      <td>0</td>\n",
       "      <td>1.0</td>\n",
       "      <td>1.0</td>\n",
       "      <td>1.0</td>\n",
       "      <td>NaN</td>\n",
       "      <td>968</td>\n",
       "      <td>30.4</td>\n",
       "      <td>0.0</td>\n",
       "      <td>101.20</td>\n",
       "      <td>3.58</td>\n",
       "    </tr>\n",
       "    <tr>\n",
       "      <th>1</th>\n",
       "      <td>7001865778</td>\n",
       "      <td>109</td>\n",
       "      <td>0.0</td>\n",
       "      <td>0.0</td>\n",
       "      <td>0.0</td>\n",
       "      <td>6/30/2014</td>\n",
       "      <td>7/31/2014</td>\n",
       "      <td>8/31/2014</td>\n",
       "      <td>9/30/2014</td>\n",
       "      <td>34.047</td>\n",
       "      <td>...</td>\n",
       "      <td>0</td>\n",
       "      <td>NaN</td>\n",
       "      <td>1.0</td>\n",
       "      <td>1.0</td>\n",
       "      <td>NaN</td>\n",
       "      <td>1006</td>\n",
       "      <td>0.0</td>\n",
       "      <td>0.0</td>\n",
       "      <td>0.00</td>\n",
       "      <td>0.00</td>\n",
       "    </tr>\n",
       "    <tr>\n",
       "      <th>2</th>\n",
       "      <td>7001625959</td>\n",
       "      <td>109</td>\n",
       "      <td>0.0</td>\n",
       "      <td>0.0</td>\n",
       "      <td>0.0</td>\n",
       "      <td>6/30/2014</td>\n",
       "      <td>7/31/2014</td>\n",
       "      <td>8/31/2014</td>\n",
       "      <td>9/30/2014</td>\n",
       "      <td>167.690</td>\n",
       "      <td>...</td>\n",
       "      <td>0</td>\n",
       "      <td>NaN</td>\n",
       "      <td>NaN</td>\n",
       "      <td>NaN</td>\n",
       "      <td>1.0</td>\n",
       "      <td>1103</td>\n",
       "      <td>0.0</td>\n",
       "      <td>0.0</td>\n",
       "      <td>4.17</td>\n",
       "      <td>0.00</td>\n",
       "    </tr>\n",
       "    <tr>\n",
       "      <th>3</th>\n",
       "      <td>7001204172</td>\n",
       "      <td>109</td>\n",
       "      <td>0.0</td>\n",
       "      <td>0.0</td>\n",
       "      <td>0.0</td>\n",
       "      <td>6/30/2014</td>\n",
       "      <td>7/31/2014</td>\n",
       "      <td>8/31/2014</td>\n",
       "      <td>9/30/2014</td>\n",
       "      <td>221.338</td>\n",
       "      <td>...</td>\n",
       "      <td>0</td>\n",
       "      <td>NaN</td>\n",
       "      <td>NaN</td>\n",
       "      <td>NaN</td>\n",
       "      <td>NaN</td>\n",
       "      <td>2491</td>\n",
       "      <td>0.0</td>\n",
       "      <td>0.0</td>\n",
       "      <td>0.00</td>\n",
       "      <td>0.00</td>\n",
       "    </tr>\n",
       "    <tr>\n",
       "      <th>4</th>\n",
       "      <td>7000142493</td>\n",
       "      <td>109</td>\n",
       "      <td>0.0</td>\n",
       "      <td>0.0</td>\n",
       "      <td>0.0</td>\n",
       "      <td>6/30/2014</td>\n",
       "      <td>7/31/2014</td>\n",
       "      <td>8/31/2014</td>\n",
       "      <td>9/30/2014</td>\n",
       "      <td>261.636</td>\n",
       "      <td>...</td>\n",
       "      <td>0</td>\n",
       "      <td>0.0</td>\n",
       "      <td>NaN</td>\n",
       "      <td>NaN</td>\n",
       "      <td>NaN</td>\n",
       "      <td>1526</td>\n",
       "      <td>0.0</td>\n",
       "      <td>0.0</td>\n",
       "      <td>0.00</td>\n",
       "      <td>0.00</td>\n",
       "    </tr>\n",
       "  </tbody>\n",
       "</table>\n",
       "<p>5 rows × 226 columns</p>\n",
       "</div>"
      ],
      "text/plain": [
       "   mobile_number  circle_id  loc_og_t2o_mou  std_og_t2o_mou  loc_ic_t2o_mou  \\\n",
       "0     7000842753        109             0.0             0.0             0.0   \n",
       "1     7001865778        109             0.0             0.0             0.0   \n",
       "2     7001625959        109             0.0             0.0             0.0   \n",
       "3     7001204172        109             0.0             0.0             0.0   \n",
       "4     7000142493        109             0.0             0.0             0.0   \n",
       "\n",
       "  last_date_of_month_6 last_date_of_month_7 last_date_of_month_8  \\\n",
       "0            6/30/2014            7/31/2014            8/31/2014   \n",
       "1            6/30/2014            7/31/2014            8/31/2014   \n",
       "2            6/30/2014            7/31/2014            8/31/2014   \n",
       "3            6/30/2014            7/31/2014            8/31/2014   \n",
       "4            6/30/2014            7/31/2014            8/31/2014   \n",
       "\n",
       "  last_date_of_month_9   arpu_6  ...  sachet_3g_9  fb_user_6  fb_user_7  \\\n",
       "0            9/30/2014  197.385  ...            0        1.0        1.0   \n",
       "1            9/30/2014   34.047  ...            0        NaN        1.0   \n",
       "2            9/30/2014  167.690  ...            0        NaN        NaN   \n",
       "3            9/30/2014  221.338  ...            0        NaN        NaN   \n",
       "4            9/30/2014  261.636  ...            0        0.0        NaN   \n",
       "\n",
       "   fb_user_8  fb_user_9   aon  aug_vbc_3g  jul_vbc_3g  jun_vbc_3g  sep_vbc_3g  \n",
       "0        1.0        NaN   968        30.4         0.0      101.20        3.58  \n",
       "1        1.0        NaN  1006         0.0         0.0        0.00        0.00  \n",
       "2        NaN        1.0  1103         0.0         0.0        4.17        0.00  \n",
       "3        NaN        NaN  2491         0.0         0.0        0.00        0.00  \n",
       "4        NaN        NaN  1526         0.0         0.0        0.00        0.00  \n",
       "\n",
       "[5 rows x 226 columns]"
      ]
     },
     "execution_count": 13,
     "metadata": {},
     "output_type": "execute_result"
    }
   ],
   "source": [
    "cust.head()"
   ]
  },
  {
   "cell_type": "code",
   "execution_count": 14,
   "metadata": {
    "ExecuteTime": {
     "end_time": "2021-04-19T03:39:55.669238Z",
     "start_time": "2021-04-19T03:39:55.660726Z"
    }
   },
   "outputs": [],
   "source": [
    "# Smaller file to check on the first 10 records in the dataset\n",
    "cust.head(10).T.to_csv(\"sample_10_T.csv\")"
   ]
  },
  {
   "cell_type": "code",
   "execution_count": 15,
   "metadata": {
    "ExecuteTime": {
     "end_time": "2021-04-19T03:39:55.694837Z",
     "start_time": "2021-04-19T03:39:55.672947Z"
    }
   },
   "outputs": [
    {
     "name": "stdout",
     "output_type": "stream",
     "text": [
      "<class 'pandas.core.frame.DataFrame'>\n",
      "RangeIndex: 99999 entries, 0 to 99998\n",
      "Columns: 226 entries, mobile_number to sep_vbc_3g\n",
      "dtypes: float64(179), int64(35), object(12)\n",
      "memory usage: 172.4+ MB\n"
     ]
    }
   ],
   "source": [
    "cust.info()"
   ]
  },
  {
   "cell_type": "markdown",
   "metadata": {},
   "source": [
    "# Utility Methods"
   ]
  },
  {
   "cell_type": "markdown",
   "metadata": {},
   "source": [
    "## Check for missing values in a dataframe"
   ]
  },
  {
   "cell_type": "code",
   "execution_count": 16,
   "metadata": {
    "ExecuteTime": {
     "end_time": "2021-04-19T03:39:55.702692Z",
     "start_time": "2021-04-19T03:39:55.696852Z"
    }
   },
   "outputs": [],
   "source": [
    "# Check for missing values in the dataframe and print them\n",
    "def print_missing_columns(input_df):\n",
    "    # Print missing percentage of only columns with missing values\n",
    "    missing_columns = input_df.columns[input_df.isnull().any()]\n",
    "    if not missing_columns.empty:\n",
    "        missing_count = input_df[missing_columns].isnull().sum()\n",
    "        missing_col_type = pd.Series([type(col) for col in input_df[missing_columns]],index = missing_columns) \n",
    "        unique_count = input_df[missing_columns].nunique()\n",
    "\n",
    "        missing_df = pd.concat({\n",
    "                        \"Missing\": missing_count, \n",
    "                        \"Missing %\": missing_count/len(input_df.index)*100,\n",
    "                        \"Type\": missing_col_type,\n",
    "                        \"Unique Count\": unique_count\n",
    "                       } , \n",
    "                       axis = 1).sort_values(by = 'Missing', ascending = False)\n",
    "\n",
    "        display(missing_df)\n",
    "    else:\n",
    "        display(\"NO MISSING VALUES IN THE DATAFRAME\")"
   ]
  },
  {
   "cell_type": "code",
   "execution_count": null,
   "metadata": {},
   "outputs": [],
   "source": []
  },
  {
   "cell_type": "code",
   "execution_count": null,
   "metadata": {},
   "outputs": [],
   "source": []
  },
  {
   "cell_type": "code",
   "execution_count": null,
   "metadata": {},
   "outputs": [],
   "source": []
  },
  {
   "cell_type": "markdown",
   "metadata": {},
   "source": [
    "# Data Preprocessing"
   ]
  },
  {
   "cell_type": "code",
   "execution_count": null,
   "metadata": {},
   "outputs": [],
   "source": []
  },
  {
   "cell_type": "markdown",
   "metadata": {},
   "source": [
    "## Check for missing data"
   ]
  },
  {
   "cell_type": "code",
   "execution_count": 17,
   "metadata": {
    "ExecuteTime": {
     "end_time": "2021-04-19T03:39:58.555390Z",
     "start_time": "2021-04-19T03:39:55.705053Z"
    }
   },
   "outputs": [
    {
     "data": {
      "text/html": [
       "<div>\n",
       "<style scoped>\n",
       "    .dataframe tbody tr th:only-of-type {\n",
       "        vertical-align: middle;\n",
       "    }\n",
       "\n",
       "    .dataframe tbody tr th {\n",
       "        vertical-align: top;\n",
       "    }\n",
       "\n",
       "    .dataframe thead th {\n",
       "        text-align: right;\n",
       "    }\n",
       "</style>\n",
       "<table border=\"1\" class=\"dataframe\">\n",
       "  <thead>\n",
       "    <tr style=\"text-align: right;\">\n",
       "      <th></th>\n",
       "      <th>Missing</th>\n",
       "      <th>Missing %</th>\n",
       "      <th>Type</th>\n",
       "      <th>Unique Count</th>\n",
       "    </tr>\n",
       "  </thead>\n",
       "  <tbody>\n",
       "    <tr>\n",
       "      <th>count_rech_2g_6</th>\n",
       "      <td>74846</td>\n",
       "      <td>74.846748</td>\n",
       "      <td>&lt;class 'str'&gt;</td>\n",
       "      <td>31</td>\n",
       "    </tr>\n",
       "    <tr>\n",
       "      <th>max_rech_data_6</th>\n",
       "      <td>74846</td>\n",
       "      <td>74.846748</td>\n",
       "      <td>&lt;class 'str'&gt;</td>\n",
       "      <td>48</td>\n",
       "    </tr>\n",
       "    <tr>\n",
       "      <th>arpu_3g_6</th>\n",
       "      <td>74846</td>\n",
       "      <td>74.846748</td>\n",
       "      <td>&lt;class 'str'&gt;</td>\n",
       "      <td>7418</td>\n",
       "    </tr>\n",
       "    <tr>\n",
       "      <th>av_rech_amt_data_6</th>\n",
       "      <td>74846</td>\n",
       "      <td>74.846748</td>\n",
       "      <td>&lt;class 'str'&gt;</td>\n",
       "      <td>887</td>\n",
       "    </tr>\n",
       "    <tr>\n",
       "      <th>count_rech_3g_6</th>\n",
       "      <td>74846</td>\n",
       "      <td>74.846748</td>\n",
       "      <td>&lt;class 'str'&gt;</td>\n",
       "      <td>25</td>\n",
       "    </tr>\n",
       "    <tr>\n",
       "      <th>night_pck_user_6</th>\n",
       "      <td>74846</td>\n",
       "      <td>74.846748</td>\n",
       "      <td>&lt;class 'str'&gt;</td>\n",
       "      <td>2</td>\n",
       "    </tr>\n",
       "    <tr>\n",
       "      <th>arpu_2g_6</th>\n",
       "      <td>74846</td>\n",
       "      <td>74.846748</td>\n",
       "      <td>&lt;class 'str'&gt;</td>\n",
       "      <td>6990</td>\n",
       "    </tr>\n",
       "    <tr>\n",
       "      <th>fb_user_6</th>\n",
       "      <td>74846</td>\n",
       "      <td>74.846748</td>\n",
       "      <td>&lt;class 'str'&gt;</td>\n",
       "      <td>2</td>\n",
       "    </tr>\n",
       "    <tr>\n",
       "      <th>total_rech_data_6</th>\n",
       "      <td>74846</td>\n",
       "      <td>74.846748</td>\n",
       "      <td>&lt;class 'str'&gt;</td>\n",
       "      <td>37</td>\n",
       "    </tr>\n",
       "    <tr>\n",
       "      <th>date_of_last_rech_data_6</th>\n",
       "      <td>74846</td>\n",
       "      <td>74.846748</td>\n",
       "      <td>&lt;class 'str'&gt;</td>\n",
       "      <td>30</td>\n",
       "    </tr>\n",
       "    <tr>\n",
       "      <th>count_rech_3g_7</th>\n",
       "      <td>74428</td>\n",
       "      <td>74.428744</td>\n",
       "      <td>&lt;class 'str'&gt;</td>\n",
       "      <td>28</td>\n",
       "    </tr>\n",
       "    <tr>\n",
       "      <th>arpu_3g_7</th>\n",
       "      <td>74428</td>\n",
       "      <td>74.428744</td>\n",
       "      <td>&lt;class 'str'&gt;</td>\n",
       "      <td>7246</td>\n",
       "    </tr>\n",
       "    <tr>\n",
       "      <th>av_rech_amt_data_7</th>\n",
       "      <td>74428</td>\n",
       "      <td>74.428744</td>\n",
       "      <td>&lt;class 'str'&gt;</td>\n",
       "      <td>961</td>\n",
       "    </tr>\n",
       "    <tr>\n",
       "      <th>fb_user_7</th>\n",
       "      <td>74428</td>\n",
       "      <td>74.428744</td>\n",
       "      <td>&lt;class 'str'&gt;</td>\n",
       "      <td>2</td>\n",
       "    </tr>\n",
       "    <tr>\n",
       "      <th>total_rech_data_7</th>\n",
       "      <td>74428</td>\n",
       "      <td>74.428744</td>\n",
       "      <td>&lt;class 'str'&gt;</td>\n",
       "      <td>42</td>\n",
       "    </tr>\n",
       "    <tr>\n",
       "      <th>count_rech_2g_7</th>\n",
       "      <td>74428</td>\n",
       "      <td>74.428744</td>\n",
       "      <td>&lt;class 'str'&gt;</td>\n",
       "      <td>36</td>\n",
       "    </tr>\n",
       "    <tr>\n",
       "      <th>arpu_2g_7</th>\n",
       "      <td>74428</td>\n",
       "      <td>74.428744</td>\n",
       "      <td>&lt;class 'str'&gt;</td>\n",
       "      <td>6586</td>\n",
       "    </tr>\n",
       "    <tr>\n",
       "      <th>night_pck_user_7</th>\n",
       "      <td>74428</td>\n",
       "      <td>74.428744</td>\n",
       "      <td>&lt;class 'str'&gt;</td>\n",
       "      <td>2</td>\n",
       "    </tr>\n",
       "    <tr>\n",
       "      <th>max_rech_data_7</th>\n",
       "      <td>74428</td>\n",
       "      <td>74.428744</td>\n",
       "      <td>&lt;class 'str'&gt;</td>\n",
       "      <td>48</td>\n",
       "    </tr>\n",
       "    <tr>\n",
       "      <th>date_of_last_rech_data_7</th>\n",
       "      <td>74428</td>\n",
       "      <td>74.428744</td>\n",
       "      <td>&lt;class 'str'&gt;</td>\n",
       "      <td>31</td>\n",
       "    </tr>\n",
       "    <tr>\n",
       "      <th>date_of_last_rech_data_9</th>\n",
       "      <td>74077</td>\n",
       "      <td>74.077741</td>\n",
       "      <td>&lt;class 'str'&gt;</td>\n",
       "      <td>30</td>\n",
       "    </tr>\n",
       "    <tr>\n",
       "      <th>count_rech_2g_9</th>\n",
       "      <td>74077</td>\n",
       "      <td>74.077741</td>\n",
       "      <td>&lt;class 'str'&gt;</td>\n",
       "      <td>32</td>\n",
       "    </tr>\n",
       "    <tr>\n",
       "      <th>total_rech_data_9</th>\n",
       "      <td>74077</td>\n",
       "      <td>74.077741</td>\n",
       "      <td>&lt;class 'str'&gt;</td>\n",
       "      <td>37</td>\n",
       "    </tr>\n",
       "    <tr>\n",
       "      <th>count_rech_3g_9</th>\n",
       "      <td>74077</td>\n",
       "      <td>74.077741</td>\n",
       "      <td>&lt;class 'str'&gt;</td>\n",
       "      <td>27</td>\n",
       "    </tr>\n",
       "    <tr>\n",
       "      <th>max_rech_data_9</th>\n",
       "      <td>74077</td>\n",
       "      <td>74.077741</td>\n",
       "      <td>&lt;class 'str'&gt;</td>\n",
       "      <td>50</td>\n",
       "    </tr>\n",
       "    <tr>\n",
       "      <th>av_rech_amt_data_9</th>\n",
       "      <td>74077</td>\n",
       "      <td>74.077741</td>\n",
       "      <td>&lt;class 'str'&gt;</td>\n",
       "      <td>945</td>\n",
       "    </tr>\n",
       "    <tr>\n",
       "      <th>arpu_3g_9</th>\n",
       "      <td>74077</td>\n",
       "      <td>74.077741</td>\n",
       "      <td>&lt;class 'str'&gt;</td>\n",
       "      <td>8063</td>\n",
       "    </tr>\n",
       "    <tr>\n",
       "      <th>fb_user_9</th>\n",
       "      <td>74077</td>\n",
       "      <td>74.077741</td>\n",
       "      <td>&lt;class 'str'&gt;</td>\n",
       "      <td>2</td>\n",
       "    </tr>\n",
       "    <tr>\n",
       "      <th>night_pck_user_9</th>\n",
       "      <td>74077</td>\n",
       "      <td>74.077741</td>\n",
       "      <td>&lt;class 'str'&gt;</td>\n",
       "      <td>2</td>\n",
       "    </tr>\n",
       "    <tr>\n",
       "      <th>arpu_2g_9</th>\n",
       "      <td>74077</td>\n",
       "      <td>74.077741</td>\n",
       "      <td>&lt;class 'str'&gt;</td>\n",
       "      <td>6795</td>\n",
       "    </tr>\n",
       "    <tr>\n",
       "      <th>...</th>\n",
       "      <td>...</td>\n",
       "      <td>...</td>\n",
       "      <td>...</td>\n",
       "      <td>...</td>\n",
       "    </tr>\n",
       "    <tr>\n",
       "      <th>std_og_t2m_mou_7</th>\n",
       "      <td>3859</td>\n",
       "      <td>3.859039</td>\n",
       "      <td>&lt;class 'str'&gt;</td>\n",
       "      <td>20018</td>\n",
       "    </tr>\n",
       "    <tr>\n",
       "      <th>std_og_t2f_mou_7</th>\n",
       "      <td>3859</td>\n",
       "      <td>3.859039</td>\n",
       "      <td>&lt;class 'str'&gt;</td>\n",
       "      <td>2391</td>\n",
       "    </tr>\n",
       "    <tr>\n",
       "      <th>std_og_t2c_mou_7</th>\n",
       "      <td>3859</td>\n",
       "      <td>3.859039</td>\n",
       "      <td>&lt;class 'str'&gt;</td>\n",
       "      <td>1</td>\n",
       "    </tr>\n",
       "    <tr>\n",
       "      <th>roam_ic_mou_7</th>\n",
       "      <td>3859</td>\n",
       "      <td>3.859039</td>\n",
       "      <td>&lt;class 'str'&gt;</td>\n",
       "      <td>5230</td>\n",
       "    </tr>\n",
       "    <tr>\n",
       "      <th>isd_og_mou_7</th>\n",
       "      <td>3859</td>\n",
       "      <td>3.859039</td>\n",
       "      <td>&lt;class 'str'&gt;</td>\n",
       "      <td>1380</td>\n",
       "    </tr>\n",
       "    <tr>\n",
       "      <th>spl_og_mou_7</th>\n",
       "      <td>3859</td>\n",
       "      <td>3.859039</td>\n",
       "      <td>&lt;class 'str'&gt;</td>\n",
       "      <td>4396</td>\n",
       "    </tr>\n",
       "    <tr>\n",
       "      <th>og_others_7</th>\n",
       "      <td>3859</td>\n",
       "      <td>3.859039</td>\n",
       "      <td>&lt;class 'str'&gt;</td>\n",
       "      <td>187</td>\n",
       "    </tr>\n",
       "    <tr>\n",
       "      <th>loc_ic_t2t_mou_7</th>\n",
       "      <td>3859</td>\n",
       "      <td>3.859039</td>\n",
       "      <td>&lt;class 'str'&gt;</td>\n",
       "      <td>13511</td>\n",
       "    </tr>\n",
       "    <tr>\n",
       "      <th>loc_ic_t2m_mou_7</th>\n",
       "      <td>3859</td>\n",
       "      <td>3.859039</td>\n",
       "      <td>&lt;class 'str'&gt;</td>\n",
       "      <td>21918</td>\n",
       "    </tr>\n",
       "    <tr>\n",
       "      <th>offnet_mou_7</th>\n",
       "      <td>3859</td>\n",
       "      <td>3.859039</td>\n",
       "      <td>&lt;class 'str'&gt;</td>\n",
       "      <td>31023</td>\n",
       "    </tr>\n",
       "    <tr>\n",
       "      <th>loc_ic_mou_7</th>\n",
       "      <td>3859</td>\n",
       "      <td>3.859039</td>\n",
       "      <td>&lt;class 'str'&gt;</td>\n",
       "      <td>28390</td>\n",
       "    </tr>\n",
       "    <tr>\n",
       "      <th>std_ic_t2t_mou_7</th>\n",
       "      <td>3859</td>\n",
       "      <td>3.859039</td>\n",
       "      <td>&lt;class 'str'&gt;</td>\n",
       "      <td>6481</td>\n",
       "    </tr>\n",
       "    <tr>\n",
       "      <th>std_ic_t2m_mou_7</th>\n",
       "      <td>3859</td>\n",
       "      <td>3.859039</td>\n",
       "      <td>&lt;class 'str'&gt;</td>\n",
       "      <td>9464</td>\n",
       "    </tr>\n",
       "    <tr>\n",
       "      <th>std_ic_t2f_mou_7</th>\n",
       "      <td>3859</td>\n",
       "      <td>3.859039</td>\n",
       "      <td>&lt;class 'str'&gt;</td>\n",
       "      <td>3209</td>\n",
       "    </tr>\n",
       "    <tr>\n",
       "      <th>std_ic_t2o_mou_7</th>\n",
       "      <td>3859</td>\n",
       "      <td>3.859039</td>\n",
       "      <td>&lt;class 'str'&gt;</td>\n",
       "      <td>1</td>\n",
       "    </tr>\n",
       "    <tr>\n",
       "      <th>std_ic_mou_7</th>\n",
       "      <td>3859</td>\n",
       "      <td>3.859039</td>\n",
       "      <td>&lt;class 'str'&gt;</td>\n",
       "      <td>11889</td>\n",
       "    </tr>\n",
       "    <tr>\n",
       "      <th>spl_ic_mou_7</th>\n",
       "      <td>3859</td>\n",
       "      <td>3.859039</td>\n",
       "      <td>&lt;class 'str'&gt;</td>\n",
       "      <td>107</td>\n",
       "    </tr>\n",
       "    <tr>\n",
       "      <th>isd_ic_mou_7</th>\n",
       "      <td>3859</td>\n",
       "      <td>3.859039</td>\n",
       "      <td>&lt;class 'str'&gt;</td>\n",
       "      <td>5789</td>\n",
       "    </tr>\n",
       "    <tr>\n",
       "      <th>ic_others_7</th>\n",
       "      <td>3859</td>\n",
       "      <td>3.859039</td>\n",
       "      <td>&lt;class 'str'&gt;</td>\n",
       "      <td>2002</td>\n",
       "    </tr>\n",
       "    <tr>\n",
       "      <th>onnet_mou_7</th>\n",
       "      <td>3859</td>\n",
       "      <td>3.859039</td>\n",
       "      <td>&lt;class 'str'&gt;</td>\n",
       "      <td>24336</td>\n",
       "    </tr>\n",
       "    <tr>\n",
       "      <th>loc_og_t2t_mou_7</th>\n",
       "      <td>3859</td>\n",
       "      <td>3.859039</td>\n",
       "      <td>&lt;class 'str'&gt;</td>\n",
       "      <td>13411</td>\n",
       "    </tr>\n",
       "    <tr>\n",
       "      <th>date_of_last_rech_8</th>\n",
       "      <td>3622</td>\n",
       "      <td>3.622036</td>\n",
       "      <td>&lt;class 'str'&gt;</td>\n",
       "      <td>31</td>\n",
       "    </tr>\n",
       "    <tr>\n",
       "      <th>date_of_last_rech_7</th>\n",
       "      <td>1767</td>\n",
       "      <td>1.767018</td>\n",
       "      <td>&lt;class 'str'&gt;</td>\n",
       "      <td>31</td>\n",
       "    </tr>\n",
       "    <tr>\n",
       "      <th>last_date_of_month_9</th>\n",
       "      <td>1659</td>\n",
       "      <td>1.659017</td>\n",
       "      <td>&lt;class 'str'&gt;</td>\n",
       "      <td>1</td>\n",
       "    </tr>\n",
       "    <tr>\n",
       "      <th>date_of_last_rech_6</th>\n",
       "      <td>1607</td>\n",
       "      <td>1.607016</td>\n",
       "      <td>&lt;class 'str'&gt;</td>\n",
       "      <td>30</td>\n",
       "    </tr>\n",
       "    <tr>\n",
       "      <th>last_date_of_month_8</th>\n",
       "      <td>1100</td>\n",
       "      <td>1.100011</td>\n",
       "      <td>&lt;class 'str'&gt;</td>\n",
       "      <td>1</td>\n",
       "    </tr>\n",
       "    <tr>\n",
       "      <th>std_og_t2o_mou</th>\n",
       "      <td>1018</td>\n",
       "      <td>1.018010</td>\n",
       "      <td>&lt;class 'str'&gt;</td>\n",
       "      <td>1</td>\n",
       "    </tr>\n",
       "    <tr>\n",
       "      <th>loc_ic_t2o_mou</th>\n",
       "      <td>1018</td>\n",
       "      <td>1.018010</td>\n",
       "      <td>&lt;class 'str'&gt;</td>\n",
       "      <td>1</td>\n",
       "    </tr>\n",
       "    <tr>\n",
       "      <th>loc_og_t2o_mou</th>\n",
       "      <td>1018</td>\n",
       "      <td>1.018010</td>\n",
       "      <td>&lt;class 'str'&gt;</td>\n",
       "      <td>1</td>\n",
       "    </tr>\n",
       "    <tr>\n",
       "      <th>last_date_of_month_7</th>\n",
       "      <td>601</td>\n",
       "      <td>0.601006</td>\n",
       "      <td>&lt;class 'str'&gt;</td>\n",
       "      <td>1</td>\n",
       "    </tr>\n",
       "  </tbody>\n",
       "</table>\n",
       "<p>166 rows × 4 columns</p>\n",
       "</div>"
      ],
      "text/plain": [
       "                          Missing  Missing %           Type  Unique Count\n",
       "count_rech_2g_6             74846  74.846748  <class 'str'>            31\n",
       "max_rech_data_6             74846  74.846748  <class 'str'>            48\n",
       "arpu_3g_6                   74846  74.846748  <class 'str'>          7418\n",
       "av_rech_amt_data_6          74846  74.846748  <class 'str'>           887\n",
       "count_rech_3g_6             74846  74.846748  <class 'str'>            25\n",
       "night_pck_user_6            74846  74.846748  <class 'str'>             2\n",
       "arpu_2g_6                   74846  74.846748  <class 'str'>          6990\n",
       "fb_user_6                   74846  74.846748  <class 'str'>             2\n",
       "total_rech_data_6           74846  74.846748  <class 'str'>            37\n",
       "date_of_last_rech_data_6    74846  74.846748  <class 'str'>            30\n",
       "count_rech_3g_7             74428  74.428744  <class 'str'>            28\n",
       "arpu_3g_7                   74428  74.428744  <class 'str'>          7246\n",
       "av_rech_amt_data_7          74428  74.428744  <class 'str'>           961\n",
       "fb_user_7                   74428  74.428744  <class 'str'>             2\n",
       "total_rech_data_7           74428  74.428744  <class 'str'>            42\n",
       "count_rech_2g_7             74428  74.428744  <class 'str'>            36\n",
       "arpu_2g_7                   74428  74.428744  <class 'str'>          6586\n",
       "night_pck_user_7            74428  74.428744  <class 'str'>             2\n",
       "max_rech_data_7             74428  74.428744  <class 'str'>            48\n",
       "date_of_last_rech_data_7    74428  74.428744  <class 'str'>            31\n",
       "date_of_last_rech_data_9    74077  74.077741  <class 'str'>            30\n",
       "count_rech_2g_9             74077  74.077741  <class 'str'>            32\n",
       "total_rech_data_9           74077  74.077741  <class 'str'>            37\n",
       "count_rech_3g_9             74077  74.077741  <class 'str'>            27\n",
       "max_rech_data_9             74077  74.077741  <class 'str'>            50\n",
       "av_rech_amt_data_9          74077  74.077741  <class 'str'>           945\n",
       "arpu_3g_9                   74077  74.077741  <class 'str'>          8063\n",
       "fb_user_9                   74077  74.077741  <class 'str'>             2\n",
       "night_pck_user_9            74077  74.077741  <class 'str'>             2\n",
       "arpu_2g_9                   74077  74.077741  <class 'str'>          6795\n",
       "...                           ...        ...            ...           ...\n",
       "std_og_t2m_mou_7             3859   3.859039  <class 'str'>         20018\n",
       "std_og_t2f_mou_7             3859   3.859039  <class 'str'>          2391\n",
       "std_og_t2c_mou_7             3859   3.859039  <class 'str'>             1\n",
       "roam_ic_mou_7                3859   3.859039  <class 'str'>          5230\n",
       "isd_og_mou_7                 3859   3.859039  <class 'str'>          1380\n",
       "spl_og_mou_7                 3859   3.859039  <class 'str'>          4396\n",
       "og_others_7                  3859   3.859039  <class 'str'>           187\n",
       "loc_ic_t2t_mou_7             3859   3.859039  <class 'str'>         13511\n",
       "loc_ic_t2m_mou_7             3859   3.859039  <class 'str'>         21918\n",
       "offnet_mou_7                 3859   3.859039  <class 'str'>         31023\n",
       "loc_ic_mou_7                 3859   3.859039  <class 'str'>         28390\n",
       "std_ic_t2t_mou_7             3859   3.859039  <class 'str'>          6481\n",
       "std_ic_t2m_mou_7             3859   3.859039  <class 'str'>          9464\n",
       "std_ic_t2f_mou_7             3859   3.859039  <class 'str'>          3209\n",
       "std_ic_t2o_mou_7             3859   3.859039  <class 'str'>             1\n",
       "std_ic_mou_7                 3859   3.859039  <class 'str'>         11889\n",
       "spl_ic_mou_7                 3859   3.859039  <class 'str'>           107\n",
       "isd_ic_mou_7                 3859   3.859039  <class 'str'>          5789\n",
       "ic_others_7                  3859   3.859039  <class 'str'>          2002\n",
       "onnet_mou_7                  3859   3.859039  <class 'str'>         24336\n",
       "loc_og_t2t_mou_7             3859   3.859039  <class 'str'>         13411\n",
       "date_of_last_rech_8          3622   3.622036  <class 'str'>            31\n",
       "date_of_last_rech_7          1767   1.767018  <class 'str'>            31\n",
       "last_date_of_month_9         1659   1.659017  <class 'str'>             1\n",
       "date_of_last_rech_6          1607   1.607016  <class 'str'>            30\n",
       "last_date_of_month_8         1100   1.100011  <class 'str'>             1\n",
       "std_og_t2o_mou               1018   1.018010  <class 'str'>             1\n",
       "loc_ic_t2o_mou               1018   1.018010  <class 'str'>             1\n",
       "loc_og_t2o_mou               1018   1.018010  <class 'str'>             1\n",
       "last_date_of_month_7          601   0.601006  <class 'str'>             1\n",
       "\n",
       "[166 rows x 4 columns]"
      ]
     },
     "metadata": {},
     "output_type": "display_data"
    }
   ],
   "source": [
    "print_missing_columns(cust)"
   ]
  },
  {
   "cell_type": "markdown",
   "metadata": {},
   "source": [
    "## Handle missing data"
   ]
  },
  {
   "cell_type": "markdown",
   "metadata": {},
   "source": [
    "### Replace missing with 0\n",
    "Missing 'incoming' & 'outgoing' call related columns can be set to 0 assuming there were no calls received/made for that column type"
   ]
  },
  {
   "cell_type": "code",
   "execution_count": 18,
   "metadata": {
    "ExecuteTime": {
     "end_time": "2021-04-19T03:39:58.560889Z",
     "start_time": "2021-04-19T03:39:58.557017Z"
    }
   },
   "outputs": [
    {
     "data": {
      "text/plain": [
       "Index(['mobile_number', 'circle_id', 'loc_og_t2o_mou', 'std_og_t2o_mou',\n",
       "       'loc_ic_t2o_mou', 'last_date_of_month_6', 'last_date_of_month_7',\n",
       "       'last_date_of_month_8', 'last_date_of_month_9', 'arpu_6',\n",
       "       ...\n",
       "       'sachet_3g_9', 'fb_user_6', 'fb_user_7', 'fb_user_8', 'fb_user_9',\n",
       "       'aon', 'aug_vbc_3g', 'jul_vbc_3g', 'jun_vbc_3g', 'sep_vbc_3g'],\n",
       "      dtype='object', length=226)"
      ]
     },
     "execution_count": 18,
     "metadata": {},
     "output_type": "execute_result"
    }
   ],
   "source": [
    "cust.columns"
   ]
  },
  {
   "cell_type": "code",
   "execution_count": 19,
   "metadata": {
    "ExecuteTime": {
     "end_time": "2021-04-19T03:39:58.747000Z",
     "start_time": "2021-04-19T03:39:58.562484Z"
    }
   },
   "outputs": [
    {
     "name": "stdout",
     "output_type": "stream",
     "text": [
      "Replaced missing values with 0 for 57 incoming columns:['loc_ic_t2o_mou', 'roam_ic_mou_6', 'roam_ic_mou_7', 'roam_ic_mou_8', 'roam_ic_mou_9', 'loc_ic_t2t_mou_6', 'loc_ic_t2t_mou_7', 'loc_ic_t2t_mou_8', 'loc_ic_t2t_mou_9', 'loc_ic_t2m_mou_6', 'loc_ic_t2m_mou_7', 'loc_ic_t2m_mou_8', 'loc_ic_t2m_mou_9', 'loc_ic_t2f_mou_6', 'loc_ic_t2f_mou_7', 'loc_ic_t2f_mou_8', 'loc_ic_t2f_mou_9', 'loc_ic_mou_6', 'loc_ic_mou_7', 'loc_ic_mou_8', 'loc_ic_mou_9', 'std_ic_t2t_mou_6', 'std_ic_t2t_mou_7', 'std_ic_t2t_mou_8', 'std_ic_t2t_mou_9', 'std_ic_t2m_mou_6', 'std_ic_t2m_mou_7', 'std_ic_t2m_mou_8', 'std_ic_t2m_mou_9', 'std_ic_t2f_mou_6', 'std_ic_t2f_mou_7', 'std_ic_t2f_mou_8', 'std_ic_t2f_mou_9', 'std_ic_t2o_mou_6', 'std_ic_t2o_mou_7', 'std_ic_t2o_mou_8', 'std_ic_t2o_mou_9', 'std_ic_mou_6', 'std_ic_mou_7', 'std_ic_mou_8', 'std_ic_mou_9', 'total_ic_mou_6', 'total_ic_mou_7', 'total_ic_mou_8', 'total_ic_mou_9', 'spl_ic_mou_6', 'spl_ic_mou_7', 'spl_ic_mou_8', 'spl_ic_mou_9', 'isd_ic_mou_6', 'isd_ic_mou_7', 'isd_ic_mou_8', 'isd_ic_mou_9', 'ic_others_6', 'ic_others_7', 'ic_others_8', 'ic_others_9']\n",
      "\n",
      "Replaced missing values with 0 for 62 outgoing columns:['loc_og_t2o_mou', 'std_og_t2o_mou', 'roam_og_mou_6', 'roam_og_mou_7', 'roam_og_mou_8', 'roam_og_mou_9', 'loc_og_t2t_mou_6', 'loc_og_t2t_mou_7', 'loc_og_t2t_mou_8', 'loc_og_t2t_mou_9', 'loc_og_t2m_mou_6', 'loc_og_t2m_mou_7', 'loc_og_t2m_mou_8', 'loc_og_t2m_mou_9', 'loc_og_t2f_mou_6', 'loc_og_t2f_mou_7', 'loc_og_t2f_mou_8', 'loc_og_t2f_mou_9', 'loc_og_t2c_mou_6', 'loc_og_t2c_mou_7', 'loc_og_t2c_mou_8', 'loc_og_t2c_mou_9', 'loc_og_mou_6', 'loc_og_mou_7', 'loc_og_mou_8', 'loc_og_mou_9', 'std_og_t2t_mou_6', 'std_og_t2t_mou_7', 'std_og_t2t_mou_8', 'std_og_t2t_mou_9', 'std_og_t2m_mou_6', 'std_og_t2m_mou_7', 'std_og_t2m_mou_8', 'std_og_t2m_mou_9', 'std_og_t2f_mou_6', 'std_og_t2f_mou_7', 'std_og_t2f_mou_8', 'std_og_t2f_mou_9', 'std_og_t2c_mou_6', 'std_og_t2c_mou_7', 'std_og_t2c_mou_8', 'std_og_t2c_mou_9', 'std_og_mou_6', 'std_og_mou_7', 'std_og_mou_8', 'std_og_mou_9', 'isd_og_mou_6', 'isd_og_mou_7', 'isd_og_mou_8', 'isd_og_mou_9', 'spl_og_mou_6', 'spl_og_mou_7', 'spl_og_mou_8', 'spl_og_mou_9', 'og_others_6', 'og_others_7', 'og_others_8', 'og_others_9', 'total_og_mou_6', 'total_og_mou_7', 'total_og_mou_8', 'total_og_mou_9']\n"
     ]
    }
   ],
   "source": [
    "# Incoming calls column:\n",
    "# All columns with incoming call information have the string \"ic_\" in the column name\n",
    "# Fill the missing values in these columns with 0\n",
    "incoming_cols = [col for col in cust.columns if 'ic_' in col]\n",
    "cust[incoming_cols] = cust[incoming_cols].fillna(0)\n",
    "print(f'Replaced missing values with 0 for {len(incoming_cols)} incoming columns:{incoming_cols}')\n",
    "\n",
    "# Outgoing calls column:\n",
    "# All columns with outgoing call information have the string \"og_\" in the column name\n",
    "# Fill the missing values in these columns with 0\n",
    "outcoming_cols = [col for col in cust.columns if 'og_' in col]\n",
    "cust[outcoming_cols] = cust[outcoming_cols].fillna(0)\n",
    "print(f'\\nReplaced missing values with 0 for {len(outcoming_cols)} outgoing columns:{outcoming_cols}')"
   ]
  },
  {
   "cell_type": "code",
   "execution_count": 20,
   "metadata": {
    "ExecuteTime": {
     "end_time": "2021-04-19T03:39:58.804638Z",
     "start_time": "2021-04-19T03:39:58.748662Z"
    }
   },
   "outputs": [
    {
     "name": "stdout",
     "output_type": "stream",
     "text": [
      "Replaced missing values with 0 for 32 recharge columns :['total_rech_num_6', 'total_rech_num_7', 'total_rech_num_8', 'total_rech_num_9', 'total_rech_amt_6', 'total_rech_amt_7', 'total_rech_amt_8', 'total_rech_amt_9', 'max_rech_amt_6', 'max_rech_amt_7', 'max_rech_amt_8', 'max_rech_amt_9', 'total_rech_data_6', 'total_rech_data_7', 'total_rech_data_8', 'total_rech_data_9', 'max_rech_data_6', 'max_rech_data_7', 'max_rech_data_8', 'max_rech_data_9', 'count_rech_2g_6', 'count_rech_2g_7', 'count_rech_2g_8', 'count_rech_2g_9', 'count_rech_3g_6', 'count_rech_3g_7', 'count_rech_3g_8', 'count_rech_3g_9', 'av_rech_amt_data_6', 'av_rech_amt_data_7', 'av_rech_amt_data_8', 'av_rech_amt_data_9']\n"
     ]
    }
   ],
   "source": [
    "# Recharge related columns\n",
    "rech_cols = [col for col in cust.columns if re.match('^count_rech_|^max_rech_|^total_rech_|^av_rech_', col)]\n",
    "cust[rech_cols] = cust[rech_cols].fillna(0)\n",
    "print(f'Replaced missing values with 0 for {len(rech_cols)} recharge columns :{rech_cols}')"
   ]
  },
  {
   "cell_type": "code",
   "execution_count": 21,
   "metadata": {
    "ExecuteTime": {
     "end_time": "2021-04-19T03:39:58.822199Z",
     "start_time": "2021-04-19T03:39:58.807069Z"
    }
   },
   "outputs": [
    {
     "name": "stdout",
     "output_type": "stream",
     "text": [
      "Replaced missing values with 0 for 8 OFFNET/ONNET MOU columns :['onnet_mou_6', 'onnet_mou_7', 'onnet_mou_8', 'onnet_mou_9', 'offnet_mou_6', 'offnet_mou_7', 'offnet_mou_8', 'offnet_mou_9']\n"
     ]
    }
   ],
   "source": [
    "# OFFNET/ONNET MOU related columns\n",
    "mou_cols = [col for col in cust.columns if re.match('^onnet_mou|^offnet_mou', col)]\n",
    "cust[mou_cols] = cust[mou_cols].fillna(0)\n",
    "print(f'Replaced missing values with 0 for {len(mou_cols)} OFFNET/ONNET MOU columns :{mou_cols}')"
   ]
  },
  {
   "cell_type": "code",
   "execution_count": 22,
   "metadata": {
    "ExecuteTime": {
     "end_time": "2021-04-19T03:39:58.850400Z",
     "start_time": "2021-04-19T03:39:58.824991Z"
    }
   },
   "outputs": [
    {
     "name": "stdout",
     "output_type": "stream",
     "text": [
      "Replaced missing values with 0 for 12 arpu columns :['arpu_6', 'arpu_7', 'arpu_8', 'arpu_9', 'arpu_3g_6', 'arpu_3g_7', 'arpu_3g_8', 'arpu_3g_9', 'arpu_2g_6', 'arpu_2g_7', 'arpu_2g_8', 'arpu_2g_9']\n"
     ]
    }
   ],
   "source": [
    "# arpu related columns\n",
    "arpu_cols = [col for col in cust.columns if re.match('^arpu', col)]\n",
    "cust[arpu_cols] = cust[arpu_cols].fillna(0)\n",
    "print(f'Replaced missing values with 0 for {len(arpu_cols)} arpu columns :{arpu_cols}')"
   ]
  },
  {
   "cell_type": "code",
   "execution_count": null,
   "metadata": {},
   "outputs": [],
   "source": []
  },
  {
   "cell_type": "markdown",
   "metadata": {},
   "source": [
    "### Handle date columns"
   ]
  },
  {
   "cell_type": "code",
   "execution_count": 23,
   "metadata": {
    "ExecuteTime": {
     "end_time": "2021-04-19T03:39:58.856475Z",
     "start_time": "2021-04-19T03:39:58.852950Z"
    }
   },
   "outputs": [
    {
     "name": "stdout",
     "output_type": "stream",
     "text": [
      "Shape before handling date columns:(99999, 226)\n"
     ]
    }
   ],
   "source": [
    "print(f'Shape before handling date columns:{cust.shape}')"
   ]
  },
  {
   "cell_type": "code",
   "execution_count": 24,
   "metadata": {
    "ExecuteTime": {
     "end_time": "2021-04-19T03:41:11.024559Z",
     "start_time": "2021-04-19T03:39:58.859731Z"
    }
   },
   "outputs": [],
   "source": [
    "# Change data type of date columns to datetime\n",
    "date_cols = [col for col in cust.columns if re.match('^date|^last_date', col)]\n",
    "cust[date_cols] = cust[date_cols].apply(pd.to_datetime) "
   ]
  },
  {
   "cell_type": "code",
   "execution_count": 25,
   "metadata": {
    "ExecuteTime": {
     "end_time": "2021-04-19T03:41:11.524559Z",
     "start_time": "2021-04-19T03:41:11.026541Z"
    }
   },
   "outputs": [],
   "source": [
    "# For each month, convert the recharge date to number of days before the last date.\n",
    "# Fill missing values with no. of days in the month\n",
    "month_suffixes = [6,7,8,9]\n",
    "for month in month_suffixes:\n",
    "    last_date_month = f'last_date_of_month_{month}'\n",
    "    date_last_rech = f'date_of_last_rech_{month}'\n",
    "    date_last_rech_data = f'date_of_last_rech_data_{month}'\n",
    "    last_rech_days = f'last_rech_days_{month}'\n",
    "    max_days_month = 30 if month in [6,9] else 31\n",
    "    \n",
    "    # Create the columns for days since any recharge has been done from the last date of the month\n",
    "    # Eg: if last_rech_days = 2, user has recharged 2 days before the last day of the month\n",
    "    cust[last_rech_days] = (cust[last_date_month] - cust[[date_last_rech,date_last_rech_data]].max(axis=1)).dt.days\n",
    "\n",
    "    # Fill missing values with maximum days possible for the month\n",
    "    cust[last_rech_days]=cust[last_rech_days].fillna(max_days_month)\n"
   ]
  },
  {
   "cell_type": "code",
   "execution_count": 26,
   "metadata": {
    "ExecuteTime": {
     "end_time": "2021-04-19T03:41:11.779753Z",
     "start_time": "2021-04-19T03:41:11.526634Z"
    }
   },
   "outputs": [
    {
     "name": "stdout",
     "output_type": "stream",
     "text": [
      "Shape before dropping date columns:(99999, 230)\n",
      "Shape after dropping date columns:(99999, 218)\n"
     ]
    }
   ],
   "source": [
    "# drop date columns after creating the days columns\n",
    "print(f'Shape before dropping date columns:{cust.shape}')\n",
    "cust.drop(date_cols,inplace=True,axis=1)\n",
    "print(f'Shape after dropping date columns:{cust.shape}')"
   ]
  },
  {
   "cell_type": "code",
   "execution_count": 27,
   "metadata": {
    "ExecuteTime": {
     "end_time": "2021-04-19T03:41:12.105358Z",
     "start_time": "2021-04-19T03:41:11.781723Z"
    }
   },
   "outputs": [
    {
     "data": {
      "text/html": [
       "<div>\n",
       "<style scoped>\n",
       "    .dataframe tbody tr th:only-of-type {\n",
       "        vertical-align: middle;\n",
       "    }\n",
       "\n",
       "    .dataframe tbody tr th {\n",
       "        vertical-align: top;\n",
       "    }\n",
       "\n",
       "    .dataframe thead th {\n",
       "        text-align: right;\n",
       "    }\n",
       "</style>\n",
       "<table border=\"1\" class=\"dataframe\">\n",
       "  <thead>\n",
       "    <tr style=\"text-align: right;\">\n",
       "      <th></th>\n",
       "      <th>Missing</th>\n",
       "      <th>Missing %</th>\n",
       "      <th>Type</th>\n",
       "      <th>Unique Count</th>\n",
       "    </tr>\n",
       "  </thead>\n",
       "  <tbody>\n",
       "    <tr>\n",
       "      <th>night_pck_user_6</th>\n",
       "      <td>74846</td>\n",
       "      <td>74.846748</td>\n",
       "      <td>&lt;class 'str'&gt;</td>\n",
       "      <td>2</td>\n",
       "    </tr>\n",
       "    <tr>\n",
       "      <th>fb_user_6</th>\n",
       "      <td>74846</td>\n",
       "      <td>74.846748</td>\n",
       "      <td>&lt;class 'str'&gt;</td>\n",
       "      <td>2</td>\n",
       "    </tr>\n",
       "    <tr>\n",
       "      <th>night_pck_user_7</th>\n",
       "      <td>74428</td>\n",
       "      <td>74.428744</td>\n",
       "      <td>&lt;class 'str'&gt;</td>\n",
       "      <td>2</td>\n",
       "    </tr>\n",
       "    <tr>\n",
       "      <th>fb_user_7</th>\n",
       "      <td>74428</td>\n",
       "      <td>74.428744</td>\n",
       "      <td>&lt;class 'str'&gt;</td>\n",
       "      <td>2</td>\n",
       "    </tr>\n",
       "    <tr>\n",
       "      <th>night_pck_user_9</th>\n",
       "      <td>74077</td>\n",
       "      <td>74.077741</td>\n",
       "      <td>&lt;class 'str'&gt;</td>\n",
       "      <td>2</td>\n",
       "    </tr>\n",
       "    <tr>\n",
       "      <th>fb_user_9</th>\n",
       "      <td>74077</td>\n",
       "      <td>74.077741</td>\n",
       "      <td>&lt;class 'str'&gt;</td>\n",
       "      <td>2</td>\n",
       "    </tr>\n",
       "    <tr>\n",
       "      <th>night_pck_user_8</th>\n",
       "      <td>73660</td>\n",
       "      <td>73.660737</td>\n",
       "      <td>&lt;class 'str'&gt;</td>\n",
       "      <td>2</td>\n",
       "    </tr>\n",
       "    <tr>\n",
       "      <th>fb_user_8</th>\n",
       "      <td>73660</td>\n",
       "      <td>73.660737</td>\n",
       "      <td>&lt;class 'str'&gt;</td>\n",
       "      <td>2</td>\n",
       "    </tr>\n",
       "  </tbody>\n",
       "</table>\n",
       "</div>"
      ],
      "text/plain": [
       "                  Missing  Missing %           Type  Unique Count\n",
       "night_pck_user_6    74846  74.846748  <class 'str'>             2\n",
       "fb_user_6           74846  74.846748  <class 'str'>             2\n",
       "night_pck_user_7    74428  74.428744  <class 'str'>             2\n",
       "fb_user_7           74428  74.428744  <class 'str'>             2\n",
       "night_pck_user_9    74077  74.077741  <class 'str'>             2\n",
       "fb_user_9           74077  74.077741  <class 'str'>             2\n",
       "night_pck_user_8    73660  73.660737  <class 'str'>             2\n",
       "fb_user_8           73660  73.660737  <class 'str'>             2"
      ]
     },
     "metadata": {},
     "output_type": "display_data"
    }
   ],
   "source": [
    "print_missing_columns(cust)"
   ]
  },
  {
   "cell_type": "markdown",
   "metadata": {},
   "source": [
    "### IterativeImputer"
   ]
  },
  {
   "cell_type": "code",
   "execution_count": 28,
   "metadata": {
    "ExecuteTime": {
     "end_time": "2021-04-19T03:41:12.114015Z",
     "start_time": "2021-04-19T03:41:12.111679Z"
    }
   },
   "outputs": [],
   "source": [
    "# # Use fancy imputer to fill the rest of the missing colums (fb_user_* and night_pck_user_* columns)\n",
    "# from fancyimpute import KNN\n",
    "# knn_imputer = KNN()\n",
    "# # imputing the missing value with knn imputer\n",
    "# cust = knn_imputer.fit_transform(cust)\n",
    "# Unable to install fancyimpute with pip install due to dependent version mismatches."
   ]
  },
  {
   "cell_type": "code",
   "execution_count": 29,
   "metadata": {
    "ExecuteTime": {
     "end_time": "2021-04-19T03:41:14.260513Z",
     "start_time": "2021-04-19T03:41:12.119001Z"
    }
   },
   "outputs": [
    {
     "name": "stderr",
     "output_type": "stream",
     "text": [
      "/Users/le0080/.pyenv/versions/3.6.6/lib/python3.6/site-packages/sklearn/impute/_iterative.py:686: ConvergenceWarning: [IterativeImputer] Early stopping criterion not reached.\n",
      "  \" reached.\", ConvergenceWarning)\n"
     ]
    }
   ],
   "source": [
    "# Use iterative imputer to fill the rest of the missing colums (fb_user_* and night_pck_user_* columns)\n",
    "from sklearn.experimental import enable_iterative_imputer\n",
    "from sklearn.impute import IterativeImputer\n",
    "iter_imputer = IterativeImputer()\n",
    "\n",
    "fb_night_cols = [col for col in cust.columns if re.match('^fb_user_|^night_pck_user_', col)]\n",
    "\n",
    "cust[fb_night_cols] = iter_imputer.fit_transform(cust[fb_night_cols])"
   ]
  },
  {
   "cell_type": "code",
   "execution_count": 30,
   "metadata": {
    "ExecuteTime": {
     "end_time": "2021-04-19T03:41:14.536517Z",
     "start_time": "2021-04-19T03:41:14.262658Z"
    }
   },
   "outputs": [
    {
     "data": {
      "text/plain": [
       "'NO MISSING VALUES IN THE DATAFRAME'"
      ]
     },
     "metadata": {},
     "output_type": "display_data"
    }
   ],
   "source": [
    "print_missing_columns(cust)"
   ]
  },
  {
   "cell_type": "markdown",
   "metadata": {},
   "source": [
    "## Check data types"
   ]
  },
  {
   "cell_type": "code",
   "execution_count": 31,
   "metadata": {
    "ExecuteTime": {
     "end_time": "2021-04-19T03:41:14.559953Z",
     "start_time": "2021-04-19T03:41:14.538556Z"
    }
   },
   "outputs": [
    {
     "name": "stdout",
     "output_type": "stream",
     "text": [
      "<class 'pandas.core.frame.DataFrame'>\n",
      "RangeIndex: 99999 entries, 0 to 99998\n",
      "Columns: 218 entries, mobile_number to last_rech_days_9\n",
      "dtypes: float64(183), int64(35)\n",
      "memory usage: 166.3 MB\n"
     ]
    }
   ],
   "source": [
    "cust.info()"
   ]
  },
  {
   "cell_type": "markdown",
   "metadata": {},
   "source": []
  },
  {
   "cell_type": "markdown",
   "metadata": {},
   "source": [
    "## Check for outliers"
   ]
  },
  {
   "cell_type": "markdown",
   "metadata": {},
   "source": [
    "# Target Variable Creation"
   ]
  },
  {
   "cell_type": "markdown",
   "metadata": {},
   "source": [
    "## Create Target variable from 9th Month"
   ]
  },
  {
   "cell_type": "markdown",
   "metadata": {},
   "source": [
    "Create the target variable based on the below rule:\n",
    " \n",
    "Tag the churned customers (churn=1, else 0) based on the fourth month as follows: Those who have not made any calls (either incoming or outgoing) AND have not used mobile internet even once in the churn phase. The attributes you need to use to tag churners are:\n",
    "\n",
    "total_ic_mou_9,\n",
    "total_og_mou_9,\n",
    "vol_2g_mb_9,\n",
    "vol_3g_mb_9"
   ]
  },
  {
   "cell_type": "code",
   "execution_count": 32,
   "metadata": {
    "ExecuteTime": {
     "end_time": "2021-04-19T03:41:14.580646Z",
     "start_time": "2021-04-19T03:41:14.563836Z"
    }
   },
   "outputs": [],
   "source": [
    "# Create churn flag based on the 9th month variables. \n",
    "cust['churn'] = (cust['total_ic_mou_9']+cust['total_og_mou_9']+cust['vol_2g_mb_9']+cust['vol_3g_mb_9']) == 0\n",
    "cust['churn']=cust['churn'].map({True:1,False:0})"
   ]
  },
  {
   "cell_type": "code",
   "execution_count": 33,
   "metadata": {
    "ExecuteTime": {
     "end_time": "2021-04-19T03:41:14.591100Z",
     "start_time": "2021-04-19T03:41:14.582734Z"
    }
   },
   "outputs": [
    {
     "data": {
      "text/plain": [
       "0    89808\n",
       "1    10191\n",
       "Name: churn, dtype: int64"
      ]
     },
     "execution_count": 33,
     "metadata": {},
     "output_type": "execute_result"
    }
   ],
   "source": [
    "cust['churn'].value_counts()"
   ]
  },
  {
   "cell_type": "markdown",
   "metadata": {},
   "source": [
    "## Remove 9th month variables"
   ]
  },
  {
   "cell_type": "code",
   "execution_count": 34,
   "metadata": {
    "ExecuteTime": {
     "end_time": "2021-04-19T03:41:14.717548Z",
     "start_time": "2021-04-19T03:41:14.593694Z"
    }
   },
   "outputs": [
    {
     "name": "stdout",
     "output_type": "stream",
     "text": [
      "Shape before dropping 9th month columns:(99999, 219)\n",
      "Shape after dropping 9th month columns:(99999, 167)\n"
     ]
    }
   ],
   "source": [
    "# drop the columns with the suffix _9, they should not be used while training the model.\n",
    "\n",
    "print(f'Shape before dropping 9th month columns:{cust.shape}')\n",
    "month_9_cols = [col for col in cust.columns if re.search('_9$', col)]\n",
    "cust.drop(month_9_cols,inplace=True,axis=1)\n",
    "print(f'Shape after dropping 9th month columns:{cust.shape}')"
   ]
  },
  {
   "cell_type": "markdown",
   "metadata": {},
   "source": [
    "Remove the 9th month variables after creating the target variables. Would otherwise lead to data leakage."
   ]
  },
  {
   "cell_type": "markdown",
   "metadata": {},
   "source": [
    "# Identify High Value Customers"
   ]
  },
  {
   "cell_type": "markdown",
   "metadata": {},
   "source": [
    "We need to predict churn only for the high-value customers. <br>\n",
    "Define high-value customers as follows: Those who have recharged with an amount more than or equal to X, where X is the 70th percentile of the average recharge amount in the first two months (the good phase)."
   ]
  },
  {
   "cell_type": "markdown",
   "metadata": {},
   "source": [
    "## Find average of M6,M7"
   ]
  },
  {
   "cell_type": "code",
   "execution_count": null,
   "metadata": {},
   "outputs": [],
   "source": [
    "cust.head()"
   ]
  },
  {
   "cell_type": "code",
   "execution_count": 51,
   "metadata": {
    "ExecuteTime": {
     "end_time": "2021-04-19T03:58:52.791678Z",
     "start_time": "2021-04-19T03:58:52.773354Z"
    }
   },
   "outputs": [
    {
     "data": {
      "text/html": [
       "<div>\n",
       "<style scoped>\n",
       "    .dataframe tbody tr th:only-of-type {\n",
       "        vertical-align: middle;\n",
       "    }\n",
       "\n",
       "    .dataframe tbody tr th {\n",
       "        vertical-align: top;\n",
       "    }\n",
       "\n",
       "    .dataframe thead th {\n",
       "        text-align: right;\n",
       "    }\n",
       "</style>\n",
       "<table border=\"1\" class=\"dataframe\">\n",
       "  <thead>\n",
       "    <tr style=\"text-align: right;\">\n",
       "      <th></th>\n",
       "      <th>total_rech_num_6</th>\n",
       "      <th>total_rech_amt_6</th>\n",
       "      <th>max_rech_amt_6</th>\n",
       "      <th>total_rech_data_6</th>\n",
       "      <th>max_rech_data_6</th>\n",
       "      <th>count_rech_2g_6</th>\n",
       "      <th>count_rech_3g_6</th>\n",
       "      <th>av_rech_amt_data_6</th>\n",
       "      <th>last_rech_days_6</th>\n",
       "    </tr>\n",
       "  </thead>\n",
       "  <tbody>\n",
       "    <tr>\n",
       "      <th>0</th>\n",
       "      <td>4</td>\n",
       "      <td>362</td>\n",
       "      <td>252</td>\n",
       "      <td>1.0</td>\n",
       "      <td>252.0</td>\n",
       "      <td>0.0</td>\n",
       "      <td>1.0</td>\n",
       "      <td>252.0</td>\n",
       "      <td>9.0</td>\n",
       "    </tr>\n",
       "    <tr>\n",
       "      <th>1</th>\n",
       "      <td>4</td>\n",
       "      <td>74</td>\n",
       "      <td>44</td>\n",
       "      <td>0.0</td>\n",
       "      <td>0.0</td>\n",
       "      <td>0.0</td>\n",
       "      <td>0.0</td>\n",
       "      <td>0.0</td>\n",
       "      <td>1.0</td>\n",
       "    </tr>\n",
       "    <tr>\n",
       "      <th>2</th>\n",
       "      <td>5</td>\n",
       "      <td>168</td>\n",
       "      <td>86</td>\n",
       "      <td>0.0</td>\n",
       "      <td>0.0</td>\n",
       "      <td>0.0</td>\n",
       "      <td>0.0</td>\n",
       "      <td>0.0</td>\n",
       "      <td>13.0</td>\n",
       "    </tr>\n",
       "    <tr>\n",
       "      <th>3</th>\n",
       "      <td>10</td>\n",
       "      <td>230</td>\n",
       "      <td>60</td>\n",
       "      <td>0.0</td>\n",
       "      <td>0.0</td>\n",
       "      <td>0.0</td>\n",
       "      <td>0.0</td>\n",
       "      <td>0.0</td>\n",
       "      <td>2.0</td>\n",
       "    </tr>\n",
       "    <tr>\n",
       "      <th>4</th>\n",
       "      <td>5</td>\n",
       "      <td>196</td>\n",
       "      <td>56</td>\n",
       "      <td>1.0</td>\n",
       "      <td>56.0</td>\n",
       "      <td>1.0</td>\n",
       "      <td>0.0</td>\n",
       "      <td>56.0</td>\n",
       "      <td>4.0</td>\n",
       "    </tr>\n",
       "  </tbody>\n",
       "</table>\n",
       "</div>"
      ],
      "text/plain": [
       "   total_rech_num_6  total_rech_amt_6  max_rech_amt_6  total_rech_data_6  \\\n",
       "0                 4               362             252                1.0   \n",
       "1                 4                74              44                0.0   \n",
       "2                 5               168              86                0.0   \n",
       "3                10               230              60                0.0   \n",
       "4                 5               196              56                1.0   \n",
       "\n",
       "   max_rech_data_6  count_rech_2g_6  count_rech_3g_6  av_rech_amt_data_6  \\\n",
       "0            252.0              0.0              1.0               252.0   \n",
       "1              0.0              0.0              0.0                 0.0   \n",
       "2              0.0              0.0              0.0                 0.0   \n",
       "3              0.0              0.0              0.0                 0.0   \n",
       "4             56.0              1.0              0.0                56.0   \n",
       "\n",
       "   last_rech_days_6  \n",
       "0               9.0  \n",
       "1               1.0  \n",
       "2              13.0  \n",
       "3               2.0  \n",
       "4               4.0  "
      ]
     },
     "execution_count": 51,
     "metadata": {},
     "output_type": "execute_result"
    }
   ],
   "source": [
    "m6_cols = [col for col in cust.columns if re.search('.*rech.*_6$' , col)]\n",
    "cust[m6_cols].head()\n"
   ]
  },
  {
   "cell_type": "code",
   "execution_count": 49,
   "metadata": {
    "ExecuteTime": {
     "end_time": "2021-04-19T03:50:02.821345Z",
     "start_time": "2021-04-19T03:50:02.813210Z"
    }
   },
   "outputs": [
    {
     "name": "stdout",
     "output_type": "stream",
     "text": [
      "True\n",
      "True\n"
     ]
    }
   ],
   "source": [
    "# Check if total recharge data column is same as sum of no. of recharges in 2G & 3G\n",
    "print(cust[cust['total_rech_data_6'] != (cust['count_rech_2g_6']+cust['count_rech_3g_6'])].empty)\n",
    "print(cust[cust['total_rech_data_7'] != (cust['count_rech_2g_7']+cust['count_rech_3g_7'])].empty)"
   ]
  },
  {
   "cell_type": "markdown",
   "metadata": {
    "ExecuteTime": {
     "end_time": "2021-04-19T03:58:38.573128Z",
     "start_time": "2021-04-19T03:58:38.556861Z"
    }
   },
   "source": [
    "Assumption: total_rech_amt_* column is only for the talktime recharge and not for data recharge <br>\n",
    "This information is not clear in the data dictionary and requires domain knowledge. <br>\n",
    "We can compute the total rech amount for a month as sum of (talktime recharge + data recharge)"
   ]
  },
  {
   "cell_type": "code",
   "execution_count": 53,
   "metadata": {
    "ExecuteTime": {
     "end_time": "2021-04-19T04:05:42.602504Z",
     "start_time": "2021-04-19T04:05:42.595111Z"
    }
   },
   "outputs": [],
   "source": [
    "cust['avg_rech_amt_6_7'] = ((cust['total_rech_amt_6'] + cust['total_rech_data_6']*cust['av_rech_amt_data_6']) +\n",
    "                            (cust['total_rech_amt_7'] + cust['total_rech_data_7']*cust['av_rech_amt_data_7']))/2"
   ]
  },
  {
   "cell_type": "code",
   "execution_count": 57,
   "metadata": {
    "ExecuteTime": {
     "end_time": "2021-04-19T04:09:00.233443Z",
     "start_time": "2021-04-19T04:09:00.218172Z"
    }
   },
   "outputs": [
    {
     "data": {
      "text/html": [
       "<div>\n",
       "<style scoped>\n",
       "    .dataframe tbody tr th:only-of-type {\n",
       "        vertical-align: middle;\n",
       "    }\n",
       "\n",
       "    .dataframe tbody tr th {\n",
       "        vertical-align: top;\n",
       "    }\n",
       "\n",
       "    .dataframe thead th {\n",
       "        text-align: right;\n",
       "    }\n",
       "</style>\n",
       "<table border=\"1\" class=\"dataframe\">\n",
       "  <thead>\n",
       "    <tr style=\"text-align: right;\">\n",
       "      <th></th>\n",
       "      <th>total_rech_amt_6</th>\n",
       "      <th>total_rech_data_6</th>\n",
       "      <th>av_rech_amt_data_6</th>\n",
       "      <th>total_rech_data_7</th>\n",
       "      <th>av_rech_amt_data_7</th>\n",
       "      <th>total_rech_amt_7</th>\n",
       "      <th>avg_rech_amt_6_7</th>\n",
       "    </tr>\n",
       "  </thead>\n",
       "  <tbody>\n",
       "    <tr>\n",
       "      <th>99994</th>\n",
       "      <td>60</td>\n",
       "      <td>0.0</td>\n",
       "      <td>0.0</td>\n",
       "      <td>0.0</td>\n",
       "      <td>0.0</td>\n",
       "      <td>110</td>\n",
       "      <td>85.0</td>\n",
       "    </tr>\n",
       "    <tr>\n",
       "      <th>99995</th>\n",
       "      <td>110</td>\n",
       "      <td>0.0</td>\n",
       "      <td>0.0</td>\n",
       "      <td>0.0</td>\n",
       "      <td>0.0</td>\n",
       "      <td>110</td>\n",
       "      <td>110.0</td>\n",
       "    </tr>\n",
       "    <tr>\n",
       "      <th>99996</th>\n",
       "      <td>119</td>\n",
       "      <td>2.0</td>\n",
       "      <td>39.0</td>\n",
       "      <td>0.0</td>\n",
       "      <td>0.0</td>\n",
       "      <td>0</td>\n",
       "      <td>98.5</td>\n",
       "    </tr>\n",
       "    <tr>\n",
       "      <th>99997</th>\n",
       "      <td>381</td>\n",
       "      <td>3.0</td>\n",
       "      <td>583.0</td>\n",
       "      <td>2.0</td>\n",
       "      <td>358.0</td>\n",
       "      <td>358</td>\n",
       "      <td>1602.0</td>\n",
       "    </tr>\n",
       "    <tr>\n",
       "      <th>99998</th>\n",
       "      <td>710</td>\n",
       "      <td>1.0</td>\n",
       "      <td>154.0</td>\n",
       "      <td>0.0</td>\n",
       "      <td>0.0</td>\n",
       "      <td>0</td>\n",
       "      <td>432.0</td>\n",
       "    </tr>\n",
       "  </tbody>\n",
       "</table>\n",
       "</div>"
      ],
      "text/plain": [
       "       total_rech_amt_6  total_rech_data_6  av_rech_amt_data_6  \\\n",
       "99994                60                0.0                 0.0   \n",
       "99995               110                0.0                 0.0   \n",
       "99996               119                2.0                39.0   \n",
       "99997               381                3.0               583.0   \n",
       "99998               710                1.0               154.0   \n",
       "\n",
       "       total_rech_data_7  av_rech_amt_data_7  total_rech_amt_7  \\\n",
       "99994                0.0                 0.0               110   \n",
       "99995                0.0                 0.0               110   \n",
       "99996                0.0                 0.0                 0   \n",
       "99997                2.0               358.0               358   \n",
       "99998                0.0                 0.0                 0   \n",
       "\n",
       "       avg_rech_amt_6_7  \n",
       "99994              85.0  \n",
       "99995             110.0  \n",
       "99996              98.5  \n",
       "99997            1602.0  \n",
       "99998             432.0  "
      ]
     },
     "execution_count": 57,
     "metadata": {},
     "output_type": "execute_result"
    }
   ],
   "source": [
    "cust[['total_rech_amt_6','total_rech_data_6','av_rech_amt_data_6','total_rech_data_7','av_rech_amt_data_7','total_rech_amt_7','avg_rech_amt_6_7']].tail()"
   ]
  },
  {
   "cell_type": "markdown",
   "metadata": {},
   "source": [
    "Manually computing the average recharge amount looks to be correct. <br>\n",
    "We can now identify the value at the 70th percentile to identify the High Value Customers"
   ]
  },
  {
   "cell_type": "markdown",
   "metadata": {},
   "source": [
    "## Identify value at 70th percentile"
   ]
  },
  {
   "cell_type": "code",
   "execution_count": 73,
   "metadata": {
    "ExecuteTime": {
     "end_time": "2021-04-19T04:15:44.258880Z",
     "start_time": "2021-04-19T04:15:44.238837Z"
    }
   },
   "outputs": [
    {
     "data": {
      "text/html": [
       "<div>\n",
       "<style scoped>\n",
       "    .dataframe tbody tr th:only-of-type {\n",
       "        vertical-align: middle;\n",
       "    }\n",
       "\n",
       "    .dataframe tbody tr th {\n",
       "        vertical-align: top;\n",
       "    }\n",
       "\n",
       "    .dataframe thead th {\n",
       "        text-align: right;\n",
       "    }\n",
       "</style>\n",
       "<table border=\"1\" class=\"dataframe\">\n",
       "  <thead>\n",
       "    <tr style=\"text-align: right;\">\n",
       "      <th></th>\n",
       "      <th>avg_rech_amt_6_7</th>\n",
       "    </tr>\n",
       "  </thead>\n",
       "  <tbody>\n",
       "    <tr>\n",
       "      <th>count</th>\n",
       "      <td>99999.000000</td>\n",
       "    </tr>\n",
       "    <tr>\n",
       "      <th>mean</th>\n",
       "      <td>485.328068</td>\n",
       "    </tr>\n",
       "    <tr>\n",
       "      <th>std</th>\n",
       "      <td>869.423594</td>\n",
       "    </tr>\n",
       "    <tr>\n",
       "      <th>min</th>\n",
       "      <td>0.000000</td>\n",
       "    </tr>\n",
       "    <tr>\n",
       "      <th>10%</th>\n",
       "      <td>60.000000</td>\n",
       "    </tr>\n",
       "    <tr>\n",
       "      <th>30%</th>\n",
       "      <td>155.000000</td>\n",
       "    </tr>\n",
       "    <tr>\n",
       "      <th>50%</th>\n",
       "      <td>275.000000</td>\n",
       "    </tr>\n",
       "    <tr>\n",
       "      <th>70%</th>\n",
       "      <td>478.000000</td>\n",
       "    </tr>\n",
       "    <tr>\n",
       "      <th>90%</th>\n",
       "      <td>1028.000000</td>\n",
       "    </tr>\n",
       "    <tr>\n",
       "      <th>max</th>\n",
       "      <td>61236.000000</td>\n",
       "    </tr>\n",
       "  </tbody>\n",
       "</table>\n",
       "</div>"
      ],
      "text/plain": [
       "       avg_rech_amt_6_7\n",
       "count      99999.000000\n",
       "mean         485.328068\n",
       "std          869.423594\n",
       "min            0.000000\n",
       "10%           60.000000\n",
       "30%          155.000000\n",
       "50%          275.000000\n",
       "70%          478.000000\n",
       "90%         1028.000000\n",
       "max        61236.000000"
      ]
     },
     "execution_count": 73,
     "metadata": {},
     "output_type": "execute_result"
    }
   ],
   "source": [
    "cust[['avg_rech_amt_6_7']].describe(percentiles=[0.1,0.3,0.5,0.7,0.9])"
   ]
  },
  {
   "cell_type": "code",
   "execution_count": 72,
   "metadata": {
    "ExecuteTime": {
     "end_time": "2021-04-19T04:15:29.972700Z",
     "start_time": "2021-04-19T04:15:29.964410Z"
    }
   },
   "outputs": [
    {
     "name": "stdout",
     "output_type": "stream",
     "text": [
      "Value at 70th percentile:478.0\n"
     ]
    }
   ],
   "source": [
    "avg_70 = cust[['avg_rech_amt_6_7']].quantile(0.7)[0]\n",
    "print(f'Value at 70th percentile:{avg_70}')"
   ]
  },
  {
   "cell_type": "markdown",
   "metadata": {},
   "source": [
    "## Flag high value customers"
   ]
  },
  {
   "cell_type": "code",
   "execution_count": 77,
   "metadata": {
    "ExecuteTime": {
     "end_time": "2021-04-19T04:35:56.931452Z",
     "start_time": "2021-04-19T04:35:56.845982Z"
    }
   },
   "outputs": [],
   "source": [
    "cust['is_hvc'] = cust['avg_rech_amt_6_7'].apply(lambda x: int(x>= avg_70))\n"
   ]
  },
  {
   "cell_type": "code",
   "execution_count": 78,
   "metadata": {
    "ExecuteTime": {
     "end_time": "2021-04-19T04:35:57.708487Z",
     "start_time": "2021-04-19T04:35:57.701405Z"
    }
   },
   "outputs": [
    {
     "data": {
      "text/plain": [
       "0    69998\n",
       "1    30001\n",
       "Name: is_hvc, dtype: int64"
      ]
     },
     "execution_count": 78,
     "metadata": {},
     "output_type": "execute_result"
    }
   ],
   "source": [
    "cust['is_hvc'].value_counts()"
   ]
  },
  {
   "cell_type": "code",
   "execution_count": 79,
   "metadata": {
    "ExecuteTime": {
     "end_time": "2021-04-19T04:37:43.889585Z",
     "start_time": "2021-04-19T04:37:43.885273Z"
    }
   },
   "outputs": [
    {
     "data": {
      "text/plain": [
       "(99999, 169)"
      ]
     },
     "execution_count": 79,
     "metadata": {},
     "output_type": "execute_result"
    }
   ],
   "source": [
    "cust.shape"
   ]
  },
  {
   "cell_type": "markdown",
   "metadata": {},
   "source": [
    "# Define Variables"
   ]
  },
  {
   "cell_type": "code",
   "execution_count": 106,
   "metadata": {
    "ExecuteTime": {
     "end_time": "2021-04-19T04:50:00.935086Z",
     "start_time": "2021-04-19T04:50:00.928239Z"
    }
   },
   "outputs": [
    {
     "data": {
      "text/plain": [
       "['loc_og_t2c_mou_8',\n",
       " 'aon',\n",
       " 'total_og_mou_6',\n",
       " 'total_og_mou_7',\n",
       " 'total_og_mou_8',\n",
       " 'total_ic_mou_6',\n",
       " 'total_ic_mou_7',\n",
       " 'total_ic_mou_8']"
      ]
     },
     "execution_count": 106,
     "metadata": {},
     "output_type": "execute_result"
    }
   ],
   "source": [
    "m8_toc_cols = ['loc_og_t2c_mou_8']\n",
    "aon_cols = ['aon']\n",
    "mou_cols = [col for col in cust.columns if re.search('^total_.*mou.*' , col)]\n",
    "\n",
    "cols_to_analyse = m8_toc_cols+aon_cols+mou_cols\n",
    "cols_to_analyse"
   ]
  },
  {
   "cell_type": "code",
   "execution_count": 107,
   "metadata": {
    "ExecuteTime": {
     "end_time": "2021-04-19T04:50:02.401955Z",
     "start_time": "2021-04-19T04:50:02.384445Z"
    }
   },
   "outputs": [
    {
     "data": {
      "text/html": [
       "<div>\n",
       "<style scoped>\n",
       "    .dataframe tbody tr th:only-of-type {\n",
       "        vertical-align: middle;\n",
       "    }\n",
       "\n",
       "    .dataframe tbody tr th {\n",
       "        vertical-align: top;\n",
       "    }\n",
       "\n",
       "    .dataframe thead th {\n",
       "        text-align: right;\n",
       "    }\n",
       "</style>\n",
       "<table border=\"1\" class=\"dataframe\">\n",
       "  <thead>\n",
       "    <tr style=\"text-align: right;\">\n",
       "      <th></th>\n",
       "      <th>loc_og_t2c_mou_8</th>\n",
       "      <th>aon</th>\n",
       "      <th>total_og_mou_6</th>\n",
       "      <th>total_og_mou_7</th>\n",
       "      <th>total_og_mou_8</th>\n",
       "      <th>total_ic_mou_6</th>\n",
       "      <th>total_ic_mou_7</th>\n",
       "      <th>total_ic_mou_8</th>\n",
       "    </tr>\n",
       "  </thead>\n",
       "  <tbody>\n",
       "    <tr>\n",
       "      <th>0</th>\n",
       "      <td>0.00</td>\n",
       "      <td>968</td>\n",
       "      <td>0.00</td>\n",
       "      <td>0.00</td>\n",
       "      <td>0.00</td>\n",
       "      <td>0.00</td>\n",
       "      <td>0.00</td>\n",
       "      <td>5.44</td>\n",
       "    </tr>\n",
       "    <tr>\n",
       "      <th>1</th>\n",
       "      <td>0.00</td>\n",
       "      <td>1006</td>\n",
       "      <td>40.31</td>\n",
       "      <td>178.53</td>\n",
       "      <td>312.44</td>\n",
       "      <td>26.83</td>\n",
       "      <td>104.23</td>\n",
       "      <td>423.28</td>\n",
       "    </tr>\n",
       "    <tr>\n",
       "      <th>2</th>\n",
       "      <td>45.76</td>\n",
       "      <td>1103</td>\n",
       "      <td>155.33</td>\n",
       "      <td>412.94</td>\n",
       "      <td>285.46</td>\n",
       "      <td>370.04</td>\n",
       "      <td>519.53</td>\n",
       "      <td>395.03</td>\n",
       "    </tr>\n",
       "    <tr>\n",
       "      <th>3</th>\n",
       "      <td>0.00</td>\n",
       "      <td>2491</td>\n",
       "      <td>223.23</td>\n",
       "      <td>135.31</td>\n",
       "      <td>352.21</td>\n",
       "      <td>280.08</td>\n",
       "      <td>216.61</td>\n",
       "      <td>53.13</td>\n",
       "    </tr>\n",
       "    <tr>\n",
       "      <th>4</th>\n",
       "      <td>0.00</td>\n",
       "      <td>1526</td>\n",
       "      <td>127.28</td>\n",
       "      <td>241.33</td>\n",
       "      <td>208.16</td>\n",
       "      <td>216.44</td>\n",
       "      <td>198.29</td>\n",
       "      <td>338.81</td>\n",
       "    </tr>\n",
       "  </tbody>\n",
       "</table>\n",
       "</div>"
      ],
      "text/plain": [
       "   loc_og_t2c_mou_8   aon  total_og_mou_6  total_og_mou_7  total_og_mou_8  \\\n",
       "0              0.00   968            0.00            0.00            0.00   \n",
       "1              0.00  1006           40.31          178.53          312.44   \n",
       "2             45.76  1103          155.33          412.94          285.46   \n",
       "3              0.00  2491          223.23          135.31          352.21   \n",
       "4              0.00  1526          127.28          241.33          208.16   \n",
       "\n",
       "   total_ic_mou_6  total_ic_mou_7  total_ic_mou_8  \n",
       "0            0.00            0.00            5.44  \n",
       "1           26.83          104.23          423.28  \n",
       "2          370.04          519.53          395.03  \n",
       "3          280.08          216.61           53.13  \n",
       "4          216.44          198.29          338.81  "
      ]
     },
     "execution_count": 107,
     "metadata": {},
     "output_type": "execute_result"
    }
   ],
   "source": [
    "cust[cols_to_analyse].head()"
   ]
  },
  {
   "cell_type": "code",
   "execution_count": 108,
   "metadata": {
    "ExecuteTime": {
     "end_time": "2021-04-19T04:50:05.764602Z",
     "start_time": "2021-04-19T04:50:05.761570Z"
    }
   },
   "outputs": [],
   "source": [
    "DEPENDENT_VARIABLE = 'churn'\n",
    "CONTINUOUS_VAR_TO_ANALYSE = cols_to_analyse"
   ]
  },
  {
   "cell_type": "markdown",
   "metadata": {},
   "source": [
    "# EDA"
   ]
  },
  {
   "cell_type": "code",
   "execution_count": null,
   "metadata": {},
   "outputs": [],
   "source": []
  },
  {
   "cell_type": "markdown",
   "metadata": {},
   "source": [
    "## Target variable analysis"
   ]
  },
  {
   "cell_type": "code",
   "execution_count": 109,
   "metadata": {
    "ExecuteTime": {
     "end_time": "2021-04-19T04:50:07.729864Z",
     "start_time": "2021-04-19T04:50:07.561814Z"
    }
   },
   "outputs": [
    {
     "data": {
      "image/png": "[encoded data removed]",
      "text/plain": [
       "<Figure size 288x576 with 1 Axes>"
      ]
     },
     "metadata": {
      "needs_background": "light"
     },
     "output_type": "display_data"
    }
   ],
   "source": [
    "fig = plt.figure(figsize=(4,8))\n",
    "fig.suptitle('Defaulters Distribution', fontsize=24)\n",
    "ax = cust[DEPENDENT_VARIABLE].value_counts().plot.bar()\n",
    "for p in ax.patches: \n",
    "    ax.annotate(\"%0.0f\" % p.get_height(), (p.get_x() + p.get_width() / 2., p.get_height()),\n",
    "                 ha='center', va='center', fontsize=11,  xytext=(0, 10), textcoords='offset points')\n"
   ]
  },
  {
   "cell_type": "markdown",
   "metadata": {},
   "source": [
    "## Univariate analysis"
   ]
  },
  {
   "cell_type": "markdown",
   "metadata": {},
   "source": [
    "### Continuous Features - Univariate & Segmented Univariate Analysis"
   ]
  },
  {
   "cell_type": "code",
   "execution_count": 110,
   "metadata": {
    "ExecuteTime": {
     "end_time": "2021-04-19T04:50:13.981579Z",
     "start_time": "2021-04-19T04:50:08.141027Z"
    }
   },
   "outputs": [
    {
     "name": "stderr",
     "output_type": "stream",
     "text": [
      "/Users/le0080/.pyenv/versions/3.6.6/lib/python3.6/site-packages/seaborn/distributions.py:2551: FutureWarning: `distplot` is a deprecated function and will be removed in a future version. Please adapt your code to use either `displot` (a figure-level function with similar flexibility) or `histplot` (an axes-level function for histograms).\n",
      "  warnings.warn(msg, FutureWarning)\n"
     ]
    },
    {
     "data": {
      "image/png": "[encoded data removed]",
      "text/plain": [
       "<Figure size 1440x576 with 2 Axes>"
      ]
     },
     "metadata": {
      "needs_background": "light"
     },
     "output_type": "display_data"
    },
    {
     "data": {
      "image/png": "[encoded data removed]",
      "text/plain": [
       "<Figure size 1440x576 with 2 Axes>"
      ]
     },
     "metadata": {
      "needs_background": "light"
     },
     "output_type": "display_data"
    },
    {
     "data": {
      "image/png": "[encoded data removed]",
      "text/plain": [
       "<Figure size 1440x576 with 2 Axes>"
      ]
     },
     "metadata": {
      "needs_background": "light"
     },
     "output_type": "display_data"
    },
    {
     "data": {
      "image/png": "[encoded data removed]",
      "text/plain": [
       "<Figure size 1440x576 with 2 Axes>"
      ]
     },
     "metadata": {
      "needs_background": "light"
     },
     "output_type": "display_data"
    },
    {
     "data": {
      "image/png": "[encoded data removed]",
      "text/plain": [
       "<Figure size 1440x576 with 2 Axes>"
      ]
     },
     "metadata": {
      "needs_background": "light"
     },
     "output_type": "display_data"
    },
    {
     "data": {
      "image/png": "[encoded data removed]",
      "text/plain": [
       "<Figure size 1440x576 with 2 Axes>"
      ]
     },
     "metadata": {
      "needs_background": "light"
     },
     "output_type": "display_data"
    },
    {
     "data": {
      "image/png": "[encoded data removed]",
      "text/plain": [
       "<Figure size 1440x576 with 2 Axes>"
      ]
     },
     "metadata": {
      "needs_background": "light"
     },
     "output_type": "display_data"
    },
    {
     "data": {
      "image/png": "[encoded data removed]",
      "text/plain": [
       "<Figure size 1440x576 with 2 Axes>"
      ]
     },
     "metadata": {
      "needs_background": "light"
     },
     "output_type": "display_data"
    }
   ],
   "source": [
    "\n",
    "# For each continuous variable, plot\n",
    "# a. Distribution plot for each continuous variable - Univariate Analysis\n",
    "# b. Distribution plot against the target variable - Segmented Univariate Analysis\n",
    "for col in CONTINUOUS_VAR_TO_ANALYSE:\n",
    "    fig, ax = plt.subplots(2, 1, figsize=(20, 8))\n",
    "    fig.suptitle(col, fontsize=18)\n",
    "    sns.distplot(cust[col], kde=False, ax=ax[0])\n",
    "    for i in sorted(cust[DEPENDENT_VARIABLE].unique()):\n",
    "        sns.distplot(cust[cust[DEPENDENT_VARIABLE] == i][col], kde=False, ax=ax[1], label=f'{DEPENDENT_VARIABLE} = {i}')\n",
    "    ax[1].legend()"
   ]
  },
  {
   "cell_type": "markdown",
   "metadata": {},
   "source": [
    "## Bivariate analysis"
   ]
  },
  {
   "cell_type": "markdown",
   "metadata": {},
   "source": [
    "### Heat map/correlation matrix"
   ]
  },
  {
   "cell_type": "code",
   "execution_count": 118,
   "metadata": {
    "ExecuteTime": {
     "end_time": "2021-04-19T04:53:55.096020Z",
     "start_time": "2021-04-19T04:53:55.067371Z"
    }
   },
   "outputs": [],
   "source": [
    "df = cust[CONTINUOUS_VAR_TO_ANALYSE + ['churn']]\n",
    "corr = df.corr() "
   ]
  },
  {
   "cell_type": "code",
   "execution_count": 119,
   "metadata": {
    "ExecuteTime": {
     "end_time": "2021-04-19T04:53:59.528437Z",
     "start_time": "2021-04-19T04:53:58.932548Z"
    }
   },
   "outputs": [
    {
     "data": {
      "image/png": "[encoded data removed]",
      "text/plain": [
       "<Figure size 1440x1080 with 2 Axes>"
      ]
     },
     "metadata": {
      "needs_background": "light"
     },
     "output_type": "display_data"
    }
   ],
   "source": [
    "f = plt.figure(figsize=(20, 15))\n",
    "\n",
    "ax = plt.matshow(corr, fignum=f.number,cmap='RdYlGn')\n",
    "plt.xticks(range(df.shape[1]), df.columns, fontsize=14, rotation=45)\n",
    "plt.yticks(range(df.shape[1]), df.columns, fontsize=14)\n",
    "cb = plt.colorbar()\n",
    "cb.ax.tick_params(labelsize=14)\n",
    "#ax.set_ylim([0,2])\n",
    "plt.title('Correlation Matrix', fontsize=16);"
   ]
  },
  {
   "cell_type": "code",
   "execution_count": 120,
   "metadata": {
    "ExecuteTime": {
     "end_time": "2021-04-19T04:54:04.993739Z",
     "start_time": "2021-04-19T04:54:04.927329Z"
    }
   },
   "outputs": [
    {
     "data": {
      "text/html": [
       "<style  type=\"text/css\" >\n",
       "    #T_44508d7a_a0cb_11eb_a037_8c85904f000erow0_col0 {\n",
       "            background-color:  #b40426;\n",
       "            color:  #f1f1f1;\n",
       "        }    #T_44508d7a_a0cb_11eb_a037_8c85904f000erow0_col1 {\n",
       "            background-color:  #5875e1;\n",
       "            color:  #000000;\n",
       "        }    #T_44508d7a_a0cb_11eb_a037_8c85904f000erow0_col2 {\n",
       "            background-color:  #4b64d5;\n",
       "            color:  #f1f1f1;\n",
       "        }    #T_44508d7a_a0cb_11eb_a037_8c85904f000erow0_col3 {\n",
       "            background-color:  #5f7fe8;\n",
       "            color:  #000000;\n",
       "        }    #T_44508d7a_a0cb_11eb_a037_8c85904f000erow0_col4 {\n",
       "            background-color:  #82a6fb;\n",
       "            color:  #000000;\n",
       "        }    #T_44508d7a_a0cb_11eb_a037_8c85904f000erow0_col5 {\n",
       "            background-color:  #506bda;\n",
       "            color:  #000000;\n",
       "        }    #T_44508d7a_a0cb_11eb_a037_8c85904f000erow0_col6 {\n",
       "            background-color:  #5f7fe8;\n",
       "            color:  #000000;\n",
       "        }    #T_44508d7a_a0cb_11eb_a037_8c85904f000erow0_col7 {\n",
       "            background-color:  #7396f5;\n",
       "            color:  #000000;\n",
       "        }    #T_44508d7a_a0cb_11eb_a037_8c85904f000erow0_col8 {\n",
       "            background-color:  #6180e9;\n",
       "            color:  #000000;\n",
       "        }    #T_44508d7a_a0cb_11eb_a037_8c85904f000erow1_col0 {\n",
       "            background-color:  #3e51c5;\n",
       "            color:  #f1f1f1;\n",
       "        }    #T_44508d7a_a0cb_11eb_a037_8c85904f000erow1_col1 {\n",
       "            background-color:  #b40426;\n",
       "            color:  #f1f1f1;\n",
       "        }    #T_44508d7a_a0cb_11eb_a037_8c85904f000erow1_col2 {\n",
       "            background-color:  #3b4cc0;\n",
       "            color:  #f1f1f1;\n",
       "        }    #T_44508d7a_a0cb_11eb_a037_8c85904f000erow1_col3 {\n",
       "            background-color:  #4257c9;\n",
       "            color:  #f1f1f1;\n",
       "        }    #T_44508d7a_a0cb_11eb_a037_8c85904f000erow1_col4 {\n",
       "            background-color:  #5e7de7;\n",
       "            color:  #000000;\n",
       "        }    #T_44508d7a_a0cb_11eb_a037_8c85904f000erow1_col5 {\n",
       "            background-color:  #799cf8;\n",
       "            color:  #000000;\n",
       "        }    #T_44508d7a_a0cb_11eb_a037_8c85904f000erow1_col6 {\n",
       "            background-color:  #85a8fc;\n",
       "            color:  #000000;\n",
       "        }    #T_44508d7a_a0cb_11eb_a037_8c85904f000erow1_col7 {\n",
       "            background-color:  #96b7ff;\n",
       "            color:  #000000;\n",
       "        }    #T_44508d7a_a0cb_11eb_a037_8c85904f000erow1_col8 {\n",
       "            background-color:  #465ecf;\n",
       "            color:  #f1f1f1;\n",
       "        }    #T_44508d7a_a0cb_11eb_a037_8c85904f000erow2_col0 {\n",
       "            background-color:  #516ddb;\n",
       "            color:  #000000;\n",
       "        }    #T_44508d7a_a0cb_11eb_a037_8c85904f000erow2_col1 {\n",
       "            background-color:  #5a78e4;\n",
       "            color:  #000000;\n",
       "        }    #T_44508d7a_a0cb_11eb_a037_8c85904f000erow2_col2 {\n",
       "            background-color:  #b40426;\n",
       "            color:  #f1f1f1;\n",
       "        }    #T_44508d7a_a0cb_11eb_a037_8c85904f000erow2_col3 {\n",
       "            background-color:  #f59d7e;\n",
       "            color:  #000000;\n",
       "        }    #T_44508d7a_a0cb_11eb_a037_8c85904f000erow2_col4 {\n",
       "            background-color:  #f4c6af;\n",
       "            color:  #000000;\n",
       "        }    #T_44508d7a_a0cb_11eb_a037_8c85904f000erow2_col5 {\n",
       "            background-color:  #9abbff;\n",
       "            color:  #000000;\n",
       "        }    #T_44508d7a_a0cb_11eb_a037_8c85904f000erow2_col6 {\n",
       "            background-color:  #93b5fe;\n",
       "            color:  #000000;\n",
       "        }    #T_44508d7a_a0cb_11eb_a037_8c85904f000erow2_col7 {\n",
       "            background-color:  #97b8ff;\n",
       "            color:  #000000;\n",
       "        }    #T_44508d7a_a0cb_11eb_a037_8c85904f000erow2_col8 {\n",
       "            background-color:  #7597f6;\n",
       "            color:  #000000;\n",
       "        }    #T_44508d7a_a0cb_11eb_a037_8c85904f000erow3_col0 {\n",
       "            background-color:  #5d7ce6;\n",
       "            color:  #000000;\n",
       "        }    #T_44508d7a_a0cb_11eb_a037_8c85904f000erow3_col1 {\n",
       "            background-color:  #5977e3;\n",
       "            color:  #000000;\n",
       "        }    #T_44508d7a_a0cb_11eb_a037_8c85904f000erow3_col2 {\n",
       "            background-color:  #f5a081;\n",
       "            color:  #000000;\n",
       "        }    #T_44508d7a_a0cb_11eb_a037_8c85904f000erow3_col3 {\n",
       "            background-color:  #b40426;\n",
       "            color:  #f1f1f1;\n",
       "        }    #T_44508d7a_a0cb_11eb_a037_8c85904f000erow3_col4 {\n",
       "            background-color:  #ee8468;\n",
       "            color:  #000000;\n",
       "        }    #T_44508d7a_a0cb_11eb_a037_8c85904f000erow3_col5 {\n",
       "            background-color:  #7da0f9;\n",
       "            color:  #000000;\n",
       "        }    #T_44508d7a_a0cb_11eb_a037_8c85904f000erow3_col6 {\n",
       "            background-color:  #a1c0ff;\n",
       "            color:  #000000;\n",
       "        }    #T_44508d7a_a0cb_11eb_a037_8c85904f000erow3_col7 {\n",
       "            background-color:  #a2c1ff;\n",
       "            color:  #000000;\n",
       "        }    #T_44508d7a_a0cb_11eb_a037_8c85904f000erow3_col8 {\n",
       "            background-color:  #5e7de7;\n",
       "            color:  #000000;\n",
       "        }    #T_44508d7a_a0cb_11eb_a037_8c85904f000erow4_col0 {\n",
       "            background-color:  #6687ed;\n",
       "            color:  #000000;\n",
       "        }    #T_44508d7a_a0cb_11eb_a037_8c85904f000erow4_col1 {\n",
       "            background-color:  #5a78e4;\n",
       "            color:  #000000;\n",
       "        }    #T_44508d7a_a0cb_11eb_a037_8c85904f000erow4_col2 {\n",
       "            background-color:  #edd1c2;\n",
       "            color:  #000000;\n",
       "        }    #T_44508d7a_a0cb_11eb_a037_8c85904f000erow4_col3 {\n",
       "            background-color:  #f18d6f;\n",
       "            color:  #000000;\n",
       "        }    #T_44508d7a_a0cb_11eb_a037_8c85904f000erow4_col4 {\n",
       "            background-color:  #b40426;\n",
       "            color:  #f1f1f1;\n",
       "        }    #T_44508d7a_a0cb_11eb_a037_8c85904f000erow4_col5 {\n",
       "            background-color:  #7093f3;\n",
       "            color:  #000000;\n",
       "        }    #T_44508d7a_a0cb_11eb_a037_8c85904f000erow4_col6 {\n",
       "            background-color:  #8fb1fe;\n",
       "            color:  #000000;\n",
       "        }    #T_44508d7a_a0cb_11eb_a037_8c85904f000erow4_col7 {\n",
       "            background-color:  #afcafc;\n",
       "            color:  #000000;\n",
       "        }    #T_44508d7a_a0cb_11eb_a037_8c85904f000erow4_col8 {\n",
       "            background-color:  #4358cb;\n",
       "            color:  #f1f1f1;\n",
       "        }    #T_44508d7a_a0cb_11eb_a037_8c85904f000erow5_col0 {\n",
       "            background-color:  #465ecf;\n",
       "            color:  #f1f1f1;\n",
       "        }    #T_44508d7a_a0cb_11eb_a037_8c85904f000erow5_col1 {\n",
       "            background-color:  #89acfd;\n",
       "            color:  #000000;\n",
       "        }    #T_44508d7a_a0cb_11eb_a037_8c85904f000erow5_col2 {\n",
       "            background-color:  #8caffe;\n",
       "            color:  #000000;\n",
       "        }    #T_44508d7a_a0cb_11eb_a037_8c85904f000erow5_col3 {\n",
       "            background-color:  #779af7;\n",
       "            color:  #000000;\n",
       "        }    #T_44508d7a_a0cb_11eb_a037_8c85904f000erow5_col4 {\n",
       "            background-color:  #85a8fc;\n",
       "            color:  #000000;\n",
       "        }    #T_44508d7a_a0cb_11eb_a037_8c85904f000erow5_col5 {\n",
       "            background-color:  #b40426;\n",
       "            color:  #f1f1f1;\n",
       "        }    #T_44508d7a_a0cb_11eb_a037_8c85904f000erow5_col6 {\n",
       "            background-color:  #eb7d62;\n",
       "            color:  #000000;\n",
       "        }    #T_44508d7a_a0cb_11eb_a037_8c85904f000erow5_col7 {\n",
       "            background-color:  #f59f80;\n",
       "            color:  #000000;\n",
       "        }    #T_44508d7a_a0cb_11eb_a037_8c85904f000erow5_col8 {\n",
       "            background-color:  #5875e1;\n",
       "            color:  #000000;\n",
       "        }    #T_44508d7a_a0cb_11eb_a037_8c85904f000erow6_col0 {\n",
       "            background-color:  #4961d2;\n",
       "            color:  #f1f1f1;\n",
       "        }    #T_44508d7a_a0cb_11eb_a037_8c85904f000erow6_col1 {\n",
       "            background-color:  #88abfd;\n",
       "            color:  #000000;\n",
       "        }    #T_44508d7a_a0cb_11eb_a037_8c85904f000erow6_col2 {\n",
       "            background-color:  #799cf8;\n",
       "            color:  #000000;\n",
       "        }    #T_44508d7a_a0cb_11eb_a037_8c85904f000erow6_col3 {\n",
       "            background-color:  #90b2fe;\n",
       "            color:  #000000;\n",
       "        }    #T_44508d7a_a0cb_11eb_a037_8c85904f000erow6_col4 {\n",
       "            background-color:  #96b7ff;\n",
       "            color:  #000000;\n",
       "        }    #T_44508d7a_a0cb_11eb_a037_8c85904f000erow6_col5 {\n",
       "            background-color:  #ec8165;\n",
       "            color:  #000000;\n",
       "        }    #T_44508d7a_a0cb_11eb_a037_8c85904f000erow6_col6 {\n",
       "            background-color:  #b40426;\n",
       "            color:  #f1f1f1;\n",
       "        }    #T_44508d7a_a0cb_11eb_a037_8c85904f000erow6_col7 {\n",
       "            background-color:  #e46e56;\n",
       "            color:  #000000;\n",
       "        }    #T_44508d7a_a0cb_11eb_a037_8c85904f000erow6_col8 {\n",
       "            background-color:  #4b64d5;\n",
       "            color:  #f1f1f1;\n",
       "        }    #T_44508d7a_a0cb_11eb_a037_8c85904f000erow7_col0 {\n",
       "            background-color:  #4c66d6;\n",
       "            color:  #000000;\n",
       "        }    #T_44508d7a_a0cb_11eb_a037_8c85904f000erow7_col1 {\n",
       "            background-color:  #89acfd;\n",
       "            color:  #000000;\n",
       "        }    #T_44508d7a_a0cb_11eb_a037_8c85904f000erow7_col2 {\n",
       "            background-color:  #6c8ff1;\n",
       "            color:  #000000;\n",
       "        }    #T_44508d7a_a0cb_11eb_a037_8c85904f000erow7_col3 {\n",
       "            background-color:  #82a6fb;\n",
       "            color:  #000000;\n",
       "        }    #T_44508d7a_a0cb_11eb_a037_8c85904f000erow7_col4 {\n",
       "            background-color:  #a9c6fd;\n",
       "            color:  #000000;\n",
       "        }    #T_44508d7a_a0cb_11eb_a037_8c85904f000erow7_col5 {\n",
       "            background-color:  #f7a98b;\n",
       "            color:  #000000;\n",
       "        }    #T_44508d7a_a0cb_11eb_a037_8c85904f000erow7_col6 {\n",
       "            background-color:  #e67259;\n",
       "            color:  #000000;\n",
       "        }    #T_44508d7a_a0cb_11eb_a037_8c85904f000erow7_col7 {\n",
       "            background-color:  #b40426;\n",
       "            color:  #f1f1f1;\n",
       "        }    #T_44508d7a_a0cb_11eb_a037_8c85904f000erow7_col8 {\n",
       "            background-color:  #3b4cc0;\n",
       "            color:  #f1f1f1;\n",
       "        }    #T_44508d7a_a0cb_11eb_a037_8c85904f000erow8_col0 {\n",
       "            background-color:  #3b4cc0;\n",
       "            color:  #f1f1f1;\n",
       "        }    #T_44508d7a_a0cb_11eb_a037_8c85904f000erow8_col1 {\n",
       "            background-color:  #3b4cc0;\n",
       "            color:  #f1f1f1;\n",
       "        }    #T_44508d7a_a0cb_11eb_a037_8c85904f000erow8_col2 {\n",
       "            background-color:  #485fd1;\n",
       "            color:  #f1f1f1;\n",
       "        }    #T_44508d7a_a0cb_11eb_a037_8c85904f000erow8_col3 {\n",
       "            background-color:  #3b4cc0;\n",
       "            color:  #f1f1f1;\n",
       "        }    #T_44508d7a_a0cb_11eb_a037_8c85904f000erow8_col4 {\n",
       "            background-color:  #3b4cc0;\n",
       "            color:  #f1f1f1;\n",
       "        }    #T_44508d7a_a0cb_11eb_a037_8c85904f000erow8_col5 {\n",
       "            background-color:  #3b4cc0;\n",
       "            color:  #f1f1f1;\n",
       "        }    #T_44508d7a_a0cb_11eb_a037_8c85904f000erow8_col6 {\n",
       "            background-color:  #3b4cc0;\n",
       "            color:  #f1f1f1;\n",
       "        }    #T_44508d7a_a0cb_11eb_a037_8c85904f000erow8_col7 {\n",
       "            background-color:  #3b4cc0;\n",
       "            color:  #f1f1f1;\n",
       "        }    #T_44508d7a_a0cb_11eb_a037_8c85904f000erow8_col8 {\n",
       "            background-color:  #b40426;\n",
       "            color:  #f1f1f1;\n",
       "        }</style><table id=\"T_44508d7a_a0cb_11eb_a037_8c85904f000e\" ><thead>    <tr>        <th class=\"blank level0\" ></th>        <th class=\"col_heading level0 col0\" >loc_og_t2c_mou_8</th>        <th class=\"col_heading level0 col1\" >aon</th>        <th class=\"col_heading level0 col2\" >total_og_mou_6</th>        <th class=\"col_heading level0 col3\" >total_og_mou_7</th>        <th class=\"col_heading level0 col4\" >total_og_mou_8</th>        <th class=\"col_heading level0 col5\" >total_ic_mou_6</th>        <th class=\"col_heading level0 col6\" >total_ic_mou_7</th>        <th class=\"col_heading level0 col7\" >total_ic_mou_8</th>        <th class=\"col_heading level0 col8\" >churn</th>    </tr></thead><tbody>\n",
       "                <tr>\n",
       "                        <th id=\"T_44508d7a_a0cb_11eb_a037_8c85904f000elevel0_row0\" class=\"row_heading level0 row0\" >loc_og_t2c_mou_8</th>\n",
       "                        <td id=\"T_44508d7a_a0cb_11eb_a037_8c85904f000erow0_col0\" class=\"data row0 col0\" >1</td>\n",
       "                        <td id=\"T_44508d7a_a0cb_11eb_a037_8c85904f000erow0_col1\" class=\"data row0 col1\" >-0.03</td>\n",
       "                        <td id=\"T_44508d7a_a0cb_11eb_a037_8c85904f000erow0_col2\" class=\"data row0 col2\" >0.04</td>\n",
       "                        <td id=\"T_44508d7a_a0cb_11eb_a037_8c85904f000erow0_col3\" class=\"data row0 col3\" >0.07</td>\n",
       "                        <td id=\"T_44508d7a_a0cb_11eb_a037_8c85904f000erow0_col4\" class=\"data row0 col4\" >0.1</td>\n",
       "                        <td id=\"T_44508d7a_a0cb_11eb_a037_8c85904f000erow0_col5\" class=\"data row0 col5\" >0.003</td>\n",
       "                        <td id=\"T_44508d7a_a0cb_11eb_a037_8c85904f000erow0_col6\" class=\"data row0 col6\" >0.01</td>\n",
       "                        <td id=\"T_44508d7a_a0cb_11eb_a037_8c85904f000erow0_col7\" class=\"data row0 col7\" >0.03</td>\n",
       "                        <td id=\"T_44508d7a_a0cb_11eb_a037_8c85904f000erow0_col8\" class=\"data row0 col8\" >-0.04</td>\n",
       "            </tr>\n",
       "            <tr>\n",
       "                        <th id=\"T_44508d7a_a0cb_11eb_a037_8c85904f000elevel0_row1\" class=\"row_heading level0 row1\" >aon</th>\n",
       "                        <td id=\"T_44508d7a_a0cb_11eb_a037_8c85904f000erow1_col0\" class=\"data row1 col0\" >-0.03</td>\n",
       "                        <td id=\"T_44508d7a_a0cb_11eb_a037_8c85904f000erow1_col1\" class=\"data row1 col1\" >1</td>\n",
       "                        <td id=\"T_44508d7a_a0cb_11eb_a037_8c85904f000erow1_col2\" class=\"data row1 col2\" >-0.02</td>\n",
       "                        <td id=\"T_44508d7a_a0cb_11eb_a037_8c85904f000erow1_col3\" class=\"data row1 col3\" >-0.02</td>\n",
       "                        <td id=\"T_44508d7a_a0cb_11eb_a037_8c85904f000erow1_col4\" class=\"data row1 col4\" >-0.02</td>\n",
       "                        <td id=\"T_44508d7a_a0cb_11eb_a037_8c85904f000erow1_col5\" class=\"data row1 col5\" >0.1</td>\n",
       "                        <td id=\"T_44508d7a_a0cb_11eb_a037_8c85904f000erow1_col6\" class=\"data row1 col6\" >0.1</td>\n",
       "                        <td id=\"T_44508d7a_a0cb_11eb_a037_8c85904f000erow1_col7\" class=\"data row1 col7\" >0.1</td>\n",
       "                        <td id=\"T_44508d7a_a0cb_11eb_a037_8c85904f000erow1_col8\" class=\"data row1 col8\" >-0.1</td>\n",
       "            </tr>\n",
       "            <tr>\n",
       "                        <th id=\"T_44508d7a_a0cb_11eb_a037_8c85904f000elevel0_row2\" class=\"row_heading level0 row2\" >total_og_mou_6</th>\n",
       "                        <td id=\"T_44508d7a_a0cb_11eb_a037_8c85904f000erow2_col0\" class=\"data row2 col0\" >0.04</td>\n",
       "                        <td id=\"T_44508d7a_a0cb_11eb_a037_8c85904f000erow2_col1\" class=\"data row2 col1\" >-0.02</td>\n",
       "                        <td id=\"T_44508d7a_a0cb_11eb_a037_8c85904f000erow2_col2\" class=\"data row2 col2\" >1</td>\n",
       "                        <td id=\"T_44508d7a_a0cb_11eb_a037_8c85904f000erow2_col3\" class=\"data row2 col3\" >0.7</td>\n",
       "                        <td id=\"T_44508d7a_a0cb_11eb_a037_8c85904f000erow2_col4\" class=\"data row2 col4\" >0.6</td>\n",
       "                        <td id=\"T_44508d7a_a0cb_11eb_a037_8c85904f000erow2_col5\" class=\"data row2 col5\" >0.2</td>\n",
       "                        <td id=\"T_44508d7a_a0cb_11eb_a037_8c85904f000erow2_col6\" class=\"data row2 col6\" >0.2</td>\n",
       "                        <td id=\"T_44508d7a_a0cb_11eb_a037_8c85904f000erow2_col7\" class=\"data row2 col7\" >0.1</td>\n",
       "                        <td id=\"T_44508d7a_a0cb_11eb_a037_8c85904f000erow2_col8\" class=\"data row2 col8\" >0.03</td>\n",
       "            </tr>\n",
       "            <tr>\n",
       "                        <th id=\"T_44508d7a_a0cb_11eb_a037_8c85904f000elevel0_row3\" class=\"row_heading level0 row3\" >total_og_mou_7</th>\n",
       "                        <td id=\"T_44508d7a_a0cb_11eb_a037_8c85904f000erow3_col0\" class=\"data row3 col0\" >0.07</td>\n",
       "                        <td id=\"T_44508d7a_a0cb_11eb_a037_8c85904f000erow3_col1\" class=\"data row3 col1\" >-0.02</td>\n",
       "                        <td id=\"T_44508d7a_a0cb_11eb_a037_8c85904f000erow3_col2\" class=\"data row3 col2\" >0.7</td>\n",
       "                        <td id=\"T_44508d7a_a0cb_11eb_a037_8c85904f000erow3_col3\" class=\"data row3 col3\" >1</td>\n",
       "                        <td id=\"T_44508d7a_a0cb_11eb_a037_8c85904f000erow3_col4\" class=\"data row3 col4\" >0.8</td>\n",
       "                        <td id=\"T_44508d7a_a0cb_11eb_a037_8c85904f000erow3_col5\" class=\"data row3 col5\" >0.1</td>\n",
       "                        <td id=\"T_44508d7a_a0cb_11eb_a037_8c85904f000erow3_col6\" class=\"data row3 col6\" >0.2</td>\n",
       "                        <td id=\"T_44508d7a_a0cb_11eb_a037_8c85904f000erow3_col7\" class=\"data row3 col7\" >0.2</td>\n",
       "                        <td id=\"T_44508d7a_a0cb_11eb_a037_8c85904f000erow3_col8\" class=\"data row3 col8\" >-0.05</td>\n",
       "            </tr>\n",
       "            <tr>\n",
       "                        <th id=\"T_44508d7a_a0cb_11eb_a037_8c85904f000elevel0_row4\" class=\"row_heading level0 row4\" >total_og_mou_8</th>\n",
       "                        <td id=\"T_44508d7a_a0cb_11eb_a037_8c85904f000erow4_col0\" class=\"data row4 col0\" >0.1</td>\n",
       "                        <td id=\"T_44508d7a_a0cb_11eb_a037_8c85904f000erow4_col1\" class=\"data row4 col1\" >-0.02</td>\n",
       "                        <td id=\"T_44508d7a_a0cb_11eb_a037_8c85904f000erow4_col2\" class=\"data row4 col2\" >0.6</td>\n",
       "                        <td id=\"T_44508d7a_a0cb_11eb_a037_8c85904f000erow4_col3\" class=\"data row4 col3\" >0.8</td>\n",
       "                        <td id=\"T_44508d7a_a0cb_11eb_a037_8c85904f000erow4_col4\" class=\"data row4 col4\" >1</td>\n",
       "                        <td id=\"T_44508d7a_a0cb_11eb_a037_8c85904f000erow4_col5\" class=\"data row4 col5\" >0.1</td>\n",
       "                        <td id=\"T_44508d7a_a0cb_11eb_a037_8c85904f000erow4_col6\" class=\"data row4 col6\" >0.2</td>\n",
       "                        <td id=\"T_44508d7a_a0cb_11eb_a037_8c85904f000erow4_col7\" class=\"data row4 col7\" >0.2</td>\n",
       "                        <td id=\"T_44508d7a_a0cb_11eb_a037_8c85904f000erow4_col8\" class=\"data row4 col8\" >-0.2</td>\n",
       "            </tr>\n",
       "            <tr>\n",
       "                        <th id=\"T_44508d7a_a0cb_11eb_a037_8c85904f000elevel0_row5\" class=\"row_heading level0 row5\" >total_ic_mou_6</th>\n",
       "                        <td id=\"T_44508d7a_a0cb_11eb_a037_8c85904f000erow5_col0\" class=\"data row5 col0\" >0.003</td>\n",
       "                        <td id=\"T_44508d7a_a0cb_11eb_a037_8c85904f000erow5_col1\" class=\"data row5 col1\" >0.1</td>\n",
       "                        <td id=\"T_44508d7a_a0cb_11eb_a037_8c85904f000erow5_col2\" class=\"data row5 col2\" >0.2</td>\n",
       "                        <td id=\"T_44508d7a_a0cb_11eb_a037_8c85904f000erow5_col3\" class=\"data row5 col3\" >0.1</td>\n",
       "                        <td id=\"T_44508d7a_a0cb_11eb_a037_8c85904f000erow5_col4\" class=\"data row5 col4\" >0.1</td>\n",
       "                        <td id=\"T_44508d7a_a0cb_11eb_a037_8c85904f000erow5_col5\" class=\"data row5 col5\" >1</td>\n",
       "                        <td id=\"T_44508d7a_a0cb_11eb_a037_8c85904f000erow5_col6\" class=\"data row5 col6\" >0.8</td>\n",
       "                        <td id=\"T_44508d7a_a0cb_11eb_a037_8c85904f000erow5_col7\" class=\"data row5 col7\" >0.7</td>\n",
       "                        <td id=\"T_44508d7a_a0cb_11eb_a037_8c85904f000erow5_col8\" class=\"data row5 col8\" >-0.07</td>\n",
       "            </tr>\n",
       "            <tr>\n",
       "                        <th id=\"T_44508d7a_a0cb_11eb_a037_8c85904f000elevel0_row6\" class=\"row_heading level0 row6\" >total_ic_mou_7</th>\n",
       "                        <td id=\"T_44508d7a_a0cb_11eb_a037_8c85904f000erow6_col0\" class=\"data row6 col0\" >0.01</td>\n",
       "                        <td id=\"T_44508d7a_a0cb_11eb_a037_8c85904f000erow6_col1\" class=\"data row6 col1\" >0.1</td>\n",
       "                        <td id=\"T_44508d7a_a0cb_11eb_a037_8c85904f000erow6_col2\" class=\"data row6 col2\" >0.2</td>\n",
       "                        <td id=\"T_44508d7a_a0cb_11eb_a037_8c85904f000erow6_col3\" class=\"data row6 col3\" >0.2</td>\n",
       "                        <td id=\"T_44508d7a_a0cb_11eb_a037_8c85904f000erow6_col4\" class=\"data row6 col4\" >0.2</td>\n",
       "                        <td id=\"T_44508d7a_a0cb_11eb_a037_8c85904f000erow6_col5\" class=\"data row6 col5\" >0.8</td>\n",
       "                        <td id=\"T_44508d7a_a0cb_11eb_a037_8c85904f000erow6_col6\" class=\"data row6 col6\" >1</td>\n",
       "                        <td id=\"T_44508d7a_a0cb_11eb_a037_8c85904f000erow6_col7\" class=\"data row6 col7\" >0.8</td>\n",
       "                        <td id=\"T_44508d7a_a0cb_11eb_a037_8c85904f000erow6_col8\" class=\"data row6 col8\" >-0.1</td>\n",
       "            </tr>\n",
       "            <tr>\n",
       "                        <th id=\"T_44508d7a_a0cb_11eb_a037_8c85904f000elevel0_row7\" class=\"row_heading level0 row7\" >total_ic_mou_8</th>\n",
       "                        <td id=\"T_44508d7a_a0cb_11eb_a037_8c85904f000erow7_col0\" class=\"data row7 col0\" >0.03</td>\n",
       "                        <td id=\"T_44508d7a_a0cb_11eb_a037_8c85904f000erow7_col1\" class=\"data row7 col1\" >0.1</td>\n",
       "                        <td id=\"T_44508d7a_a0cb_11eb_a037_8c85904f000erow7_col2\" class=\"data row7 col2\" >0.1</td>\n",
       "                        <td id=\"T_44508d7a_a0cb_11eb_a037_8c85904f000erow7_col3\" class=\"data row7 col3\" >0.2</td>\n",
       "                        <td id=\"T_44508d7a_a0cb_11eb_a037_8c85904f000erow7_col4\" class=\"data row7 col4\" >0.2</td>\n",
       "                        <td id=\"T_44508d7a_a0cb_11eb_a037_8c85904f000erow7_col5\" class=\"data row7 col5\" >0.7</td>\n",
       "                        <td id=\"T_44508d7a_a0cb_11eb_a037_8c85904f000erow7_col6\" class=\"data row7 col6\" >0.8</td>\n",
       "                        <td id=\"T_44508d7a_a0cb_11eb_a037_8c85904f000erow7_col7\" class=\"data row7 col7\" >1</td>\n",
       "                        <td id=\"T_44508d7a_a0cb_11eb_a037_8c85904f000erow7_col8\" class=\"data row7 col8\" >-0.2</td>\n",
       "            </tr>\n",
       "            <tr>\n",
       "                        <th id=\"T_44508d7a_a0cb_11eb_a037_8c85904f000elevel0_row8\" class=\"row_heading level0 row8\" >churn</th>\n",
       "                        <td id=\"T_44508d7a_a0cb_11eb_a037_8c85904f000erow8_col0\" class=\"data row8 col0\" >-0.04</td>\n",
       "                        <td id=\"T_44508d7a_a0cb_11eb_a037_8c85904f000erow8_col1\" class=\"data row8 col1\" >-0.1</td>\n",
       "                        <td id=\"T_44508d7a_a0cb_11eb_a037_8c85904f000erow8_col2\" class=\"data row8 col2\" >0.03</td>\n",
       "                        <td id=\"T_44508d7a_a0cb_11eb_a037_8c85904f000erow8_col3\" class=\"data row8 col3\" >-0.05</td>\n",
       "                        <td id=\"T_44508d7a_a0cb_11eb_a037_8c85904f000erow8_col4\" class=\"data row8 col4\" >-0.2</td>\n",
       "                        <td id=\"T_44508d7a_a0cb_11eb_a037_8c85904f000erow8_col5\" class=\"data row8 col5\" >-0.07</td>\n",
       "                        <td id=\"T_44508d7a_a0cb_11eb_a037_8c85904f000erow8_col6\" class=\"data row8 col6\" >-0.1</td>\n",
       "                        <td id=\"T_44508d7a_a0cb_11eb_a037_8c85904f000erow8_col7\" class=\"data row8 col7\" >-0.2</td>\n",
       "                        <td id=\"T_44508d7a_a0cb_11eb_a037_8c85904f000erow8_col8\" class=\"data row8 col8\" >1</td>\n",
       "            </tr>\n",
       "    </tbody></table>"
      ],
      "text/plain": [
       "<pandas.io.formats.style.Styler at 0x12a256c88>"
      ]
     },
     "execution_count": 120,
     "metadata": {},
     "output_type": "execute_result"
    }
   ],
   "source": [
    "\n",
    "corr.style.background_gradient(cmap='coolwarm').set_precision(1)"
   ]
  },
  {
   "cell_type": "code",
   "execution_count": null,
   "metadata": {
    "ExecuteTime": {
     "start_time": "2021-04-19T04:57:02.271Z"
    }
   },
   "outputs": [
    {
     "data": {
      "text/plain": [
       "<seaborn.axisgrid.PairGrid at 0x12a44ba20>"
      ]
     },
     "execution_count": 121,
     "metadata": {},
     "output_type": "execute_result"
    }
   ],
   "source": [
    "sns.pairplot(df)"
   ]
  },
  {
   "cell_type": "markdown",
   "metadata": {},
   "source": [
    "<TODO> Insights:\n",
    "    High correlation between 2 consecutive months (M6 & M7, M7 & M8).<br>\n",
    "    Good correlation between alternate months (M6 & M8)<br>\n",
    "#     Churn is negatively correlated to the calls made to the customer care (t2c). More calls to customer care implies more chances of churning."
   ]
  },
  {
   "cell_type": "markdown",
   "metadata": {},
   "source": [
    "# Derive new features"
   ]
  },
  {
   "cell_type": "markdown",
   "metadata": {},
   "source": [
    "## average usage - 3 months"
   ]
  },
  {
   "cell_type": "markdown",
   "metadata": {},
   "source": [
    "## Good phase vs Action phase"
   ]
  },
  {
   "cell_type": "markdown",
   "metadata": {},
   "source": [
    "# Handle class imbalance"
   ]
  },
  {
   "cell_type": "markdown",
   "metadata": {},
   "source": [
    "## Oversampling"
   ]
  },
  {
   "cell_type": "markdown",
   "metadata": {},
   "source": [
    "## SMOTE"
   ]
  },
  {
   "cell_type": "markdown",
   "metadata": {},
   "source": [
    "# Train-test split"
   ]
  },
  {
   "cell_type": "markdown",
   "metadata": {},
   "source": [
    "# Model building 1 - PCA"
   ]
  },
  {
   "cell_type": "markdown",
   "metadata": {},
   "source": [
    "## PCA for dimensionality reduction"
   ]
  },
  {
   "cell_type": "markdown",
   "metadata": {},
   "source": [
    "## Model building - PCA"
   ]
  },
  {
   "cell_type": "markdown",
   "metadata": {},
   "source": [
    "### Default Model Building"
   ]
  },
  {
   "cell_type": "markdown",
   "metadata": {},
   "source": [
    "1. 8 models? <br>\n",
    "2. Evaluate on train & test data <br>\n",
    "3. Fill metrics - Accuracy, Precision, Recall, F1-score, AUROC?"
   ]
  },
  {
   "cell_type": "markdown",
   "metadata": {},
   "source": [
    "### Model building with HPT"
   ]
  },
  {
   "cell_type": "markdown",
   "metadata": {},
   "source": [
    "### Model on oversampled data"
   ]
  },
  {
   "cell_type": "markdown",
   "metadata": {},
   "source": [
    "### Model on SMOTE data"
   ]
  },
  {
   "cell_type": "markdown",
   "metadata": {},
   "source": [
    "### Model on (SMOTE + HPT)"
   ]
  },
  {
   "cell_type": "code",
   "execution_count": null,
   "metadata": {},
   "outputs": [],
   "source": []
  },
  {
   "cell_type": "markdown",
   "metadata": {},
   "source": [
    "# Model building 2 - without PCA"
   ]
  },
  {
   "cell_type": "code",
   "execution_count": null,
   "metadata": {},
   "outputs": [],
   "source": []
  },
  {
   "cell_type": "markdown",
   "metadata": {},
   "source": [
    "# Insights"
   ]
  },
  {
   "cell_type": "markdown",
   "metadata": {},
   "source": [
    "## Best Model - with PCA"
   ]
  },
  {
   "cell_type": "markdown",
   "metadata": {},
   "source": [
    "Finally, choose a model based on some evaluation metric."
   ]
  },
  {
   "cell_type": "markdown",
   "metadata": {},
   "source": [
    "## Important features"
   ]
  },
  {
   "cell_type": "markdown",
   "metadata": {},
   "source": [
    "After identifying important predictors, display them visually - you can use plots, summary tables etc. - whatever you think best conveys the importance of features."
   ]
  },
  {
   "cell_type": "markdown",
   "metadata": {},
   "source": [
    "## Conclusion - recommendation to manage customer churn"
   ]
  },
  {
   "cell_type": "markdown",
   "metadata": {},
   "source": [
    "Finally, recommend strategies to manage customer churn based on your observations."
   ]
  },
  {
   "cell_type": "code",
   "execution_count": null,
   "metadata": {},
   "outputs": [],
   "source": []
  },
  {
   "cell_type": "code",
   "execution_count": null,
   "metadata": {},
   "outputs": [],
   "source": []
  }
 ],
 "metadata": {
  "kernelspec": {
   "display_name": "Python 3",
   "language": "python",
   "name": "python3"
  },
  "language_info": {
   "codemirror_mode": {
    "name": "ipython",
    "version": 3
   },
   "file_extension": ".py",
   "mimetype": "text/x-python",
   "name": "python",
   "nbconvert_exporter": "python",
   "pygments_lexer": "ipython3",
   "version": "3.6.6"
  },
  "toc": {
   "base_numbering": 1,
   "nav_menu": {},
   "number_sections": true,
   "sideBar": true,
   "skip_h1_title": false,
   "title_cell": "Table of Contents",
   "title_sidebar": "My Steps",
   "toc_cell": false,
   "toc_position": {},
   "toc_section_display": true,
   "toc_window_display": true
  },
  "varInspector": {
   "cols": {
    "lenName": 16,
    "lenType": 16,
    "lenVar": 40
   },
   "kernels_config": {
    "python": {
     "delete_cmd_postfix": "",
     "delete_cmd_prefix": "del ",
     "library": "var_list.py",
     "varRefreshCmd": "print(var_dic_list())"
    },
    "r": {
     "delete_cmd_postfix": ") ",
     "delete_cmd_prefix": "rm(",
     "library": "var_list.r",
     "varRefreshCmd": "cat(var_dic_list()) "
    }
   },
   "types_to_exclude": [
    "module",
    "function",
    "builtin_function_or_method",
    "instance",
    "_Feature"
   ],
   "window_display": false
  }
 },
 "nbformat": 4,
 "nbformat_minor": 2
}
